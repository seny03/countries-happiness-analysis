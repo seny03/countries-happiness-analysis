{
 "cells": [
  {
   "cell_type": "markdown",
   "source": [
    "# Парсинг информации о странах и их рейтинга"
   ],
   "metadata": {
    "collapsed": false,
    "pycharm": {
     "name": "#%% md\n"
    }
   }
  },
  {
   "cell_type": "markdown",
   "source": [
    "## Подключение нужных библиотек"
   ],
   "metadata": {
    "collapsed": false,
    "pycharm": {
     "name": "#%% md\n"
    }
   }
  },
  {
   "cell_type": "code",
   "source": [
    "import pandas as pd\n",
    "import os\n",
    "import requests\n",
    "from bs4 import BeautifulSoup\n",
    "from urllib.parse import urljoin\n",
    "import time\n",
    "from selenium import webdriver\n",
    "from selenium.webdriver.chrome.options import Options\n",
    "from selenium.webdriver.common.by import By\n",
    "from selenium.webdriver.support.ui import WebDriverWait\n",
    "from selenium.webdriver.support import expected_conditions as ec\n",
    "from tqdm import tqdm"
   ],
   "metadata": {
    "collapsed": false,
    "pycharm": {
     "name": "#%%\n"
    }
   },
   "execution_count": 1,
   "outputs": []
  },
  {
   "cell_type": "markdown",
   "source": [
    "##  Парсинг стран и их рейтинга в Happiness Score"
   ],
   "metadata": {
    "collapsed": false,
    "pycharm": {
     "name": "#%% md\n"
    }
   }
  },
  {
   "cell_type": "code",
   "execution_count": 2,
   "outputs": [],
   "source": [
    "def get_happiness_data(url = \"https://en.wikipedia.org/wiki/World_Happiness_Report\"):\n",
    "    \"\"\"\n",
    "    Собирает информацию о странах и их рейтинге в Happiness Score с Википедии\n",
    "    Возвращает: DataFrame\n",
    "    \"\"\"\n",
    "\n",
    "    try:\n",
    "        happiness_df = pd.read_html(url)[15]\n",
    "    except Exception as e:\n",
    "        print(f\"Error reading HTML tables: {e}\")\n",
    "        return pd.DataFrame()\n",
    "\n",
    "    happiness_df.rename(columns={'Overall rank': 'Happiness rank',\n",
    "                                 'Country or region': 'Country',\n",
    "                                 'Life evaluation': 'Happiness score'},\n",
    "                        inplace=True)\n",
    "    return happiness_df"
   ],
   "metadata": {
    "collapsed": false,
    "pycharm": {
     "name": "#%%\n"
    }
   }
  },
  {
   "cell_type": "code",
   "execution_count": 3,
   "metadata": {
    "collapsed": true
   },
   "outputs": [],
   "source": [
    "countries_happiness_df = get_happiness_data()\n",
    "\n",
    "os.makedirs('data', exist_ok=True)\n",
    "countries_happiness_df.to_csv('data/countries_happiness.csv', index=False)"
   ]
  },
  {
   "cell_type": "markdown",
   "source": [
    "## Парсинг различных показателей стран с World Bank Open Data"
   ],
   "metadata": {
    "collapsed": false
   }
  },
  {
   "cell_type": "code",
   "execution_count": 4,
   "outputs": [],
   "source": [
    "BASE_URL = \"https://data.worldbank.org\"\n",
    "\n",
    "def get_country_links(base_url=BASE_URL):\n",
    "    \"\"\"\n",
    "    Достает ссылки на все страны из подкаталога country\n",
    "    Возвращает массив пар: (Название страны, Ссылка на страну)\n",
    "    \"\"\"\n",
    "    url = urljoin(base_url, \"country\")\n",
    "    print(f\"Ищем ссылки на страны на странице: {url}\")\n",
    "    response = requests.get(url)\n",
    "    response.raise_for_status()\n",
    "\n",
    "    soup = BeautifulSoup(response.content, \"html.parser\")\n",
    "    country_links = []\n",
    "\n",
    "    # Find all <a> tags whose href begins with \"/country/\"\n",
    "    for a in soup.find_all(\"a\", href=True):\n",
    "        href = a['href']\n",
    "        if href.startswith(\"/country/\"):\n",
    "            country_name = a.get_text(strip=True)\n",
    "            full_url = urljoin(base_url, href)\n",
    "            # Avoid duplicates\n",
    "            if country_name and full_url not in [link for (_, link) in country_links]:\n",
    "                country_links.append((country_name, full_url))\n",
    "\n",
    "    print(f\"Найдено {len(country_links)} стран.\")\n",
    "    return country_links"
   ],
   "metadata": {
    "collapsed": false,
    "pycharm": {
     "name": "#%%\n"
    }
   }
  },
  {
   "cell_type": "code",
   "execution_count": 8,
   "outputs": [],
   "source": [
    "def get_country_indicators(country_url):\n",
    "    \"\"\"\n",
    "    Принимает URL страницы страны (например, \"https://data.worldbank.org/country/finland?view=chart\")\n",
    "    и возвращает:\n",
    "      - словарь с данными индикаторов: {название индикатора: значение (float или None)},\n",
    "      - словарь с метаданными: {название индикатора: ссылка на индикатор}.\n",
    "    \"\"\"\n",
    "\n",
    "    chrome_options = Options()\n",
    "    chrome_options.add_argument(\"--headless\")\n",
    "    driver = webdriver.Chrome(options=chrome_options)\n",
    "    driver.get(country_url)\n",
    "\n",
    "    wait = WebDriverWait(driver, 5)\n",
    "    try:\n",
    "        # Ищем вкладку \"By Theme\" по XPath (элемент <li> с классом react-tabs__tab, внутри которого есть <span> с\n",
    "        # нужным текстом)\n",
    "        by_theme_tab = wait.until(\n",
    "            ec.element_to_be_clickable(\n",
    "                (By.XPATH, \"//li[contains(@class, 'react-tabs__tab') and .//span[contains(text(), 'By Theme')]]\")\n",
    "            )\n",
    "        )\n",
    "        # Кликаем на нужную вкладку\n",
    "        driver.execute_script(\"arguments[0].click();\", by_theme_tab)\n",
    "\n",
    "        # Ждем появления контента вкладки\n",
    "        wait.until(ec.presence_of_element_located((By.CSS_SELECTOR, \".indicator-item\")))\n",
    "        time.sleep(2)  # небольшая задержка\n",
    "        html = driver.page_source\n",
    "        # print(f\"Вкладка 'By Theme' успешно открыта для {country_url}\")\n",
    "    except Exception as e:\n",
    "        print(f\"Не удалось найти или кликнуть по вкладке 'By Theme' для {country_url}: {e}\")\n",
    "        driver.quit()\n",
    "        return {}, {}\n",
    "    finally:\n",
    "        driver.quit()\n",
    "\n",
    "    soup = BeautifulSoup(html, \"html.parser\")\n",
    "    indicators_info = soup.find_all(class_='indicator-item__inner')\n",
    "\n",
    "    indicator_values = {}\n",
    "    indicator_links = {}\n",
    "\n",
    "    for indicator_info in indicators_info:\n",
    "        headline_elem = indicator_info.find(class_='indicator-item__headline-mobile')\n",
    "        if headline_elem:\n",
    "            a_tag = headline_elem.find('a')\n",
    "            if a_tag:\n",
    "                indicator_name = a_tag.get_text(strip=True)\n",
    "                indicator_link = a_tag.get('href')\n",
    "                indicator_link = indicator_link.split('?locations=')[0]\n",
    "                indicator_links[indicator_name] = indicator_link\n",
    "\n",
    "                data_info = indicator_info.find(class_='indicator-item__data-info')\n",
    "                if data_info:\n",
    "                    span_tag = data_info.find('span')\n",
    "                    if span_tag:\n",
    "                        try:\n",
    "                            # Убираем запятые, пробуем преобразовать текст в число\n",
    "                            value = float(span_tag.get_text(strip=True).replace(',', ''))\n",
    "                        except Exception as ex:\n",
    "                            print(f\"Ошибка преобразования значения для '{indicator_name}': {ex}\")\n",
    "                            value = None\n",
    "                    else:\n",
    "                        value = None\n",
    "                else:\n",
    "                    value = None\n",
    "                indicator_values[indicator_name] = value\n",
    "\n",
    "    return indicator_values, indicator_links"
   ],
   "metadata": {
    "collapsed": false,
    "pycharm": {
     "name": "#%%\n"
    }
   }
  },
  {
   "cell_type": "markdown",
   "source": [
    "### Собираем информацию по всем индикаторам для всех стран"
   ],
   "metadata": {
    "collapsed": false,
    "pycharm": {
     "name": "#%% md\n"
    }
   }
  },
  {
   "cell_type": "code",
   "execution_count": 11,
   "outputs": [
    {
     "name": "stdout",
     "output_type": "stream",
     "text": [
      "Ищем ссылки на страны на странице: https://data.worldbank.org/country\n",
      "Найдено 217 стран.\n"
     ]
    },
    {
     "name": "stderr",
     "output_type": "stream",
     "text": [
      "Собираем информацию о стране Andorra: 100%|██████████| 5/5 [01:39<00:00, 19.91s/it]       \n"
     ]
    }
   ],
   "source": [
    "countries = get_country_links()[:5]\n",
    "\n",
    "all_country_data = []  # список словарей: каждый словарь содержит данные для одной страны\n",
    "metadata_dict = {}  # метаданные (предполагается, что структура индикаторов одинакова для всех стран)\n",
    "\n",
    "for country_name, country_url in (pbar := tqdm(countries)):\n",
    "    pbar.set_description(f\"Собираем информацию о стране {country_name}\")\n",
    "    indicators, metadata = get_country_indicators(country_url)\n",
    "\n",
    "    metadata = {indicator_name: urljoin(BASE_URL, metadata[indicator_name]) for indicator_name in metadata.keys()}\n",
    "\n",
    "    # Формируем словарь с данными: добавляем имя страны и пары название индикатора – значение\n",
    "    data_entry = {\"Country\": country_name}\n",
    "    data_entry.update(indicators)\n",
    "    all_country_data.append(data_entry)\n",
    "    # Обновляем метаданные (если индикаторы совпадают, то они будут перезаписаны, что нормально)\n",
    "    metadata_dict.update(metadata)\n",
    "    time.sleep(2)  # пауза между запросами к разным странам\n"
   ],
   "metadata": {
    "collapsed": false,
    "pycharm": {
     "name": "#%%\n"
    }
   }
  },
  {
   "cell_type": "markdown",
   "source": [
    "### Объединяем всю информацию в один DataFrame и сохраняем"
   ],
   "metadata": {
    "collapsed": false
   }
  },
  {
   "cell_type": "code",
   "execution_count": 10,
   "outputs": [
    {
     "name": "stdout",
     "output_type": "stream",
     "text": [
      "Сохранены данные по индикаторам для стран в файле 'country_indicators.csv'.\n",
      "Сохранены метаданные индикаторов в файле 'indicators_metadata.csv'.\n"
     ]
    }
   ],
   "source": [
    "os.makedirs('data', exist_ok=True)\n",
    "\n",
    "# Создаем DataFrame, где индекс – название страны, а столбцы – названия индикаторов\n",
    "df = pd.DataFrame(all_country_data)\n",
    "df.set_index(\"Country\", inplace=True)\n",
    "df.to_csv(\"data/countries_indicators.csv\", encoding=\"utf-8\")\n",
    "print(\"Сохранены данные по индикаторам для стран в файле 'data/country_indicators.csv'.\")\n",
    "\n",
    "# Сохраняем метаданные в отдельный CSV: для каждого индикатора его ссылка\n",
    "meta_df = pd.DataFrame(list(metadata_dict.items()), columns=[\"Indicator\", \"Link\"])\n",
    "meta_df.to_csv(\"data/indicators_metadata.csv\", index=False, encoding=\"utf-8\")\n",
    "print(\"Сохранены метаданные индикаторов в файле 'data/indicators_metadata.csv'.\")\n"
   ],
   "metadata": {
    "collapsed": false,
    "pycharm": {
     "name": "#%%\n"
    }
   }
  }
 ],
 "metadata": {
  "kernelspec": {
   "name": "pycharm-52ccbd2",
   "language": "python",
   "display_name": "PyCharm (AIolympiad)"
  },
  "language_info": {
   "codemirror_mode": {
    "name": "ipython",
    "version": 2
   },
   "file_extension": ".py",
   "mimetype": "text/x-python",
   "name": "python",
   "nbconvert_exporter": "python",
   "pygments_lexer": "ipython2",
   "version": "2.7.6"
  }
 },
 "nbformat": 4,
 "nbformat_minor": 0
}