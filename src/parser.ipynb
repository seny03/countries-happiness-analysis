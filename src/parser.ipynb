{
 "cells": [
  {
   "cell_type": "markdown",
   "source": [
    "# Парсинг информации о странах и их рейтинга"
   ],
   "metadata": {
    "collapsed": false,
    "pycharm": {
     "name": "#%% md\n"
    }
   }
  },
  {
   "cell_type": "markdown",
   "source": [
    "## Подключение нужных библиотек"
   ],
   "metadata": {
    "collapsed": false,
    "pycharm": {
     "name": "#%% md\n"
    }
   }
  },
  {
   "cell_type": "code",
   "source": [
    "import pandas as pd\n",
    "import os\n",
    "import requests\n",
    "from bs4 import BeautifulSoup\n",
    "from urllib.parse import urljoin\n",
    "import time\n",
    "from selenium import webdriver\n",
    "from selenium.webdriver.chrome.options import Options\n",
    "from selenium.webdriver.common.by import By\n",
    "from selenium.webdriver.support.ui import WebDriverWait\n",
    "from selenium.webdriver.support import expected_conditions as ec\n",
    "from tqdm import tqdm"
   ],
   "metadata": {
    "collapsed": false,
    "pycharm": {
     "name": "#%%\n"
    }
   },
   "execution_count": 2,
   "outputs": []
  },
  {
   "cell_type": "markdown",
   "source": [
    "##  Парсинг стран и их рейтинга в Happiness Score"
   ],
   "metadata": {
    "collapsed": false,
    "pycharm": {
     "name": "#%% md\n"
    }
   }
  },
  {
   "cell_type": "code",
   "execution_count": 10,
   "outputs": [],
   "source": [
    "def get_happiness_data(url = \"https://en.wikipedia.org/wiki/World_Happiness_Report\"):\n",
    "    \"\"\"\n",
    "    Собирает информацию о странах и их рейтинге в Happiness Score с Википедии\n",
    "    Возвращает: DataFrame\n",
    "    \"\"\"\n",
    "\n",
    "    try:\n",
    "        happiness_df = pd.read_html(url)[15]\n",
    "    except Exception as e:\n",
    "        print(f\"Error reading HTML tables: {e}\")\n",
    "        return pd.DataFrame()\n",
    "\n",
    "    happiness_df.rename(columns={'Country or region': 'Country',\n",
    "                                 'Overall rank': 'Happiness Rank',\n",
    "                                 'Life evaluation': 'Happiness Score'},\n",
    "                        inplace=True)\n",
    "    happiness_df = happiness_df[['Country', 'Happiness Rank', 'Happiness Score']]\n",
    "    return happiness_df"
   ],
   "metadata": {
    "collapsed": false,
    "pycharm": {
     "name": "#%%\n"
    }
   }
  },
  {
   "cell_type": "code",
   "execution_count": 15,
   "metadata": {
    "collapsed": true
   },
   "outputs": [],
   "source": [
    "countries_happiness_df = get_happiness_data()\n",
    "\n",
    "os.makedirs('../data', exist_ok=True)\n",
    "countries_happiness_df.to_csv('../data/countries_happiness.csv', index=False)"
   ]
  },
  {
   "cell_type": "markdown",
   "source": [
    "## Парсинг различных показателей стран с World Bank Open Data"
   ],
   "metadata": {
    "collapsed": false
   }
  },
  {
   "cell_type": "code",
   "execution_count": 16,
   "outputs": [],
   "source": [
    "BASE_URL = \"https://data.worldbank.org\"\n",
    "\n",
    "def get_country_links(base_url=BASE_URL):\n",
    "    \"\"\"\n",
    "    Достает ссылки на все страны из подкаталога country\n",
    "    Возвращает массив пар: (Название страны, Ссылка на страну)\n",
    "    \"\"\"\n",
    "    url = urljoin(base_url, \"country\")\n",
    "    print(f\"Ищем ссылки на страны на странице: {url}\")\n",
    "    response = requests.get(url)\n",
    "    response.raise_for_status()\n",
    "\n",
    "    soup = BeautifulSoup(response.content, \"html.parser\")\n",
    "    country_links = []\n",
    "\n",
    "    # Find all <a> tags whose href begins with \"/country/\"\n",
    "    for a in soup.find_all(\"a\", href=True):\n",
    "        href = a['href']\n",
    "        if href.startswith(\"/country/\"):\n",
    "            country_name = a.get_text(strip=True)\n",
    "            full_url = urljoin(base_url, href)\n",
    "            # Avoid duplicates\n",
    "            if country_name and full_url not in [link for (_, link) in country_links]:\n",
    "                country_links.append((country_name, full_url))\n",
    "\n",
    "    print(f\"Найдено {len(country_links)} стран.\")\n",
    "    return country_links"
   ],
   "metadata": {
    "collapsed": false,
    "pycharm": {
     "name": "#%%\n"
    }
   }
  },
  {
   "cell_type": "code",
   "execution_count": 17,
   "outputs": [],
   "source": [
    "def get_country_indicators(country_url):\n",
    "    \"\"\"\n",
    "    Принимает URL страницы страны (например, \"https://data.worldbank.org/country/finland?view=chart\")\n",
    "    и возвращает:\n",
    "      - код страны\n",
    "      - словарь с данными индикаторов: {название индикатора: значение (float или None)},\n",
    "      - словарь с метаданными: {название индикатора: ссылка на индикатор}.\n",
    "    \"\"\"\n",
    "\n",
    "    chrome_options = Options()\n",
    "    chrome_options.add_argument(\"--headless\")\n",
    "    driver = webdriver.Chrome(options=chrome_options)\n",
    "    driver.get(country_url)\n",
    "\n",
    "    wait = WebDriverWait(driver, 5)\n",
    "    try:\n",
    "        # Ищем вкладку \"By Theme\" по XPath (элемент <li> с классом react-tabs__tab, внутри которого есть <span> с\n",
    "        # нужным текстом)\n",
    "        by_theme_tab = wait.until(\n",
    "            ec.element_to_be_clickable(\n",
    "                (By.XPATH, \"//li[contains(@class, 'react-tabs__tab') and .//span[contains(text(), 'By Theme')]]\")\n",
    "            )\n",
    "        )\n",
    "        # Кликаем на нужную вкладку\n",
    "        driver.execute_script(\"arguments[0].click();\", by_theme_tab)\n",
    "\n",
    "        # Ждем появления контента вкладки\n",
    "        wait.until(ec.presence_of_element_located((By.CSS_SELECTOR, \".indicator-item\")))\n",
    "        time.sleep(2)  # небольшая задержка\n",
    "        html = driver.page_source\n",
    "        # print(f\"Вкладка 'By Theme' успешно открыта для {country_url}\")\n",
    "    except Exception as e:\n",
    "        # print(f\"Не удалось найти или кликнуть по вкладке 'By Theme' для {country_url}: {e}\")\n",
    "        driver.quit()\n",
    "        return None, {}, {}\n",
    "    finally:\n",
    "        driver.quit()\n",
    "\n",
    "    soup = BeautifulSoup(html, \"html.parser\")\n",
    "    indicators_info = soup.find_all(class_='indicator-item__inner')\n",
    "\n",
    "    indicator_values = {}\n",
    "    indicator_links = {}\n",
    "    country_code = None\n",
    "\n",
    "    for indicator_info in indicators_info:\n",
    "        headline_elem = indicator_info.find(class_='indicator-item__headline-mobile')\n",
    "        if headline_elem:\n",
    "            a_tag = headline_elem.find('a')\n",
    "            if a_tag:\n",
    "                indicator_name = a_tag.get_text(strip=True)\n",
    "                indicator_link = a_tag.get('href')\n",
    "                indicator_link, country_code = indicator_link.split('?locations=')\n",
    "                indicator_links[indicator_name] = indicator_link\n",
    "\n",
    "                data_info = indicator_info.find(class_='indicator-item__data-info')\n",
    "                if data_info:\n",
    "                    span_tag = data_info.find('span')\n",
    "                    if span_tag:\n",
    "                        try:\n",
    "                            # Убираем запятые, пробуем преобразовать текст в число\n",
    "                            value = float(span_tag.get_text(strip=True).replace(',', ''))\n",
    "                        except Exception as ex:\n",
    "                            print(f\"Ошибка преобразования значения для '{indicator_name}': {ex}\")\n",
    "                            value = None\n",
    "                    else:\n",
    "                        value = None\n",
    "                else:\n",
    "                    value = None\n",
    "                indicator_values[indicator_name] = value\n",
    "\n",
    "    return country_code, indicator_values, indicator_links"
   ],
   "metadata": {
    "collapsed": false,
    "pycharm": {
     "name": "#%%\n"
    }
   }
  },
  {
   "cell_type": "markdown",
   "source": [
    "### Собираем информацию по всем индикаторам для всех стран"
   ],
   "metadata": {
    "collapsed": false,
    "pycharm": {
     "name": "#%% md\n"
    }
   }
  },
  {
   "cell_type": "code",
   "execution_count": 18,
   "outputs": [
    {
     "name": "stdout",
     "output_type": "stream",
     "text": [
      "Ищем ссылки на страны на странице: https://data.worldbank.org/country\n",
      "Найдено 217 стран.\n"
     ]
    }
   ],
   "source": [
    "countries = get_country_links()\n",
    "\n",
    "all_country_data = []  # список словарей: каждый словарь содержит данные для одной страны\n",
    "metadata_dict = {}     # метаданные (предполагается, что структура индикаторов одинакова для всех стран)\n",
    "collected_countries = set() # названия стран, информация про которые уже собрана, чтобы пропускать их при повторном запуске"
   ],
   "metadata": {
    "collapsed": false,
    "pycharm": {
     "name": "#%%\n"
    }
   }
  },
  {
   "cell_type": "code",
   "execution_count": 20,
   "outputs": [
    {
     "name": "stderr",
     "output_type": "stream",
     "text": [
      "Собираем информацию о стране Brunei Darussalam:  13%|█▎        | 28/217 [05:16<1:01:02, 19.38s/it]     "
     ]
    },
    {
     "name": "stdout",
     "output_type": "stream",
     "text": [
      "Попытка 1 для Brunei Darussalam неуспешна. Ожидание 10 секунд перед повторной попыткой...\n"
     ]
    },
    {
     "name": "stderr",
     "output_type": "stream",
     "text": [
      "Собираем информацию о стране Bulgaria:  13%|█▎        | 29/217 [06:12<1:33:43, 29.91s/it]         "
     ]
    },
    {
     "name": "stdout",
     "output_type": "stream",
     "text": [
      "Попытка 1 для Bulgaria неуспешна. Ожидание 10 секунд перед повторной попыткой...\n"
     ]
    },
    {
     "name": "stderr",
     "output_type": "stream",
     "text": [
      "Собираем информацию о стране Costa Rica:  21%|██        | 46/217 [12:25<47:56, 16.82s/it]                "
     ]
    },
    {
     "name": "stdout",
     "output_type": "stream",
     "text": [
      "Попытка 1 для Costa Rica неуспешна. Ожидание 10 секунд перед повторной попыткой...\n"
     ]
    },
    {
     "name": "stderr",
     "output_type": "stream",
     "text": [
      "Собираем информацию о стране Dominican Republic:  26%|██▌       | 56/217 [16:38<46:24, 17.30s/it]"
     ]
    },
    {
     "name": "stdout",
     "output_type": "stream",
     "text": [
      "Попытка 1 для Dominican Republic неуспешна. Ожидание 10 секунд перед повторной попыткой...\n"
     ]
    },
    {
     "name": "stderr",
     "output_type": "stream",
     "text": [
      "Собираем информацию о стране Finland:  31%|███       | 67/217 [21:16<47:15, 18.90s/it]             "
     ]
    },
    {
     "name": "stdout",
     "output_type": "stream",
     "text": [
      "Попытка 1 для Finland неуспешна. Ожидание 10 секунд перед повторной попыткой...\n"
     ]
    },
    {
     "name": "stderr",
     "output_type": "stream",
     "text": [
      "Собираем информацию о стране Guinea:  37%|███▋      | 81/217 [26:47<42:27, 18.73s/it]            "
     ]
    },
    {
     "name": "stdout",
     "output_type": "stream",
     "text": [
      "Попытка 1 для Guinea неуспешна. Ожидание 10 секунд перед повторной попыткой...\n"
     ]
    },
    {
     "name": "stderr",
     "output_type": "stream",
     "text": [
      "Собираем информацию о стране Kiribati:  47%|████▋     | 102/217 [35:17<34:01, 17.75s/it]             "
     ]
    },
    {
     "name": "stdout",
     "output_type": "stream",
     "text": [
      "Попытка 1 для Kiribati неуспешна. Ожидание 10 секунд перед повторной попыткой...\n"
     ]
    },
    {
     "name": "stderr",
     "output_type": "stream",
     "text": [
      "Собираем информацию о стране Mauritius:  58%|█████▊    | 126/217 [44:48<25:45, 16.99s/it]                  "
     ]
    },
    {
     "name": "stdout",
     "output_type": "stream",
     "text": [
      "Попытка 1 для Mauritius неуспешна. Ожидание 10 секунд перед повторной попыткой...\n"
     ]
    },
    {
     "name": "stderr",
     "output_type": "stream",
     "text": [
      "Собираем информацию о стране Mozambique:  62%|██████▏   | 134/217 [48:11<24:51, 17.97s/it]           "
     ]
    },
    {
     "name": "stdout",
     "output_type": "stream",
     "text": [
      "Попытка 1 для Mozambique неуспешна. Ожидание 10 секунд перед повторной попыткой...\n"
     ]
    },
    {
     "name": "stderr",
     "output_type": "stream",
     "text": [
      "Собираем информацию о стране Nicaragua:  65%|██████▌   | 142/217 [51:34<23:04, 18.46s/it]    "
     ]
    },
    {
     "name": "stdout",
     "output_type": "stream",
     "text": [
      "Попытка 1 для Nicaragua неуспешна. Ожидание 10 секунд перед повторной попыткой...\n"
     ]
    },
    {
     "name": "stderr",
     "output_type": "stream",
     "text": [
      "Собираем информацию о стране Puerto Rico:  73%|███████▎  | 158/217 [57:50<18:02, 18.34s/it]             "
     ]
    },
    {
     "name": "stdout",
     "output_type": "stream",
     "text": [
      "Попытка 1 для Puerto Rico неуспешна. Ожидание 10 секунд перед повторной попыткой...\n"
     ]
    },
    {
     "name": "stderr",
     "output_type": "stream",
     "text": [
      "Собираем информацию о стране Senegal:  77%|███████▋  | 167/217 [1:01:39<16:09, 19.40s/it]              "
     ]
    },
    {
     "name": "stdout",
     "output_type": "stream",
     "text": [
      "Попытка 1 для Senegal неуспешна. Ожидание 10 секунд перед повторной попыткой...\n"
     ]
    },
    {
     "name": "stderr",
     "output_type": "stream",
     "text": [
      "Собираем информацию о стране Slovak Republic:  80%|███████▉  | 173/217 [1:04:19<14:49, 20.22s/it]          "
     ]
    },
    {
     "name": "stdout",
     "output_type": "stream",
     "text": [
      "Попытка 1 для Slovak Republic неуспешна. Ожидание 10 секунд перед повторной попыткой...\n"
     ]
    },
    {
     "name": "stderr",
     "output_type": "stream",
     "text": [
      "Собираем информацию о стране Sudan:  85%|████████▌ | 185/217 [1:09:29<10:22, 19.45s/it]                         "
     ]
    },
    {
     "name": "stdout",
     "output_type": "stream",
     "text": [
      "Попытка 1 для Sudan неуспешна. Ожидание 10 секунд перед повторной попыткой...\n"
     ]
    },
    {
     "name": "stderr",
     "output_type": "stream",
     "text": [
      "Собираем информацию о стране Tonga:  90%|████████▉ | 195/217 [1:13:38<06:57, 18.96s/it]               "
     ]
    },
    {
     "name": "stdout",
     "output_type": "stream",
     "text": [
      "Попытка 1 для Tonga неуспешна. Ожидание 10 секунд перед повторной попыткой...\n"
     ]
    },
    {
     "name": "stderr",
     "output_type": "stream",
     "text": [
      "Собираем информацию о стране Uganda:  93%|█████████▎| 202/217 [1:16:39<04:48, 19.24s/it]                  "
     ]
    },
    {
     "name": "stdout",
     "output_type": "stream",
     "text": [
      "Попытка 1 для Uganda неуспешна. Ожидание 10 секунд перед повторной попыткой...\n"
     ]
    },
    {
     "name": "stderr",
     "output_type": "stream",
     "text": [
      "Собираем информацию о стране Zimbabwe: 100%|██████████| 217/217 [1:22:32<00:00, 22.82s/it]             \n"
     ]
    }
   ],
   "source": [
    "for country_name, country_url in (pbar := tqdm(countries)):\n",
    "    pbar.set_description(f\"Собираем информацию о стране {country_name}\")\n",
    "\n",
    "    if country_name in collected_countries:\n",
    "        continue\n",
    "\n",
    "    attempt = 0\n",
    "    wait_time = 10\n",
    "    # Первая попытка получения данных\n",
    "    country_code, indicators, metadata = get_country_indicators(country_url)\n",
    "    # Если список индикаторов пуст, делаем повторные попытки до 10 раз\n",
    "    while len(indicators) == 0 and attempt < 10:\n",
    "        attempt += 1\n",
    "        pbar.write(f\"Попытка {attempt} для {country_name} неуспешна. Ожидание {wait_time} секунд перед повторной попыткой...\")\n",
    "        time.sleep(wait_time)\n",
    "        wait_time += 10\n",
    "        country_code, indicators, metadata = get_country_indicators(country_url)\n",
    "\n",
    "    if len(indicators) == 0:\n",
    "        pbar.write(f\"Не удалось получить данные для {country_name} после 10 попыток.\")\n",
    "    else:\n",
    "        collected_countries.add(country_name)\n",
    "    # Приводим ссылки индикаторов к полному виду\n",
    "    metadata = {indicator_name: urljoin(BASE_URL, metadata[indicator_name])\n",
    "                for indicator_name in metadata.keys()}\n",
    "\n",
    "    # Формируем словарь с данными: имя страны + индикаторы\n",
    "    data_entry = {\"Country\": country_name, \"Country Code\": country_code}\n",
    "    data_entry.update(indicators)\n",
    "    all_country_data.append(data_entry)\n",
    "\n",
    "    # Обновляем общий словарь метаданных\n",
    "    metadata_dict.update(metadata)\n",
    "\n",
    "    time.sleep(2)  # пауза между запросами к разным странам"
   ],
   "metadata": {
    "collapsed": false,
    "pycharm": {
     "name": "#%%\n"
    }
   }
  },
  {
   "cell_type": "markdown",
   "source": [
    "### Объединяем всю информацию в один DataFrame и сохраняем"
   ],
   "metadata": {
    "collapsed": false
   }
  },
  {
   "cell_type": "code",
   "execution_count": 21,
   "outputs": [
    {
     "name": "stdout",
     "output_type": "stream",
     "text": [
      "Сохранены данные по индикаторам для стран в файле '../data/country_indicators.csv'.\n",
      "Сохранены метаданные индикаторов в файле '../data/indicators_metadata.csv'.\n"
     ]
    }
   ],
   "source": [
    "os.makedirs('../data', exist_ok=True)\n",
    "\n",
    "# Создаем DataFrame, где индекс – название страны, а столбцы – названия индикаторов\n",
    "df = pd.DataFrame(all_country_data)\n",
    "df.set_index(\"Country\", inplace=True)\n",
    "df.to_csv(\"../data/countries_indicators.csv\", encoding=\"utf-8\")\n",
    "print(\"Сохранены данные по индикаторам для стран в файле '../data/country_indicators.csv'.\")\n",
    "\n",
    "# Сохраняем метаданные в отдельный CSV: для каждого индикатора его ссылка\n",
    "meta_df = pd.DataFrame(list(metadata_dict.items()), columns=[\"Indicator\", \"Link\"])\n",
    "meta_df.to_csv(\"../data/indicators_metadata.csv\", index=False, encoding=\"utf-8\")\n",
    "print(\"Сохранены метаданные индикаторов в файле '../data/indicators_metadata.csv'.\")"
   ],
   "metadata": {
    "collapsed": false,
    "pycharm": {
     "name": "#%%\n"
    }
   }
  },
  {
   "cell_type": "markdown",
   "source": [
    "## Собираем данные о странах с помощью REST Countries API"
   ],
   "metadata": {
    "collapsed": false
   }
  },
  {
   "cell_type": "markdown",
   "source": [
    "### Получаем всю информацию о всех странах"
   ],
   "metadata": {
    "collapsed": false,
    "pycharm": {
     "name": "#%% md\n"
    }
   }
  },
  {
   "cell_type": "code",
   "execution_count": 57,
   "outputs": [],
   "source": [
    "url = \"https://restcountries.com/v3.1/all\"\n",
    "response = requests.get(url)\n",
    "\n",
    "if response.status_code == 200:\n",
    "    countries = response.json()\n",
    "else:\n",
    "    print(\"Error:\", response.status_code)\n",
    "    exit()"
   ],
   "metadata": {
    "collapsed": false,
    "pycharm": {
     "name": "#%%\n"
    }
   }
  },
  {
   "cell_type": "markdown",
   "source": [
    "### Выбираем нужную информацию и сохраняем"
   ],
   "metadata": {
    "collapsed": false,
    "pycharm": {
     "name": "#%% md\n"
    }
   }
  },
  {
   "cell_type": "code",
   "execution_count": 60,
   "outputs": [
    {
     "name": "stdout",
     "output_type": "stream",
     "text": [
      "Data saved to '../data/countries_base_info.csv'\n"
     ]
    }
   ],
   "source": [
    "country_list = []\n",
    "for country in countries:\n",
    "    name = country.get(\"name\", {}).get(\"common\", None)\n",
    "    country_code = country.get(\"cca2\", None)\n",
    "    country_code_cca3 = country.get(\"cca3\", None)\n",
    "    region = country.get(\"region\", None)\n",
    "    languages = list(country.get(\"languages\", {}).values()) if country.get(\"languages\") else None\n",
    "    main_language = languages[0] if languages else None\n",
    "    independent = country.get(\"independent\", None)\n",
    "    un_member = country.get(\"unMember\", None)\n",
    "    currencies = country.get(\"currencies\", {})\n",
    "    main_currency = list(currencies.keys())[0] if currencies else None\n",
    "    population = country.get(\"population\", None)\n",
    "    area = country.get(\"area\", None)\n",
    "    car_side = country.get(\"car\", {}).get(\"side\", None)\n",
    "\n",
    "    country_list.append({\n",
    "        \"Country\": name,\n",
    "        \"Country Code\": country_code,\n",
    "        \"Country Code CCA3\": country_code_cca3,\n",
    "        \"Region\": region,\n",
    "        \"Main Language\": main_language,\n",
    "        \"Independent\": independent,\n",
    "        \"UN Member\": un_member,\n",
    "        \"Main Currency\": main_currency,\n",
    "        \"Population\": population,\n",
    "        \"Area\": area,\n",
    "        \"Car Side\": car_side,\n",
    "    })\n",
    "\n",
    "# Сохраняем в CSV\n",
    "df = pd.DataFrame(country_list)\n",
    "os.makedirs('../data', exist_ok=True)\n",
    "df.to_csv(\"../data/countries_base_info.csv\", index=False)\n",
    "\n",
    "print(\"Data saved to '../data/countries_base_info.csv'\")"
   ],
   "metadata": {
    "collapsed": false,
    "pycharm": {
     "name": "#%%\n"
    }
   }
  },
  {
   "cell_type": "markdown",
   "source": [
    "## Объединяем все данные"
   ],
   "metadata": {
    "collapsed": false
   }
  },
  {
   "cell_type": "code",
   "execution_count": 4,
   "outputs": [],
   "source": [
    "happiness_df = pd.read_csv('../data/countries_happiness.csv')\n",
    "indicators_df = pd.read_csv('../data/countries_indicators.csv')\n",
    "base_info_df = pd.read_csv('../data/countries_base_info.csv')"
   ],
   "metadata": {
    "collapsed": false,
    "pycharm": {
     "name": "#%%\n"
    }
   }
  },
  {
   "cell_type": "markdown",
   "source": [
    "Убираем колонки без названий"
   ],
   "metadata": {
    "collapsed": false,
    "pycharm": {
     "name": "#%% md\n"
    }
   }
  },
  {
   "cell_type": "code",
   "execution_count": 14,
   "outputs": [],
   "source": [
    "unnamed_cols = indicators_df.columns[\n",
    "    indicators_df.columns.str.contains('unnamed', case = False)]\n",
    "indicators_df.drop(columns=unnamed_cols, inplace=True)"
   ],
   "metadata": {
    "collapsed": false,
    "pycharm": {
     "name": "#%%\n"
    }
   }
  },
  {
   "cell_type": "code",
   "execution_count": 15,
   "outputs": [],
   "source": [
    "# base_info и indicators можно объединить по коду страны, поскольку коды совпадают даже если не совпадают названия стран\n",
    "merged_df = pd.merge(base_info_df, indicators_df.drop(columns='Country'), on='Country Code', how='inner')"
   ],
   "metadata": {
    "collapsed": false,
    "pycharm": {
     "name": "#%%\n"
    }
   }
  },
  {
   "cell_type": "markdown",
   "source": [
    "Посмотрим на страны которые есть в рейтинге счастья, но нет в собранном датасете"
   ],
   "metadata": {
    "collapsed": false,
    "pycharm": {
     "name": "#%% md\n"
    }
   }
  },
  {
   "cell_type": "code",
   "execution_count": 16,
   "outputs": [
    {
     "name": "stdout",
     "output_type": "stream",
     "text": [
      "Taiwan\n",
      "Congo (Kinshasa)\n",
      "State of Palestine\n",
      "Congo (Brazzaville)\n"
     ]
    }
   ],
   "source": [
    "print('\\n'.join(set(happiness_df['Country']) - set(merged_df['Country'])))"
   ],
   "metadata": {
    "collapsed": false,
    "pycharm": {
     "name": "#%%\n"
    }
   }
  },
  {
   "cell_type": "markdown",
   "source": [
    "* Congo - есть два разных Congo и они по-разному записаны в этих датасетах - переименуем\n",
    "* State of Palestine - записано как просто Palestine - переименуем\n",
    "* Taiwan - не признается Global Bank, считается частью Китая - удалим"
   ],
   "metadata": {
    "collapsed": false
   }
  },
  {
   "cell_type": "code",
   "execution_count": 17,
   "outputs": [],
   "source": [
    "happiness_df['Country'] = happiness_df['Country'].replace({\n",
    "    'State of Palestine': 'Palestine',\n",
    "    'Congo (Kinshasa)': 'DR Congo',\n",
    "    'Congo (Brazzaville)': 'Republic of the Congo'\n",
    "})"
   ],
   "metadata": {
    "collapsed": false,
    "pycharm": {
     "name": "#%%\n"
    }
   }
  },
  {
   "cell_type": "code",
   "execution_count": 18,
   "outputs": [],
   "source": [
    "final_df = pd.merge(happiness_df, merged_df, on='Country', how='right')"
   ],
   "metadata": {
    "collapsed": false,
    "pycharm": {
     "name": "#%%\n"
    }
   }
  },
  {
   "cell_type": "markdown",
   "source": [
    "### Добавим еще политический режим по данным  [Our World in Data](https://ourworldindata.org/grapher/political-regime?time=latest#explore-the-data)"
   ],
   "metadata": {
    "collapsed": false,
    "pycharm": {
     "name": "#%% md\n"
    }
   }
  },
  {
   "cell_type": "code",
   "execution_count": 19,
   "outputs": [],
   "source": [
    "regime_df = pd.read_csv('../data/countries_political_regime.csv').rename(\n",
    "    {'Code': 'Country Code CCA3', 'Political regime': 'Political Regime'},\n",
    "    axis=1)\n",
    "\n",
    "# Перекодируем номер политического режима в название\n",
    "regime_df['Political Regime'] = regime_df['Political Regime'].replace({\n",
    "    0: 'Closed Autocracies',\n",
    "    1: 'Electoral Autocracies',\n",
    "    2: 'Electoral Democracies',\n",
    "    3: 'Liberal Democracies'\n",
    "})\n",
    "\n",
    "regime_df = regime_df[['Country Code CCA3', 'Political Regime']]"
   ],
   "metadata": {
    "collapsed": false,
    "pycharm": {
     "name": "#%%\n"
    }
   }
  },
  {
   "cell_type": "code",
   "execution_count": 20,
   "outputs": [],
   "source": [
    "final_df = pd.merge(final_df, regime_df, on='Country Code CCA3', how='left')"
   ],
   "metadata": {
    "collapsed": false,
    "pycharm": {
     "name": "#%%\n"
    }
   }
  },
  {
   "cell_type": "markdown",
   "source": [
    "### Финальная обработка и сохранение итога в таблицу EXCEL и CSV файл"
   ],
   "metadata": {
    "collapsed": false,
    "pycharm": {
     "name": "#%% md\n"
    }
   }
  },
  {
   "cell_type": "markdown",
   "source": [
    "Уберем ненужное"
   ],
   "metadata": {
    "collapsed": false,
    "pycharm": {
     "name": "#%% md\n"
    }
   }
  },
  {
   "cell_type": "code",
   "execution_count": 21,
   "outputs": [],
   "source": [
    "final_df.drop(columns=['Happiness Rank'], inplace=True)\n",
    "final_df.sort_values(by='Happiness Score', ascending=False, inplace=True)"
   ],
   "metadata": {
    "collapsed": false,
    "pycharm": {
     "name": "#%%\n"
    }
   }
  },
  {
   "cell_type": "markdown",
   "source": [
    "Немного изменим порядок столбцов"
   ],
   "metadata": {
    "collapsed": false,
    "pycharm": {
     "name": "#%% md\n"
    }
   }
  },
  {
   "cell_type": "code",
   "execution_count": 22,
   "outputs": [],
   "source": [
    "start_index = final_df.columns.get_loc('Independent')\n",
    "first_part = final_df.columns[:start_index]\n",
    "middle_part = final_df.columns[start_index:-1]\n",
    "last_column = final_df.columns[-1]\n",
    "\n",
    "# Новый порядок столбцов\n",
    "new_order = list(first_part) + [last_column] + list(middle_part)\n",
    "\n",
    "# Перестановка столбцов\n",
    "final_df = final_df[new_order]"
   ],
   "metadata": {
    "collapsed": false,
    "pycharm": {
     "name": "#%%\n"
    }
   }
  },
  {
   "cell_type": "markdown",
   "source": [
    "Наконец сохраняем"
   ],
   "metadata": {
    "collapsed": false,
    "pycharm": {
     "name": "#%% md\n"
    }
   }
  },
  {
   "cell_type": "code",
   "execution_count": 23,
   "outputs": [
    {
     "name": "stderr",
     "output_type": "stream",
     "text": [
      "<ipython-input-23-477ac2503e72>:2: UserWarning: Pandas requires version '1.4.3' or newer of 'xlsxwriter' (version '1.3.8' currently installed).\n",
      "  final_df.to_excel('../data/countries_full_data.xlsx', index=False)\n"
     ]
    }
   ],
   "source": [
    "final_df.to_csv('../data/countries_full_data.csv', index=False)\n",
    "final_df.to_excel('../data/countries_full_data.xlsx', index=False)\n"
   ],
   "metadata": {
    "collapsed": false,
    "pycharm": {
     "name": "#%%\n"
    }
   }
  }
 ],
 "metadata": {
  "kernelspec": {
   "name": "pycharm-52ccbd2",
   "language": "python",
   "display_name": "PyCharm (AIolympiad)"
  },
  "language_info": {
   "codemirror_mode": {
    "name": "ipython",
    "version": 2
   },
   "file_extension": ".py",
   "mimetype": "text/x-python",
   "name": "python",
   "nbconvert_exporter": "python",
   "pygments_lexer": "ipython2",
   "version": "2.7.6"
  }
 },
 "nbformat": 4,
 "nbformat_minor": 0
}