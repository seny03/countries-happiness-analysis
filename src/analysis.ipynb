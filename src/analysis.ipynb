{
  "nbformat": 4,
  "nbformat_minor": 0,
  "metadata": {
    "colab": {
      "provenance": []
    },
    "kernelspec": {
      "name": "python3",
      "display_name": "Python 3"
    },
    "language_info": {
      "name": "python"
    }
  },
  "cells": [
    {
      "cell_type": "markdown",
      "source": [
        "# **Выбор и составление таблицы**"
      ],
      "metadata": {
        "id": "m-qnLNgjsl62"
      }
    },
    {
      "cell_type": "markdown",
      "source": [
        "Мы составили таблицу, где хранится выборка параметров разных стран. Сами параметры относятся к таким категориям как:\n",
        "- Сельское хозяйство, изменение климата, энергия, окружающая среда и природные ресурсы\n",
        "- Цифровое развитие, образование,\n",
        "- Финансы, конкурентоспособность и инновации\n",
        "- Нестабильность, конфликты и насилие\n",
        "- Управление, здравоохранение, питание и народонаселение, бедность и неравенство, социальная защита, транспорт\n",
        "- Инфраструктура и государственно-частное партнерство, рабочие места и развитие\n",
        "- Макроэкономика, торговля и инвестиции\n"
      ],
      "metadata": {
        "id": "SMoBDEbBqyqk"
      }
    },
    {
      "cell_type": "markdown",
      "source": [
        "Такая выборка позволит нам сравнить страны в социальной, экономической, окружающей среды и образовательной сферах."
      ],
      "metadata": {
        "id": "GnljS-nStAQt"
      }
    },
    {
      "cell_type": "markdown",
      "source": [
        "# **Описание датасета**"
      ],
      "metadata": {
        "id": "wiOnZcYLt76G"
      }
    },
    {
      "cell_type": "markdown",
      "source": [
        "- Country - название страны,\tкатегориальная\n",
        "- Happiness Score - индекс счасть, число от 0 до 10, метрическая\n",
        "- Region - географический регион,\tкатегориальная\n",
        "- Main Language\t- основной язык, категориальная\n",
        "- Political Regime - тип политического режима, категориальная\n",
        "- Independent - независимость страны,\tбинарная\n",
        "- UN Member\t- членство в ООН,\tбинарная\n",
        "- Main Currency -\tосновная валюта, код валюты,\tкатегориальная\n",
        "- Population - численность населения,\tколичество человек,\tметрическая\n",
        "- Area - площадь территориия,\tкм², метрическая\n",
        "- Car Side - сторона движения, категориальная\n",
        "- Income share held by lowest 20%\t- доля дохода беднейших 20%,\tметрическая\n",
        "- Life expectancy at birth, total (years) -\tожидаемая продолжительность жизни, метрическая\n",
        "- Prevalence of HIV, total (% of population ages 15-49)\t- распространенность ВИЧ,\t% населения 15–49 лет,\tметрическая\n",
        "- Renewable energy consumption (% of total final energy consumption) - потребление возобновляемой энергии, % от общего потребления, метрическая\n",
        "- Intentional homicides (per 100,000 people) -\tумышленные убийства\tна 100 тыс. человек,\tметрическая\n",
        "- Refugee population by country or territory of asylum - численность беженцев в разбивке по странам или территориям предоставления убежища, метрическая\n",
        "- Armed forces personnel (% of total labor force) - военнослужащие,\t% от рабочей силы,\tметрическая\n",
        "- Urban population (% of total population) - городское население, метрическая\n",
        "- GNI (current US) - валовой национальный доход,\tтекущие US, метрическая\n",
        "- Foreign direct investment, net (BoP, current US)\t- прямые иностранные инвестиции, текущие US,\tметрическая\n",
        "- GDP per person employed (constant 2021 PPP)\t- ВВП на занятого,\tпостоянные PPP, метрическая\n",
        "- Employment to population ratio, 15+, total (%) (modeled ILO estimate) - уровень занятости,\t% населения 15+ лет, метрическая\n",
        "- Forest area (% of land area) -\tлесная площадь,\t% от территории, метрическая\n",
        "- Terrestrial and marine protected areas (% of total territorial area)- охраняемые территории,\tметрическая\n",
        "- Logistics performance index: Ease of arranging competitively priced shipments (1=low to 5=high) -\tиндекс логистики,\tметрическая\n",
        "- High-technology exports (% of manufactured exports) - экспорт высоких технологий,\tметрическая\n",
        "- Individuals using the Internet (% of population)- пользователи интернета,\tметрическая\n",
        "- Mobile cellular subscriptions (per 100 people) - мобильные подписки\tна 100 человек,\tметрическая\n",
        "- Alternative and nuclear energy (% of total energy use) - альтернативная и ядерная энергия,\tметрическая\n",
        "- Electric power consumption (KWH per capita) - потребление электроэнергии\tкВт·ч на душу населения,\tметрическая\n",
        "- Access to clean fuels and technologies for cooking (% of population)- доступ к чистым технологиям, метрическая\n",
        "- Social contributions (% of revenue) - социальные взносы, метрическая\n",
        "- People using at least basic drinking water services (% of population)- доступ к питьевой воде, метрическая\n",
        "- School enrollment, primary and secondary (gross), gender parity index (GPI)\t- гендерный паритет в образовании,\tиндекс,\tметрическая\n",
        "- Proportion of seats held by women in national parliaments (%)\t- доля женщин в парламенте, \tметрическая\n",
        "- Maternal mortality (modeled estimate, per 100,000 live birhs)- материнская смертность\tна 100 тыс. рождений, метрическая\n",
        "- Primary completion rate, total (% of relevant age group) -\tзавершение начального образования,\tметрическая\n",
        "- Government expenditure on education, total (% of government expenditure)\t- расходы на образование,\tметрическая\n",
        "- Agriculture, forestry, and fishing, value added (% of GPD) -\tвклад сельского хозяйства в ВВП,\tметрическая\n",
        "- Mortality caused by road traffic injury (per 100,000 population) - смертность от ДТП на 100 тыс. населения,\tметрическая"
      ],
      "metadata": {
        "id": "A-k6GHfhrYA-"
      }
    },
    {
      "cell_type": "markdown",
      "source": [
        "Тип переменных в столбцах:"
      ],
      "metadata": {
        "id": "-6PProItSbXm"
      }
    },
    {
      "cell_type": "code",
      "source": [
        "import pandas as pd\n",
        "\n",
        "from google.colab import files\n",
        "\n",
        "df = pd.read_csv(\"countries_selected_data.csv\")\n",
        "\n",
        "for column in df.columns:\n",
        "    print(f\"Столбец '{column}': {df[column].dtype}\")\n",
        "\n"
      ],
      "metadata": {
        "colab": {
          "base_uri": "https://localhost:8080/"
        },
        "id": "Sqe1x78HALR_",
        "outputId": "8e3e0297-5f82-43d9-940b-e59d2392dd9e"
      },
      "execution_count": 140,
      "outputs": [
        {
          "output_type": "stream",
          "name": "stdout",
          "text": [
            "Столбец 'Country': object\n",
            "Столбец 'Happiness Score': float64\n",
            "Столбец 'Region': object\n",
            "Столбец 'Main Language': object\n",
            "Столбец 'Political Regime': object\n",
            "Столбец 'Independent': object\n",
            "Столбец 'UN Member': bool\n",
            "Столбец 'Main Currency': object\n",
            "Столбец 'Population': int64\n",
            "Столбец 'Area': float64\n",
            "Столбец 'Car Side': object\n",
            "Столбец 'Income share held by lowest 20%': float64\n",
            "Столбец 'Life expectancy at birth, total (years)': float64\n",
            "Столбец 'Prevalence of HIV, total (% of population ages 15-49)': float64\n",
            "Столбец 'Renewable energy consumption (% of total final energy consumption)': float64\n",
            "Столбец 'Intentional homicides (per 100,000 people)': float64\n",
            "Столбец 'Refugee population by country or territory of asylum': float64\n",
            "Столбец 'Armed forces personnel (% of total labor force)': float64\n",
            "Столбец 'Urban population (% of total population)': float64\n",
            "Столбец 'GNI (current US$)': float64\n",
            "Столбец 'Foreign direct investment, net (BoP, current US$)': float64\n",
            "Столбец 'GDP per person employed (constant 2021 PPP $)': float64\n",
            "Столбец 'Employment to population ratio, 15+, total (%) (modeled ILO estimate)': float64\n",
            "Столбец 'Forest area (% of land area)': float64\n",
            "Столбец 'Terrestrial and marine protected areas (% of total territorial area)': float64\n",
            "Столбец 'Logistics performance index: Ease of arranging competitively priced shipments (1=low to 5=high)': float64\n",
            "Столбец 'High-technology exports (% of manufactured exports)': float64\n",
            "Столбец 'Individuals using the Internet (% of population)': float64\n",
            "Столбец 'Mobile cellular subscriptions (per 100 people)': float64\n",
            "Столбец 'Alternative and nuclear energy (% of total energy use)': float64\n",
            "Столбец 'Electric power consumption (kWh per capita)': float64\n",
            "Столбец 'Access to clean fuels and technologies for cooking (% of population)': float64\n",
            "Столбец 'Social contributions (% of revenue)': float64\n",
            "Столбец 'People using at least basic drinking water services (% of population)': float64\n",
            "Столбец 'School enrollment, primary and secondary (gross), gender parity index (GPI)': float64\n",
            "Столбец 'Proportion of seats held by women in national parliaments (%)': float64\n",
            "Столбец 'Maternal mortality ratio (modeled estimate, per 100,000 live births)': float64\n",
            "Столбец 'Primary completion rate, total (% of relevant age group)': float64\n",
            "Столбец 'Government expenditure on education, total (% of government expenditure)': float64\n",
            "Столбец 'Agriculture, forestry, and fishing, value added (% of GDP)': float64\n",
            "Столбец 'Mortality caused by road traffic injury (per 100,000 population)': float64\n"
          ]
        }
      ]
    },
    {
      "cell_type": "markdown",
      "source": [
        "Количество пустых ячеек в каждом столбце:"
      ],
      "metadata": {
        "id": "REztgk_nSh6M"
      }
    },
    {
      "cell_type": "code",
      "source": [
        "for column in df.columns:\n",
        "    print(f\"Столбец '{column}': {df[column].isna().sum()} пустых значений\")\n"
      ],
      "metadata": {
        "colab": {
          "base_uri": "https://localhost:8080/"
        },
        "id": "nrw_bVlzSw6Q",
        "outputId": "5a9d525e-a5d4-4876-c5c5-ddbf3096e774"
      },
      "execution_count": 141,
      "outputs": [
        {
          "output_type": "stream",
          "name": "stdout",
          "text": [
            "Столбец 'Country': 0 пустых значений\n",
            "Столбец 'Happiness Score': 74 пустых значений\n",
            "Столбец 'Region': 0 пустых значений\n",
            "Столбец 'Main Language': 0 пустых значений\n",
            "Столбец 'Political Regime': 44 пустых значений\n",
            "Столбец 'Independent': 1 пустых значений\n",
            "Столбец 'UN Member': 0 пустых значений\n",
            "Столбец 'Main Currency': 0 пустых значений\n",
            "Столбец 'Population': 0 пустых значений\n",
            "Столбец 'Area': 0 пустых значений\n",
            "Столбец 'Car Side': 0 пустых значений\n",
            "Столбец 'Income share held by lowest 20%': 69 пустых значений\n",
            "Столбец 'Life expectancy at birth, total (years)': 5 пустых значений\n",
            "Столбец 'Prevalence of HIV, total (% of population ages 15-49)': 86 пустых значений\n",
            "Столбец 'Renewable energy consumption (% of total final energy consumption)': 31 пустых значений\n",
            "Столбец 'Intentional homicides (per 100,000 people)': 22 пустых значений\n",
            "Столбец 'Refugee population by country or territory of asylum': 53 пустых значений\n",
            "Столбец 'Armed forces personnel (% of total labor force)': 65 пустых значений\n",
            "Столбец 'Urban population (% of total population)': 29 пустых значений\n",
            "Столбец 'GNI (current US$)': 35 пустых значений\n",
            "Столбец 'Foreign direct investment, net (BoP, current US$)': 47 пустых значений\n",
            "Столбец 'GDP per person employed (constant 2021 PPP $)': 60 пустых значений\n",
            "Столбец 'Employment to population ratio, 15+, total (%) (modeled ILO estimate)': 52 пустых значений\n",
            "Столбец 'Forest area (% of land area)': 3 пустых значений\n",
            "Столбец 'Terrestrial and marine protected areas (% of total territorial area)': 30 пустых значений\n",
            "Столбец 'Logistics performance index: Ease of arranging competitively priced shipments (1=low to 5=high)': 67 пустых значений\n",
            "Столбец 'High-technology exports (% of manufactured exports)': 53 пустых значений\n",
            "Столбец 'Individuals using the Internet (% of population)': 6 пустых значений\n",
            "Столбец 'Mobile cellular subscriptions (per 100 people)': 29 пустых значений\n",
            "Столбец 'Alternative and nuclear energy (% of total energy use)': 89 пустых значений\n",
            "Столбец 'Electric power consumption (kWh per capita)': 88 пустых значений\n",
            "Столбец 'Access to clean fuels and technologies for cooking (% of population)': 51 пустых значений\n",
            "Столбец 'Social contributions (% of revenue)': 115 пустых значений\n",
            "Столбец 'People using at least basic drinking water services (% of population)': 28 пустых значений\n",
            "Столбец 'School enrollment, primary and secondary (gross), gender parity index (GPI)': 45 пустых значений\n",
            "Столбец 'Proportion of seats held by women in national parliaments (%)': 23 пустых значений\n",
            "Столбец 'Maternal mortality ratio (modeled estimate, per 100,000 live births)': 52 пустых значений\n",
            "Столбец 'Primary completion rate, total (% of relevant age group)': 46 пустых значений\n",
            "Столбец 'Government expenditure on education, total (% of government expenditure)': 45 пустых значений\n",
            "Столбец 'Agriculture, forestry, and fishing, value added (% of GDP)': 38 пустых значений\n",
            "Столбец 'Mortality caused by road traffic injury (per 100,000 population)': 49 пустых значений\n"
          ]
        }
      ]
    },
    {
      "cell_type": "markdown",
      "source": [
        "# **Изменение типа данных на более подходящий**"
      ],
      "metadata": {
        "id": "AWjcLQb6vRf3"
      }
    },
    {
      "cell_type": "markdown",
      "source": [
        "Перекодируем 'Car Side' из столбика с категориальными значениями 'right' и 'left' в столбик в булевыми значениями 'True' и 'False'."
      ],
      "metadata": {
        "id": "gtrYGFVGa0b_"
      }
    },
    {
      "cell_type": "code",
      "execution_count": 142,
      "metadata": {
        "colab": {
          "base_uri": "https://localhost:8080/"
        },
        "id": "zm8M5v_w864f",
        "outputId": "be1a6f04-f42f-430b-a82f-3039033e809c"
      },
      "outputs": [
        {
          "output_type": "stream",
          "name": "stdout",
          "text": [
            "Проверка преобразования:\n",
            "  Car Side  IsCarRight\n",
            "0    right        True\n",
            "1    right        True\n",
            "2    right        True\n",
            "3    right        True\n",
            "4    right        True\n",
            "5    right        True\n",
            "6    right        True\n",
            "7    right        True\n",
            "8    right        True\n",
            "9     left       False\n"
          ]
        }
      ],
      "source": [
        "df['IsCarRight'] = df['Car Side'].eq('right').astype(bool)\n",
        "\n",
        "print(\"Проверка преобразования:\")\n",
        "print(df[['Car Side', 'IsCarRight']].head(10))\n",
        "\n",
        "\n",
        "df.drop('Car Side', axis=1, inplace=True)"
      ]
    },
    {
      "cell_type": "markdown",
      "source": [
        "Перекодируем также и категориальную переменную 'Political Regime' со значениями: 'Closed Autocracies', 'Electoral Autocracies', 'Liberal Democracies', 'Electoral Democracies' в метрическую со значениями 0, 1, 2, 3 соответсвенно"
      ],
      "metadata": {
        "id": "AOx_rFN9bPtq"
      }
    },
    {
      "cell_type": "code",
      "source": [
        "df['Political Regime'] = df['Political Regime'].map({\n",
        "\n",
        "'Closed Autocracies': 0,\n",
        "\n",
        "'Electoral Autocracies': 1,\n",
        "\n",
        "'Liberal Democracies': 2,\n",
        "'Electoral Democracies': 3\n",
        "\n",
        "})\n",
        "print(df['Political Regime'])"
      ],
      "metadata": {
        "colab": {
          "base_uri": "https://localhost:8080/"
        },
        "id": "7_32UwJ7buW6",
        "outputId": "f1cb71b9-82a9-4dcc-89c6-eac90bd58bb6"
      },
      "execution_count": 143,
      "outputs": [
        {
          "output_type": "stream",
          "name": "stdout",
          "text": [
            "0      2.0\n",
            "1      2.0\n",
            "2      2.0\n",
            "3      2.0\n",
            "4      3.0\n",
            "      ... \n",
            "211    NaN\n",
            "212    NaN\n",
            "213    NaN\n",
            "214    NaN\n",
            "215    NaN\n",
            "Name: Political Regime, Length: 216, dtype: float64\n"
          ]
        }
      ]
    },
    {
      "cell_type": "code",
      "source": [
        "print(df.columns)\n"
      ],
      "metadata": {
        "colab": {
          "base_uri": "https://localhost:8080/"
        },
        "id": "ht8BARj5A00t",
        "outputId": "81366fb3-dbc7-4c76-c935-b93019fec4b2"
      },
      "execution_count": 144,
      "outputs": [
        {
          "output_type": "stream",
          "name": "stdout",
          "text": [
            "Index(['Country', 'Happiness Score', 'Region', 'Main Language',\n",
            "       'Political Regime', 'Independent', 'UN Member', 'Main Currency',\n",
            "       'Population', 'Area', 'Income share held by lowest 20%',\n",
            "       'Life expectancy at birth, total (years)',\n",
            "       'Prevalence of HIV, total (% of population ages 15-49)',\n",
            "       'Renewable energy consumption (% of total final energy consumption)',\n",
            "       'Intentional homicides (per 100,000 people)',\n",
            "       'Refugee population by country or territory of asylum',\n",
            "       'Armed forces personnel (% of total labor force)',\n",
            "       'Urban population (% of total population)', 'GNI (current US$)',\n",
            "       'Foreign direct investment, net (BoP, current US$)',\n",
            "       'GDP per person employed (constant 2021 PPP $)',\n",
            "       'Employment to population ratio, 15+, total (%) (modeled ILO estimate)',\n",
            "       'Forest area (% of land area)',\n",
            "       'Terrestrial and marine protected areas (% of total territorial area)',\n",
            "       'Logistics performance index: Ease of arranging competitively priced shipments (1=low to 5=high)',\n",
            "       'High-technology exports (% of manufactured exports)',\n",
            "       'Individuals using the Internet (% of population)',\n",
            "       'Mobile cellular subscriptions (per 100 people)',\n",
            "       'Alternative and nuclear energy (% of total energy use)',\n",
            "       'Electric power consumption (kWh per capita)',\n",
            "       'Access to clean fuels and technologies for cooking (% of population)',\n",
            "       'Social contributions (% of revenue)',\n",
            "       'People using at least basic drinking water services (% of population)',\n",
            "       'School enrollment, primary and secondary (gross), gender parity index (GPI)',\n",
            "       'Proportion of seats held by women in national parliaments (%)',\n",
            "       'Maternal mortality ratio (modeled estimate, per 100,000 live births)',\n",
            "       'Primary completion rate, total (% of relevant age group)',\n",
            "       'Government expenditure on education, total (% of government expenditure)',\n",
            "       'Agriculture, forestry, and fishing, value added (% of GDP)',\n",
            "       'Mortality caused by road traffic injury (per 100,000 population)',\n",
            "       'IsCarRight'],\n",
            "      dtype='object')\n"
          ]
        }
      ]
    },
    {
      "cell_type": "markdown",
      "source": [
        "Изменим тип переменных:\n",
        "- 'Area'\n",
        "- 'Life expectancy at birth total (years)'\n",
        "- 'Refugee population by country or territory of asylum'\n",
        "- 'Urban population (% of total population)'\n",
        "- 'High-technology exports (% of manufactured exports)'\n",
        "- 'Individuals using the Internet (% of population)'\n",
        "- 'Mobile cellular subscriptions (per 100 people)'\n",
        "- 'Electric power consumption (kWh per capita)'\n",
        "- 'Access to clean fuels and technologies for cooking (% of population)'\n",
        "- 'People using at least basic drinking water services (% of population)'\n",
        "- 'Proportion of seats held by women in national parliaments (%)'\n",
        "- 'Maternal mortality ratio (modeled estimate, per 100,000 live births)'\n",
        "- 'Primary completion rate, total (% of relevant age group)'\n",
        "- 'Mortality caused by road traffic injury (per 100,000 population)'\n",
        "\n",
        "на int вместо float, так как дробная часть переменных 0"
      ],
      "metadata": {
        "id": "4R-5rwoUEBAs"
      }
    },
    {
      "cell_type": "code",
      "source": [
        "df['Area'] = df['Area'].round().astype('Int64')\n",
        "df['Area']"
      ],
      "metadata": {
        "colab": {
          "base_uri": "https://localhost:8080/",
          "height": 458
        },
        "id": "azlzBmF5ECLq",
        "outputId": "06b45fc7-7ba6-45cc-f199-f87c7e0e4562"
      },
      "execution_count": 145,
      "outputs": [
        {
          "output_type": "execute_result",
          "data": {
            "text/plain": [
              "0      338424\n",
              "1       43094\n",
              "2      103000\n",
              "3      450295\n",
              "4       20770\n",
              "        ...  \n",
              "211       549\n",
              "212       747\n",
              "213       811\n",
              "214        53\n",
              "215       199\n",
              "Name: Area, Length: 216, dtype: Int64"
            ],
            "text/html": [
              "<div>\n",
              "<style scoped>\n",
              "    .dataframe tbody tr th:only-of-type {\n",
              "        vertical-align: middle;\n",
              "    }\n",
              "\n",
              "    .dataframe tbody tr th {\n",
              "        vertical-align: top;\n",
              "    }\n",
              "\n",
              "    .dataframe thead th {\n",
              "        text-align: right;\n",
              "    }\n",
              "</style>\n",
              "<table border=\"1\" class=\"dataframe\">\n",
              "  <thead>\n",
              "    <tr style=\"text-align: right;\">\n",
              "      <th></th>\n",
              "      <th>Area</th>\n",
              "    </tr>\n",
              "  </thead>\n",
              "  <tbody>\n",
              "    <tr>\n",
              "      <th>0</th>\n",
              "      <td>338424</td>\n",
              "    </tr>\n",
              "    <tr>\n",
              "      <th>1</th>\n",
              "      <td>43094</td>\n",
              "    </tr>\n",
              "    <tr>\n",
              "      <th>2</th>\n",
              "      <td>103000</td>\n",
              "    </tr>\n",
              "    <tr>\n",
              "      <th>3</th>\n",
              "      <td>450295</td>\n",
              "    </tr>\n",
              "    <tr>\n",
              "      <th>4</th>\n",
              "      <td>20770</td>\n",
              "    </tr>\n",
              "    <tr>\n",
              "      <th>...</th>\n",
              "      <td>...</td>\n",
              "    </tr>\n",
              "    <tr>\n",
              "      <th>211</th>\n",
              "      <td>549</td>\n",
              "    </tr>\n",
              "    <tr>\n",
              "      <th>212</th>\n",
              "      <td>747</td>\n",
              "    </tr>\n",
              "    <tr>\n",
              "      <th>213</th>\n",
              "      <td>811</td>\n",
              "    </tr>\n",
              "    <tr>\n",
              "      <th>214</th>\n",
              "      <td>53</td>\n",
              "    </tr>\n",
              "    <tr>\n",
              "      <th>215</th>\n",
              "      <td>199</td>\n",
              "    </tr>\n",
              "  </tbody>\n",
              "</table>\n",
              "<p>216 rows × 1 columns</p>\n",
              "</div><br><label><b>dtype:</b> Int64</label>"
            ]
          },
          "metadata": {},
          "execution_count": 145
        }
      ]
    },
    {
      "cell_type": "code",
      "source": [
        "df['Life expectancy at birth, total (years)'] = df['Life expectancy at birth, total (years)'].round().astype('Int64')\n",
        "df['Life expectancy at birth, total (years)']"
      ],
      "metadata": {
        "colab": {
          "base_uri": "https://localhost:8080/",
          "height": 458
        },
        "id": "pVr8769TEKw7",
        "outputId": "8c15bf8e-b825-4eec-a698-5639784d57d3"
      },
      "execution_count": 146,
      "outputs": [
        {
          "output_type": "execute_result",
          "data": {
            "text/plain": [
              "0        81\n",
              "1        81\n",
              "2        82\n",
              "3        83\n",
              "4        83\n",
              "       ... \n",
              "211      78\n",
              "212      71\n",
              "213      68\n",
              "214      81\n",
              "215    <NA>\n",
              "Name: Life expectancy at birth, total (years), Length: 216, dtype: Int64"
            ],
            "text/html": [
              "<div>\n",
              "<style scoped>\n",
              "    .dataframe tbody tr th:only-of-type {\n",
              "        vertical-align: middle;\n",
              "    }\n",
              "\n",
              "    .dataframe tbody tr th {\n",
              "        vertical-align: top;\n",
              "    }\n",
              "\n",
              "    .dataframe thead th {\n",
              "        text-align: right;\n",
              "    }\n",
              "</style>\n",
              "<table border=\"1\" class=\"dataframe\">\n",
              "  <thead>\n",
              "    <tr style=\"text-align: right;\">\n",
              "      <th></th>\n",
              "      <th>Life expectancy at birth, total (years)</th>\n",
              "    </tr>\n",
              "  </thead>\n",
              "  <tbody>\n",
              "    <tr>\n",
              "      <th>0</th>\n",
              "      <td>81</td>\n",
              "    </tr>\n",
              "    <tr>\n",
              "      <th>1</th>\n",
              "      <td>81</td>\n",
              "    </tr>\n",
              "    <tr>\n",
              "      <th>2</th>\n",
              "      <td>82</td>\n",
              "    </tr>\n",
              "    <tr>\n",
              "      <th>3</th>\n",
              "      <td>83</td>\n",
              "    </tr>\n",
              "    <tr>\n",
              "      <th>4</th>\n",
              "      <td>83</td>\n",
              "    </tr>\n",
              "    <tr>\n",
              "      <th>...</th>\n",
              "      <td>...</td>\n",
              "    </tr>\n",
              "    <tr>\n",
              "      <th>211</th>\n",
              "      <td>78</td>\n",
              "    </tr>\n",
              "    <tr>\n",
              "      <th>212</th>\n",
              "      <td>71</td>\n",
              "    </tr>\n",
              "    <tr>\n",
              "      <th>213</th>\n",
              "      <td>68</td>\n",
              "    </tr>\n",
              "    <tr>\n",
              "      <th>214</th>\n",
              "      <td>81</td>\n",
              "    </tr>\n",
              "    <tr>\n",
              "      <th>215</th>\n",
              "      <td>&lt;NA&gt;</td>\n",
              "    </tr>\n",
              "  </tbody>\n",
              "</table>\n",
              "<p>216 rows × 1 columns</p>\n",
              "</div><br><label><b>dtype:</b> Int64</label>"
            ]
          },
          "metadata": {},
          "execution_count": 146
        }
      ]
    },
    {
      "cell_type": "code",
      "source": [
        "df['Refugee population by country or territory of asylum'] = df['Refugee population by country or territory of asylum'].round().astype('Int64')\n",
        "df['Refugee population by country or territory of asylum']"
      ],
      "metadata": {
        "colab": {
          "base_uri": "https://localhost:8080/",
          "height": 458
        },
        "id": "Dm-ADgDQEOjg",
        "outputId": "96e2dfd1-8892-41ed-9000-0991be525dbb"
      },
      "execution_count": 147,
      "outputs": [
        {
          "output_type": "execute_result",
          "data": {
            "text/plain": [
              "0       89869\n",
              "1       68912\n",
              "2        8715\n",
              "3      237632\n",
              "4        1235\n",
              "        ...  \n",
              "211      <NA>\n",
              "212      <NA>\n",
              "213      <NA>\n",
              "214      <NA>\n",
              "215      <NA>\n",
              "Name: Refugee population by country or territory of asylum, Length: 216, dtype: Int64"
            ],
            "text/html": [
              "<div>\n",
              "<style scoped>\n",
              "    .dataframe tbody tr th:only-of-type {\n",
              "        vertical-align: middle;\n",
              "    }\n",
              "\n",
              "    .dataframe tbody tr th {\n",
              "        vertical-align: top;\n",
              "    }\n",
              "\n",
              "    .dataframe thead th {\n",
              "        text-align: right;\n",
              "    }\n",
              "</style>\n",
              "<table border=\"1\" class=\"dataframe\">\n",
              "  <thead>\n",
              "    <tr style=\"text-align: right;\">\n",
              "      <th></th>\n",
              "      <th>Refugee population by country or territory of asylum</th>\n",
              "    </tr>\n",
              "  </thead>\n",
              "  <tbody>\n",
              "    <tr>\n",
              "      <th>0</th>\n",
              "      <td>89869</td>\n",
              "    </tr>\n",
              "    <tr>\n",
              "      <th>1</th>\n",
              "      <td>68912</td>\n",
              "    </tr>\n",
              "    <tr>\n",
              "      <th>2</th>\n",
              "      <td>8715</td>\n",
              "    </tr>\n",
              "    <tr>\n",
              "      <th>3</th>\n",
              "      <td>237632</td>\n",
              "    </tr>\n",
              "    <tr>\n",
              "      <th>4</th>\n",
              "      <td>1235</td>\n",
              "    </tr>\n",
              "    <tr>\n",
              "      <th>...</th>\n",
              "      <td>...</td>\n",
              "    </tr>\n",
              "    <tr>\n",
              "      <th>211</th>\n",
              "      <td>&lt;NA&gt;</td>\n",
              "    </tr>\n",
              "    <tr>\n",
              "      <th>212</th>\n",
              "      <td>&lt;NA&gt;</td>\n",
              "    </tr>\n",
              "    <tr>\n",
              "      <th>213</th>\n",
              "      <td>&lt;NA&gt;</td>\n",
              "    </tr>\n",
              "    <tr>\n",
              "      <th>214</th>\n",
              "      <td>&lt;NA&gt;</td>\n",
              "    </tr>\n",
              "    <tr>\n",
              "      <th>215</th>\n",
              "      <td>&lt;NA&gt;</td>\n",
              "    </tr>\n",
              "  </tbody>\n",
              "</table>\n",
              "<p>216 rows × 1 columns</p>\n",
              "</div><br><label><b>dtype:</b> Int64</label>"
            ]
          },
          "metadata": {},
          "execution_count": 147
        }
      ]
    },
    {
      "cell_type": "code",
      "source": [
        "df['Urban population (% of total population)'] = df['Urban population (% of total population)'].round().astype('Int64')\n",
        "df['Urban population (% of total population)']"
      ],
      "metadata": {
        "colab": {
          "base_uri": "https://localhost:8080/",
          "height": 458
        },
        "id": "E0hZvpFSERVw",
        "outputId": "045d4940-409a-449b-d4ad-04846b9401ec"
      },
      "execution_count": 148,
      "outputs": [
        {
          "output_type": "execute_result",
          "data": {
            "text/plain": [
              "0        86\n",
              "1        88\n",
              "2        94\n",
              "3        89\n",
              "4        93\n",
              "       ... \n",
              "211      95\n",
              "212      23\n",
              "213      58\n",
              "214    <NA>\n",
              "215      87\n",
              "Name: Urban population (% of total population), Length: 216, dtype: Int64"
            ],
            "text/html": [
              "<div>\n",
              "<style scoped>\n",
              "    .dataframe tbody tr th:only-of-type {\n",
              "        vertical-align: middle;\n",
              "    }\n",
              "\n",
              "    .dataframe tbody tr th {\n",
              "        vertical-align: top;\n",
              "    }\n",
              "\n",
              "    .dataframe thead th {\n",
              "        text-align: right;\n",
              "    }\n",
              "</style>\n",
              "<table border=\"1\" class=\"dataframe\">\n",
              "  <thead>\n",
              "    <tr style=\"text-align: right;\">\n",
              "      <th></th>\n",
              "      <th>Urban population (% of total population)</th>\n",
              "    </tr>\n",
              "  </thead>\n",
              "  <tbody>\n",
              "    <tr>\n",
              "      <th>0</th>\n",
              "      <td>86</td>\n",
              "    </tr>\n",
              "    <tr>\n",
              "      <th>1</th>\n",
              "      <td>88</td>\n",
              "    </tr>\n",
              "    <tr>\n",
              "      <th>2</th>\n",
              "      <td>94</td>\n",
              "    </tr>\n",
              "    <tr>\n",
              "      <th>3</th>\n",
              "      <td>89</td>\n",
              "    </tr>\n",
              "    <tr>\n",
              "      <th>4</th>\n",
              "      <td>93</td>\n",
              "    </tr>\n",
              "    <tr>\n",
              "      <th>...</th>\n",
              "      <td>...</td>\n",
              "    </tr>\n",
              "    <tr>\n",
              "      <th>211</th>\n",
              "      <td>95</td>\n",
              "    </tr>\n",
              "    <tr>\n",
              "      <th>212</th>\n",
              "      <td>23</td>\n",
              "    </tr>\n",
              "    <tr>\n",
              "      <th>213</th>\n",
              "      <td>58</td>\n",
              "    </tr>\n",
              "    <tr>\n",
              "      <th>214</th>\n",
              "      <td>&lt;NA&gt;</td>\n",
              "    </tr>\n",
              "    <tr>\n",
              "      <th>215</th>\n",
              "      <td>87</td>\n",
              "    </tr>\n",
              "  </tbody>\n",
              "</table>\n",
              "<p>216 rows × 1 columns</p>\n",
              "</div><br><label><b>dtype:</b> Int64</label>"
            ]
          },
          "metadata": {},
          "execution_count": 148
        }
      ]
    },
    {
      "cell_type": "code",
      "source": [
        "df['GDP per person employed (constant 2021 PPP $)'] = df['GDP per person employed (constant 2021 PPP $)'].round().astype('Int64')\n",
        "df['GDP per person employed (constant 2021 PPP $)']"
      ],
      "metadata": {
        "colab": {
          "base_uri": "https://localhost:8080/",
          "height": 458
        },
        "id": "NFV4Dg5WEvo-",
        "outputId": "4fee83d6-c3e6-465d-c740-c34f2c5eac50"
      },
      "execution_count": 149,
      "outputs": [
        {
          "output_type": "execute_result",
          "data": {
            "text/plain": [
              "0      118586\n",
              "1      140245\n",
              "2      113172\n",
              "3      126052\n",
              "4      106698\n",
              "        ...  \n",
              "211      <NA>\n",
              "212     20815\n",
              "213      <NA>\n",
              "214      <NA>\n",
              "215      <NA>\n",
              "Name: GDP per person employed (constant 2021 PPP $), Length: 216, dtype: Int64"
            ],
            "text/html": [
              "<div>\n",
              "<style scoped>\n",
              "    .dataframe tbody tr th:only-of-type {\n",
              "        vertical-align: middle;\n",
              "    }\n",
              "\n",
              "    .dataframe tbody tr th {\n",
              "        vertical-align: top;\n",
              "    }\n",
              "\n",
              "    .dataframe thead th {\n",
              "        text-align: right;\n",
              "    }\n",
              "</style>\n",
              "<table border=\"1\" class=\"dataframe\">\n",
              "  <thead>\n",
              "    <tr style=\"text-align: right;\">\n",
              "      <th></th>\n",
              "      <th>GDP per person employed (constant 2021 PPP $)</th>\n",
              "    </tr>\n",
              "  </thead>\n",
              "  <tbody>\n",
              "    <tr>\n",
              "      <th>0</th>\n",
              "      <td>118586</td>\n",
              "    </tr>\n",
              "    <tr>\n",
              "      <th>1</th>\n",
              "      <td>140245</td>\n",
              "    </tr>\n",
              "    <tr>\n",
              "      <th>2</th>\n",
              "      <td>113172</td>\n",
              "    </tr>\n",
              "    <tr>\n",
              "      <th>3</th>\n",
              "      <td>126052</td>\n",
              "    </tr>\n",
              "    <tr>\n",
              "      <th>4</th>\n",
              "      <td>106698</td>\n",
              "    </tr>\n",
              "    <tr>\n",
              "      <th>...</th>\n",
              "      <td>...</td>\n",
              "    </tr>\n",
              "    <tr>\n",
              "      <th>211</th>\n",
              "      <td>&lt;NA&gt;</td>\n",
              "    </tr>\n",
              "    <tr>\n",
              "      <th>212</th>\n",
              "      <td>20815</td>\n",
              "    </tr>\n",
              "    <tr>\n",
              "      <th>213</th>\n",
              "      <td>&lt;NA&gt;</td>\n",
              "    </tr>\n",
              "    <tr>\n",
              "      <th>214</th>\n",
              "      <td>&lt;NA&gt;</td>\n",
              "    </tr>\n",
              "    <tr>\n",
              "      <th>215</th>\n",
              "      <td>&lt;NA&gt;</td>\n",
              "    </tr>\n",
              "  </tbody>\n",
              "</table>\n",
              "<p>216 rows × 1 columns</p>\n",
              "</div><br><label><b>dtype:</b> Int64</label>"
            ]
          },
          "metadata": {},
          "execution_count": 149
        }
      ]
    },
    {
      "cell_type": "code",
      "source": [
        "df['Employment to population ratio, 15+, total (%) (modeled ILO estimate)'] = df['Employment to population ratio, 15+, total (%) (modeled ILO estimate)'].round().astype('Int64')\n",
        "df['Employment to population ratio, 15+, total (%) (modeled ILO estimate)']"
      ],
      "metadata": {
        "colab": {
          "base_uri": "https://localhost:8080/",
          "height": 458
        },
        "id": "jjND9msqE9Xs",
        "outputId": "9c915511-e8df-413a-c2df-b3590d2d57e7"
      },
      "execution_count": 150,
      "outputs": [
        {
          "output_type": "execute_result",
          "data": {
            "text/plain": [
              "0        56\n",
              "1        61\n",
              "2        72\n",
              "3        60\n",
              "4        63\n",
              "       ... \n",
              "211      59\n",
              "212      51\n",
              "213    <NA>\n",
              "214    <NA>\n",
              "215    <NA>\n",
              "Name: Employment to population ratio, 15+, total (%) (modeled ILO estimate), Length: 216, dtype: Int64"
            ],
            "text/html": [
              "<div>\n",
              "<style scoped>\n",
              "    .dataframe tbody tr th:only-of-type {\n",
              "        vertical-align: middle;\n",
              "    }\n",
              "\n",
              "    .dataframe tbody tr th {\n",
              "        vertical-align: top;\n",
              "    }\n",
              "\n",
              "    .dataframe thead th {\n",
              "        text-align: right;\n",
              "    }\n",
              "</style>\n",
              "<table border=\"1\" class=\"dataframe\">\n",
              "  <thead>\n",
              "    <tr style=\"text-align: right;\">\n",
              "      <th></th>\n",
              "      <th>Employment to population ratio, 15+, total (%) (modeled ILO estimate)</th>\n",
              "    </tr>\n",
              "  </thead>\n",
              "  <tbody>\n",
              "    <tr>\n",
              "      <th>0</th>\n",
              "      <td>56</td>\n",
              "    </tr>\n",
              "    <tr>\n",
              "      <th>1</th>\n",
              "      <td>61</td>\n",
              "    </tr>\n",
              "    <tr>\n",
              "      <th>2</th>\n",
              "      <td>72</td>\n",
              "    </tr>\n",
              "    <tr>\n",
              "      <th>3</th>\n",
              "      <td>60</td>\n",
              "    </tr>\n",
              "    <tr>\n",
              "      <th>4</th>\n",
              "      <td>63</td>\n",
              "    </tr>\n",
              "    <tr>\n",
              "      <th>...</th>\n",
              "      <td>...</td>\n",
              "    </tr>\n",
              "    <tr>\n",
              "      <th>211</th>\n",
              "      <td>59</td>\n",
              "    </tr>\n",
              "    <tr>\n",
              "      <th>212</th>\n",
              "      <td>51</td>\n",
              "    </tr>\n",
              "    <tr>\n",
              "      <th>213</th>\n",
              "      <td>&lt;NA&gt;</td>\n",
              "    </tr>\n",
              "    <tr>\n",
              "      <th>214</th>\n",
              "      <td>&lt;NA&gt;</td>\n",
              "    </tr>\n",
              "    <tr>\n",
              "      <th>215</th>\n",
              "      <td>&lt;NA&gt;</td>\n",
              "    </tr>\n",
              "  </tbody>\n",
              "</table>\n",
              "<p>216 rows × 1 columns</p>\n",
              "</div><br><label><b>dtype:</b> Int64</label>"
            ]
          },
          "metadata": {},
          "execution_count": 150
        }
      ]
    },
    {
      "cell_type": "code",
      "source": [
        "df['High-technology exports (% of manufactured exports)'] = df['High-technology exports (% of manufactured exports)'].round().astype('Int64')\n",
        "df['High-technology exports (% of manufactured exports)']"
      ],
      "metadata": {
        "colab": {
          "base_uri": "https://localhost:8080/",
          "height": 458
        },
        "id": "bWA-7soiFOPV",
        "outputId": "7809a15b-63d2-4072-ea7c-2cab79d30f61"
      },
      "execution_count": 151,
      "outputs": [
        {
          "output_type": "execute_result",
          "data": {
            "text/plain": [
              "0        10\n",
              "1        17\n",
              "2        43\n",
              "3        18\n",
              "4        35\n",
              "       ... \n",
              "211    <NA>\n",
              "212       3\n",
              "213       2\n",
              "214    <NA>\n",
              "215    <NA>\n",
              "Name: High-technology exports (% of manufactured exports), Length: 216, dtype: Int64"
            ],
            "text/html": [
              "<div>\n",
              "<style scoped>\n",
              "    .dataframe tbody tr th:only-of-type {\n",
              "        vertical-align: middle;\n",
              "    }\n",
              "\n",
              "    .dataframe tbody tr th {\n",
              "        vertical-align: top;\n",
              "    }\n",
              "\n",
              "    .dataframe thead th {\n",
              "        text-align: right;\n",
              "    }\n",
              "</style>\n",
              "<table border=\"1\" class=\"dataframe\">\n",
              "  <thead>\n",
              "    <tr style=\"text-align: right;\">\n",
              "      <th></th>\n",
              "      <th>High-technology exports (% of manufactured exports)</th>\n",
              "    </tr>\n",
              "  </thead>\n",
              "  <tbody>\n",
              "    <tr>\n",
              "      <th>0</th>\n",
              "      <td>10</td>\n",
              "    </tr>\n",
              "    <tr>\n",
              "      <th>1</th>\n",
              "      <td>17</td>\n",
              "    </tr>\n",
              "    <tr>\n",
              "      <th>2</th>\n",
              "      <td>43</td>\n",
              "    </tr>\n",
              "    <tr>\n",
              "      <th>3</th>\n",
              "      <td>18</td>\n",
              "    </tr>\n",
              "    <tr>\n",
              "      <th>4</th>\n",
              "      <td>35</td>\n",
              "    </tr>\n",
              "    <tr>\n",
              "      <th>...</th>\n",
              "      <td>...</td>\n",
              "    </tr>\n",
              "    <tr>\n",
              "      <th>211</th>\n",
              "      <td>&lt;NA&gt;</td>\n",
              "    </tr>\n",
              "    <tr>\n",
              "      <th>212</th>\n",
              "      <td>3</td>\n",
              "    </tr>\n",
              "    <tr>\n",
              "      <th>213</th>\n",
              "      <td>2</td>\n",
              "    </tr>\n",
              "    <tr>\n",
              "      <th>214</th>\n",
              "      <td>&lt;NA&gt;</td>\n",
              "    </tr>\n",
              "    <tr>\n",
              "      <th>215</th>\n",
              "      <td>&lt;NA&gt;</td>\n",
              "    </tr>\n",
              "  </tbody>\n",
              "</table>\n",
              "<p>216 rows × 1 columns</p>\n",
              "</div><br><label><b>dtype:</b> Int64</label>"
            ]
          },
          "metadata": {},
          "execution_count": 151
        }
      ]
    },
    {
      "cell_type": "code",
      "source": [
        "df['Individuals using the Internet (% of population)'] = df['Individuals using the Internet (% of population)'].round().astype('Int64')\n",
        "df['Individuals using the Internet (% of population)']"
      ],
      "metadata": {
        "colab": {
          "base_uri": "https://localhost:8080/",
          "height": 458
        },
        "id": "F3Mjlnb4GA4r",
        "outputId": "86e48f69-032c-4abb-b27b-fed8fd91ac5c"
      },
      "execution_count": 152,
      "outputs": [
        {
          "output_type": "execute_result",
          "data": {
            "text/plain": [
              "0        94\n",
              "1        99\n",
              "2       100\n",
              "3        96\n",
              "4        92\n",
              "       ... \n",
              "211      81\n",
              "212      58\n",
              "213      54\n",
              "214    <NA>\n",
              "215    <NA>\n",
              "Name: Individuals using the Internet (% of population), Length: 216, dtype: Int64"
            ],
            "text/html": [
              "<div>\n",
              "<style scoped>\n",
              "    .dataframe tbody tr th:only-of-type {\n",
              "        vertical-align: middle;\n",
              "    }\n",
              "\n",
              "    .dataframe tbody tr th {\n",
              "        vertical-align: top;\n",
              "    }\n",
              "\n",
              "    .dataframe thead th {\n",
              "        text-align: right;\n",
              "    }\n",
              "</style>\n",
              "<table border=\"1\" class=\"dataframe\">\n",
              "  <thead>\n",
              "    <tr style=\"text-align: right;\">\n",
              "      <th></th>\n",
              "      <th>Individuals using the Internet (% of population)</th>\n",
              "    </tr>\n",
              "  </thead>\n",
              "  <tbody>\n",
              "    <tr>\n",
              "      <th>0</th>\n",
              "      <td>94</td>\n",
              "    </tr>\n",
              "    <tr>\n",
              "      <th>1</th>\n",
              "      <td>99</td>\n",
              "    </tr>\n",
              "    <tr>\n",
              "      <th>2</th>\n",
              "      <td>100</td>\n",
              "    </tr>\n",
              "    <tr>\n",
              "      <th>3</th>\n",
              "      <td>96</td>\n",
              "    </tr>\n",
              "    <tr>\n",
              "      <th>4</th>\n",
              "      <td>92</td>\n",
              "    </tr>\n",
              "    <tr>\n",
              "      <th>...</th>\n",
              "      <td>...</td>\n",
              "    </tr>\n",
              "    <tr>\n",
              "      <th>211</th>\n",
              "      <td>81</td>\n",
              "    </tr>\n",
              "    <tr>\n",
              "      <th>212</th>\n",
              "      <td>58</td>\n",
              "    </tr>\n",
              "    <tr>\n",
              "      <th>213</th>\n",
              "      <td>54</td>\n",
              "    </tr>\n",
              "    <tr>\n",
              "      <th>214</th>\n",
              "      <td>&lt;NA&gt;</td>\n",
              "    </tr>\n",
              "    <tr>\n",
              "      <th>215</th>\n",
              "      <td>&lt;NA&gt;</td>\n",
              "    </tr>\n",
              "  </tbody>\n",
              "</table>\n",
              "<p>216 rows × 1 columns</p>\n",
              "</div><br><label><b>dtype:</b> Int64</label>"
            ]
          },
          "metadata": {},
          "execution_count": 152
        }
      ]
    },
    {
      "cell_type": "code",
      "source": [
        "df['Mobile cellular subscriptions (per 100 people)'] = df['Mobile cellular subscriptions (per 100 people)'].round().astype('Int64')\n",
        "df['Mobile cellular subscriptions (per 100 people)']"
      ],
      "metadata": {
        "colab": {
          "base_uri": "https://localhost:8080/",
          "height": 458
        },
        "id": "XFggcfcEGcb_",
        "outputId": "53a6492c-e49a-4035-b886-d452caa92549"
      },
      "execution_count": 153,
      "outputs": [
        {
          "output_type": "execute_result",
          "data": {
            "text/plain": [
              "0       129\n",
              "1       127\n",
              "2       123\n",
              "3       125\n",
              "4       152\n",
              "       ... \n",
              "211      60\n",
              "212      61\n",
              "213      49\n",
              "214    <NA>\n",
              "215       4\n",
              "Name: Mobile cellular subscriptions (per 100 people), Length: 216, dtype: Int64"
            ],
            "text/html": [
              "<div>\n",
              "<style scoped>\n",
              "    .dataframe tbody tr th:only-of-type {\n",
              "        vertical-align: middle;\n",
              "    }\n",
              "\n",
              "    .dataframe tbody tr th {\n",
              "        vertical-align: top;\n",
              "    }\n",
              "\n",
              "    .dataframe thead th {\n",
              "        text-align: right;\n",
              "    }\n",
              "</style>\n",
              "<table border=\"1\" class=\"dataframe\">\n",
              "  <thead>\n",
              "    <tr style=\"text-align: right;\">\n",
              "      <th></th>\n",
              "      <th>Mobile cellular subscriptions (per 100 people)</th>\n",
              "    </tr>\n",
              "  </thead>\n",
              "  <tbody>\n",
              "    <tr>\n",
              "      <th>0</th>\n",
              "      <td>129</td>\n",
              "    </tr>\n",
              "    <tr>\n",
              "      <th>1</th>\n",
              "      <td>127</td>\n",
              "    </tr>\n",
              "    <tr>\n",
              "      <th>2</th>\n",
              "      <td>123</td>\n",
              "    </tr>\n",
              "    <tr>\n",
              "      <th>3</th>\n",
              "      <td>125</td>\n",
              "    </tr>\n",
              "    <tr>\n",
              "      <th>4</th>\n",
              "      <td>152</td>\n",
              "    </tr>\n",
              "    <tr>\n",
              "      <th>...</th>\n",
              "      <td>...</td>\n",
              "    </tr>\n",
              "    <tr>\n",
              "      <th>211</th>\n",
              "      <td>60</td>\n",
              "    </tr>\n",
              "    <tr>\n",
              "      <th>212</th>\n",
              "      <td>61</td>\n",
              "    </tr>\n",
              "    <tr>\n",
              "      <th>213</th>\n",
              "      <td>49</td>\n",
              "    </tr>\n",
              "    <tr>\n",
              "      <th>214</th>\n",
              "      <td>&lt;NA&gt;</td>\n",
              "    </tr>\n",
              "    <tr>\n",
              "      <th>215</th>\n",
              "      <td>4</td>\n",
              "    </tr>\n",
              "  </tbody>\n",
              "</table>\n",
              "<p>216 rows × 1 columns</p>\n",
              "</div><br><label><b>dtype:</b> Int64</label>"
            ]
          },
          "metadata": {},
          "execution_count": 153
        }
      ]
    },
    {
      "cell_type": "code",
      "source": [
        "df['Electric power consumption (kWh per capita)'] = df['Electric power consumption (kWh per capita)'].round().astype('Int64')\n",
        "df['Electric power consumption (kWh per capita)']"
      ],
      "metadata": {
        "colab": {
          "base_uri": "https://localhost:8080/",
          "height": 458
        },
        "id": "nEsFCH6pG84t",
        "outputId": "7e94b851-b88f-4f97-ec32-5df890d273f5"
      },
      "execution_count": 154,
      "outputs": [
        {
          "output_type": "execute_result",
          "data": {
            "text/plain": [
              "0      15250\n",
              "1       5859\n",
              "2      53832\n",
              "3      13480\n",
              "4       6601\n",
              "       ...  \n",
              "211     <NA>\n",
              "212     <NA>\n",
              "213     <NA>\n",
              "214     <NA>\n",
              "215     <NA>\n",
              "Name: Electric power consumption (kWh per capita), Length: 216, dtype: Int64"
            ],
            "text/html": [
              "<div>\n",
              "<style scoped>\n",
              "    .dataframe tbody tr th:only-of-type {\n",
              "        vertical-align: middle;\n",
              "    }\n",
              "\n",
              "    .dataframe tbody tr th {\n",
              "        vertical-align: top;\n",
              "    }\n",
              "\n",
              "    .dataframe thead th {\n",
              "        text-align: right;\n",
              "    }\n",
              "</style>\n",
              "<table border=\"1\" class=\"dataframe\">\n",
              "  <thead>\n",
              "    <tr style=\"text-align: right;\">\n",
              "      <th></th>\n",
              "      <th>Electric power consumption (kWh per capita)</th>\n",
              "    </tr>\n",
              "  </thead>\n",
              "  <tbody>\n",
              "    <tr>\n",
              "      <th>0</th>\n",
              "      <td>15250</td>\n",
              "    </tr>\n",
              "    <tr>\n",
              "      <th>1</th>\n",
              "      <td>5859</td>\n",
              "    </tr>\n",
              "    <tr>\n",
              "      <th>2</th>\n",
              "      <td>53832</td>\n",
              "    </tr>\n",
              "    <tr>\n",
              "      <th>3</th>\n",
              "      <td>13480</td>\n",
              "    </tr>\n",
              "    <tr>\n",
              "      <th>4</th>\n",
              "      <td>6601</td>\n",
              "    </tr>\n",
              "    <tr>\n",
              "      <th>...</th>\n",
              "      <td>...</td>\n",
              "    </tr>\n",
              "    <tr>\n",
              "      <th>211</th>\n",
              "      <td>&lt;NA&gt;</td>\n",
              "    </tr>\n",
              "    <tr>\n",
              "      <th>212</th>\n",
              "      <td>&lt;NA&gt;</td>\n",
              "    </tr>\n",
              "    <tr>\n",
              "      <th>213</th>\n",
              "      <td>&lt;NA&gt;</td>\n",
              "    </tr>\n",
              "    <tr>\n",
              "      <th>214</th>\n",
              "      <td>&lt;NA&gt;</td>\n",
              "    </tr>\n",
              "    <tr>\n",
              "      <th>215</th>\n",
              "      <td>&lt;NA&gt;</td>\n",
              "    </tr>\n",
              "  </tbody>\n",
              "</table>\n",
              "<p>216 rows × 1 columns</p>\n",
              "</div><br><label><b>dtype:</b> Int64</label>"
            ]
          },
          "metadata": {},
          "execution_count": 154
        }
      ]
    },
    {
      "cell_type": "code",
      "source": [
        "df['Access to clean fuels and technologies for cooking (% of population)'] = df['Access to clean fuels and technologies for cooking (% of population)'].round().astype('Int64')\n",
        "df['Access to clean fuels and technologies for cooking (% of population)']"
      ],
      "metadata": {
        "colab": {
          "base_uri": "https://localhost:8080/",
          "height": 458
        },
        "id": "-IAN_CGZHRdw",
        "outputId": "6c386e96-dcdc-4796-f412-b6380afce132"
      },
      "execution_count": 155,
      "outputs": [
        {
          "output_type": "execute_result",
          "data": {
            "text/plain": [
              "0       100\n",
              "1       100\n",
              "2       100\n",
              "3       100\n",
              "4       100\n",
              "       ... \n",
              "211    <NA>\n",
              "212      90\n",
              "213      15\n",
              "214    <NA>\n",
              "215    <NA>\n",
              "Name: Access to clean fuels and technologies for cooking (% of population), Length: 216, dtype: Int64"
            ],
            "text/html": [
              "<div>\n",
              "<style scoped>\n",
              "    .dataframe tbody tr th:only-of-type {\n",
              "        vertical-align: middle;\n",
              "    }\n",
              "\n",
              "    .dataframe tbody tr th {\n",
              "        vertical-align: top;\n",
              "    }\n",
              "\n",
              "    .dataframe thead th {\n",
              "        text-align: right;\n",
              "    }\n",
              "</style>\n",
              "<table border=\"1\" class=\"dataframe\">\n",
              "  <thead>\n",
              "    <tr style=\"text-align: right;\">\n",
              "      <th></th>\n",
              "      <th>Access to clean fuels and technologies for cooking (% of population)</th>\n",
              "    </tr>\n",
              "  </thead>\n",
              "  <tbody>\n",
              "    <tr>\n",
              "      <th>0</th>\n",
              "      <td>100</td>\n",
              "    </tr>\n",
              "    <tr>\n",
              "      <th>1</th>\n",
              "      <td>100</td>\n",
              "    </tr>\n",
              "    <tr>\n",
              "      <th>2</th>\n",
              "      <td>100</td>\n",
              "    </tr>\n",
              "    <tr>\n",
              "      <th>3</th>\n",
              "      <td>100</td>\n",
              "    </tr>\n",
              "    <tr>\n",
              "      <th>4</th>\n",
              "      <td>100</td>\n",
              "    </tr>\n",
              "    <tr>\n",
              "      <th>...</th>\n",
              "      <td>...</td>\n",
              "    </tr>\n",
              "    <tr>\n",
              "      <th>211</th>\n",
              "      <td>&lt;NA&gt;</td>\n",
              "    </tr>\n",
              "    <tr>\n",
              "      <th>212</th>\n",
              "      <td>90</td>\n",
              "    </tr>\n",
              "    <tr>\n",
              "      <th>213</th>\n",
              "      <td>15</td>\n",
              "    </tr>\n",
              "    <tr>\n",
              "      <th>214</th>\n",
              "      <td>&lt;NA&gt;</td>\n",
              "    </tr>\n",
              "    <tr>\n",
              "      <th>215</th>\n",
              "      <td>&lt;NA&gt;</td>\n",
              "    </tr>\n",
              "  </tbody>\n",
              "</table>\n",
              "<p>216 rows × 1 columns</p>\n",
              "</div><br><label><b>dtype:</b> Int64</label>"
            ]
          },
          "metadata": {},
          "execution_count": 155
        }
      ]
    },
    {
      "cell_type": "code",
      "source": [
        "df['People using at least basic drinking water services (% of population)'] = df['People using at least basic drinking water services (% of population)'].round().astype('Int64')\n",
        "df['People using at least basic drinking water services (% of population)']"
      ],
      "metadata": {
        "colab": {
          "base_uri": "https://localhost:8080/",
          "height": 458
        },
        "id": "gsRya1-HID2r",
        "outputId": "1722ad10-0c27-4bfa-cf9a-6d947d1fcee7"
      },
      "execution_count": 156,
      "outputs": [
        {
          "output_type": "execute_result",
          "data": {
            "text/plain": [
              "0      100\n",
              "1      100\n",
              "2      100\n",
              "3      100\n",
              "4      100\n",
              "      ... \n",
              "211    100\n",
              "212     99\n",
              "213     76\n",
              "214    100\n",
              "215     99\n",
              "Name: People using at least basic drinking water services (% of population), Length: 216, dtype: Int64"
            ],
            "text/html": [
              "<div>\n",
              "<style scoped>\n",
              "    .dataframe tbody tr th:only-of-type {\n",
              "        vertical-align: middle;\n",
              "    }\n",
              "\n",
              "    .dataframe tbody tr th {\n",
              "        vertical-align: top;\n",
              "    }\n",
              "\n",
              "    .dataframe thead th {\n",
              "        text-align: right;\n",
              "    }\n",
              "</style>\n",
              "<table border=\"1\" class=\"dataframe\">\n",
              "  <thead>\n",
              "    <tr style=\"text-align: right;\">\n",
              "      <th></th>\n",
              "      <th>People using at least basic drinking water services (% of population)</th>\n",
              "    </tr>\n",
              "  </thead>\n",
              "  <tbody>\n",
              "    <tr>\n",
              "      <th>0</th>\n",
              "      <td>100</td>\n",
              "    </tr>\n",
              "    <tr>\n",
              "      <th>1</th>\n",
              "      <td>100</td>\n",
              "    </tr>\n",
              "    <tr>\n",
              "      <th>2</th>\n",
              "      <td>100</td>\n",
              "    </tr>\n",
              "    <tr>\n",
              "      <th>3</th>\n",
              "      <td>100</td>\n",
              "    </tr>\n",
              "    <tr>\n",
              "      <th>4</th>\n",
              "      <td>100</td>\n",
              "    </tr>\n",
              "    <tr>\n",
              "      <th>...</th>\n",
              "      <td>...</td>\n",
              "    </tr>\n",
              "    <tr>\n",
              "      <th>211</th>\n",
              "      <td>100</td>\n",
              "    </tr>\n",
              "    <tr>\n",
              "      <th>212</th>\n",
              "      <td>99</td>\n",
              "    </tr>\n",
              "    <tr>\n",
              "      <th>213</th>\n",
              "      <td>76</td>\n",
              "    </tr>\n",
              "    <tr>\n",
              "      <th>214</th>\n",
              "      <td>100</td>\n",
              "    </tr>\n",
              "    <tr>\n",
              "      <th>215</th>\n",
              "      <td>99</td>\n",
              "    </tr>\n",
              "  </tbody>\n",
              "</table>\n",
              "<p>216 rows × 1 columns</p>\n",
              "</div><br><label><b>dtype:</b> Int64</label>"
            ]
          },
          "metadata": {},
          "execution_count": 156
        }
      ]
    },
    {
      "cell_type": "code",
      "source": [
        "df['Proportion of seats held by women in national parliaments (%)'] = df['Proportion of seats held by women in national parliaments (%)'].round().astype('Int64')\n",
        "df['Proportion of seats held by women in national parliaments (%)']"
      ],
      "metadata": {
        "colab": {
          "base_uri": "https://localhost:8080/",
          "height": 458
        },
        "id": "k2eoM2_iIXLV",
        "outputId": "59c0c5bf-637d-409f-fd86-88561ffb8511"
      },
      "execution_count": 157,
      "outputs": [
        {
          "output_type": "execute_result",
          "data": {
            "text/plain": [
              "0        46\n",
              "1        44\n",
              "2        48\n",
              "3        46\n",
              "4        24\n",
              "       ... \n",
              "211    <NA>\n",
              "212       7\n",
              "213       7\n",
              "214    <NA>\n",
              "215    <NA>\n",
              "Name: Proportion of seats held by women in national parliaments (%), Length: 216, dtype: Int64"
            ],
            "text/html": [
              "<div>\n",
              "<style scoped>\n",
              "    .dataframe tbody tr th:only-of-type {\n",
              "        vertical-align: middle;\n",
              "    }\n",
              "\n",
              "    .dataframe tbody tr th {\n",
              "        vertical-align: top;\n",
              "    }\n",
              "\n",
              "    .dataframe thead th {\n",
              "        text-align: right;\n",
              "    }\n",
              "</style>\n",
              "<table border=\"1\" class=\"dataframe\">\n",
              "  <thead>\n",
              "    <tr style=\"text-align: right;\">\n",
              "      <th></th>\n",
              "      <th>Proportion of seats held by women in national parliaments (%)</th>\n",
              "    </tr>\n",
              "  </thead>\n",
              "  <tbody>\n",
              "    <tr>\n",
              "      <th>0</th>\n",
              "      <td>46</td>\n",
              "    </tr>\n",
              "    <tr>\n",
              "      <th>1</th>\n",
              "      <td>44</td>\n",
              "    </tr>\n",
              "    <tr>\n",
              "      <th>2</th>\n",
              "      <td>48</td>\n",
              "    </tr>\n",
              "    <tr>\n",
              "      <th>3</th>\n",
              "      <td>46</td>\n",
              "    </tr>\n",
              "    <tr>\n",
              "      <th>4</th>\n",
              "      <td>24</td>\n",
              "    </tr>\n",
              "    <tr>\n",
              "      <th>...</th>\n",
              "      <td>...</td>\n",
              "    </tr>\n",
              "    <tr>\n",
              "      <th>211</th>\n",
              "      <td>&lt;NA&gt;</td>\n",
              "    </tr>\n",
              "    <tr>\n",
              "      <th>212</th>\n",
              "      <td>7</td>\n",
              "    </tr>\n",
              "    <tr>\n",
              "      <th>213</th>\n",
              "      <td>7</td>\n",
              "    </tr>\n",
              "    <tr>\n",
              "      <th>214</th>\n",
              "      <td>&lt;NA&gt;</td>\n",
              "    </tr>\n",
              "    <tr>\n",
              "      <th>215</th>\n",
              "      <td>&lt;NA&gt;</td>\n",
              "    </tr>\n",
              "  </tbody>\n",
              "</table>\n",
              "<p>216 rows × 1 columns</p>\n",
              "</div><br><label><b>dtype:</b> Int64</label>"
            ]
          },
          "metadata": {},
          "execution_count": 157
        }
      ]
    },
    {
      "cell_type": "code",
      "source": [
        "df['Maternal mortality ratio (modeled estimate, per 100,000 live births)'] = df['Maternal mortality ratio (modeled estimate, per 100,000 live births)'].round().astype('Int64')\n",
        "df['Maternal mortality ratio (modeled estimate, per 100,000 live births)']"
      ],
      "metadata": {
        "colab": {
          "base_uri": "https://localhost:8080/",
          "height": 458
        },
        "id": "vBNIyixdIuqt",
        "outputId": "d38444fd-c03b-4782-9e90-6ca7c9e102ef"
      },
      "execution_count": 118,
      "outputs": [
        {
          "output_type": "execute_result",
          "data": {
            "text/plain": [
              "0         8\n",
              "1         5\n",
              "2         3\n",
              "3         5\n",
              "4         3\n",
              "       ... \n",
              "211    <NA>\n",
              "212     126\n",
              "213      76\n",
              "214    <NA>\n",
              "215    <NA>\n",
              "Name: Maternal mortality ratio (modeled estimate, per 100,000 live births), Length: 216, dtype: Int64"
            ],
            "text/html": [
              "<div>\n",
              "<style scoped>\n",
              "    .dataframe tbody tr th:only-of-type {\n",
              "        vertical-align: middle;\n",
              "    }\n",
              "\n",
              "    .dataframe tbody tr th {\n",
              "        vertical-align: top;\n",
              "    }\n",
              "\n",
              "    .dataframe thead th {\n",
              "        text-align: right;\n",
              "    }\n",
              "</style>\n",
              "<table border=\"1\" class=\"dataframe\">\n",
              "  <thead>\n",
              "    <tr style=\"text-align: right;\">\n",
              "      <th></th>\n",
              "      <th>Maternal mortality ratio (modeled estimate, per 100,000 live births)</th>\n",
              "    </tr>\n",
              "  </thead>\n",
              "  <tbody>\n",
              "    <tr>\n",
              "      <th>0</th>\n",
              "      <td>8</td>\n",
              "    </tr>\n",
              "    <tr>\n",
              "      <th>1</th>\n",
              "      <td>5</td>\n",
              "    </tr>\n",
              "    <tr>\n",
              "      <th>2</th>\n",
              "      <td>3</td>\n",
              "    </tr>\n",
              "    <tr>\n",
              "      <th>3</th>\n",
              "      <td>5</td>\n",
              "    </tr>\n",
              "    <tr>\n",
              "      <th>4</th>\n",
              "      <td>3</td>\n",
              "    </tr>\n",
              "    <tr>\n",
              "      <th>...</th>\n",
              "      <td>...</td>\n",
              "    </tr>\n",
              "    <tr>\n",
              "      <th>211</th>\n",
              "      <td>&lt;NA&gt;</td>\n",
              "    </tr>\n",
              "    <tr>\n",
              "      <th>212</th>\n",
              "      <td>126</td>\n",
              "    </tr>\n",
              "    <tr>\n",
              "      <th>213</th>\n",
              "      <td>76</td>\n",
              "    </tr>\n",
              "    <tr>\n",
              "      <th>214</th>\n",
              "      <td>&lt;NA&gt;</td>\n",
              "    </tr>\n",
              "    <tr>\n",
              "      <th>215</th>\n",
              "      <td>&lt;NA&gt;</td>\n",
              "    </tr>\n",
              "  </tbody>\n",
              "</table>\n",
              "<p>216 rows × 1 columns</p>\n",
              "</div><br><label><b>dtype:</b> Int64</label>"
            ]
          },
          "metadata": {},
          "execution_count": 118
        }
      ]
    },
    {
      "cell_type": "code",
      "source": [
        "df['Primary completion rate, total (% of relevant age group)'] = df['Primary completion rate, total (% of relevant age group)'].round().astype('Int64')\n",
        "df['Primary completion rate, total (% of relevant age group)']"
      ],
      "metadata": {
        "colab": {
          "base_uri": "https://localhost:8080/",
          "height": 458
        },
        "id": "Va0qSNwrJDVK",
        "outputId": "9ef9c8ad-56bd-42e5-f9d5-6580428bafeb"
      },
      "execution_count": 158,
      "outputs": [
        {
          "output_type": "execute_result",
          "data": {
            "text/plain": [
              "0        98\n",
              "1       100\n",
              "2        99\n",
              "3       100\n",
              "4        95\n",
              "       ... \n",
              "211    <NA>\n",
              "212      95\n",
              "213     103\n",
              "214    <NA>\n",
              "215    <NA>\n",
              "Name: Primary completion rate, total (% of relevant age group), Length: 216, dtype: Int64"
            ],
            "text/html": [
              "<div>\n",
              "<style scoped>\n",
              "    .dataframe tbody tr th:only-of-type {\n",
              "        vertical-align: middle;\n",
              "    }\n",
              "\n",
              "    .dataframe tbody tr th {\n",
              "        vertical-align: top;\n",
              "    }\n",
              "\n",
              "    .dataframe thead th {\n",
              "        text-align: right;\n",
              "    }\n",
              "</style>\n",
              "<table border=\"1\" class=\"dataframe\">\n",
              "  <thead>\n",
              "    <tr style=\"text-align: right;\">\n",
              "      <th></th>\n",
              "      <th>Primary completion rate, total (% of relevant age group)</th>\n",
              "    </tr>\n",
              "  </thead>\n",
              "  <tbody>\n",
              "    <tr>\n",
              "      <th>0</th>\n",
              "      <td>98</td>\n",
              "    </tr>\n",
              "    <tr>\n",
              "      <th>1</th>\n",
              "      <td>100</td>\n",
              "    </tr>\n",
              "    <tr>\n",
              "      <th>2</th>\n",
              "      <td>99</td>\n",
              "    </tr>\n",
              "    <tr>\n",
              "      <th>3</th>\n",
              "      <td>100</td>\n",
              "    </tr>\n",
              "    <tr>\n",
              "      <th>4</th>\n",
              "      <td>95</td>\n",
              "    </tr>\n",
              "    <tr>\n",
              "      <th>...</th>\n",
              "      <td>...</td>\n",
              "    </tr>\n",
              "    <tr>\n",
              "      <th>211</th>\n",
              "      <td>&lt;NA&gt;</td>\n",
              "    </tr>\n",
              "    <tr>\n",
              "      <th>212</th>\n",
              "      <td>95</td>\n",
              "    </tr>\n",
              "    <tr>\n",
              "      <th>213</th>\n",
              "      <td>103</td>\n",
              "    </tr>\n",
              "    <tr>\n",
              "      <th>214</th>\n",
              "      <td>&lt;NA&gt;</td>\n",
              "    </tr>\n",
              "    <tr>\n",
              "      <th>215</th>\n",
              "      <td>&lt;NA&gt;</td>\n",
              "    </tr>\n",
              "  </tbody>\n",
              "</table>\n",
              "<p>216 rows × 1 columns</p>\n",
              "</div><br><label><b>dtype:</b> Int64</label>"
            ]
          },
          "metadata": {},
          "execution_count": 158
        }
      ]
    },
    {
      "cell_type": "code",
      "source": [
        "df['Mortality caused by road traffic injury (per 100,000 population)'] = df['Mortality caused by road traffic injury (per 100,000 population)'].round().astype('Int64')\n",
        "df['Mortality caused by road traffic injury (per 100,000 population)']"
      ],
      "metadata": {
        "colab": {
          "base_uri": "https://localhost:8080/",
          "height": 458
        },
        "id": "wYT2l42sNWf1",
        "outputId": "2c4be0d8-10a2-4cb2-cdbc-e4214aabbfcb"
      },
      "execution_count": 159,
      "outputs": [
        {
          "output_type": "execute_result",
          "data": {
            "text/plain": [
              "0         4\n",
              "1         4\n",
              "2         2\n",
              "3         3\n",
              "4         4\n",
              "       ... \n",
              "211    <NA>\n",
              "212      33\n",
              "213       2\n",
              "214    <NA>\n",
              "215    <NA>\n",
              "Name: Mortality caused by road traffic injury (per 100,000 population), Length: 216, dtype: Int64"
            ],
            "text/html": [
              "<div>\n",
              "<style scoped>\n",
              "    .dataframe tbody tr th:only-of-type {\n",
              "        vertical-align: middle;\n",
              "    }\n",
              "\n",
              "    .dataframe tbody tr th {\n",
              "        vertical-align: top;\n",
              "    }\n",
              "\n",
              "    .dataframe thead th {\n",
              "        text-align: right;\n",
              "    }\n",
              "</style>\n",
              "<table border=\"1\" class=\"dataframe\">\n",
              "  <thead>\n",
              "    <tr style=\"text-align: right;\">\n",
              "      <th></th>\n",
              "      <th>Mortality caused by road traffic injury (per 100,000 population)</th>\n",
              "    </tr>\n",
              "  </thead>\n",
              "  <tbody>\n",
              "    <tr>\n",
              "      <th>0</th>\n",
              "      <td>4</td>\n",
              "    </tr>\n",
              "    <tr>\n",
              "      <th>1</th>\n",
              "      <td>4</td>\n",
              "    </tr>\n",
              "    <tr>\n",
              "      <th>2</th>\n",
              "      <td>2</td>\n",
              "    </tr>\n",
              "    <tr>\n",
              "      <th>3</th>\n",
              "      <td>3</td>\n",
              "    </tr>\n",
              "    <tr>\n",
              "      <th>4</th>\n",
              "      <td>4</td>\n",
              "    </tr>\n",
              "    <tr>\n",
              "      <th>...</th>\n",
              "      <td>...</td>\n",
              "    </tr>\n",
              "    <tr>\n",
              "      <th>211</th>\n",
              "      <td>&lt;NA&gt;</td>\n",
              "    </tr>\n",
              "    <tr>\n",
              "      <th>212</th>\n",
              "      <td>33</td>\n",
              "    </tr>\n",
              "    <tr>\n",
              "      <th>213</th>\n",
              "      <td>2</td>\n",
              "    </tr>\n",
              "    <tr>\n",
              "      <th>214</th>\n",
              "      <td>&lt;NA&gt;</td>\n",
              "    </tr>\n",
              "    <tr>\n",
              "      <th>215</th>\n",
              "      <td>&lt;NA&gt;</td>\n",
              "    </tr>\n",
              "  </tbody>\n",
              "</table>\n",
              "<p>216 rows × 1 columns</p>\n",
              "</div><br><label><b>dtype:</b> Int64</label>"
            ]
          },
          "metadata": {},
          "execution_count": 159
        }
      ]
    },
    {
      "cell_type": "markdown",
      "source": [
        "# **Рассчитывание нового столбца используя имеющиеся данные**"
      ],
      "metadata": {
        "id": "nqKo-r7OwZAj"
      }
    },
    {
      "cell_type": "markdown",
      "source": [
        "Мы выбрали столбец \"количество населения\" (\"Population\") и \"территория\" (\"Area\") и составили на его основе глобальный столбец \"заселенность территорий\" (\"Population of territories\"), где разместили количественное значение\n",
        "\n"
      ],
      "metadata": {
        "id": "R2toQs9DwfVh"
      }
    },
    {
      "cell_type": "code",
      "source": [
        "import numpy as np\n",
        "df[\"Population of territories\"] = df[\"Population\"] / df[\"Area\"].replace(0, np.nan)\n"
      ],
      "metadata": {
        "id": "2kRNJR_7EYvS"
      },
      "execution_count": 160,
      "outputs": []
    },
    {
      "cell_type": "code",
      "source": [
        "print(df[[\"Population of territories\", \"Population\", \"Area\"]])\n"
      ],
      "metadata": {
        "colab": {
          "base_uri": "https://localhost:8080/"
        },
        "id": "_Yb1JgZIFU-1",
        "outputId": "f1580b39-ccc9-400c-fdfd-2560a639b657"
      },
      "execution_count": 161,
      "outputs": [
        {
          "output_type": "stream",
          "name": "stdout",
          "text": [
            "     Population of territories  Population    Area\n",
            "0                    16.342573     5530719  338424\n",
            "1                   135.318235     5831404   43094\n",
            "2                     3.557524      366425  103000\n",
            "3                    22.992576    10353442  450295\n",
            "4                   443.760231     9216900   20770\n",
            "..                         ...         ...     ...\n",
            "211                 307.437158      168783     549\n",
            "212                 141.495315      105697     747\n",
            "213                 147.282367      119446     811\n",
            "214                 729.415094       38659      53\n",
            "215                 277.371859       55197     199\n",
            "\n",
            "[216 rows x 3 columns]\n"
          ]
        }
      ]
    },
    {
      "cell_type": "markdown",
      "source": [
        "# **Перекодирование метрической переменной в категориальную**"
      ],
      "metadata": {
        "id": "iEZUqeo7xmp5"
      }
    },
    {
      "cell_type": "markdown",
      "source": [
        "Тут мы перекодировали переменную 'Intentional homicides (per 100,000 people)', те количество суицидальных слуваев на 100к человек.\n",
        "Как известно данный параметр сильно связан также с уровенем жизни и экономики в стране, так что было бы уместно ранжировать его для будущей работы."
      ],
      "metadata": {
        "id": "H5cSEBQKxsXs"
      }
    },
    {
      "cell_type": "code",
      "source": [
        "df['Intentional homicides (per 100,000 people)'] = df['Intentional homicides (per 100,000 people)'].apply(\n",
        "    lambda x: 'high' if x > 6 else ('middle' if 3 <= x <= 5 else ('low' if 0 <= x <= 2 else 'undefined'))\n",
        ")\n",
        "\n",
        "print(df[['Intentional homicides (per 100,000 people)']])"
      ],
      "metadata": {
        "colab": {
          "base_uri": "https://localhost:8080/"
        },
        "id": "VPYJWY06LSy1",
        "outputId": "fcea10cb-020f-41b5-95ba-1a30fb934011"
      },
      "execution_count": 162,
      "outputs": [
        {
          "output_type": "stream",
          "name": "stdout",
          "text": [
            "    Intentional homicides (per 100,000 people)\n",
            "0                                          low\n",
            "1                                          low\n",
            "2                                          low\n",
            "3                                          low\n",
            "4                                          low\n",
            "..                                         ...\n",
            "211                                     middle\n",
            "212                                        low\n",
            "213                                       high\n",
            "214                                       high\n",
            "215                                        low\n",
            "\n",
            "[216 rows x 1 columns]\n"
          ]
        }
      ]
    },
    {
      "cell_type": "markdown",
      "source": [
        "# **Цель и задачи исследования**"
      ],
      "metadata": {
        "id": "8fPmeJoB424k"
      }
    },
    {
      "cell_type": "markdown",
      "source": [
        "# **Гипотезы**"
      ],
      "metadata": {
        "id": "G-YiwCJm4-jj"
      }
    },
    {
      "cell_type": "markdown",
      "source": [
        "Н1 - Существует взаимосвязь между процентом самоубийств в стране и индексом счастья в ней\n",
        "\n",
        "Н2 - Существует взаимосвязь между индексом счастья и продолжительностью жизни в стране\n",
        "\n",
        "H3 - Существует взаимосвязь между степенью демократичности политического режима и индексом счастья\n",
        "\n",
        "Н4 - Существует взаимосвязь между вкладом сельского хозяйства в ВВП и доступом к питьевой воде\n",
        "\n",
        "Н5 - Существует взаимосвязь между социальным взносом и индексом счастья\n",
        "\n",
        "Н6 - Существует взаимосвязь между паритетом в парламенте и индексом счастья\n",
        "\n",
        "Н7 - Существует взаимосвязь между языком и регионом\n",
        "\n",
        "Н8 - Существует взаимосвязь между основной валютой и языком\n",
        "\n",
        "Н9 - Существует взаимосвязь между регионом и лево или право сторонним движением\n",
        "\n",
        "H10 - Существует взаимосвязь между политическим режимом и регионом"
      ],
      "metadata": {
        "id": "8VRD74Dm5IX3"
      }
    },
    {
      "cell_type": "markdown",
      "source": [
        "# **Построение графиков по имеющимся данным**"
      ],
      "metadata": {
        "id": "_PRem-lBu-RT"
      }
    },
    {
      "cell_type": "markdown",
      "source": [
        "Рассмотрим первую гипотезу\n",
        "\n",
        "### **Н1 - Существует взаимосвязь между процентом самоубийств в стране и индексом счастья в ней**"
      ],
      "metadata": {
        "id": "1Mx00yoCJ26d"
      }
    },
    {
      "cell_type": "code",
      "source": [
        "import seaborn as sns\n",
        "import matplotlib.pyplot as plt"
      ],
      "metadata": {
        "id": "3tyG82miRQSb"
      },
      "execution_count": 163,
      "outputs": []
    },
    {
      "cell_type": "code",
      "source": [
        "sns.scatterplot(data = df,\n",
        "                x = 'Intentional homicides (per 100,000 people)',\n",
        "                y =  'Happiness Score')\n",
        "plt.show()"
      ],
      "metadata": {
        "colab": {
          "base_uri": "https://localhost:8080/",
          "height": 453
        },
        "id": "g_QB5HX3RBsH",
        "outputId": "fe692b95-e93a-416f-a836-d63bc87eeb37"
      },
      "execution_count": 164,
      "outputs": [
        {
          "output_type": "display_data",
          "data": {
            "text/plain": [
              "<Figure size 640x480 with 1 Axes>"
            ],
            "image/png": "[encoded data removed]"
          },
          "metadata": {}
        }
      ]
    },
    {
      "cell_type": "markdown",
      "source": [
        "По данному графику мы можем заметить, что действительно существует взаимосвязь между индексом счастья и количеством самоубийств: там где индекс максимально высокий (от 7 до 8), количество самоубийств низкое.\n",
        "Однако если говорить про средние значения индекса счастья, прямой связи не прослеживается."
      ],
      "metadata": {
        "id": "IFE7lzrSRYuB"
      }
    },
    {
      "cell_type": "markdown",
      "source": [
        "Рассмотрим следующую гипотезу\n",
        "\n",
        "### **Н2 - Существует взаимосвязь между индексом счастья и продолжительностью жизни в стране**"
      ],
      "metadata": {
        "id": "wgWlqpgqaQet"
      }
    },
    {
      "cell_type": "code",
      "source": [
        "sns.scatterplot(data = df,\n",
        "                x = 'Life expectancy at birth, total (years)',\n",
        "                y =  'Happiness Score')\n",
        "plt.show()"
      ],
      "metadata": {
        "colab": {
          "base_uri": "https://localhost:8080/",
          "height": 453
        },
        "id": "sez2tvYQaYTp",
        "outputId": "7103d7fb-7fe5-4ff7-eca4-ea37617a918a"
      },
      "execution_count": 165,
      "outputs": [
        {
          "output_type": "display_data",
          "data": {
            "text/plain": [
              "<Figure size 640x480 with 1 Axes>"
            ],
            "image/png": "[encoded data removed]"
          },
          "metadata": {}
        }
      ]
    },
    {
      "cell_type": "markdown",
      "source": [
        "Гипотеза подтвердилась. В странах с высокой продолжительностью индекс счастья очень высокий (минимум 6), в то время как низкая продолжительность жизни наблюдается как раз в странах с низким индексом счастья."
      ],
      "metadata": {
        "id": "s5J_3vB3aoJ1"
      }
    },
    {
      "cell_type": "markdown",
      "source": [
        "### **H3 - Существует взаимосвязь между степенью демократичности политического режима и индексом счастья**"
      ],
      "metadata": {
        "id": "W2JpprFebE8S"
      }
    },
    {
      "cell_type": "code",
      "source": [
        "sns.scatterplot(data = df,\n",
        "                x = 'Political Regime',\n",
        "                y =  'Happiness Score')\n",
        "plt.show()"
      ],
      "metadata": {
        "colab": {
          "base_uri": "https://localhost:8080/",
          "height": 453
        },
        "id": "HIlaVyJ7bJuA",
        "outputId": "5e7f7407-f4bf-49d6-c882-9e4df97e5ffd"
      },
      "execution_count": 166,
      "outputs": [
        {
          "output_type": "display_data",
          "data": {
            "text/plain": [
              "<Figure size 640x480 with 1 Axes>"
            ],
            "image/png": "[encoded data removed]"
          },
          "metadata": {}
        }
      ]
    },
    {
      "cell_type": "markdown",
      "source": [
        "'Closed Autocracies': 0,\n",
        "\n",
        "'Electoral Autocracies': 1,\n",
        "\n",
        "'Liberal Democracies': 2,\n",
        "\n",
        "'Electoral Democracies': 3\n"
      ],
      "metadata": {
        "id": "CKQblJ3sN3mb"
      }
    },
    {
      "cell_type": "markdown",
      "source": [
        "Тут мы также видим подтверждение гипотезы, так как в демократических странах, а особенно в странах либеральной демократии очень высокий индекс счастья, а в недемократических странах индекс счастья значительно ниже"
      ],
      "metadata": {
        "id": "15gNQ6rPb6Zq"
      }
    },
    {
      "cell_type": "markdown",
      "source": [
        "### **Н4 - Существует взаимосвязь между вкладом сельского хозяйства в ВВП и доступом к питьевой воде**"
      ],
      "metadata": {
        "id": "gWiLD05lm_S0"
      }
    },
    {
      "cell_type": "code",
      "source": [
        "sns.scatterplot(data = df,\n",
        "                x = 'GDP per person employed (constant 2021 PPP $)',\n",
        "                y =  'People using at least basic drinking water services (% of population)')\n",
        "plt.show()"
      ],
      "metadata": {
        "colab": {
          "base_uri": "https://localhost:8080/",
          "height": 449
        },
        "id": "SN4sLIMfnED_",
        "outputId": "925a2281-6b37-4e7b-e432-d87c49ead27f"
      },
      "execution_count": 167,
      "outputs": [
        {
          "output_type": "display_data",
          "data": {
            "text/plain": [
              "<Figure size 640x480 with 1 Axes>"
            ],
            "image/png": "[encoded data removed]"
          },
          "metadata": {}
        }
      ]
    },
    {
      "cell_type": "markdown",
      "source": [
        "Тут мы также наблюдаем, что при низком ВВП на душу (от 0 до 50000) единственные случаи, где у людей нет доступа к сервисам питьевой воды. Получается, гипотеза подтверждается."
      ],
      "metadata": {
        "id": "2dUk-zkMrzi7"
      }
    },
    {
      "cell_type": "markdown",
      "source": [
        "### **Н5 - Существует взаимосвязь между социальным взносом и индексом счастья**"
      ],
      "metadata": {
        "id": "4NzOw88xsM3A"
      }
    },
    {
      "cell_type": "code",
      "source": [
        "sns.scatterplot(data = df,\n",
        "                x = 'Social contributions (% of revenue)',\n",
        "                y =  'Happiness Score')\n",
        "plt.show()"
      ],
      "metadata": {
        "colab": {
          "base_uri": "https://localhost:8080/",
          "height": 453
        },
        "id": "y6h5urocsPWi",
        "outputId": "e8097493-5831-46a1-81bd-7b99345c7c17"
      },
      "execution_count": 168,
      "outputs": [
        {
          "output_type": "display_data",
          "data": {
            "text/plain": [
              "<Figure size 640x480 with 1 Axes>"
            ],
            "image/png": "[encoded data removed]"
          },
          "metadata": {}
        }
      ]
    },
    {
      "cell_type": "markdown",
      "source": [
        "При социальном взносе от 25% индекс счастья от 5 до 8, что является высоким показателем, так что можно считать что гипотеза подтвердилась"
      ],
      "metadata": {
        "id": "bFl2jQpgtGgi"
      }
    },
    {
      "cell_type": "markdown",
      "source": [
        "### **Н6 - Существует взаимосвязь между паритетом в парламенте и индексом счастья**"
      ],
      "metadata": {
        "id": "smhTHmnstaO-"
      }
    },
    {
      "cell_type": "code",
      "source": [
        "df['Parlament_Parity'] = 1 - abs(df['Proportion of seats held by women in national parliaments (%)']-50)/50\n",
        "sns.scatterplot(data = df,\n",
        "                x = 'Parlament_Parity',\n",
        "                y =  'Happiness Score')\n",
        "plt.show()"
      ],
      "metadata": {
        "colab": {
          "base_uri": "https://localhost:8080/",
          "height": 453
        },
        "id": "VwuR_KcxtdAc",
        "outputId": "cff09468-1b91-4336-9195-c96ffdee82cf"
      },
      "execution_count": 169,
      "outputs": [
        {
          "output_type": "display_data",
          "data": {
            "text/plain": [
              "<Figure size 640x480 with 1 Axes>"
            ],
            "image/png": "[encoded data removed]"
          },
          "metadata": {}
        }
      ]
    },
    {
      "cell_type": "markdown",
      "source": [
        "Гипотеза подтвеждается, так как при количественном равенстве полов в парламенте индекс счастья значительно выше"
      ],
      "metadata": {
        "id": "ibaURo5SvQIP"
      }
    },
    {
      "cell_type": "markdown",
      "source": [
        "# **Построение сводных таблиц, подсчет корреляции, тест ХИ-квадрат**"
      ],
      "metadata": {
        "id": "SOlHvjF8ve06"
      }
    },
    {
      "cell_type": "markdown",
      "source": [
        "### **Н2 - Существует взаимосвязь между индексом счастья и продолжительностью жизни в стране**"
      ],
      "metadata": {
        "id": "Xl37jpMFvvkz"
      }
    },
    {
      "cell_type": "markdown",
      "source": [
        "Посмотрим на корреляцию"
      ],
      "metadata": {
        "id": "ykGS9XwYx-93"
      }
    },
    {
      "cell_type": "code",
      "source": [
        "from scipy import stats\n",
        "import pandas as pd\n",
        "\n",
        "df_clean = df.dropna(subset=['Life expectancy at birth, total (years)', 'Happiness Score'])\n",
        "\n",
        "corr_result = stats.pearsonr(df_clean['Life expectancy at birth, total (years)'], df_clean['Happiness Score'])\n",
        "print(f\"Pearson's r: {corr_result[0]}, p-value: {corr_result[1]}\")\n",
        "df['Life_expectancy_bins'] = pd.cut(df['Life expectancy at birth, total (years)'], bins=5)\n",
        "pivot = pd.pivot_table(\n",
        "    df,\n",
        "    index='Life_expectancy_bins',\n",
        "    values='Happiness Score',\n",
        "    aggfunc=['mean', 'count']\n",
        ")\n",
        "\n",
        "\n",
        "pivot['mean'].plot(kind='bar', title='Средний уровень счастья по интервалам продолжительности жизни')\n",
        "plt.show()\n",
        "\n",
        "\n",
        "print(f\"Корреляция: {df['Life expectancy at birth, total (years)'].corr(df['Happiness Score']):.2f}\")"
      ],
      "metadata": {
        "colab": {
          "base_uri": "https://localhost:8080/",
          "height": 684
        },
        "id": "dosoBDgfyGoh",
        "outputId": "d53fcd46-77b1-4465-a248-a26fa0b8a281"
      },
      "execution_count": 170,
      "outputs": [
        {
          "output_type": "stream",
          "name": "stdout",
          "text": [
            "Pearson's r: 0.7545607953821686, p-value: 2.1676417822510636e-27\n"
          ]
        },
        {
          "output_type": "stream",
          "name": "stderr",
          "text": [
            "<ipython-input-170-123078985811>:9: FutureWarning: The default value of observed=False is deprecated and will change to observed=True in a future version of pandas. Specify observed=False to silence this warning and retain the current behavior\n",
            "  pivot = pd.pivot_table(\n",
            "<ipython-input-170-123078985811>:9: FutureWarning: The default value of observed=False is deprecated and will change to observed=True in a future version of pandas. Specify observed=False to silence this warning and retain the current behavior\n",
            "  pivot = pd.pivot_table(\n"
          ]
        },
        {
          "output_type": "display_data",
          "data": {
            "text/plain": [
              "<Figure size 640x480 with 1 Axes>"
            ],
            "image/png": "[encoded data removed]"
          },
          "metadata": {}
        },
        {
          "output_type": "stream",
          "name": "stdout",
          "text": [
            "Корреляция: 0.75\n"
          ]
        }
      ]
    },
    {
      "cell_type": "markdown",
      "source": [
        "Поскольку p-value < 0.05, гипотеза Н2 подтвердилась"
      ],
      "metadata": {
        "id": "QaMFoaMU4Qbr"
      }
    },
    {
      "cell_type": "markdown",
      "source": [
        "Коэффициент корреляции положительный, следовательно, между переменными наблюдается прямая взаимосвязь"
      ],
      "metadata": {
        "id": "1heZ-NoJ9nz4"
      }
    },
    {
      "cell_type": "markdown",
      "source": [
        "Коэффициент корреляции равен 0.75, следовательно, между переменными наблюдается сильная корреляция."
      ],
      "metadata": {
        "id": "U14P9kEp98FP"
      }
    },
    {
      "cell_type": "markdown",
      "source": [
        "### **H3 - Существует взаимосвязь между степенью демократичности политического режима и индексом счастья**"
      ],
      "metadata": {
        "id": "L9A4ApYWLrCT"
      }
    },
    {
      "cell_type": "code",
      "source": [
        "from scipy import stats\n",
        "import pandas as pd\n",
        "import matplotlib.pyplot as plt\n",
        "\n",
        "df_clean = df.dropna(subset=['Political Regime', 'Happiness Score'])\n",
        "\n",
        "corr_result = stats.kendalltau(df_clean['Political Regime'], df_clean['Happiness Score'])\n",
        "print(f\"Kendall's tau: {corr_result[0]}, p-value: {corr_result[1]}\")\n",
        "\n",
        "df.dropna(subset=['Political Regime', 'Happiness Score'], inplace=True)\n",
        "pivot_regime = pd.pivot_table(\n",
        "    data=df,\n",
        "    index='Political Regime',\n",
        "    values='Happiness Score',\n",
        "    aggfunc=['mean', 'std', 'count']\n",
        ")\n",
        "\n",
        "plt.figure(figsize=(10, 5))\n",
        "pivot_regime['mean'].plot(kind='bar', capsize=5)\n",
        "plt.title('Средний уровень счастья по политическим режимам')\n",
        "plt.ylabel('Happiness Score')\n",
        "plt.xticks(rotation=45)\n",
        "plt.grid(axis='y')\n",
        "plt.show()"
      ],
      "metadata": {
        "colab": {
          "base_uri": "https://localhost:8080/",
          "height": 519
        },
        "id": "XLciBFGfLxIU",
        "outputId": "86617030-3cb6-406b-9f0d-ad57601eca11"
      },
      "execution_count": 171,
      "outputs": [
        {
          "output_type": "stream",
          "name": "stdout",
          "text": [
            "Kendall's tau: 0.1834316006815272, p-value: 0.004264320671027037\n"
          ]
        },
        {
          "output_type": "display_data",
          "data": {
            "text/plain": [
              "<Figure size 1000x500 with 0 Axes>"
            ]
          },
          "metadata": {}
        },
        {
          "output_type": "display_data",
          "data": {
            "text/plain": [
              "<Figure size 640x480 with 1 Axes>"
            ],
            "image/png": "[encoded data removed]"
          },
          "metadata": {}
        }
      ]
    },
    {
      "cell_type": "markdown",
      "source": [
        "Поскольку p-value < 0.05, гипотеза Н3 подтвердилась"
      ],
      "metadata": {
        "id": "RtQLW2V7Lth0"
      }
    },
    {
      "cell_type": "markdown",
      "source": [
        "Коэффициент корреляции положительный, следовательно, между переменными наблюдается прямая взаимосвязь"
      ],
      "metadata": {
        "id": "vAFVQLsAODj0"
      }
    },
    {
      "cell_type": "markdown",
      "source": [
        "Коэффициент корреляции равен 0.18, следовательно, между переменными наблюдается слабая корреляция."
      ],
      "metadata": {
        "id": "JZhnVAi5OGvt"
      }
    },
    {
      "cell_type": "markdown",
      "source": [
        "### **Н4 - Существует взаимосвязь между вкладом сельского хозяйства в ВВП и доступом к питьевой воде**"
      ],
      "metadata": {
        "id": "0EN-gk4DOgyq"
      }
    },
    {
      "cell_type": "code",
      "source": [
        "from scipy import stats\n",
        "import pandas as pd\n",
        "\n",
        "df_clean = df.dropna(subset=['GDP per person employed (constant 2021 PPP $)', 'People using at least basic drinking water services (% of population)'])\n",
        "\n",
        "corr_result = stats.pearsonr(df_clean['GDP per person employed (constant 2021 PPP $)'], df_clean['People using at least basic drinking water services (% of population)'])\n",
        "print(f\"Pearson's r: {corr_result[0]}, p-value: {corr_result[1]}\")\n",
        "df.dropna(subset=['GDP per person employed (constant 2021 PPP $)',\n",
        "                 'People using at least basic drinking water services (% of population)'], inplace=True)\n",
        "\n",
        "\n",
        "df['GDP_bins'] = pd.cut(df['GDP per person employed (constant 2021 PPP $)'], bins=5)\n",
        "\n",
        "\n",
        "pivot_gdp_water = pd.pivot_table(\n",
        "    data=df,\n",
        "    index='GDP_bins',\n",
        "    values='People using at least basic drinking water services (% of population)',\n",
        "    aggfunc=['mean', 'count']\n",
        ")\n",
        "\n",
        "\n",
        "plt.figure(figsize=(12, 6))\n",
        "plt.scatter(\n",
        "    df['GDP per person employed (constant 2021 PPP $)'],\n",
        "    df['People using at least basic drinking water services (% of population)'],\n",
        "    alpha=0.5\n",
        ")\n",
        "plt.xlabel('GDP per person employed')\n",
        "plt.ylabel('Access to basic drinking water (%)')\n",
        "plt.title('Зависимость доступа к воде от ВВП на работника')\n",
        "plt.grid(True)\n",
        "plt.show()\n",
        "\n",
        "\n",
        "corr_gdp_water = df['GDP per person employed (constant 2021 PPP $)'].corr(\n",
        "    df['People using at least basic drinking water services (% of population)']\n",
        ")\n",
        "print(f\"Корреляция GDP и доступа к воде: {corr_gdp_water:.2f}\")"
      ],
      "metadata": {
        "colab": {
          "base_uri": "https://localhost:8080/",
          "height": 583
        },
        "id": "osLg3Cs0Ojw4",
        "outputId": "a7b29ac4-146d-42c0-f50f-41a0ed2325b9"
      },
      "execution_count": 172,
      "outputs": [
        {
          "output_type": "stream",
          "name": "stdout",
          "text": [
            "Pearson's r: 0.5870690081856749, p-value: 9.574555186875223e-13\n"
          ]
        },
        {
          "output_type": "stream",
          "name": "stderr",
          "text": [
            "<ipython-input-172-85e77b851288>:15: FutureWarning: The default value of observed=False is deprecated and will change to observed=True in a future version of pandas. Specify observed=False to silence this warning and retain the current behavior\n",
            "  pivot_gdp_water = pd.pivot_table(\n",
            "<ipython-input-172-85e77b851288>:15: FutureWarning: The default value of observed=False is deprecated and will change to observed=True in a future version of pandas. Specify observed=False to silence this warning and retain the current behavior\n",
            "  pivot_gdp_water = pd.pivot_table(\n"
          ]
        },
        {
          "output_type": "display_data",
          "data": {
            "text/plain": [
              "<Figure size 1200x600 with 1 Axes>"
            ],
            "image/png": "[encoded data removed]"
          },
          "metadata": {}
        },
        {
          "output_type": "stream",
          "name": "stdout",
          "text": [
            "Корреляция GDP и доступа к воде: 0.59\n"
          ]
        }
      ]
    },
    {
      "cell_type": "markdown",
      "source": [
        "Поскольку p-value < 0.05, гипотеза Н4 подтвердилась"
      ],
      "metadata": {
        "id": "IlMJ0yWSaqHy"
      }
    },
    {
      "cell_type": "markdown",
      "source": [
        "Коэффициент корреляции положительный, следовательно, между переменными наблюдается прямая взаимосвязь"
      ],
      "metadata": {
        "id": "3O4MbNY3as92"
      }
    },
    {
      "cell_type": "markdown",
      "source": [
        "Коэффициент корреляции равен 0.59, следовательно, между переменными наблюдается средняя корреляция."
      ],
      "metadata": {
        "id": "_cjg3dPHauqC"
      }
    },
    {
      "cell_type": "markdown",
      "source": [
        "### **Н5 - Существует взаимосвязь между социальным взносом и индексом счастья**"
      ],
      "metadata": {
        "id": "tasTtBrma1uq"
      }
    },
    {
      "cell_type": "code",
      "source": [
        "from scipy import stats\n",
        "import pandas as pd\n",
        "\n",
        "df_clean = df.dropna(subset=['Social contributions (% of revenue)', 'Happiness Score'])\n",
        "\n",
        "corr_result = stats.pearsonr(df_clean['Social contributions (% of revenue)'], df_clean['Happiness Score'])\n",
        "print(f\"Pearson's r: {corr_result[0]}, p-value: {corr_result[1]}\")\n",
        "\n",
        "df.dropna(subset=['Social contributions (% of revenue)', 'Happiness Score'], inplace=True)\n",
        "\n",
        "\n",
        "df['Social_contrib_bins'] = pd.cut(df['Social contributions (% of revenue)'], bins=5)\n",
        "\n",
        "pivot_social_happiness = pd.pivot_table(\n",
        "    data=df,\n",
        "    index='Social_contrib_bins',\n",
        "    values='Happiness Score',\n",
        "    aggfunc=['mean', 'count']\n",
        ")\n",
        "\n",
        "plt.figure(figsize=(10, 5))\n",
        "plt.plot(df['Social contributions (% of revenue)'], df['Happiness Score'], 'o', alpha=0.6)\n",
        "plt.xlabel('Социальные взносы (% от дохода)')\n",
        "plt.ylabel('Happiness Score')\n",
        "plt.title('Взаимосвязь социальных взносов и уровня счастья')\n",
        "plt.grid(True)\n",
        "plt.show()\n",
        "\n",
        "corr_social_happiness = df['Social contributions (% of revenue)'].corr(df['Happiness Score'])\n",
        "print(f\"Корреляция: {corr_social_happiness:.2f}\")"
      ],
      "metadata": {
        "colab": {
          "base_uri": "https://localhost:8080/",
          "height": 599
        },
        "id": "omRPzjnua5IR",
        "outputId": "c5d773a8-52f5-407a-dea7-a67907915317"
      },
      "execution_count": 173,
      "outputs": [
        {
          "output_type": "stream",
          "name": "stdout",
          "text": [
            "Pearson's r: 0.5489739514413625, p-value: 3.680810366118171e-08\n"
          ]
        },
        {
          "output_type": "stream",
          "name": "stderr",
          "text": [
            "<ipython-input-173-1275be492ad8>:14: FutureWarning: The default value of observed=False is deprecated and will change to observed=True in a future version of pandas. Specify observed=False to silence this warning and retain the current behavior\n",
            "  pivot_social_happiness = pd.pivot_table(\n",
            "<ipython-input-173-1275be492ad8>:14: FutureWarning: The default value of observed=False is deprecated and will change to observed=True in a future version of pandas. Specify observed=False to silence this warning and retain the current behavior\n",
            "  pivot_social_happiness = pd.pivot_table(\n"
          ]
        },
        {
          "output_type": "display_data",
          "data": {
            "text/plain": [
              "<Figure size 1000x500 with 1 Axes>"
            ],
            "image/png": "[encoded data removed]"
          },
          "metadata": {}
        },
        {
          "output_type": "stream",
          "name": "stdout",
          "text": [
            "Корреляция: 0.55\n"
          ]
        }
      ]
    },
    {
      "cell_type": "markdown",
      "source": [
        "Поскольку p-value < 0.05, гипотеза Н5 подтвердилась"
      ],
      "metadata": {
        "id": "Bv3fvnYRbHJG"
      }
    },
    {
      "cell_type": "markdown",
      "source": [
        "Коэффициент корреляции положительный, следовательно, между переменными наблюдается прямая взаимосвязь"
      ],
      "metadata": {
        "id": "p3AhSSNlbJHb"
      }
    },
    {
      "cell_type": "markdown",
      "source": [
        "Коэффициент корреляции равен 0.55, следовательно, между переменными наблюдается средняя корреляция."
      ],
      "metadata": {
        "id": "gqqHMw0XbKg_"
      }
    },
    {
      "cell_type": "markdown",
      "source": [
        "### **Н6 - Существует взаимосвязь между паритетом в парламенте и индексом счастья**"
      ],
      "metadata": {
        "id": "oIS_NOR_bRCb"
      }
    },
    {
      "cell_type": "code",
      "source": [
        "from scipy import stats\n",
        "import pandas as pd\n",
        "\n",
        "\n",
        "\n",
        "df_clean = df.dropna(subset=['Parlament_Parity', 'Happiness Score'])\n",
        "\n",
        "corr_result = stats.pearsonr(df_clean['Parlament_Parity'], df_clean['Happiness Score'])\n",
        "print(f\"Pearson's r: {corr_result[0]}, p-value: {corr_result[1]}\")\n",
        "\n",
        "df.dropna(subset=['Parlament_Parity', 'Happiness Score'], inplace=True)\n",
        "\n",
        "df['Women_seats_bins'] = pd.cut(df['Parlament_Parity'], bins=5)\n",
        "pivot_women_happiness = pd.pivot_table(\n",
        "    data=df,\n",
        "    index='Women_seats_bins',\n",
        "    values='Happiness Score',\n",
        "    aggfunc=['mean', 'count']\n",
        ")\n",
        "\n",
        "plt.figure(figsize=(10, 5))\n",
        "sns.regplot(\n",
        "    x='Parlament_Parity',\n",
        "    y='Happiness Score',\n",
        "    data=df,\n",
        "    scatter_kws={}\n",
        ")\n",
        "plt.title('Взаимосвязь паритета в парламенте и индекса счастья')\n",
        "plt.grid(True)\n",
        "plt.show()\n",
        "\n",
        "corr_women_happiness = df['Parlament_Parity'].corr(df['Happiness Score'])\n",
        "print(f\"Корреляция: {corr_women_happiness:.2f}\")"
      ],
      "metadata": {
        "colab": {
          "base_uri": "https://localhost:8080/",
          "height": 599
        },
        "id": "trbVJBS0bfLI",
        "outputId": "db945ec8-b61f-47cf-9b45-5c7c93a53055"
      },
      "execution_count": 174,
      "outputs": [
        {
          "output_type": "stream",
          "name": "stdout",
          "text": [
            "Pearson's r: 0.49823871988905805, p-value: 9.074638547283901e-07\n"
          ]
        },
        {
          "output_type": "stream",
          "name": "stderr",
          "text": [
            "<ipython-input-174-9d07811e4392>:14: FutureWarning: The default value of observed=False is deprecated and will change to observed=True in a future version of pandas. Specify observed=False to silence this warning and retain the current behavior\n",
            "  pivot_women_happiness = pd.pivot_table(\n",
            "<ipython-input-174-9d07811e4392>:14: FutureWarning: The default value of observed=False is deprecated and will change to observed=True in a future version of pandas. Specify observed=False to silence this warning and retain the current behavior\n",
            "  pivot_women_happiness = pd.pivot_table(\n"
          ]
        },
        {
          "output_type": "display_data",
          "data": {
            "text/plain": [
              "<Figure size 1000x500 with 1 Axes>"
            ],
            "image/png": "[encoded data removed]"
          },
          "metadata": {}
        },
        {
          "output_type": "stream",
          "name": "stdout",
          "text": [
            "Корреляция: 0.50\n"
          ]
        }
      ]
    },
    {
      "cell_type": "markdown",
      "source": [
        "Поскольку p-value < 0.05, гипотеза Н6 подтвердилась"
      ],
      "metadata": {
        "id": "JPhxObTfbor-"
      }
    },
    {
      "cell_type": "markdown",
      "source": [
        "Коэффициент корреляции положительный, следовательно, между переменными наблюдается прямая взаимосвязь"
      ],
      "metadata": {
        "id": "GhMMJG_kbqP_"
      }
    },
    {
      "cell_type": "markdown",
      "source": [
        "Коэффициент корреляции равен 0.5, следовательно, между переменными наблюдается средняя корреляция."
      ],
      "metadata": {
        "id": "edZZTJxrbx8J"
      }
    },
    {
      "cell_type": "markdown",
      "source": [
        "# **Тест Хи-квадрат**"
      ],
      "metadata": {
        "id": "PHat2cu9P2QE"
      }
    },
    {
      "cell_type": "markdown",
      "source": [
        "### **Н7 - Существует взаимосвязь между языком и регионом**"
      ],
      "metadata": {
        "id": "vnOx_OdRP8hS"
      }
    },
    {
      "cell_type": "code",
      "source": [
        "np.random.seed(42)\n",
        "param1 = np.random.normal(50, 10, 1000)\n",
        "param2 = np.random.normal(60, 15, 1000)\n",
        "\n",
        "plt.figure(figsize=(10, 6))\n",
        "plt.hist(param1, bins=30, alpha=0.5, label = df['Region'], color='blue', edgecolor='black')\n",
        "plt.hist(param2, bins=30, alpha=0.5, label = df['Main Language'], color='red', edgecolor='black')\n",
        "\n",
        "plt.xlabel('Значение')\n",
        "plt.ylabel('Частота')\n",
        "plt.title('Гистограмма региона и национального языка')\n",
        "plt.legend()\n",
        "plt.grid(True)\n",
        "\n",
        "plt.show()"
      ],
      "metadata": {
        "colab": {
          "base_uri": "https://localhost:8080/",
          "height": 536
        },
        "id": "MZsPY4f0ZjWA",
        "outputId": "f9c3ff7d-aa27-4d73-8633-baa42071096c"
      },
      "execution_count": 175,
      "outputs": [
        {
          "output_type": "display_data",
          "data": {
            "text/plain": [
              "<Figure size 1000x600 with 1 Axes>"
            ],
            "image/png": "[encoded data removed]"
          },
          "metadata": {}
        }
      ]
    },
    {
      "cell_type": "code",
      "source": [
        "language_region = pd.crosstab(df['Region'], df['Main Language'])\n",
        "language_region"
      ],
      "metadata": {
        "colab": {
          "base_uri": "https://localhost:8080/",
          "height": 273
        },
        "id": "fneDF78OVDrL",
        "outputId": "dcdf07d0-08f5-424e-8e4b-61121cd5d650"
      },
      "execution_count": 176,
      "outputs": [
        {
          "output_type": "execute_result",
          "data": {
            "text/plain": [
              "Main Language  Afrikaans  Albanian  Arabic  Armenian  Aymara  Azerbaijani  \\\n",
              "Region                                                                      \n",
              "Africa                 2         0       1         0       0            0   \n",
              "Americas               0         0       0         0       2            0   \n",
              "Asia                   0         0       5         1       0            1   \n",
              "Europe                 0         1       0         0       0            0   \n",
              "\n",
              "Main Language  Bosnian  Bulgarian  Burmese  Chibarwe  ...  Romanian  Russian  \\\n",
              "Region                                                ...                      \n",
              "Africa               0          0        0         1  ...         0        0   \n",
              "Americas             0          0        0         0  ...         0        0   \n",
              "Asia                 0          0        1         0  ...         0        2   \n",
              "Europe               1          1        0         0  ...         2        1   \n",
              "\n",
              "Main Language  Serbian  Sinhala  Slovak  Slovene  Spanish  Swedish  Turkish  \\\n",
              "Region                                                                        \n",
              "Africa               0        0       0        0        0        0        0   \n",
              "Americas             0        0       0        0       10        0        0   \n",
              "Asia                 0        1       0        0        0        0        1   \n",
              "Europe               1        0       1        1        1        1        0   \n",
              "\n",
              "Main Language  Ukrainian  \n",
              "Region                    \n",
              "Africa                 0  \n",
              "Americas               0  \n",
              "Asia                   0  \n",
              "Europe                 1  \n",
              "\n",
              "[4 rows x 47 columns]"
            ],
            "text/html": [
              "\n",
              "  <div id=\"df-11e23ba5-b778-48d7-877b-bb52b553a9eb\" class=\"colab-df-container\">\n",
              "    <div>\n",
              "<style scoped>\n",
              "    .dataframe tbody tr th:only-of-type {\n",
              "        vertical-align: middle;\n",
              "    }\n",
              "\n",
              "    .dataframe tbody tr th {\n",
              "        vertical-align: top;\n",
              "    }\n",
              "\n",
              "    .dataframe thead th {\n",
              "        text-align: right;\n",
              "    }\n",
              "</style>\n",
              "<table border=\"1\" class=\"dataframe\">\n",
              "  <thead>\n",
              "    <tr style=\"text-align: right;\">\n",
              "      <th>Main Language</th>\n",
              "      <th>Afrikaans</th>\n",
              "      <th>Albanian</th>\n",
              "      <th>Arabic</th>\n",
              "      <th>Armenian</th>\n",
              "      <th>Aymara</th>\n",
              "      <th>Azerbaijani</th>\n",
              "      <th>Bosnian</th>\n",
              "      <th>Bulgarian</th>\n",
              "      <th>Burmese</th>\n",
              "      <th>Chibarwe</th>\n",
              "      <th>...</th>\n",
              "      <th>Romanian</th>\n",
              "      <th>Russian</th>\n",
              "      <th>Serbian</th>\n",
              "      <th>Sinhala</th>\n",
              "      <th>Slovak</th>\n",
              "      <th>Slovene</th>\n",
              "      <th>Spanish</th>\n",
              "      <th>Swedish</th>\n",
              "      <th>Turkish</th>\n",
              "      <th>Ukrainian</th>\n",
              "    </tr>\n",
              "    <tr>\n",
              "      <th>Region</th>\n",
              "      <th></th>\n",
              "      <th></th>\n",
              "      <th></th>\n",
              "      <th></th>\n",
              "      <th></th>\n",
              "      <th></th>\n",
              "      <th></th>\n",
              "      <th></th>\n",
              "      <th></th>\n",
              "      <th></th>\n",
              "      <th></th>\n",
              "      <th></th>\n",
              "      <th></th>\n",
              "      <th></th>\n",
              "      <th></th>\n",
              "      <th></th>\n",
              "      <th></th>\n",
              "      <th></th>\n",
              "      <th></th>\n",
              "      <th></th>\n",
              "      <th></th>\n",
              "    </tr>\n",
              "  </thead>\n",
              "  <tbody>\n",
              "    <tr>\n",
              "      <th>Africa</th>\n",
              "      <td>2</td>\n",
              "      <td>0</td>\n",
              "      <td>1</td>\n",
              "      <td>0</td>\n",
              "      <td>0</td>\n",
              "      <td>0</td>\n",
              "      <td>0</td>\n",
              "      <td>0</td>\n",
              "      <td>0</td>\n",
              "      <td>1</td>\n",
              "      <td>...</td>\n",
              "      <td>0</td>\n",
              "      <td>0</td>\n",
              "      <td>0</td>\n",
              "      <td>0</td>\n",
              "      <td>0</td>\n",
              "      <td>0</td>\n",
              "      <td>0</td>\n",
              "      <td>0</td>\n",
              "      <td>0</td>\n",
              "      <td>0</td>\n",
              "    </tr>\n",
              "    <tr>\n",
              "      <th>Americas</th>\n",
              "      <td>0</td>\n",
              "      <td>0</td>\n",
              "      <td>0</td>\n",
              "      <td>0</td>\n",
              "      <td>2</td>\n",
              "      <td>0</td>\n",
              "      <td>0</td>\n",
              "      <td>0</td>\n",
              "      <td>0</td>\n",
              "      <td>0</td>\n",
              "      <td>...</td>\n",
              "      <td>0</td>\n",
              "      <td>0</td>\n",
              "      <td>0</td>\n",
              "      <td>0</td>\n",
              "      <td>0</td>\n",
              "      <td>0</td>\n",
              "      <td>10</td>\n",
              "      <td>0</td>\n",
              "      <td>0</td>\n",
              "      <td>0</td>\n",
              "    </tr>\n",
              "    <tr>\n",
              "      <th>Asia</th>\n",
              "      <td>0</td>\n",
              "      <td>0</td>\n",
              "      <td>5</td>\n",
              "      <td>1</td>\n",
              "      <td>0</td>\n",
              "      <td>1</td>\n",
              "      <td>0</td>\n",
              "      <td>0</td>\n",
              "      <td>1</td>\n",
              "      <td>0</td>\n",
              "      <td>...</td>\n",
              "      <td>0</td>\n",
              "      <td>2</td>\n",
              "      <td>0</td>\n",
              "      <td>1</td>\n",
              "      <td>0</td>\n",
              "      <td>0</td>\n",
              "      <td>0</td>\n",
              "      <td>0</td>\n",
              "      <td>1</td>\n",
              "      <td>0</td>\n",
              "    </tr>\n",
              "    <tr>\n",
              "      <th>Europe</th>\n",
              "      <td>0</td>\n",
              "      <td>1</td>\n",
              "      <td>0</td>\n",
              "      <td>0</td>\n",
              "      <td>0</td>\n",
              "      <td>0</td>\n",
              "      <td>1</td>\n",
              "      <td>1</td>\n",
              "      <td>0</td>\n",
              "      <td>0</td>\n",
              "      <td>...</td>\n",
              "      <td>2</td>\n",
              "      <td>1</td>\n",
              "      <td>1</td>\n",
              "      <td>0</td>\n",
              "      <td>1</td>\n",
              "      <td>1</td>\n",
              "      <td>1</td>\n",
              "      <td>1</td>\n",
              "      <td>0</td>\n",
              "      <td>1</td>\n",
              "    </tr>\n",
              "  </tbody>\n",
              "</table>\n",
              "<p>4 rows × 47 columns</p>\n",
              "</div>\n",
              "    <div class=\"colab-df-buttons\">\n",
              "\n",
              "  <div class=\"colab-df-container\">\n",
              "    <button class=\"colab-df-convert\" onclick=\"convertToInteractive('df-11e23ba5-b778-48d7-877b-bb52b553a9eb')\"\n",
              "            title=\"Convert this dataframe to an interactive table.\"\n",
              "            style=\"display:none;\">\n",
              "\n",
              "  <svg xmlns=\"http://www.w3.org/2000/svg\" height=\"24px\" viewBox=\"0 -960 960 960\">\n",
              "    <path d=\"M120-120v-720h720v720H120Zm60-500h600v-160H180v160Zm220 220h160v-160H400v160Zm0 220h160v-160H400v160ZM180-400h160v-160H180v160Zm440 0h160v-160H620v160ZM180-180h160v-160H180v160Zm440 0h160v-160H620v160Z\"/>\n",
              "  </svg>\n",
              "    </button>\n",
              "\n",
              "  <style>\n",
              "    .colab-df-container {\n",
              "      display:flex;\n",
              "      gap: 12px;\n",
              "    }\n",
              "\n",
              "    .colab-df-convert {\n",
              "      background-color: #E8F0FE;\n",
              "      border: none;\n",
              "      border-radius: 50%;\n",
              "      cursor: pointer;\n",
              "      display: none;\n",
              "      fill: #1967D2;\n",
              "      height: 32px;\n",
              "      padding: 0 0 0 0;\n",
              "      width: 32px;\n",
              "    }\n",
              "\n",
              "    .colab-df-convert:hover {\n",
              "      background-color: #E2EBFA;\n",
              "      box-shadow: 0px 1px 2px rgba(60, 64, 67, 0.3), 0px 1px 3px 1px rgba(60, 64, 67, 0.15);\n",
              "      fill: #174EA6;\n",
              "    }\n",
              "\n",
              "    .colab-df-buttons div {\n",
              "      margin-bottom: 4px;\n",
              "    }\n",
              "\n",
              "    [theme=dark] .colab-df-convert {\n",
              "      background-color: #3B4455;\n",
              "      fill: #D2E3FC;\n",
              "    }\n",
              "\n",
              "    [theme=dark] .colab-df-convert:hover {\n",
              "      background-color: #434B5C;\n",
              "      box-shadow: 0px 1px 3px 1px rgba(0, 0, 0, 0.15);\n",
              "      filter: drop-shadow(0px 1px 2px rgba(0, 0, 0, 0.3));\n",
              "      fill: #FFFFFF;\n",
              "    }\n",
              "  </style>\n",
              "\n",
              "    <script>\n",
              "      const buttonEl =\n",
              "        document.querySelector('#df-11e23ba5-b778-48d7-877b-bb52b553a9eb button.colab-df-convert');\n",
              "      buttonEl.style.display =\n",
              "        google.colab.kernel.accessAllowed ? 'block' : 'none';\n",
              "\n",
              "      async function convertToInteractive(key) {\n",
              "        const element = document.querySelector('#df-11e23ba5-b778-48d7-877b-bb52b553a9eb');\n",
              "        const dataTable =\n",
              "          await google.colab.kernel.invokeFunction('convertToInteractive',\n",
              "                                                    [key], {});\n",
              "        if (!dataTable) return;\n",
              "\n",
              "        const docLinkHtml = 'Like what you see? Visit the ' +\n",
              "          '<a target=\"_blank\" href=https://colab.research.google.com/notebooks/data_table.ipynb>data table notebook</a>'\n",
              "          + ' to learn more about interactive tables.';\n",
              "        element.innerHTML = '';\n",
              "        dataTable['output_type'] = 'display_data';\n",
              "        await google.colab.output.renderOutput(dataTable, element);\n",
              "        const docLink = document.createElement('div');\n",
              "        docLink.innerHTML = docLinkHtml;\n",
              "        element.appendChild(docLink);\n",
              "      }\n",
              "    </script>\n",
              "  </div>\n",
              "\n",
              "\n",
              "<div id=\"df-e9737af8-97b0-467f-a8a4-924a06c65e6d\">\n",
              "  <button class=\"colab-df-quickchart\" onclick=\"quickchart('df-e9737af8-97b0-467f-a8a4-924a06c65e6d')\"\n",
              "            title=\"Suggest charts\"\n",
              "            style=\"display:none;\">\n",
              "\n",
              "<svg xmlns=\"http://www.w3.org/2000/svg\" height=\"24px\"viewBox=\"0 0 24 24\"\n",
              "     width=\"24px\">\n",
              "    <g>\n",
              "        <path d=\"M19 3H5c-1.1 0-2 .9-2 2v14c0 1.1.9 2 2 2h14c1.1 0 2-.9 2-2V5c0-1.1-.9-2-2-2zM9 17H7v-7h2v7zm4 0h-2V7h2v10zm4 0h-2v-4h2v4z\"/>\n",
              "    </g>\n",
              "</svg>\n",
              "  </button>\n",
              "\n",
              "<style>\n",
              "  .colab-df-quickchart {\n",
              "      --bg-color: #E8F0FE;\n",
              "      --fill-color: #1967D2;\n",
              "      --hover-bg-color: #E2EBFA;\n",
              "      --hover-fill-color: #174EA6;\n",
              "      --disabled-fill-color: #AAA;\n",
              "      --disabled-bg-color: #DDD;\n",
              "  }\n",
              "\n",
              "  [theme=dark] .colab-df-quickchart {\n",
              "      --bg-color: #3B4455;\n",
              "      --fill-color: #D2E3FC;\n",
              "      --hover-bg-color: #434B5C;\n",
              "      --hover-fill-color: #FFFFFF;\n",
              "      --disabled-bg-color: #3B4455;\n",
              "      --disabled-fill-color: #666;\n",
              "  }\n",
              "\n",
              "  .colab-df-quickchart {\n",
              "    background-color: var(--bg-color);\n",
              "    border: none;\n",
              "    border-radius: 50%;\n",
              "    cursor: pointer;\n",
              "    display: none;\n",
              "    fill: var(--fill-color);\n",
              "    height: 32px;\n",
              "    padding: 0;\n",
              "    width: 32px;\n",
              "  }\n",
              "\n",
              "  .colab-df-quickchart:hover {\n",
              "    background-color: var(--hover-bg-color);\n",
              "    box-shadow: 0 1px 2px rgba(60, 64, 67, 0.3), 0 1px 3px 1px rgba(60, 64, 67, 0.15);\n",
              "    fill: var(--button-hover-fill-color);\n",
              "  }\n",
              "\n",
              "  .colab-df-quickchart-complete:disabled,\n",
              "  .colab-df-quickchart-complete:disabled:hover {\n",
              "    background-color: var(--disabled-bg-color);\n",
              "    fill: var(--disabled-fill-color);\n",
              "    box-shadow: none;\n",
              "  }\n",
              "\n",
              "  .colab-df-spinner {\n",
              "    border: 2px solid var(--fill-color);\n",
              "    border-color: transparent;\n",
              "    border-bottom-color: var(--fill-color);\n",
              "    animation:\n",
              "      spin 1s steps(1) infinite;\n",
              "  }\n",
              "\n",
              "  @keyframes spin {\n",
              "    0% {\n",
              "      border-color: transparent;\n",
              "      border-bottom-color: var(--fill-color);\n",
              "      border-left-color: var(--fill-color);\n",
              "    }\n",
              "    20% {\n",
              "      border-color: transparent;\n",
              "      border-left-color: var(--fill-color);\n",
              "      border-top-color: var(--fill-color);\n",
              "    }\n",
              "    30% {\n",
              "      border-color: transparent;\n",
              "      border-left-color: var(--fill-color);\n",
              "      border-top-color: var(--fill-color);\n",
              "      border-right-color: var(--fill-color);\n",
              "    }\n",
              "    40% {\n",
              "      border-color: transparent;\n",
              "      border-right-color: var(--fill-color);\n",
              "      border-top-color: var(--fill-color);\n",
              "    }\n",
              "    60% {\n",
              "      border-color: transparent;\n",
              "      border-right-color: var(--fill-color);\n",
              "    }\n",
              "    80% {\n",
              "      border-color: transparent;\n",
              "      border-right-color: var(--fill-color);\n",
              "      border-bottom-color: var(--fill-color);\n",
              "    }\n",
              "    90% {\n",
              "      border-color: transparent;\n",
              "      border-bottom-color: var(--fill-color);\n",
              "    }\n",
              "  }\n",
              "</style>\n",
              "\n",
              "  <script>\n",
              "    async function quickchart(key) {\n",
              "      const quickchartButtonEl =\n",
              "        document.querySelector('#' + key + ' button');\n",
              "      quickchartButtonEl.disabled = true;  // To prevent multiple clicks.\n",
              "      quickchartButtonEl.classList.add('colab-df-spinner');\n",
              "      try {\n",
              "        const charts = await google.colab.kernel.invokeFunction(\n",
              "            'suggestCharts', [key], {});\n",
              "      } catch (error) {\n",
              "        console.error('Error during call to suggestCharts:', error);\n",
              "      }\n",
              "      quickchartButtonEl.classList.remove('colab-df-spinner');\n",
              "      quickchartButtonEl.classList.add('colab-df-quickchart-complete');\n",
              "    }\n",
              "    (() => {\n",
              "      let quickchartButtonEl =\n",
              "        document.querySelector('#df-e9737af8-97b0-467f-a8a4-924a06c65e6d button');\n",
              "      quickchartButtonEl.style.display =\n",
              "        google.colab.kernel.accessAllowed ? 'block' : 'none';\n",
              "    })();\n",
              "  </script>\n",
              "</div>\n",
              "    </div>\n",
              "  </div>\n"
            ],
            "application/vnd.google.colaboratory.intrinsic+json": {
              "type": "dataframe",
              "variable_name": "language_region"
            }
          },
          "metadata": {},
          "execution_count": 176
        }
      ]
    },
    {
      "cell_type": "code",
      "source": [
        "from scipy import stats\n",
        "stats.chi2_contingency(language_region)"
      ],
      "metadata": {
        "colab": {
          "base_uri": "https://localhost:8080/"
        },
        "id": "OyVJLY1rVv0y",
        "outputId": "a348cf95-e6ff-4ba2-a048-8e0f9aadc323"
      },
      "execution_count": 177,
      "outputs": [
        {
          "output_type": "execute_result",
          "data": {
            "text/plain": [
              "Chi2ContingencyResult(statistic=188.2475165357518, pvalue=0.0028992327675454875, dof=138, expected_freq=array([[0.29885057, 0.14942529, 0.89655172, 0.14942529, 0.29885057,\n",
              "        0.14942529, 0.14942529, 0.14942529, 0.14942529, 0.14942529,\n",
              "        0.14942529, 0.14942529, 0.14942529, 0.14942529, 0.14942529,\n",
              "        0.14942529, 1.64367816, 0.14942529, 0.14942529, 0.74712644,\n",
              "        0.14942529, 0.59770115, 0.29885057, 0.29885057, 0.14942529,\n",
              "        0.14942529, 0.14942529, 0.14942529, 0.14942529, 0.14942529,\n",
              "        0.14942529, 0.14942529, 0.14942529, 0.14942529, 0.14942529,\n",
              "        0.14942529, 0.29885057, 0.29885057, 0.44827586, 0.14942529,\n",
              "        0.14942529, 0.14942529, 0.14942529, 1.64367816, 0.14942529,\n",
              "        0.14942529, 0.14942529],\n",
              "       [0.3908046 , 0.1954023 , 1.17241379, 0.1954023 , 0.3908046 ,\n",
              "        0.1954023 , 0.1954023 , 0.1954023 , 0.1954023 , 0.1954023 ,\n",
              "        0.1954023 , 0.1954023 , 0.1954023 , 0.1954023 , 0.1954023 ,\n",
              "        0.1954023 , 2.14942529, 0.1954023 , 0.1954023 , 0.97701149,\n",
              "        0.1954023 , 0.7816092 , 0.3908046 , 0.3908046 , 0.1954023 ,\n",
              "        0.1954023 , 0.1954023 , 0.1954023 , 0.1954023 , 0.1954023 ,\n",
              "        0.1954023 , 0.1954023 , 0.1954023 , 0.1954023 , 0.1954023 ,\n",
              "        0.1954023 , 0.3908046 , 0.3908046 , 0.5862069 , 0.1954023 ,\n",
              "        0.1954023 , 0.1954023 , 0.1954023 , 2.14942529, 0.1954023 ,\n",
              "        0.1954023 , 0.1954023 ],\n",
              "       [0.48275862, 0.24137931, 1.44827586, 0.24137931, 0.48275862,\n",
              "        0.24137931, 0.24137931, 0.24137931, 0.24137931, 0.24137931,\n",
              "        0.24137931, 0.24137931, 0.24137931, 0.24137931, 0.24137931,\n",
              "        0.24137931, 2.65517241, 0.24137931, 0.24137931, 1.20689655,\n",
              "        0.24137931, 0.96551724, 0.48275862, 0.48275862, 0.24137931,\n",
              "        0.24137931, 0.24137931, 0.24137931, 0.24137931, 0.24137931,\n",
              "        0.24137931, 0.24137931, 0.24137931, 0.24137931, 0.24137931,\n",
              "        0.24137931, 0.48275862, 0.48275862, 0.72413793, 0.24137931,\n",
              "        0.24137931, 0.24137931, 0.24137931, 2.65517241, 0.24137931,\n",
              "        0.24137931, 0.24137931],\n",
              "       [0.82758621, 0.4137931 , 2.48275862, 0.4137931 , 0.82758621,\n",
              "        0.4137931 , 0.4137931 , 0.4137931 , 0.4137931 , 0.4137931 ,\n",
              "        0.4137931 , 0.4137931 , 0.4137931 , 0.4137931 , 0.4137931 ,\n",
              "        0.4137931 , 4.55172414, 0.4137931 , 0.4137931 , 2.06896552,\n",
              "        0.4137931 , 1.65517241, 0.82758621, 0.82758621, 0.4137931 ,\n",
              "        0.4137931 , 0.4137931 , 0.4137931 , 0.4137931 , 0.4137931 ,\n",
              "        0.4137931 , 0.4137931 , 0.4137931 , 0.4137931 , 0.4137931 ,\n",
              "        0.4137931 , 0.82758621, 0.82758621, 1.24137931, 0.4137931 ,\n",
              "        0.4137931 , 0.4137931 , 0.4137931 , 4.55172414, 0.4137931 ,\n",
              "        0.4137931 , 0.4137931 ]]))"
            ]
          },
          "metadata": {},
          "execution_count": 177
        }
      ]
    },
    {
      "cell_type": "code",
      "source": [
        "print('chi2 = ', stats.chi2_contingency(language_region)[0], '   p-value =', stats.chi2_contingency(language_region)[1])"
      ],
      "metadata": {
        "colab": {
          "base_uri": "https://localhost:8080/"
        },
        "id": "xloy4zJcV3MR",
        "outputId": "fbc9fc2c-9624-46ac-b5b9-91a2492e5dcd"
      },
      "execution_count": 178,
      "outputs": [
        {
          "output_type": "stream",
          "name": "stdout",
          "text": [
            "chi2 =  188.2475165357518    p-value = 0.0028992327675454875\n"
          ]
        }
      ]
    },
    {
      "cell_type": "markdown",
      "source": [
        "p-value = 1.2918445160959355e-08 < 0.05\n",
        "\n",
        "p-value = 1.2918445160959355e-08 < 0.01\n",
        "\n",
        "Гипотеза H7 принимается на уровне значимости 5%.\n",
        "\n",
        "Гипотеза H7 принимается на уровне значимости 1%."
      ],
      "metadata": {
        "id": "u3x0Daz9YUQC"
      }
    },
    {
      "cell_type": "markdown",
      "source": [
        "Гипотеза Н7 верна"
      ],
      "metadata": {
        "id": "6zP8dOtPcFUB"
      }
    },
    {
      "cell_type": "markdown",
      "source": [
        "### **Н8 - Существует взаимосвязь между основной валютой и языком**"
      ],
      "metadata": {
        "id": "rj-zVzvPaYsD"
      }
    },
    {
      "cell_type": "code",
      "source": [
        "np.random.seed(42)\n",
        "param1 = np.random.normal(50, 10, 1000)\n",
        "param2 = np.random.normal(60, 15, 1000)\n",
        "\n",
        "plt.figure(figsize=(10, 6))\n",
        "plt.hist(param1, bins=30, alpha=0.5, label = df['Region'], color='blue', edgecolor='black')\n",
        "plt.hist(param2, bins=30, alpha=0.5, label = df['Main Currency'], color='red', edgecolor='black')\n",
        "\n",
        "plt.xlabel('Значение')\n",
        "plt.ylabel('Частота')\n",
        "plt.title('Гистограмма основной валюты и регионом')\n",
        "plt.legend()\n",
        "plt.grid(True)\n",
        "\n",
        "plt.show()"
      ],
      "metadata": {
        "colab": {
          "base_uri": "https://localhost:8080/",
          "height": 536
        },
        "id": "5U_1AlOqayiK",
        "outputId": "9dd234e7-1d31-4f84-b222-d6554ec15121"
      },
      "execution_count": 179,
      "outputs": [
        {
          "output_type": "display_data",
          "data": {
            "text/plain": [
              "<Figure size 1000x600 with 1 Axes>"
            ],
            "image/png": "[encoded data removed]"
          },
          "metadata": {}
        }
      ]
    },
    {
      "cell_type": "code",
      "source": [
        "main_currency_region = pd.crosstab(df['Region'], df['Main Language'])\n",
        "main_currency_region"
      ],
      "metadata": {
        "colab": {
          "base_uri": "https://localhost:8080/",
          "height": 273
        },
        "id": "J_pTBZVibIDY",
        "outputId": "6cc4f4f8-7ca8-4f0d-c036-dd5861afcdc7"
      },
      "execution_count": 180,
      "outputs": [
        {
          "output_type": "execute_result",
          "data": {
            "text/plain": [
              "Main Language  Afrikaans  Albanian  Arabic  Armenian  Aymara  Azerbaijani  \\\n",
              "Region                                                                      \n",
              "Africa                 2         0       1         0       0            0   \n",
              "Americas               0         0       0         0       2            0   \n",
              "Asia                   0         0       5         1       0            1   \n",
              "Europe                 0         1       0         0       0            0   \n",
              "\n",
              "Main Language  Bosnian  Bulgarian  Burmese  Chibarwe  ...  Romanian  Russian  \\\n",
              "Region                                                ...                      \n",
              "Africa               0          0        0         1  ...         0        0   \n",
              "Americas             0          0        0         0  ...         0        0   \n",
              "Asia                 0          0        1         0  ...         0        2   \n",
              "Europe               1          1        0         0  ...         2        1   \n",
              "\n",
              "Main Language  Serbian  Sinhala  Slovak  Slovene  Spanish  Swedish  Turkish  \\\n",
              "Region                                                                        \n",
              "Africa               0        0       0        0        0        0        0   \n",
              "Americas             0        0       0        0       10        0        0   \n",
              "Asia                 0        1       0        0        0        0        1   \n",
              "Europe               1        0       1        1        1        1        0   \n",
              "\n",
              "Main Language  Ukrainian  \n",
              "Region                    \n",
              "Africa                 0  \n",
              "Americas               0  \n",
              "Asia                   0  \n",
              "Europe                 1  \n",
              "\n",
              "[4 rows x 47 columns]"
            ],
            "text/html": [
              "\n",
              "  <div id=\"df-d131985a-986d-4b03-8b2f-bd14b7c676ff\" class=\"colab-df-container\">\n",
              "    <div>\n",
              "<style scoped>\n",
              "    .dataframe tbody tr th:only-of-type {\n",
              "        vertical-align: middle;\n",
              "    }\n",
              "\n",
              "    .dataframe tbody tr th {\n",
              "        vertical-align: top;\n",
              "    }\n",
              "\n",
              "    .dataframe thead th {\n",
              "        text-align: right;\n",
              "    }\n",
              "</style>\n",
              "<table border=\"1\" class=\"dataframe\">\n",
              "  <thead>\n",
              "    <tr style=\"text-align: right;\">\n",
              "      <th>Main Language</th>\n",
              "      <th>Afrikaans</th>\n",
              "      <th>Albanian</th>\n",
              "      <th>Arabic</th>\n",
              "      <th>Armenian</th>\n",
              "      <th>Aymara</th>\n",
              "      <th>Azerbaijani</th>\n",
              "      <th>Bosnian</th>\n",
              "      <th>Bulgarian</th>\n",
              "      <th>Burmese</th>\n",
              "      <th>Chibarwe</th>\n",
              "      <th>...</th>\n",
              "      <th>Romanian</th>\n",
              "      <th>Russian</th>\n",
              "      <th>Serbian</th>\n",
              "      <th>Sinhala</th>\n",
              "      <th>Slovak</th>\n",
              "      <th>Slovene</th>\n",
              "      <th>Spanish</th>\n",
              "      <th>Swedish</th>\n",
              "      <th>Turkish</th>\n",
              "      <th>Ukrainian</th>\n",
              "    </tr>\n",
              "    <tr>\n",
              "      <th>Region</th>\n",
              "      <th></th>\n",
              "      <th></th>\n",
              "      <th></th>\n",
              "      <th></th>\n",
              "      <th></th>\n",
              "      <th></th>\n",
              "      <th></th>\n",
              "      <th></th>\n",
              "      <th></th>\n",
              "      <th></th>\n",
              "      <th></th>\n",
              "      <th></th>\n",
              "      <th></th>\n",
              "      <th></th>\n",
              "      <th></th>\n",
              "      <th></th>\n",
              "      <th></th>\n",
              "      <th></th>\n",
              "      <th></th>\n",
              "      <th></th>\n",
              "      <th></th>\n",
              "    </tr>\n",
              "  </thead>\n",
              "  <tbody>\n",
              "    <tr>\n",
              "      <th>Africa</th>\n",
              "      <td>2</td>\n",
              "      <td>0</td>\n",
              "      <td>1</td>\n",
              "      <td>0</td>\n",
              "      <td>0</td>\n",
              "      <td>0</td>\n",
              "      <td>0</td>\n",
              "      <td>0</td>\n",
              "      <td>0</td>\n",
              "      <td>1</td>\n",
              "      <td>...</td>\n",
              "      <td>0</td>\n",
              "      <td>0</td>\n",
              "      <td>0</td>\n",
              "      <td>0</td>\n",
              "      <td>0</td>\n",
              "      <td>0</td>\n",
              "      <td>0</td>\n",
              "      <td>0</td>\n",
              "      <td>0</td>\n",
              "      <td>0</td>\n",
              "    </tr>\n",
              "    <tr>\n",
              "      <th>Americas</th>\n",
              "      <td>0</td>\n",
              "      <td>0</td>\n",
              "      <td>0</td>\n",
              "      <td>0</td>\n",
              "      <td>2</td>\n",
              "      <td>0</td>\n",
              "      <td>0</td>\n",
              "      <td>0</td>\n",
              "      <td>0</td>\n",
              "      <td>0</td>\n",
              "      <td>...</td>\n",
              "      <td>0</td>\n",
              "      <td>0</td>\n",
              "      <td>0</td>\n",
              "      <td>0</td>\n",
              "      <td>0</td>\n",
              "      <td>0</td>\n",
              "      <td>10</td>\n",
              "      <td>0</td>\n",
              "      <td>0</td>\n",
              "      <td>0</td>\n",
              "    </tr>\n",
              "    <tr>\n",
              "      <th>Asia</th>\n",
              "      <td>0</td>\n",
              "      <td>0</td>\n",
              "      <td>5</td>\n",
              "      <td>1</td>\n",
              "      <td>0</td>\n",
              "      <td>1</td>\n",
              "      <td>0</td>\n",
              "      <td>0</td>\n",
              "      <td>1</td>\n",
              "      <td>0</td>\n",
              "      <td>...</td>\n",
              "      <td>0</td>\n",
              "      <td>2</td>\n",
              "      <td>0</td>\n",
              "      <td>1</td>\n",
              "      <td>0</td>\n",
              "      <td>0</td>\n",
              "      <td>0</td>\n",
              "      <td>0</td>\n",
              "      <td>1</td>\n",
              "      <td>0</td>\n",
              "    </tr>\n",
              "    <tr>\n",
              "      <th>Europe</th>\n",
              "      <td>0</td>\n",
              "      <td>1</td>\n",
              "      <td>0</td>\n",
              "      <td>0</td>\n",
              "      <td>0</td>\n",
              "      <td>0</td>\n",
              "      <td>1</td>\n",
              "      <td>1</td>\n",
              "      <td>0</td>\n",
              "      <td>0</td>\n",
              "      <td>...</td>\n",
              "      <td>2</td>\n",
              "      <td>1</td>\n",
              "      <td>1</td>\n",
              "      <td>0</td>\n",
              "      <td>1</td>\n",
              "      <td>1</td>\n",
              "      <td>1</td>\n",
              "      <td>1</td>\n",
              "      <td>0</td>\n",
              "      <td>1</td>\n",
              "    </tr>\n",
              "  </tbody>\n",
              "</table>\n",
              "<p>4 rows × 47 columns</p>\n",
              "</div>\n",
              "    <div class=\"colab-df-buttons\">\n",
              "\n",
              "  <div class=\"colab-df-container\">\n",
              "    <button class=\"colab-df-convert\" onclick=\"convertToInteractive('df-d131985a-986d-4b03-8b2f-bd14b7c676ff')\"\n",
              "            title=\"Convert this dataframe to an interactive table.\"\n",
              "            style=\"display:none;\">\n",
              "\n",
              "  <svg xmlns=\"http://www.w3.org/2000/svg\" height=\"24px\" viewBox=\"0 -960 960 960\">\n",
              "    <path d=\"M120-120v-720h720v720H120Zm60-500h600v-160H180v160Zm220 220h160v-160H400v160Zm0 220h160v-160H400v160ZM180-400h160v-160H180v160Zm440 0h160v-160H620v160ZM180-180h160v-160H180v160Zm440 0h160v-160H620v160Z\"/>\n",
              "  </svg>\n",
              "    </button>\n",
              "\n",
              "  <style>\n",
              "    .colab-df-container {\n",
              "      display:flex;\n",
              "      gap: 12px;\n",
              "    }\n",
              "\n",
              "    .colab-df-convert {\n",
              "      background-color: #E8F0FE;\n",
              "      border: none;\n",
              "      border-radius: 50%;\n",
              "      cursor: pointer;\n",
              "      display: none;\n",
              "      fill: #1967D2;\n",
              "      height: 32px;\n",
              "      padding: 0 0 0 0;\n",
              "      width: 32px;\n",
              "    }\n",
              "\n",
              "    .colab-df-convert:hover {\n",
              "      background-color: #E2EBFA;\n",
              "      box-shadow: 0px 1px 2px rgba(60, 64, 67, 0.3), 0px 1px 3px 1px rgba(60, 64, 67, 0.15);\n",
              "      fill: #174EA6;\n",
              "    }\n",
              "\n",
              "    .colab-df-buttons div {\n",
              "      margin-bottom: 4px;\n",
              "    }\n",
              "\n",
              "    [theme=dark] .colab-df-convert {\n",
              "      background-color: #3B4455;\n",
              "      fill: #D2E3FC;\n",
              "    }\n",
              "\n",
              "    [theme=dark] .colab-df-convert:hover {\n",
              "      background-color: #434B5C;\n",
              "      box-shadow: 0px 1px 3px 1px rgba(0, 0, 0, 0.15);\n",
              "      filter: drop-shadow(0px 1px 2px rgba(0, 0, 0, 0.3));\n",
              "      fill: #FFFFFF;\n",
              "    }\n",
              "  </style>\n",
              "\n",
              "    <script>\n",
              "      const buttonEl =\n",
              "        document.querySelector('#df-d131985a-986d-4b03-8b2f-bd14b7c676ff button.colab-df-convert');\n",
              "      buttonEl.style.display =\n",
              "        google.colab.kernel.accessAllowed ? 'block' : 'none';\n",
              "\n",
              "      async function convertToInteractive(key) {\n",
              "        const element = document.querySelector('#df-d131985a-986d-4b03-8b2f-bd14b7c676ff');\n",
              "        const dataTable =\n",
              "          await google.colab.kernel.invokeFunction('convertToInteractive',\n",
              "                                                    [key], {});\n",
              "        if (!dataTable) return;\n",
              "\n",
              "        const docLinkHtml = 'Like what you see? Visit the ' +\n",
              "          '<a target=\"_blank\" href=https://colab.research.google.com/notebooks/data_table.ipynb>data table notebook</a>'\n",
              "          + ' to learn more about interactive tables.';\n",
              "        element.innerHTML = '';\n",
              "        dataTable['output_type'] = 'display_data';\n",
              "        await google.colab.output.renderOutput(dataTable, element);\n",
              "        const docLink = document.createElement('div');\n",
              "        docLink.innerHTML = docLinkHtml;\n",
              "        element.appendChild(docLink);\n",
              "      }\n",
              "    </script>\n",
              "  </div>\n",
              "\n",
              "\n",
              "<div id=\"df-d80196f2-6ad1-49ca-ac69-5ec545ae7c43\">\n",
              "  <button class=\"colab-df-quickchart\" onclick=\"quickchart('df-d80196f2-6ad1-49ca-ac69-5ec545ae7c43')\"\n",
              "            title=\"Suggest charts\"\n",
              "            style=\"display:none;\">\n",
              "\n",
              "<svg xmlns=\"http://www.w3.org/2000/svg\" height=\"24px\"viewBox=\"0 0 24 24\"\n",
              "     width=\"24px\">\n",
              "    <g>\n",
              "        <path d=\"M19 3H5c-1.1 0-2 .9-2 2v14c0 1.1.9 2 2 2h14c1.1 0 2-.9 2-2V5c0-1.1-.9-2-2-2zM9 17H7v-7h2v7zm4 0h-2V7h2v10zm4 0h-2v-4h2v4z\"/>\n",
              "    </g>\n",
              "</svg>\n",
              "  </button>\n",
              "\n",
              "<style>\n",
              "  .colab-df-quickchart {\n",
              "      --bg-color: #E8F0FE;\n",
              "      --fill-color: #1967D2;\n",
              "      --hover-bg-color: #E2EBFA;\n",
              "      --hover-fill-color: #174EA6;\n",
              "      --disabled-fill-color: #AAA;\n",
              "      --disabled-bg-color: #DDD;\n",
              "  }\n",
              "\n",
              "  [theme=dark] .colab-df-quickchart {\n",
              "      --bg-color: #3B4455;\n",
              "      --fill-color: #D2E3FC;\n",
              "      --hover-bg-color: #434B5C;\n",
              "      --hover-fill-color: #FFFFFF;\n",
              "      --disabled-bg-color: #3B4455;\n",
              "      --disabled-fill-color: #666;\n",
              "  }\n",
              "\n",
              "  .colab-df-quickchart {\n",
              "    background-color: var(--bg-color);\n",
              "    border: none;\n",
              "    border-radius: 50%;\n",
              "    cursor: pointer;\n",
              "    display: none;\n",
              "    fill: var(--fill-color);\n",
              "    height: 32px;\n",
              "    padding: 0;\n",
              "    width: 32px;\n",
              "  }\n",
              "\n",
              "  .colab-df-quickchart:hover {\n",
              "    background-color: var(--hover-bg-color);\n",
              "    box-shadow: 0 1px 2px rgba(60, 64, 67, 0.3), 0 1px 3px 1px rgba(60, 64, 67, 0.15);\n",
              "    fill: var(--button-hover-fill-color);\n",
              "  }\n",
              "\n",
              "  .colab-df-quickchart-complete:disabled,\n",
              "  .colab-df-quickchart-complete:disabled:hover {\n",
              "    background-color: var(--disabled-bg-color);\n",
              "    fill: var(--disabled-fill-color);\n",
              "    box-shadow: none;\n",
              "  }\n",
              "\n",
              "  .colab-df-spinner {\n",
              "    border: 2px solid var(--fill-color);\n",
              "    border-color: transparent;\n",
              "    border-bottom-color: var(--fill-color);\n",
              "    animation:\n",
              "      spin 1s steps(1) infinite;\n",
              "  }\n",
              "\n",
              "  @keyframes spin {\n",
              "    0% {\n",
              "      border-color: transparent;\n",
              "      border-bottom-color: var(--fill-color);\n",
              "      border-left-color: var(--fill-color);\n",
              "    }\n",
              "    20% {\n",
              "      border-color: transparent;\n",
              "      border-left-color: var(--fill-color);\n",
              "      border-top-color: var(--fill-color);\n",
              "    }\n",
              "    30% {\n",
              "      border-color: transparent;\n",
              "      border-left-color: var(--fill-color);\n",
              "      border-top-color: var(--fill-color);\n",
              "      border-right-color: var(--fill-color);\n",
              "    }\n",
              "    40% {\n",
              "      border-color: transparent;\n",
              "      border-right-color: var(--fill-color);\n",
              "      border-top-color: var(--fill-color);\n",
              "    }\n",
              "    60% {\n",
              "      border-color: transparent;\n",
              "      border-right-color: var(--fill-color);\n",
              "    }\n",
              "    80% {\n",
              "      border-color: transparent;\n",
              "      border-right-color: var(--fill-color);\n",
              "      border-bottom-color: var(--fill-color);\n",
              "    }\n",
              "    90% {\n",
              "      border-color: transparent;\n",
              "      border-bottom-color: var(--fill-color);\n",
              "    }\n",
              "  }\n",
              "</style>\n",
              "\n",
              "  <script>\n",
              "    async function quickchart(key) {\n",
              "      const quickchartButtonEl =\n",
              "        document.querySelector('#' + key + ' button');\n",
              "      quickchartButtonEl.disabled = true;  // To prevent multiple clicks.\n",
              "      quickchartButtonEl.classList.add('colab-df-spinner');\n",
              "      try {\n",
              "        const charts = await google.colab.kernel.invokeFunction(\n",
              "            'suggestCharts', [key], {});\n",
              "      } catch (error) {\n",
              "        console.error('Error during call to suggestCharts:', error);\n",
              "      }\n",
              "      quickchartButtonEl.classList.remove('colab-df-spinner');\n",
              "      quickchartButtonEl.classList.add('colab-df-quickchart-complete');\n",
              "    }\n",
              "    (() => {\n",
              "      let quickchartButtonEl =\n",
              "        document.querySelector('#df-d80196f2-6ad1-49ca-ac69-5ec545ae7c43 button');\n",
              "      quickchartButtonEl.style.display =\n",
              "        google.colab.kernel.accessAllowed ? 'block' : 'none';\n",
              "    })();\n",
              "  </script>\n",
              "</div>\n",
              "    </div>\n",
              "  </div>\n"
            ],
            "application/vnd.google.colaboratory.intrinsic+json": {
              "type": "dataframe",
              "variable_name": "main_currency_region"
            }
          },
          "metadata": {},
          "execution_count": 180
        }
      ]
    },
    {
      "cell_type": "code",
      "source": [
        "from scipy import stats\n",
        "stats.chi2_contingency(main_currency_region)"
      ],
      "metadata": {
        "colab": {
          "base_uri": "https://localhost:8080/"
        },
        "id": "kZwIgyr4baGQ",
        "outputId": "7d9854ec-3e02-4538-9424-e25400e5b4a4"
      },
      "execution_count": 181,
      "outputs": [
        {
          "output_type": "execute_result",
          "data": {
            "text/plain": [
              "Chi2ContingencyResult(statistic=188.2475165357518, pvalue=0.0028992327675454875, dof=138, expected_freq=array([[0.29885057, 0.14942529, 0.89655172, 0.14942529, 0.29885057,\n",
              "        0.14942529, 0.14942529, 0.14942529, 0.14942529, 0.14942529,\n",
              "        0.14942529, 0.14942529, 0.14942529, 0.14942529, 0.14942529,\n",
              "        0.14942529, 1.64367816, 0.14942529, 0.14942529, 0.74712644,\n",
              "        0.14942529, 0.59770115, 0.29885057, 0.29885057, 0.14942529,\n",
              "        0.14942529, 0.14942529, 0.14942529, 0.14942529, 0.14942529,\n",
              "        0.14942529, 0.14942529, 0.14942529, 0.14942529, 0.14942529,\n",
              "        0.14942529, 0.29885057, 0.29885057, 0.44827586, 0.14942529,\n",
              "        0.14942529, 0.14942529, 0.14942529, 1.64367816, 0.14942529,\n",
              "        0.14942529, 0.14942529],\n",
              "       [0.3908046 , 0.1954023 , 1.17241379, 0.1954023 , 0.3908046 ,\n",
              "        0.1954023 , 0.1954023 , 0.1954023 , 0.1954023 , 0.1954023 ,\n",
              "        0.1954023 , 0.1954023 , 0.1954023 , 0.1954023 , 0.1954023 ,\n",
              "        0.1954023 , 2.14942529, 0.1954023 , 0.1954023 , 0.97701149,\n",
              "        0.1954023 , 0.7816092 , 0.3908046 , 0.3908046 , 0.1954023 ,\n",
              "        0.1954023 , 0.1954023 , 0.1954023 , 0.1954023 , 0.1954023 ,\n",
              "        0.1954023 , 0.1954023 , 0.1954023 , 0.1954023 , 0.1954023 ,\n",
              "        0.1954023 , 0.3908046 , 0.3908046 , 0.5862069 , 0.1954023 ,\n",
              "        0.1954023 , 0.1954023 , 0.1954023 , 2.14942529, 0.1954023 ,\n",
              "        0.1954023 , 0.1954023 ],\n",
              "       [0.48275862, 0.24137931, 1.44827586, 0.24137931, 0.48275862,\n",
              "        0.24137931, 0.24137931, 0.24137931, 0.24137931, 0.24137931,\n",
              "        0.24137931, 0.24137931, 0.24137931, 0.24137931, 0.24137931,\n",
              "        0.24137931, 2.65517241, 0.24137931, 0.24137931, 1.20689655,\n",
              "        0.24137931, 0.96551724, 0.48275862, 0.48275862, 0.24137931,\n",
              "        0.24137931, 0.24137931, 0.24137931, 0.24137931, 0.24137931,\n",
              "        0.24137931, 0.24137931, 0.24137931, 0.24137931, 0.24137931,\n",
              "        0.24137931, 0.48275862, 0.48275862, 0.72413793, 0.24137931,\n",
              "        0.24137931, 0.24137931, 0.24137931, 2.65517241, 0.24137931,\n",
              "        0.24137931, 0.24137931],\n",
              "       [0.82758621, 0.4137931 , 2.48275862, 0.4137931 , 0.82758621,\n",
              "        0.4137931 , 0.4137931 , 0.4137931 , 0.4137931 , 0.4137931 ,\n",
              "        0.4137931 , 0.4137931 , 0.4137931 , 0.4137931 , 0.4137931 ,\n",
              "        0.4137931 , 4.55172414, 0.4137931 , 0.4137931 , 2.06896552,\n",
              "        0.4137931 , 1.65517241, 0.82758621, 0.82758621, 0.4137931 ,\n",
              "        0.4137931 , 0.4137931 , 0.4137931 , 0.4137931 , 0.4137931 ,\n",
              "        0.4137931 , 0.4137931 , 0.4137931 , 0.4137931 , 0.4137931 ,\n",
              "        0.4137931 , 0.82758621, 0.82758621, 1.24137931, 0.4137931 ,\n",
              "        0.4137931 , 0.4137931 , 0.4137931 , 4.55172414, 0.4137931 ,\n",
              "        0.4137931 , 0.4137931 ]]))"
            ]
          },
          "metadata": {},
          "execution_count": 181
        }
      ]
    },
    {
      "cell_type": "code",
      "source": [
        "print('chi2 = ', stats.chi2_contingency(main_currency_region)[0], '   p-value =', stats.chi2_contingency(main_currency_region)[1])"
      ],
      "metadata": {
        "colab": {
          "base_uri": "https://localhost:8080/"
        },
        "id": "02k5TqxybT7h",
        "outputId": "4184cd92-8a5b-49fe-c4b6-a89dcc6c38d9"
      },
      "execution_count": 182,
      "outputs": [
        {
          "output_type": "stream",
          "name": "stdout",
          "text": [
            "chi2 =  188.2475165357518    p-value = 0.0028992327675454875\n"
          ]
        }
      ]
    },
    {
      "cell_type": "markdown",
      "source": [],
      "metadata": {
        "id": "LfM3Ev8rbimU"
      }
    },
    {
      "cell_type": "markdown",
      "source": [
        "p-value = 1.2918445160959355e-08 < 0.05\n",
        "\n",
        "p-value = 1.2918445160959355e-08 < 0.01\n",
        "\n",
        "Гипотеза H8 принимается на уровне значимости 5%.\n",
        "\n",
        "Гипотеза H8 принимается на уровне значимости 1%."
      ],
      "metadata": {
        "id": "G5BZSouVbmAj"
      }
    },
    {
      "cell_type": "markdown",
      "source": [
        "Гипотеза Н8 верна"
      ],
      "metadata": {
        "id": "uMnI-JGjcBOe"
      }
    },
    {
      "cell_type": "markdown",
      "source": [
        "### **Н9 - Существует взаимосвязь между регионом и лево или право сторонним движением**"
      ],
      "metadata": {
        "id": "VTIHDjRzb1EH"
      }
    },
    {
      "cell_type": "code",
      "source": [
        "np.random.seed(42)\n",
        "param1 = np.random.normal(50, 10, 1000)\n",
        "param2 = np.random.normal(60, 15, 1000)\n",
        "plt.figure(figsize=(10, 6))\n",
        "plt.hist(param1, bins=30, alpha=0.5, label = df['Region'], color='blue', edgecolor='black')\n",
        "plt.hist(param2, bins=30, alpha=0.5, label = df['IsCarRight'], color='red', edgecolor='black')\n",
        "\n",
        "plt.xlabel('Значение')\n",
        "plt.ylabel('Частота')\n",
        "plt.title('Гистограмма регионом и правосторонним движением')\n",
        "plt.legend()\n",
        "plt.grid(True)\n",
        "\n",
        "plt.show()"
      ],
      "metadata": {
        "colab": {
          "base_uri": "https://localhost:8080/",
          "height": 536
        },
        "id": "nJYkeMiKc-xi",
        "outputId": "3cfbee50-0ca4-4167-a4bc-bfdc601f87f8"
      },
      "execution_count": 183,
      "outputs": [
        {
          "output_type": "display_data",
          "data": {
            "text/plain": [
              "<Figure size 1000x600 with 1 Axes>"
            ],
            "image/png": "[encoded data removed]"
          },
          "metadata": {}
        }
      ]
    },
    {
      "cell_type": "code",
      "source": [
        "car_side_region = pd.crosstab(df['Region'], df['IsCarRight'])\n",
        "car_side_region"
      ],
      "metadata": {
        "colab": {
          "base_uri": "https://localhost:8080/",
          "height": 206
        },
        "id": "_mQJP_YNeMvM",
        "outputId": "283430c8-4db6-48e9-87fd-6f624d2b0ae8"
      },
      "execution_count": 184,
      "outputs": [
        {
          "output_type": "execute_result",
          "data": {
            "text/plain": [
              "IsCarRight  False  True \n",
              "Region                  \n",
              "Africa          7      6\n",
              "Americas        0     17\n",
              "Asia            3     18\n",
              "Europe          4     32"
            ],
            "text/html": [
              "\n",
              "  <div id=\"df-de4f5a15-1f1c-40e5-92d3-b2be41f86026\" class=\"colab-df-container\">\n",
              "    <div>\n",
              "<style scoped>\n",
              "    .dataframe tbody tr th:only-of-type {\n",
              "        vertical-align: middle;\n",
              "    }\n",
              "\n",
              "    .dataframe tbody tr th {\n",
              "        vertical-align: top;\n",
              "    }\n",
              "\n",
              "    .dataframe thead th {\n",
              "        text-align: right;\n",
              "    }\n",
              "</style>\n",
              "<table border=\"1\" class=\"dataframe\">\n",
              "  <thead>\n",
              "    <tr style=\"text-align: right;\">\n",
              "      <th>IsCarRight</th>\n",
              "      <th>False</th>\n",
              "      <th>True</th>\n",
              "    </tr>\n",
              "    <tr>\n",
              "      <th>Region</th>\n",
              "      <th></th>\n",
              "      <th></th>\n",
              "    </tr>\n",
              "  </thead>\n",
              "  <tbody>\n",
              "    <tr>\n",
              "      <th>Africa</th>\n",
              "      <td>7</td>\n",
              "      <td>6</td>\n",
              "    </tr>\n",
              "    <tr>\n",
              "      <th>Americas</th>\n",
              "      <td>0</td>\n",
              "      <td>17</td>\n",
              "    </tr>\n",
              "    <tr>\n",
              "      <th>Asia</th>\n",
              "      <td>3</td>\n",
              "      <td>18</td>\n",
              "    </tr>\n",
              "    <tr>\n",
              "      <th>Europe</th>\n",
              "      <td>4</td>\n",
              "      <td>32</td>\n",
              "    </tr>\n",
              "  </tbody>\n",
              "</table>\n",
              "</div>\n",
              "    <div class=\"colab-df-buttons\">\n",
              "\n",
              "  <div class=\"colab-df-container\">\n",
              "    <button class=\"colab-df-convert\" onclick=\"convertToInteractive('df-de4f5a15-1f1c-40e5-92d3-b2be41f86026')\"\n",
              "            title=\"Convert this dataframe to an interactive table.\"\n",
              "            style=\"display:none;\">\n",
              "\n",
              "  <svg xmlns=\"http://www.w3.org/2000/svg\" height=\"24px\" viewBox=\"0 -960 960 960\">\n",
              "    <path d=\"M120-120v-720h720v720H120Zm60-500h600v-160H180v160Zm220 220h160v-160H400v160Zm0 220h160v-160H400v160ZM180-400h160v-160H180v160Zm440 0h160v-160H620v160ZM180-180h160v-160H180v160Zm440 0h160v-160H620v160Z\"/>\n",
              "  </svg>\n",
              "    </button>\n",
              "\n",
              "  <style>\n",
              "    .colab-df-container {\n",
              "      display:flex;\n",
              "      gap: 12px;\n",
              "    }\n",
              "\n",
              "    .colab-df-convert {\n",
              "      background-color: #E8F0FE;\n",
              "      border: none;\n",
              "      border-radius: 50%;\n",
              "      cursor: pointer;\n",
              "      display: none;\n",
              "      fill: #1967D2;\n",
              "      height: 32px;\n",
              "      padding: 0 0 0 0;\n",
              "      width: 32px;\n",
              "    }\n",
              "\n",
              "    .colab-df-convert:hover {\n",
              "      background-color: #E2EBFA;\n",
              "      box-shadow: 0px 1px 2px rgba(60, 64, 67, 0.3), 0px 1px 3px 1px rgba(60, 64, 67, 0.15);\n",
              "      fill: #174EA6;\n",
              "    }\n",
              "\n",
              "    .colab-df-buttons div {\n",
              "      margin-bottom: 4px;\n",
              "    }\n",
              "\n",
              "    [theme=dark] .colab-df-convert {\n",
              "      background-color: #3B4455;\n",
              "      fill: #D2E3FC;\n",
              "    }\n",
              "\n",
              "    [theme=dark] .colab-df-convert:hover {\n",
              "      background-color: #434B5C;\n",
              "      box-shadow: 0px 1px 3px 1px rgba(0, 0, 0, 0.15);\n",
              "      filter: drop-shadow(0px 1px 2px rgba(0, 0, 0, 0.3));\n",
              "      fill: #FFFFFF;\n",
              "    }\n",
              "  </style>\n",
              "\n",
              "    <script>\n",
              "      const buttonEl =\n",
              "        document.querySelector('#df-de4f5a15-1f1c-40e5-92d3-b2be41f86026 button.colab-df-convert');\n",
              "      buttonEl.style.display =\n",
              "        google.colab.kernel.accessAllowed ? 'block' : 'none';\n",
              "\n",
              "      async function convertToInteractive(key) {\n",
              "        const element = document.querySelector('#df-de4f5a15-1f1c-40e5-92d3-b2be41f86026');\n",
              "        const dataTable =\n",
              "          await google.colab.kernel.invokeFunction('convertToInteractive',\n",
              "                                                    [key], {});\n",
              "        if (!dataTable) return;\n",
              "\n",
              "        const docLinkHtml = 'Like what you see? Visit the ' +\n",
              "          '<a target=\"_blank\" href=https://colab.research.google.com/notebooks/data_table.ipynb>data table notebook</a>'\n",
              "          + ' to learn more about interactive tables.';\n",
              "        element.innerHTML = '';\n",
              "        dataTable['output_type'] = 'display_data';\n",
              "        await google.colab.output.renderOutput(dataTable, element);\n",
              "        const docLink = document.createElement('div');\n",
              "        docLink.innerHTML = docLinkHtml;\n",
              "        element.appendChild(docLink);\n",
              "      }\n",
              "    </script>\n",
              "  </div>\n",
              "\n",
              "\n",
              "<div id=\"df-ebb9ebad-ae48-4232-9f93-3aefc44bd586\">\n",
              "  <button class=\"colab-df-quickchart\" onclick=\"quickchart('df-ebb9ebad-ae48-4232-9f93-3aefc44bd586')\"\n",
              "            title=\"Suggest charts\"\n",
              "            style=\"display:none;\">\n",
              "\n",
              "<svg xmlns=\"http://www.w3.org/2000/svg\" height=\"24px\"viewBox=\"0 0 24 24\"\n",
              "     width=\"24px\">\n",
              "    <g>\n",
              "        <path d=\"M19 3H5c-1.1 0-2 .9-2 2v14c0 1.1.9 2 2 2h14c1.1 0 2-.9 2-2V5c0-1.1-.9-2-2-2zM9 17H7v-7h2v7zm4 0h-2V7h2v10zm4 0h-2v-4h2v4z\"/>\n",
              "    </g>\n",
              "</svg>\n",
              "  </button>\n",
              "\n",
              "<style>\n",
              "  .colab-df-quickchart {\n",
              "      --bg-color: #E8F0FE;\n",
              "      --fill-color: #1967D2;\n",
              "      --hover-bg-color: #E2EBFA;\n",
              "      --hover-fill-color: #174EA6;\n",
              "      --disabled-fill-color: #AAA;\n",
              "      --disabled-bg-color: #DDD;\n",
              "  }\n",
              "\n",
              "  [theme=dark] .colab-df-quickchart {\n",
              "      --bg-color: #3B4455;\n",
              "      --fill-color: #D2E3FC;\n",
              "      --hover-bg-color: #434B5C;\n",
              "      --hover-fill-color: #FFFFFF;\n",
              "      --disabled-bg-color: #3B4455;\n",
              "      --disabled-fill-color: #666;\n",
              "  }\n",
              "\n",
              "  .colab-df-quickchart {\n",
              "    background-color: var(--bg-color);\n",
              "    border: none;\n",
              "    border-radius: 50%;\n",
              "    cursor: pointer;\n",
              "    display: none;\n",
              "    fill: var(--fill-color);\n",
              "    height: 32px;\n",
              "    padding: 0;\n",
              "    width: 32px;\n",
              "  }\n",
              "\n",
              "  .colab-df-quickchart:hover {\n",
              "    background-color: var(--hover-bg-color);\n",
              "    box-shadow: 0 1px 2px rgba(60, 64, 67, 0.3), 0 1px 3px 1px rgba(60, 64, 67, 0.15);\n",
              "    fill: var(--button-hover-fill-color);\n",
              "  }\n",
              "\n",
              "  .colab-df-quickchart-complete:disabled,\n",
              "  .colab-df-quickchart-complete:disabled:hover {\n",
              "    background-color: var(--disabled-bg-color);\n",
              "    fill: var(--disabled-fill-color);\n",
              "    box-shadow: none;\n",
              "  }\n",
              "\n",
              "  .colab-df-spinner {\n",
              "    border: 2px solid var(--fill-color);\n",
              "    border-color: transparent;\n",
              "    border-bottom-color: var(--fill-color);\n",
              "    animation:\n",
              "      spin 1s steps(1) infinite;\n",
              "  }\n",
              "\n",
              "  @keyframes spin {\n",
              "    0% {\n",
              "      border-color: transparent;\n",
              "      border-bottom-color: var(--fill-color);\n",
              "      border-left-color: var(--fill-color);\n",
              "    }\n",
              "    20% {\n",
              "      border-color: transparent;\n",
              "      border-left-color: var(--fill-color);\n",
              "      border-top-color: var(--fill-color);\n",
              "    }\n",
              "    30% {\n",
              "      border-color: transparent;\n",
              "      border-left-color: var(--fill-color);\n",
              "      border-top-color: var(--fill-color);\n",
              "      border-right-color: var(--fill-color);\n",
              "    }\n",
              "    40% {\n",
              "      border-color: transparent;\n",
              "      border-right-color: var(--fill-color);\n",
              "      border-top-color: var(--fill-color);\n",
              "    }\n",
              "    60% {\n",
              "      border-color: transparent;\n",
              "      border-right-color: var(--fill-color);\n",
              "    }\n",
              "    80% {\n",
              "      border-color: transparent;\n",
              "      border-right-color: var(--fill-color);\n",
              "      border-bottom-color: var(--fill-color);\n",
              "    }\n",
              "    90% {\n",
              "      border-color: transparent;\n",
              "      border-bottom-color: var(--fill-color);\n",
              "    }\n",
              "  }\n",
              "</style>\n",
              "\n",
              "  <script>\n",
              "    async function quickchart(key) {\n",
              "      const quickchartButtonEl =\n",
              "        document.querySelector('#' + key + ' button');\n",
              "      quickchartButtonEl.disabled = true;  // To prevent multiple clicks.\n",
              "      quickchartButtonEl.classList.add('colab-df-spinner');\n",
              "      try {\n",
              "        const charts = await google.colab.kernel.invokeFunction(\n",
              "            'suggestCharts', [key], {});\n",
              "      } catch (error) {\n",
              "        console.error('Error during call to suggestCharts:', error);\n",
              "      }\n",
              "      quickchartButtonEl.classList.remove('colab-df-spinner');\n",
              "      quickchartButtonEl.classList.add('colab-df-quickchart-complete');\n",
              "    }\n",
              "    (() => {\n",
              "      let quickchartButtonEl =\n",
              "        document.querySelector('#df-ebb9ebad-ae48-4232-9f93-3aefc44bd586 button');\n",
              "      quickchartButtonEl.style.display =\n",
              "        google.colab.kernel.accessAllowed ? 'block' : 'none';\n",
              "    })();\n",
              "  </script>\n",
              "</div>\n",
              "    </div>\n",
              "  </div>\n"
            ],
            "application/vnd.google.colaboratory.intrinsic+json": {
              "type": "dataframe",
              "variable_name": "car_side_region",
              "summary": "{\n  \"name\": \"car_side_region\",\n  \"rows\": 4,\n  \"fields\": [\n    {\n      \"column\": \"Region\",\n      \"properties\": {\n        \"dtype\": \"string\",\n        \"num_unique_values\": 4,\n        \"samples\": [\n          \"Americas\",\n          \"Europe\",\n          \"Africa\"\n        ],\n        \"semantic_type\": \"\",\n        \"description\": \"\"\n      }\n    },\n    {\n      \"column\": false,\n      \"properties\": {\n        \"dtype\": \"number\",\n        \"std\": 2,\n        \"min\": 0,\n        \"max\": 7,\n        \"num_unique_values\": 4,\n        \"samples\": [\n          0,\n          4,\n          7\n        ],\n        \"semantic_type\": \"\",\n        \"description\": \"\"\n      }\n    },\n    {\n      \"column\": true,\n      \"properties\": {\n        \"dtype\": \"number\",\n        \"std\": 10,\n        \"min\": 6,\n        \"max\": 32,\n        \"num_unique_values\": 4,\n        \"samples\": [\n          17,\n          32,\n          6\n        ],\n        \"semantic_type\": \"\",\n        \"description\": \"\"\n      }\n    }\n  ]\n}"
            }
          },
          "metadata": {},
          "execution_count": 184
        }
      ]
    },
    {
      "cell_type": "code",
      "source": [
        "from scipy import stats\n",
        "stats.chi2_contingency(car_side_region)"
      ],
      "metadata": {
        "colab": {
          "base_uri": "https://localhost:8080/"
        },
        "id": "TmKMBngqeSSg",
        "outputId": "339ec564-f856-45d1-b2f0-832804d4d7d0"
      },
      "execution_count": 185,
      "outputs": [
        {
          "output_type": "execute_result",
          "data": {
            "text/plain": [
              "Chi2ContingencyResult(statistic=17.695856003096708, pvalue=0.0005081660725979704, dof=3, expected_freq=array([[ 2.09195402, 10.90804598],\n",
              "       [ 2.73563218, 14.26436782],\n",
              "       [ 3.37931034, 17.62068966],\n",
              "       [ 5.79310345, 30.20689655]]))"
            ]
          },
          "metadata": {},
          "execution_count": 185
        }
      ]
    },
    {
      "cell_type": "code",
      "source": [
        "print('chi2 = ', stats.chi2_contingency(car_side_region)[0], '   p-value =', stats.chi2_contingency(car_side_region)[1])"
      ],
      "metadata": {
        "colab": {
          "base_uri": "https://localhost:8080/"
        },
        "id": "50mOtziwek5F",
        "outputId": "c70d246a-d6e5-4e3a-a52c-3d4675e38584"
      },
      "execution_count": 186,
      "outputs": [
        {
          "output_type": "stream",
          "name": "stdout",
          "text": [
            "chi2 =  17.695856003096708    p-value = 0.0005081660725979704\n"
          ]
        }
      ]
    },
    {
      "cell_type": "markdown",
      "source": [
        "p-value = 0.00539520476168706 < 0.05\n",
        "\n",
        "p-value = 0.00539520476168706 < 0.01\n",
        "\n",
        "Гипотеза H9 принимается на уровне значимости 5%.\n",
        "\n",
        "Гипотеза H9 принимается на уровне значимости 1%.\n",
        "\n",
        "Гипотеза Н9 верна"
      ],
      "metadata": {
        "id": "kg9KhneBevsv"
      }
    },
    {
      "cell_type": "markdown",
      "source": [
        "### **H10 - Существует взаимосвязь между политическим режимом и регионом**"
      ],
      "metadata": {
        "id": "hSSk1dZFfj7f"
      }
    },
    {
      "cell_type": "code",
      "source": [
        "np.random.seed(42)\n",
        "param1 = np.random.normal(50, 10, 1000)\n",
        "param2 = np.random.normal(60, 15, 1000)\n",
        "plt.figure(figsize=(10, 6))\n",
        "plt.hist(param1, bins=30, alpha=0.5, label = df['Region'], color='blue', edgecolor='black')\n",
        "plt.hist(param2, bins=30, alpha=0.5, label = df['Political Regime'], color='red', edgecolor='black')\n",
        "\n",
        "plt.xlabel('Значение')\n",
        "plt.ylabel('Частота')\n",
        "plt.title('Гистограмма регионом и политическим режимом')\n",
        "plt.legend()\n",
        "plt.grid(True)\n",
        "\n",
        "plt.show()"
      ],
      "metadata": {
        "colab": {
          "base_uri": "https://localhost:8080/",
          "height": 536
        },
        "id": "11G_iAA8fng5",
        "outputId": "b25103ab-6bfd-4d2d-fde7-66b19e2322b1"
      },
      "execution_count": 187,
      "outputs": [
        {
          "output_type": "display_data",
          "data": {
            "text/plain": [
              "<Figure size 1000x600 with 1 Axes>"
            ],
            "image/png": "[encoded data removed]"
          },
          "metadata": {}
        }
      ]
    },
    {
      "cell_type": "code",
      "source": [
        "regime_region = pd.crosstab(df['Region'], df['Political Regime'])\n",
        "regime_region"
      ],
      "metadata": {
        "colab": {
          "base_uri": "https://localhost:8080/",
          "height": 206
        },
        "id": "tMSiLrVbgL_M",
        "outputId": "29320656-f9b0-4bd0-ddf3-f65fe7df702e"
      },
      "execution_count": 188,
      "outputs": [
        {
          "output_type": "execute_result",
          "data": {
            "text/plain": [
              "Political Regime  0.0  1.0  2.0  3.0\n",
              "Region                              \n",
              "Africa              1    6    0    6\n",
              "Americas            0    1    5   11\n",
              "Asia                7    7    1    6\n",
              "Europe              0    4   18   14"
            ],
            "text/html": [
              "\n",
              "  <div id=\"df-b4729100-a4ac-4c03-b119-1c17c58f1946\" class=\"colab-df-container\">\n",
              "    <div>\n",
              "<style scoped>\n",
              "    .dataframe tbody tr th:only-of-type {\n",
              "        vertical-align: middle;\n",
              "    }\n",
              "\n",
              "    .dataframe tbody tr th {\n",
              "        vertical-align: top;\n",
              "    }\n",
              "\n",
              "    .dataframe thead th {\n",
              "        text-align: right;\n",
              "    }\n",
              "</style>\n",
              "<table border=\"1\" class=\"dataframe\">\n",
              "  <thead>\n",
              "    <tr style=\"text-align: right;\">\n",
              "      <th>Political Regime</th>\n",
              "      <th>0.0</th>\n",
              "      <th>1.0</th>\n",
              "      <th>2.0</th>\n",
              "      <th>3.0</th>\n",
              "    </tr>\n",
              "    <tr>\n",
              "      <th>Region</th>\n",
              "      <th></th>\n",
              "      <th></th>\n",
              "      <th></th>\n",
              "      <th></th>\n",
              "    </tr>\n",
              "  </thead>\n",
              "  <tbody>\n",
              "    <tr>\n",
              "      <th>Africa</th>\n",
              "      <td>1</td>\n",
              "      <td>6</td>\n",
              "      <td>0</td>\n",
              "      <td>6</td>\n",
              "    </tr>\n",
              "    <tr>\n",
              "      <th>Americas</th>\n",
              "      <td>0</td>\n",
              "      <td>1</td>\n",
              "      <td>5</td>\n",
              "      <td>11</td>\n",
              "    </tr>\n",
              "    <tr>\n",
              "      <th>Asia</th>\n",
              "      <td>7</td>\n",
              "      <td>7</td>\n",
              "      <td>1</td>\n",
              "      <td>6</td>\n",
              "    </tr>\n",
              "    <tr>\n",
              "      <th>Europe</th>\n",
              "      <td>0</td>\n",
              "      <td>4</td>\n",
              "      <td>18</td>\n",
              "      <td>14</td>\n",
              "    </tr>\n",
              "  </tbody>\n",
              "</table>\n",
              "</div>\n",
              "    <div class=\"colab-df-buttons\">\n",
              "\n",
              "  <div class=\"colab-df-container\">\n",
              "    <button class=\"colab-df-convert\" onclick=\"convertToInteractive('df-b4729100-a4ac-4c03-b119-1c17c58f1946')\"\n",
              "            title=\"Convert this dataframe to an interactive table.\"\n",
              "            style=\"display:none;\">\n",
              "\n",
              "  <svg xmlns=\"http://www.w3.org/2000/svg\" height=\"24px\" viewBox=\"0 -960 960 960\">\n",
              "    <path d=\"M120-120v-720h720v720H120Zm60-500h600v-160H180v160Zm220 220h160v-160H400v160Zm0 220h160v-160H400v160ZM180-400h160v-160H180v160Zm440 0h160v-160H620v160ZM180-180h160v-160H180v160Zm440 0h160v-160H620v160Z\"/>\n",
              "  </svg>\n",
              "    </button>\n",
              "\n",
              "  <style>\n",
              "    .colab-df-container {\n",
              "      display:flex;\n",
              "      gap: 12px;\n",
              "    }\n",
              "\n",
              "    .colab-df-convert {\n",
              "      background-color: #E8F0FE;\n",
              "      border: none;\n",
              "      border-radius: 50%;\n",
              "      cursor: pointer;\n",
              "      display: none;\n",
              "      fill: #1967D2;\n",
              "      height: 32px;\n",
              "      padding: 0 0 0 0;\n",
              "      width: 32px;\n",
              "    }\n",
              "\n",
              "    .colab-df-convert:hover {\n",
              "      background-color: #E2EBFA;\n",
              "      box-shadow: 0px 1px 2px rgba(60, 64, 67, 0.3), 0px 1px 3px 1px rgba(60, 64, 67, 0.15);\n",
              "      fill: #174EA6;\n",
              "    }\n",
              "\n",
              "    .colab-df-buttons div {\n",
              "      margin-bottom: 4px;\n",
              "    }\n",
              "\n",
              "    [theme=dark] .colab-df-convert {\n",
              "      background-color: #3B4455;\n",
              "      fill: #D2E3FC;\n",
              "    }\n",
              "\n",
              "    [theme=dark] .colab-df-convert:hover {\n",
              "      background-color: #434B5C;\n",
              "      box-shadow: 0px 1px 3px 1px rgba(0, 0, 0, 0.15);\n",
              "      filter: drop-shadow(0px 1px 2px rgba(0, 0, 0, 0.3));\n",
              "      fill: #FFFFFF;\n",
              "    }\n",
              "  </style>\n",
              "\n",
              "    <script>\n",
              "      const buttonEl =\n",
              "        document.querySelector('#df-b4729100-a4ac-4c03-b119-1c17c58f1946 button.colab-df-convert');\n",
              "      buttonEl.style.display =\n",
              "        google.colab.kernel.accessAllowed ? 'block' : 'none';\n",
              "\n",
              "      async function convertToInteractive(key) {\n",
              "        const element = document.querySelector('#df-b4729100-a4ac-4c03-b119-1c17c58f1946');\n",
              "        const dataTable =\n",
              "          await google.colab.kernel.invokeFunction('convertToInteractive',\n",
              "                                                    [key], {});\n",
              "        if (!dataTable) return;\n",
              "\n",
              "        const docLinkHtml = 'Like what you see? Visit the ' +\n",
              "          '<a target=\"_blank\" href=https://colab.research.google.com/notebooks/data_table.ipynb>data table notebook</a>'\n",
              "          + ' to learn more about interactive tables.';\n",
              "        element.innerHTML = '';\n",
              "        dataTable['output_type'] = 'display_data';\n",
              "        await google.colab.output.renderOutput(dataTable, element);\n",
              "        const docLink = document.createElement('div');\n",
              "        docLink.innerHTML = docLinkHtml;\n",
              "        element.appendChild(docLink);\n",
              "      }\n",
              "    </script>\n",
              "  </div>\n",
              "\n",
              "\n",
              "<div id=\"df-3be7fb59-6ce8-4894-ac32-7c7522df14ba\">\n",
              "  <button class=\"colab-df-quickchart\" onclick=\"quickchart('df-3be7fb59-6ce8-4894-ac32-7c7522df14ba')\"\n",
              "            title=\"Suggest charts\"\n",
              "            style=\"display:none;\">\n",
              "\n",
              "<svg xmlns=\"http://www.w3.org/2000/svg\" height=\"24px\"viewBox=\"0 0 24 24\"\n",
              "     width=\"24px\">\n",
              "    <g>\n",
              "        <path d=\"M19 3H5c-1.1 0-2 .9-2 2v14c0 1.1.9 2 2 2h14c1.1 0 2-.9 2-2V5c0-1.1-.9-2-2-2zM9 17H7v-7h2v7zm4 0h-2V7h2v10zm4 0h-2v-4h2v4z\"/>\n",
              "    </g>\n",
              "</svg>\n",
              "  </button>\n",
              "\n",
              "<style>\n",
              "  .colab-df-quickchart {\n",
              "      --bg-color: #E8F0FE;\n",
              "      --fill-color: #1967D2;\n",
              "      --hover-bg-color: #E2EBFA;\n",
              "      --hover-fill-color: #174EA6;\n",
              "      --disabled-fill-color: #AAA;\n",
              "      --disabled-bg-color: #DDD;\n",
              "  }\n",
              "\n",
              "  [theme=dark] .colab-df-quickchart {\n",
              "      --bg-color: #3B4455;\n",
              "      --fill-color: #D2E3FC;\n",
              "      --hover-bg-color: #434B5C;\n",
              "      --hover-fill-color: #FFFFFF;\n",
              "      --disabled-bg-color: #3B4455;\n",
              "      --disabled-fill-color: #666;\n",
              "  }\n",
              "\n",
              "  .colab-df-quickchart {\n",
              "    background-color: var(--bg-color);\n",
              "    border: none;\n",
              "    border-radius: 50%;\n",
              "    cursor: pointer;\n",
              "    display: none;\n",
              "    fill: var(--fill-color);\n",
              "    height: 32px;\n",
              "    padding: 0;\n",
              "    width: 32px;\n",
              "  }\n",
              "\n",
              "  .colab-df-quickchart:hover {\n",
              "    background-color: var(--hover-bg-color);\n",
              "    box-shadow: 0 1px 2px rgba(60, 64, 67, 0.3), 0 1px 3px 1px rgba(60, 64, 67, 0.15);\n",
              "    fill: var(--button-hover-fill-color);\n",
              "  }\n",
              "\n",
              "  .colab-df-quickchart-complete:disabled,\n",
              "  .colab-df-quickchart-complete:disabled:hover {\n",
              "    background-color: var(--disabled-bg-color);\n",
              "    fill: var(--disabled-fill-color);\n",
              "    box-shadow: none;\n",
              "  }\n",
              "\n",
              "  .colab-df-spinner {\n",
              "    border: 2px solid var(--fill-color);\n",
              "    border-color: transparent;\n",
              "    border-bottom-color: var(--fill-color);\n",
              "    animation:\n",
              "      spin 1s steps(1) infinite;\n",
              "  }\n",
              "\n",
              "  @keyframes spin {\n",
              "    0% {\n",
              "      border-color: transparent;\n",
              "      border-bottom-color: var(--fill-color);\n",
              "      border-left-color: var(--fill-color);\n",
              "    }\n",
              "    20% {\n",
              "      border-color: transparent;\n",
              "      border-left-color: var(--fill-color);\n",
              "      border-top-color: var(--fill-color);\n",
              "    }\n",
              "    30% {\n",
              "      border-color: transparent;\n",
              "      border-left-color: var(--fill-color);\n",
              "      border-top-color: var(--fill-color);\n",
              "      border-right-color: var(--fill-color);\n",
              "    }\n",
              "    40% {\n",
              "      border-color: transparent;\n",
              "      border-right-color: var(--fill-color);\n",
              "      border-top-color: var(--fill-color);\n",
              "    }\n",
              "    60% {\n",
              "      border-color: transparent;\n",
              "      border-right-color: var(--fill-color);\n",
              "    }\n",
              "    80% {\n",
              "      border-color: transparent;\n",
              "      border-right-color: var(--fill-color);\n",
              "      border-bottom-color: var(--fill-color);\n",
              "    }\n",
              "    90% {\n",
              "      border-color: transparent;\n",
              "      border-bottom-color: var(--fill-color);\n",
              "    }\n",
              "  }\n",
              "</style>\n",
              "\n",
              "  <script>\n",
              "    async function quickchart(key) {\n",
              "      const quickchartButtonEl =\n",
              "        document.querySelector('#' + key + ' button');\n",
              "      quickchartButtonEl.disabled = true;  // To prevent multiple clicks.\n",
              "      quickchartButtonEl.classList.add('colab-df-spinner');\n",
              "      try {\n",
              "        const charts = await google.colab.kernel.invokeFunction(\n",
              "            'suggestCharts', [key], {});\n",
              "      } catch (error) {\n",
              "        console.error('Error during call to suggestCharts:', error);\n",
              "      }\n",
              "      quickchartButtonEl.classList.remove('colab-df-spinner');\n",
              "      quickchartButtonEl.classList.add('colab-df-quickchart-complete');\n",
              "    }\n",
              "    (() => {\n",
              "      let quickchartButtonEl =\n",
              "        document.querySelector('#df-3be7fb59-6ce8-4894-ac32-7c7522df14ba button');\n",
              "      quickchartButtonEl.style.display =\n",
              "        google.colab.kernel.accessAllowed ? 'block' : 'none';\n",
              "    })();\n",
              "  </script>\n",
              "</div>\n",
              "    </div>\n",
              "  </div>\n"
            ],
            "application/vnd.google.colaboratory.intrinsic+json": {
              "type": "dataframe",
              "variable_name": "regime_region",
              "summary": "{\n  \"name\": \"regime_region\",\n  \"rows\": 4,\n  \"fields\": [\n    {\n      \"column\": \"Region\",\n      \"properties\": {\n        \"dtype\": \"string\",\n        \"num_unique_values\": 4,\n        \"samples\": [\n          \"Americas\",\n          \"Europe\",\n          \"Africa\"\n        ],\n        \"semantic_type\": \"\",\n        \"description\": \"\"\n      }\n    },\n    {\n      \"column\": 0.0,\n      \"properties\": {\n        \"dtype\": \"number\",\n        \"std\": 3,\n        \"min\": 0,\n        \"max\": 7,\n        \"num_unique_values\": 3,\n        \"samples\": [\n          1,\n          0,\n          7\n        ],\n        \"semantic_type\": \"\",\n        \"description\": \"\"\n      }\n    },\n    {\n      \"column\": 1.0,\n      \"properties\": {\n        \"dtype\": \"number\",\n        \"std\": 2,\n        \"min\": 1,\n        \"max\": 7,\n        \"num_unique_values\": 4,\n        \"samples\": [\n          1,\n          4,\n          6\n        ],\n        \"semantic_type\": \"\",\n        \"description\": \"\"\n      }\n    },\n    {\n      \"column\": 2.0,\n      \"properties\": {\n        \"dtype\": \"number\",\n        \"std\": 8,\n        \"min\": 0,\n        \"max\": 18,\n        \"num_unique_values\": 4,\n        \"samples\": [\n          5,\n          18,\n          0\n        ],\n        \"semantic_type\": \"\",\n        \"description\": \"\"\n      }\n    },\n    {\n      \"column\": 3.0,\n      \"properties\": {\n        \"dtype\": \"number\",\n        \"std\": 3,\n        \"min\": 6,\n        \"max\": 14,\n        \"num_unique_values\": 3,\n        \"samples\": [\n          6,\n          11,\n          14\n        ],\n        \"semantic_type\": \"\",\n        \"description\": \"\"\n      }\n    }\n  ]\n}"
            }
          },
          "metadata": {},
          "execution_count": 188
        }
      ]
    },
    {
      "cell_type": "code",
      "source": [
        "from scipy import stats\n",
        "stats.chi2_contingency(regime_region)"
      ],
      "metadata": {
        "colab": {
          "base_uri": "https://localhost:8080/"
        },
        "id": "4wVPWoxQgduh",
        "outputId": "6697938c-a04d-478e-aaf8-1c4b715ec5c2"
      },
      "execution_count": 189,
      "outputs": [
        {
          "output_type": "execute_result",
          "data": {
            "text/plain": [
              "Chi2ContingencyResult(statistic=44.51510827246121, pvalue=1.1340933618380294e-06, dof=9, expected_freq=array([[ 1.1954023 ,  2.68965517,  3.5862069 ,  5.52873563],\n",
              "       [ 1.56321839,  3.51724138,  4.68965517,  7.22988506],\n",
              "       [ 1.93103448,  4.34482759,  5.79310345,  8.93103448],\n",
              "       [ 3.31034483,  7.44827586,  9.93103448, 15.31034483]]))"
            ]
          },
          "metadata": {},
          "execution_count": 189
        }
      ]
    },
    {
      "cell_type": "code",
      "source": [
        "print('chi2 = ', stats.chi2_contingency(car_side_region)[0], '   p-value =', stats.chi2_contingency(regime_region)[1])"
      ],
      "metadata": {
        "colab": {
          "base_uri": "https://localhost:8080/"
        },
        "id": "IQ4lsMCTghlw",
        "outputId": "592c41f1-55f0-493c-c993-fe972a53efcf"
      },
      "execution_count": 190,
      "outputs": [
        {
          "output_type": "stream",
          "name": "stdout",
          "text": [
            "chi2 =  17.695856003096708    p-value = 1.1340933618380294e-06\n"
          ]
        }
      ]
    },
    {
      "cell_type": "markdown",
      "source": [
        "p-value = 9.957837961684144e-11 < 0.05\n",
        "\n",
        "p-value = 9.957837961684144e-11 < 0.01\n",
        "\n",
        "Гипотеза H10 принимается на уровне значимости 5%.\n",
        "\n",
        "Гипотеза H10 принимается на уровне значимости 1%.\n",
        "\n",
        "Гипотеза Н10 верна"
      ],
      "metadata": {
        "id": "jpaMrgungvlV"
      }
    }
  ]
}