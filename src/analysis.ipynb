{
 "nbformat": 4,
 "nbformat_minor": 0,
 "metadata": {
  "colab": {
   "provenance": []
  },
  "kernelspec": {
   "name": "pycharm-52ccbd2",
   "language": "python",
   "display_name": "PyCharm (AIolympiad)"
  },
  "language_info": {
   "name": "python"
  }
 },
 "cells": [
  {
   "cell_type": "markdown",
   "source": [
    "# Выбор и составление таблицы"
   ],
   "metadata": {
    "id": "m-qnLNgjsl62"
   }
  },
  {
   "cell_type": "markdown",
   "source": [
    "Мы составили таблицу (с помощью веб-скреппинга), где хранятся параметры разных стран. Сами параметры относятся к таким категориям как:\n",
    "- Сельское хозяйство, изменение климата, энергия, окружающая среда и природные ресурсы\n",
    "- Цифровое развитие, образование,\n",
    "- Финансы, конкурентоспособность и инновации\n",
    "- Нестабильность, конфликты и насилие\n",
    "- Управление, здравоохранение, питание и народонаселение, бедность и неравенство, социальная защита, транспорт\n",
    "- Инфраструктура и государственно-частное партнерство, рабочие места и развитие\n",
    "- Макроэкономика, торговля и инвестиции\n"
   ],
   "metadata": {
    "id": "SMoBDEbBqyqk"
   }
  },
  {
   "cell_type": "markdown",
   "source": [
    "Такая выборка позволит нам сравнить страны в социальной, экономической, окружающей среды и образовательной сферах."
   ],
   "metadata": {
    "id": "GnljS-nStAQt"
   }
  },
  {
   "cell_type": "markdown",
   "source": [
    "# Описание датасета"
   ],
   "metadata": {
    "id": "wiOnZcYLt76G"
   }
  },
  {
   "cell_type": "code",
   "execution_count": 50,
   "outputs": [
    {
     "data": {
      "text/plain": "   Country  Happiness Score  Region Main Language       Political Regime  \\\n0  Finland            7.741  Europe       Finnish    Liberal Democracies   \n1  Denmark            7.583  Europe        Danish    Liberal Democracies   \n2  Iceland            7.525  Europe     Icelandic    Liberal Democracies   \n3   Sweden            7.344  Europe       Swedish    Liberal Democracies   \n4   Israel            7.341    Asia        Arabic  Electoral Democracies   \n\n  Independent  UN Member Main Currency  Population      Area  ...  \\\n0        True       True           EUR     5530719  338424.0  ...   \n1        True       True           DKK     5831404   43094.0  ...   \n2        True       True           ISK      366425  103000.0  ...   \n3        True       True           SEK    10353442  450295.0  ...   \n4        True       True           ILS     9216900   20770.0  ...   \n\n  Access to clean fuels and technologies for cooking (% of population)  \\\n0                                              100.0                     \n1                                              100.0                     \n2                                              100.0                     \n3                                              100.0                     \n4                                              100.0                     \n\n   Social contributions (% of revenue)  \\\n0                                 32.2   \n1                                  1.8   \n2                                  9.5   \n3                                  8.9   \n4                                 15.8   \n\n   People using at least basic drinking water services (% of population)  \\\n0                                              100.0                       \n1                                              100.0                       \n2                                              100.0                       \n3                                              100.0                       \n4                                              100.0                       \n\n   School enrollment, primary and secondary (gross), gender parity index (GPI)  \\\n0                                               1.06                             \n1                                               1.00                             \n2                                               0.99                             \n3                                               1.07                             \n4                                               1.01                             \n\n   Proportion of seats held by women in national parliaments (%)  \\\n0                                               46.0               \n1                                               44.0               \n2                                               48.0               \n3                                               46.0               \n4                                               24.0               \n\n   Maternal mortality ratio (modeled estimate, per 100,000 live births)  \\\n0                                                8.0                      \n1                                                5.0                      \n2                                                3.0                      \n3                                                5.0                      \n4                                                3.0                      \n\n   Primary completion rate, total (% of relevant age group)  \\\n0                                               98.0          \n1                                              100.0          \n2                                               99.0          \n3                                              100.0          \n4                                               95.0          \n\n   Government expenditure on education, total (% of government expenditure)  \\\n0                                               10.2                          \n1                                               11.8                          \n2                                               14.9                          \n3                                               13.5                          \n4                                               17.5                          \n\n   Agriculture, forestry, and fishing, value added (% of GDP)  \\\n0                                                2.3            \n1                                                0.8            \n2                                                3.8            \n3                                                1.0            \n4                                                1.2            \n\n   Mortality caused by road traffic injury (per 100,000 population)  \n0                                                4.0                 \n1                                                4.0                 \n2                                                2.0                 \n3                                                3.0                 \n4                                                4.0                 \n\n[5 rows x 41 columns]",
      "text/html": "<div>\n<style scoped>\n    .dataframe tbody tr th:only-of-type {\n        vertical-align: middle;\n    }\n\n    .dataframe tbody tr th {\n        vertical-align: top;\n    }\n\n    .dataframe thead th {\n        text-align: right;\n    }\n</style>\n<table border=\"1\" class=\"dataframe\">\n  <thead>\n    <tr style=\"text-align: right;\">\n      <th></th>\n      <th>Country</th>\n      <th>Happiness Score</th>\n      <th>Region</th>\n      <th>Main Language</th>\n      <th>Political Regime</th>\n      <th>Independent</th>\n      <th>UN Member</th>\n      <th>Main Currency</th>\n      <th>Population</th>\n      <th>Area</th>\n      <th>...</th>\n      <th>Access to clean fuels and technologies for cooking (% of population)</th>\n      <th>Social contributions (% of revenue)</th>\n      <th>People using at least basic drinking water services (% of population)</th>\n      <th>School enrollment, primary and secondary (gross), gender parity index (GPI)</th>\n      <th>Proportion of seats held by women in national parliaments (%)</th>\n      <th>Maternal mortality ratio (modeled estimate, per 100,000 live births)</th>\n      <th>Primary completion rate, total (% of relevant age group)</th>\n      <th>Government expenditure on education, total (% of government expenditure)</th>\n      <th>Agriculture, forestry, and fishing, value added (% of GDP)</th>\n      <th>Mortality caused by road traffic injury (per 100,000 population)</th>\n    </tr>\n  </thead>\n  <tbody>\n    <tr>\n      <th>0</th>\n      <td>Finland</td>\n      <td>7.741</td>\n      <td>Europe</td>\n      <td>Finnish</td>\n      <td>Liberal Democracies</td>\n      <td>True</td>\n      <td>True</td>\n      <td>EUR</td>\n      <td>5530719</td>\n      <td>338424.0</td>\n      <td>...</td>\n      <td>100.0</td>\n      <td>32.2</td>\n      <td>100.0</td>\n      <td>1.06</td>\n      <td>46.0</td>\n      <td>8.0</td>\n      <td>98.0</td>\n      <td>10.2</td>\n      <td>2.3</td>\n      <td>4.0</td>\n    </tr>\n    <tr>\n      <th>1</th>\n      <td>Denmark</td>\n      <td>7.583</td>\n      <td>Europe</td>\n      <td>Danish</td>\n      <td>Liberal Democracies</td>\n      <td>True</td>\n      <td>True</td>\n      <td>DKK</td>\n      <td>5831404</td>\n      <td>43094.0</td>\n      <td>...</td>\n      <td>100.0</td>\n      <td>1.8</td>\n      <td>100.0</td>\n      <td>1.00</td>\n      <td>44.0</td>\n      <td>5.0</td>\n      <td>100.0</td>\n      <td>11.8</td>\n      <td>0.8</td>\n      <td>4.0</td>\n    </tr>\n    <tr>\n      <th>2</th>\n      <td>Iceland</td>\n      <td>7.525</td>\n      <td>Europe</td>\n      <td>Icelandic</td>\n      <td>Liberal Democracies</td>\n      <td>True</td>\n      <td>True</td>\n      <td>ISK</td>\n      <td>366425</td>\n      <td>103000.0</td>\n      <td>...</td>\n      <td>100.0</td>\n      <td>9.5</td>\n      <td>100.0</td>\n      <td>0.99</td>\n      <td>48.0</td>\n      <td>3.0</td>\n      <td>99.0</td>\n      <td>14.9</td>\n      <td>3.8</td>\n      <td>2.0</td>\n    </tr>\n    <tr>\n      <th>3</th>\n      <td>Sweden</td>\n      <td>7.344</td>\n      <td>Europe</td>\n      <td>Swedish</td>\n      <td>Liberal Democracies</td>\n      <td>True</td>\n      <td>True</td>\n      <td>SEK</td>\n      <td>10353442</td>\n      <td>450295.0</td>\n      <td>...</td>\n      <td>100.0</td>\n      <td>8.9</td>\n      <td>100.0</td>\n      <td>1.07</td>\n      <td>46.0</td>\n      <td>5.0</td>\n      <td>100.0</td>\n      <td>13.5</td>\n      <td>1.0</td>\n      <td>3.0</td>\n    </tr>\n    <tr>\n      <th>4</th>\n      <td>Israel</td>\n      <td>7.341</td>\n      <td>Asia</td>\n      <td>Arabic</td>\n      <td>Electoral Democracies</td>\n      <td>True</td>\n      <td>True</td>\n      <td>ILS</td>\n      <td>9216900</td>\n      <td>20770.0</td>\n      <td>...</td>\n      <td>100.0</td>\n      <td>15.8</td>\n      <td>100.0</td>\n      <td>1.01</td>\n      <td>24.0</td>\n      <td>3.0</td>\n      <td>95.0</td>\n      <td>17.5</td>\n      <td>1.2</td>\n      <td>4.0</td>\n    </tr>\n  </tbody>\n</table>\n<p>5 rows × 41 columns</p>\n</div>"
     },
     "execution_count": 50,
     "metadata": {},
     "output_type": "execute_result"
    }
   ],
   "source": [
    "import pandas as pd\n",
    "\n",
    "df = pd.read_csv(\"../data/countries_selected_data.csv\")\n",
    "df.head()"
   ],
   "metadata": {
    "collapsed": false,
    "pycharm": {
     "name": "#%%\n"
    }
   }
  },
  {
   "cell_type": "code",
   "source": [
    "df.shape"
   ],
   "metadata": {
    "collapsed": false,
    "pycharm": {
     "name": "#%%\n"
    }
   },
   "execution_count": 51,
   "outputs": [
    {
     "data": {
      "text/plain": "(216, 41)"
     },
     "execution_count": 51,
     "metadata": {},
     "output_type": "execute_result"
    }
   ]
  },
  {
   "cell_type": "markdown",
   "source": [
    "Таблица состоит из 216 строк и 41 столбца"
   ],
   "metadata": {
    "collapsed": false,
    "pycharm": {
     "name": "#%% md\n"
    }
   }
  },
  {
   "cell_type": "markdown",
   "source": [
    "## Описание каждого из столбцов"
   ],
   "metadata": {
    "collapsed": false,
    "pycharm": {
     "name": "#%% md\n"
    }
   }
  },
  {
   "cell_type": "markdown",
   "source": [
    "- Country - название страны, категориальная\n",
    "- Happiness Score - индекс счастья (по данным [World Happiness Report 2024](https://worldhappiness.report/), число от 0 до 10, метрическая\n",
    "- Region - географический регион нахождения страны, категориальная\n",
    "- Main Language\t- основной язык, категориальная\n",
    "- Political Regime - тип политического режима, категориальная\n",
    "- Independent - независимость страны,\tбинарная\n",
    "- UN Member\t- членство в ООН,\tбинарная\n",
    "- Main Currency -\tосновная валюта, код валюты,\tкатегориальная\n",
    "- Population - численность населения,\tколичество человек,\tметрическая\n",
    "- Area - площадь территории, км², метрическая\n",
    "- Car Side - сторона движения автомобилей, категориальная, принимает [left, right]\n",
    "- Income share held by lowest 20% - доля дохода (от дохода всех граждан) беднейших 20% в долларах США, метрическая\n",
    "- Life expectancy at birth, total (years) -\tожидаемая продолжительность жизни, метрическая\n",
    "- Prevalence of HIV, total (% of population ages 15-49)\t- распространенность ВИЧ, % зараженных среди населения 15–49 лет,\tметрическая\n",
    "- Renewable energy consumption (% of total final energy consumption) - потребление возобновляемой энергии, % от общего потребления, метрическая\n",
    "- Intentional homicides (per 100,000 people) -\tумышленные убийства\tна 100 тыс. человек,\tметрическая\n",
    "- Refugee population by country or territory of asylum - численность беженцев в стране, метрическая\n",
    "- Armed forces personnel (% of total labor force) - военнослужащие,\t% от трудоспособных взрослых граждан, метрическая\n",
    "- Urban population (% of total population) - люди проживающие в городах, % от общего количества населения, метрическая\n",
    "- GNI (current US) - валовой национальный доход, количество миллиардов в долларах США, метрическая\n",
    "- Foreign direct investment, net (BoP, current US)\t- чистые прямые иностранные инвестиции (то есть разница между притоков и оттоком), доллары США, метрическая\n",
    "- GDP per person employed (constant 2021 PPP) - ВВП на занятого, с учетом паритета покупательной способности по ценам за 2021 год в долларах США, метрическая\n",
    "- Employment to population ratio, 15+, total (%) (modeled ILO estimate) - уровень занятости по данным ILO, % населения 15+ лет, метрическая\n",
    "- Forest area (% of land area) - лесная площадь, % от общей сухопутной территории, метрическая\n",
    "- Terrestrial and marine protected areas (% of total territorial area) - охраняемые территории, % от общей территории, метрическая\n",
    "- Logistics performance index: Ease of arranging competitively priced shipments (1=low to 5=high) -\tиндекс логистики (насколько просто доставить достаточно дорогие вещи), (от 1 до 5, чем больше, тем лучше),\tметрическая\n",
    "- High-technology exports (% of manufactured exports) - экспорт высоких технологий, % от экспортируемых промышленных товаров, метрическая\n",
    "- Individuals using the Internet (% of population) - пользователи интернета, % от общего количества населения, метрическая\n",
    "- Mobile cellular subscriptions (per 100 people) - количество мобильных подписок на 100 человек, метрическая\n",
    "- Alternative and nuclear energy (% of total energy use) - альтернативная и ядерная энергия, % от используемой энергии, метрическая\n",
    "- Electric power consumption (KWH per capita) - потребление электроэнергии в кВт·ч на душу населения, метрическая\n",
    "- Access to clean fuels and technologies for cooking (% of population) - доступ к технологиям и топливу в быту, которые не загрязняют окружающую среду, % от общего населения, метрическая\n",
    "- Social contributions (% of revenue) - социальные взносы, % от общей заработной платы, метрическая\n",
    "- People using at least basic drinking water services (% of population) - доступ к питьевой воде, % от общего количества населения, метрическая\n",
    "- School enrollment, primary and secondary (gross), gender parity index (GPI) - гендерный паритет среди обучающихся в школе, отношение количества девочек, к количеству мальчиков, среди учеников школ, метрическая\n",
    "- Proportion of seats held by women in national parliaments (%)\t- доля женщин в парламенте, % от общего количества людей в парламенте, метрическая\n",
    "- Maternal mortality (modeled estimate, per 100,000 live births) - количество материнских смертей на 100 тыс. рождений, метрическая\n",
    "- Primary completion rate, total (% of relevant age group) - люди, получившие начальное образование, % от общего числа людей соответствующей возрастной группы, метрическая\n",
    "- Government expenditure on education, total (% of government expenditure) - расходы на образование, % от государственных расходов,\tметрическая\n",
    "- Agriculture, forestry, and fishing, value added (% of GPD) - вклад сельского хозяйства в ВВП, % от общего ВВП, метрическая\n",
    "- Mortality caused by road traffic injury (per 100,000 population) - смертность от ДТП на 100 тыс. населения, метрическая"
   ],
   "metadata": {
    "id": "A-k6GHfhrYA-"
   }
  },
  {
   "cell_type": "markdown",
   "source": [
    "Тип переменных в столбцах:"
   ],
   "metadata": {
    "id": "-6PProItSbXm"
   }
  },
  {
   "cell_type": "code",
   "source": [
    "for column in df.columns:\n",
    "    print(f\"Столбец '{column}': {df[column].dtype}\")\n",
    "\n"
   ],
   "metadata": {
    "colab": {
     "base_uri": "https://localhost:8080/"
    },
    "id": "Sqe1x78HALR_",
    "outputId": "8e3e0297-5f82-43d9-940b-e59d2392dd9e"
   },
   "execution_count": 52,
   "outputs": [
    {
     "name": "stdout",
     "output_type": "stream",
     "text": [
      "Столбец 'Country': object\n",
      "Столбец 'Happiness Score': float64\n",
      "Столбец 'Region': object\n",
      "Столбец 'Main Language': object\n",
      "Столбец 'Political Regime': object\n",
      "Столбец 'Independent': object\n",
      "Столбец 'UN Member': bool\n",
      "Столбец 'Main Currency': object\n",
      "Столбец 'Population': int64\n",
      "Столбец 'Area': float64\n",
      "Столбец 'Car Side': object\n",
      "Столбец 'Income share held by lowest 20%': float64\n",
      "Столбец 'Life expectancy at birth, total (years)': float64\n",
      "Столбец 'Prevalence of HIV, total (% of population ages 15-49)': float64\n",
      "Столбец 'Renewable energy consumption (% of total final energy consumption)': float64\n",
      "Столбец 'Intentional homicides (per 100,000 people)': float64\n",
      "Столбец 'Refugee population by country or territory of asylum': float64\n",
      "Столбец 'Armed forces personnel (% of total labor force)': float64\n",
      "Столбец 'Urban population (% of total population)': float64\n",
      "Столбец 'GNI (current US$)': float64\n",
      "Столбец 'Foreign direct investment, net (BoP, current US$)': float64\n",
      "Столбец 'GDP per person employed (constant 2021 PPP $)': float64\n",
      "Столбец 'Employment to population ratio, 15+, total (%) (modeled ILO estimate)': float64\n",
      "Столбец 'Forest area (% of land area)': float64\n",
      "Столбец 'Terrestrial and marine protected areas (% of total territorial area)': float64\n",
      "Столбец 'Logistics performance index: Ease of arranging competitively priced shipments (1=low to 5=high)': float64\n",
      "Столбец 'High-technology exports (% of manufactured exports)': float64\n",
      "Столбец 'Individuals using the Internet (% of population)': float64\n",
      "Столбец 'Mobile cellular subscriptions (per 100 people)': float64\n",
      "Столбец 'Alternative and nuclear energy (% of total energy use)': float64\n",
      "Столбец 'Electric power consumption (kWh per capita)': float64\n",
      "Столбец 'Access to clean fuels and technologies for cooking (% of population)': float64\n",
      "Столбец 'Social contributions (% of revenue)': float64\n",
      "Столбец 'People using at least basic drinking water services (% of population)': float64\n",
      "Столбец 'School enrollment, primary and secondary (gross), gender parity index (GPI)': float64\n",
      "Столбец 'Proportion of seats held by women in national parliaments (%)': float64\n",
      "Столбец 'Maternal mortality ratio (modeled estimate, per 100,000 live births)': float64\n",
      "Столбец 'Primary completion rate, total (% of relevant age group)': float64\n",
      "Столбец 'Government expenditure on education, total (% of government expenditure)': float64\n",
      "Столбец 'Agriculture, forestry, and fishing, value added (% of GDP)': float64\n",
      "Столбец 'Mortality caused by road traffic injury (per 100,000 population)': float64\n"
     ]
    }
   ]
  },
  {
   "cell_type": "markdown",
   "source": [
    "Количество пустых ячеек в каждом столбце:"
   ],
   "metadata": {
    "id": "REztgk_nSh6M"
   }
  },
  {
   "cell_type": "code",
   "source": [
    "for column in df.columns:\n",
    "    print(f\"Столбец '{column}': {df[column].isna().sum()} пустых значений\")\n"
   ],
   "metadata": {
    "colab": {
     "base_uri": "https://localhost:8080/"
    },
    "id": "nrw_bVlzSw6Q",
    "outputId": "5a9d525e-a5d4-4876-c5c5-ddbf3096e774"
   },
   "execution_count": 53,
   "outputs": [
    {
     "name": "stdout",
     "output_type": "stream",
     "text": [
      "Столбец 'Country': 0 пустых значений\n",
      "Столбец 'Happiness Score': 74 пустых значений\n",
      "Столбец 'Region': 0 пустых значений\n",
      "Столбец 'Main Language': 0 пустых значений\n",
      "Столбец 'Political Regime': 44 пустых значений\n",
      "Столбец 'Independent': 1 пустых значений\n",
      "Столбец 'UN Member': 0 пустых значений\n",
      "Столбец 'Main Currency': 0 пустых значений\n",
      "Столбец 'Population': 0 пустых значений\n",
      "Столбец 'Area': 0 пустых значений\n",
      "Столбец 'Car Side': 0 пустых значений\n",
      "Столбец 'Income share held by lowest 20%': 69 пустых значений\n",
      "Столбец 'Life expectancy at birth, total (years)': 5 пустых значений\n",
      "Столбец 'Prevalence of HIV, total (% of population ages 15-49)': 86 пустых значений\n",
      "Столбец 'Renewable energy consumption (% of total final energy consumption)': 31 пустых значений\n",
      "Столбец 'Intentional homicides (per 100,000 people)': 22 пустых значений\n",
      "Столбец 'Refugee population by country or territory of asylum': 53 пустых значений\n",
      "Столбец 'Armed forces personnel (% of total labor force)': 65 пустых значений\n",
      "Столбец 'Urban population (% of total population)': 29 пустых значений\n",
      "Столбец 'GNI (current US$)': 35 пустых значений\n",
      "Столбец 'Foreign direct investment, net (BoP, current US$)': 47 пустых значений\n",
      "Столбец 'GDP per person employed (constant 2021 PPP $)': 60 пустых значений\n",
      "Столбец 'Employment to population ratio, 15+, total (%) (modeled ILO estimate)': 52 пустых значений\n",
      "Столбец 'Forest area (% of land area)': 3 пустых значений\n",
      "Столбец 'Terrestrial and marine protected areas (% of total territorial area)': 30 пустых значений\n",
      "Столбец 'Logistics performance index: Ease of arranging competitively priced shipments (1=low to 5=high)': 67 пустых значений\n",
      "Столбец 'High-technology exports (% of manufactured exports)': 53 пустых значений\n",
      "Столбец 'Individuals using the Internet (% of population)': 6 пустых значений\n",
      "Столбец 'Mobile cellular subscriptions (per 100 people)': 29 пустых значений\n",
      "Столбец 'Alternative and nuclear energy (% of total energy use)': 89 пустых значений\n",
      "Столбец 'Electric power consumption (kWh per capita)': 88 пустых значений\n",
      "Столбец 'Access to clean fuels and technologies for cooking (% of population)': 51 пустых значений\n",
      "Столбец 'Social contributions (% of revenue)': 115 пустых значений\n",
      "Столбец 'People using at least basic drinking water services (% of population)': 28 пустых значений\n",
      "Столбец 'School enrollment, primary and secondary (gross), gender parity index (GPI)': 45 пустых значений\n",
      "Столбец 'Proportion of seats held by women in national parliaments (%)': 23 пустых значений\n",
      "Столбец 'Maternal mortality ratio (modeled estimate, per 100,000 live births)': 52 пустых значений\n",
      "Столбец 'Primary completion rate, total (% of relevant age group)': 46 пустых значений\n",
      "Столбец 'Government expenditure on education, total (% of government expenditure)': 45 пустых значений\n",
      "Столбец 'Agriculture, forestry, and fishing, value added (% of GDP)': 38 пустых значений\n",
      "Столбец 'Mortality caused by road traffic injury (per 100,000 population)': 49 пустых значений\n"
     ]
    }
   ]
  },
  {
   "cell_type": "markdown",
   "source": [
    "# Изменение типа данных на более подходящий и расчет новых столбцов"
   ],
   "metadata": {
    "id": "AWjcLQb6vRf3"
   }
  },
  {
   "cell_type": "markdown",
   "source": [
    "Перекодируем 'Car Side' из столбика с категориальными значениями 'right' и 'left' в столбик в булевыми значениями 'True' и 'False'."
   ],
   "metadata": {
    "id": "gtrYGFVGa0b_"
   }
  },
  {
   "cell_type": "code",
   "execution_count": 54,
   "metadata": {
    "colab": {
     "base_uri": "https://localhost:8080/"
    },
    "id": "zm8M5v_w864f",
    "outputId": "be1a6f04-f42f-430b-a82f-3039033e809c"
   },
   "outputs": [
    {
     "name": "stdout",
     "output_type": "stream",
     "text": [
      "Проверка преобразования:\n",
      "  Car Side  IsCarRight\n",
      "0    right        True\n",
      "1    right        True\n",
      "2    right        True\n",
      "3    right        True\n",
      "4    right        True\n",
      "5    right        True\n",
      "6    right        True\n",
      "7    right        True\n",
      "8    right        True\n",
      "9     left       False\n"
     ]
    }
   ],
   "source": [
    "df['IsCarRight'] = df['Car Side'].eq('right').astype(bool)\n",
    "\n",
    "print(\"Проверка преобразования:\")\n",
    "print(df[['Car Side', 'IsCarRight']].head(10))\n",
    "\n",
    "\n",
    "df.drop('Car Side', axis=1, inplace=True)"
   ]
  },
  {
   "cell_type": "markdown",
   "source": [
    "Перекодируем также и категориальную номинальную переменную 'Political Regime' со значениями: 'Closed Autocracies', 'Electoral Autocracies', 'Electoral Democracies', 'Liberal Democracies' в порядковую со значениями 0, 1, 2, 3 соответственно - чем выше, тем более демократичная страна."
   ],
   "metadata": {
    "id": "AOx_rFN9bPtq"
   }
  },
  {
   "cell_type": "code",
   "source": [
    "df['Political Regime'] = df['Political Regime'].map({\n",
    "'Closed Autocracies': 0,\n",
    "'Electoral Autocracies': 1,\n",
    "'Electoral Democracies': 2,\n",
    "'Liberal Democracies': 3\n",
    "})\n",
    "df['Political Regime'].head()\n"
   ],
   "metadata": {
    "colab": {
     "base_uri": "https://localhost:8080/"
    },
    "id": "7_32UwJ7buW6",
    "outputId": "f1cb71b9-82a9-4dcc-89c6-eac90bd58bb6"
   },
   "execution_count": 55,
   "outputs": [
    {
     "data": {
      "text/plain": "0    3.0\n1    3.0\n2    3.0\n3    3.0\n4    2.0\nName: Political Regime, dtype: float64"
     },
     "execution_count": 55,
     "metadata": {},
     "output_type": "execute_result"
    }
   ]
  },
  {
   "cell_type": "markdown",
   "source": [
    "Найдем колонки, у которых отсутствует дробная часть"
   ],
   "metadata": {
    "collapsed": false,
    "pycharm": {
     "name": "#%% md\n"
    }
   }
  },
  {
   "cell_type": "code",
   "execution_count": 56,
   "outputs": [
    {
     "data": {
      "text/plain": "['Political Regime',\n 'Life expectancy at birth, total (years)',\n 'Intentional homicides (per 100,000 people)',\n 'Refugee population by country or territory of asylum',\n 'Urban population (% of total population)',\n 'GDP per person employed (constant 2021 PPP $)',\n 'Employment to population ratio, 15+, total (%) (modeled ILO estimate)',\n 'High-technology exports (% of manufactured exports)',\n 'Individuals using the Internet (% of population)',\n 'Mobile cellular subscriptions (per 100 people)',\n 'Electric power consumption (kWh per capita)',\n 'Access to clean fuels and technologies for cooking (% of population)',\n 'People using at least basic drinking water services (% of population)',\n 'Proportion of seats held by women in national parliaments (%)',\n 'Maternal mortality ratio (modeled estimate, per 100,000 live births)',\n 'Primary completion rate, total (% of relevant age group)',\n 'Mortality caused by road traffic injury (per 100,000 population)']"
     },
     "execution_count": 56,
     "metadata": {},
     "output_type": "execute_result"
    }
   ],
   "source": [
    "float_cols = df.select_dtypes(include='float').columns\n",
    "float2int_cols = [col for col in float_cols if (df[col].dropna() % 1 == 0).all()]\n",
    "float2int_cols"
   ],
   "metadata": {
    "collapsed": false,
    "pycharm": {
     "name": "#%%\n"
    }
   }
  },
  {
   "cell_type": "markdown",
   "source": [
    "Изменим тип переменных этих колонок на int"
   ],
   "metadata": {
    "id": "4R-5rwoUEBAs"
   }
  },
  {
   "cell_type": "code",
   "source": [
    "df[float2int_cols] = df[float2int_cols].astype('Int64')"
   ],
   "metadata": {
    "colab": {
     "base_uri": "https://localhost:8080/",
     "height": 458
    },
    "id": "azlzBmF5ECLq",
    "outputId": "06b45fc7-7ba6-45cc-f199-f87c7e0e4562"
   },
   "execution_count": 57,
   "outputs": []
  },
  {
   "cell_type": "code",
   "execution_count": 58,
   "outputs": [
    {
     "data": {
      "text/plain": "{Int64Dtype(), dtype('bool'), dtype('float64'), dtype('int64'), dtype('O')}"
     },
     "execution_count": 58,
     "metadata": {},
     "output_type": "execute_result"
    }
   ],
   "source": [
    "set(df.dtypes.values)"
   ],
   "metadata": {
    "collapsed": false,
    "pycharm": {
     "name": "#%%\n"
    }
   }
  },
  {
   "cell_type": "markdown",
   "source": [
    "Составим столбец \"Плотность населения\" (количество людей, проживающее на 1 км²), используя количество населения и площадь страны\n"
   ],
   "metadata": {
    "id": "R2toQs9DwfVh"
   }
  },
  {
   "cell_type": "markdown",
   "source": [
    "Перекодируем количество бешенцев в стране на \"% беженцев от общего населения страны\""
   ],
   "metadata": {
    "id": "2kRNJR_7EYvS",
    "pycharm": {
     "name": "#%% md\n"
    }
   }
  },
  {
   "cell_type": "code",
   "execution_count": 59,
   "outputs": [
    {
     "data": {
      "text/plain": "   Refugee Percent  Refugee population by country or territory of asylum  \\\n0         1.624906                                              89869      \n1         1.181739                                              68912      \n2         2.378386                                               8715      \n3         2.295198                                             237632      \n4         0.013399                                               1235      \n\n   Population  \n0     5530719  \n1     5831404  \n2      366425  \n3    10353442  \n4     9216900  ",
      "text/html": "<div>\n<style scoped>\n    .dataframe tbody tr th:only-of-type {\n        vertical-align: middle;\n    }\n\n    .dataframe tbody tr th {\n        vertical-align: top;\n    }\n\n    .dataframe thead th {\n        text-align: right;\n    }\n</style>\n<table border=\"1\" class=\"dataframe\">\n  <thead>\n    <tr style=\"text-align: right;\">\n      <th></th>\n      <th>Refugee Percent</th>\n      <th>Refugee population by country or territory of asylum</th>\n      <th>Population</th>\n    </tr>\n  </thead>\n  <tbody>\n    <tr>\n      <th>0</th>\n      <td>1.624906</td>\n      <td>89869</td>\n      <td>5530719</td>\n    </tr>\n    <tr>\n      <th>1</th>\n      <td>1.181739</td>\n      <td>68912</td>\n      <td>5831404</td>\n    </tr>\n    <tr>\n      <th>2</th>\n      <td>2.378386</td>\n      <td>8715</td>\n      <td>366425</td>\n    </tr>\n    <tr>\n      <th>3</th>\n      <td>2.295198</td>\n      <td>237632</td>\n      <td>10353442</td>\n    </tr>\n    <tr>\n      <th>4</th>\n      <td>0.013399</td>\n      <td>1235</td>\n      <td>9216900</td>\n    </tr>\n  </tbody>\n</table>\n</div>"
     },
     "execution_count": 59,
     "metadata": {},
     "output_type": "execute_result"
    }
   ],
   "source": [
    "df['Refugee Percent'] = df['Refugee population by country or territory of asylum'] / df['Population'] * 100\n",
    "df[['Refugee Percent', 'Refugee population by country or territory of asylum', 'Population']].head()"
   ],
   "metadata": {
    "collapsed": false,
    "pycharm": {
     "name": "#%%\n"
    }
   }
  },
  {
   "cell_type": "code",
   "execution_count": 60,
   "outputs": [],
   "source": [
    "df.drop(columns='Refugee population by country or territory of asylum', inplace=True)"
   ],
   "metadata": {
    "collapsed": false,
    "pycharm": {
     "name": "#%%\n"
    }
   }
  },
  {
   "cell_type": "code",
   "execution_count": 61,
   "outputs": [],
   "source": [
    "import numpy as np\n",
    "df[\"Density of Population\"] = df[\"Population\"] / df[\"Area\"]"
   ],
   "metadata": {
    "collapsed": false,
    "pycharm": {
     "name": "#%%\n"
    }
   }
  },
  {
   "cell_type": "code",
   "source": [
    "df[[\"Density of Population\", \"Population\", \"Area\"]].head()"
   ],
   "metadata": {
    "colab": {
     "base_uri": "https://localhost:8080/"
    },
    "id": "_Yb1JgZIFU-1",
    "outputId": "f1580b39-ccc9-400c-fdfd-2560a639b657"
   },
   "execution_count": 62,
   "outputs": [
    {
     "data": {
      "text/plain": "   Density of Population  Population      Area\n0              16.342573     5530719  338424.0\n1             135.318235     5831404   43094.0\n2               3.557524      366425  103000.0\n3              22.992576    10353442  450295.0\n4             443.760231     9216900   20770.0",
      "text/html": "<div>\n<style scoped>\n    .dataframe tbody tr th:only-of-type {\n        vertical-align: middle;\n    }\n\n    .dataframe tbody tr th {\n        vertical-align: top;\n    }\n\n    .dataframe thead th {\n        text-align: right;\n    }\n</style>\n<table border=\"1\" class=\"dataframe\">\n  <thead>\n    <tr style=\"text-align: right;\">\n      <th></th>\n      <th>Density of Population</th>\n      <th>Population</th>\n      <th>Area</th>\n    </tr>\n  </thead>\n  <tbody>\n    <tr>\n      <th>0</th>\n      <td>16.342573</td>\n      <td>5530719</td>\n      <td>338424.0</td>\n    </tr>\n    <tr>\n      <th>1</th>\n      <td>135.318235</td>\n      <td>5831404</td>\n      <td>43094.0</td>\n    </tr>\n    <tr>\n      <th>2</th>\n      <td>3.557524</td>\n      <td>366425</td>\n      <td>103000.0</td>\n    </tr>\n    <tr>\n      <th>3</th>\n      <td>22.992576</td>\n      <td>10353442</td>\n      <td>450295.0</td>\n    </tr>\n    <tr>\n      <th>4</th>\n      <td>443.760231</td>\n      <td>9216900</td>\n      <td>20770.0</td>\n    </tr>\n  </tbody>\n</table>\n</div>"
     },
     "execution_count": 62,
     "metadata": {},
     "output_type": "execute_result"
    }
   ]
  },
  {
   "cell_type": "markdown",
   "source": [
    "Само по себе количество населения и площадь страны мало о чем говорит, в отличие от плотности населения"
   ],
   "metadata": {
    "collapsed": false,
    "pycharm": {
     "name": "#%% md\n"
    }
   }
  },
  {
   "cell_type": "code",
   "execution_count": 63,
   "outputs": [],
   "source": [
    "df.drop(columns=['Population', 'Area'], inplace=True)"
   ],
   "metadata": {
    "collapsed": false,
    "pycharm": {
     "name": "#%%\n"
    }
   }
  },
  {
   "cell_type": "markdown",
   "source": [
    "Перекодируем 'Intentional homicides (per 100,000 people)', те количество суицидальных случаев на 100к человек в категориальную порядковую.\n",
    "Перекодирование осуществляется по перцентилям (20%, 50%, 80%, 100%) - небольшое количество, умеренно низкое, умеренно высокое, высокое - 0, 1, 2, 3.\n",
    "\n",
    "Перекодирование по таким перцентилям используется много где в статистике, например, World Bank так считает уровень дохода."
   ],
   "metadata": {
    "id": "H5cSEBQKxsXs"
   }
  },
  {
   "cell_type": "code",
   "source": [
    "df['Homicide Rate Category'] = pd.qcut(\n",
    "    df['Intentional homicides (per 100,000 people)'],\n",
    "    q=[0, 0.2, 0.5, 0.8, 1.0],\n",
    "    labels=[0, 1, 2, 3]\n",
    ").astype('Int32')\n",
    "\n",
    "df[['Homicide Rate Category', 'Intentional homicides (per 100,000 people)']].tail()"
   ],
   "metadata": {
    "colab": {
     "base_uri": "https://localhost:8080/"
    },
    "id": "VPYJWY06LSy1",
    "outputId": "fcea10cb-020f-41b5-95ba-1a30fb934011"
   },
   "execution_count": 64,
   "outputs": [
    {
     "data": {
      "text/plain": "     Homicide Rate Category  Intentional homicides (per 100,000 people)\n211                       2                                           4\n212                       0                                           1\n213                       2                                           7\n214                       3                                          29\n215                       0                                           0",
      "text/html": "<div>\n<style scoped>\n    .dataframe tbody tr th:only-of-type {\n        vertical-align: middle;\n    }\n\n    .dataframe tbody tr th {\n        vertical-align: top;\n    }\n\n    .dataframe thead th {\n        text-align: right;\n    }\n</style>\n<table border=\"1\" class=\"dataframe\">\n  <thead>\n    <tr style=\"text-align: right;\">\n      <th></th>\n      <th>Homicide Rate Category</th>\n      <th>Intentional homicides (per 100,000 people)</th>\n    </tr>\n  </thead>\n  <tbody>\n    <tr>\n      <th>211</th>\n      <td>2</td>\n      <td>4</td>\n    </tr>\n    <tr>\n      <th>212</th>\n      <td>0</td>\n      <td>1</td>\n    </tr>\n    <tr>\n      <th>213</th>\n      <td>2</td>\n      <td>7</td>\n    </tr>\n    <tr>\n      <th>214</th>\n      <td>3</td>\n      <td>29</td>\n    </tr>\n    <tr>\n      <th>215</th>\n      <td>0</td>\n      <td>0</td>\n    </tr>\n  </tbody>\n</table>\n</div>"
     },
     "execution_count": 64,
     "metadata": {},
     "output_type": "execute_result"
    }
   ]
  },
  {
   "cell_type": "code",
   "execution_count": 65,
   "outputs": [],
   "source": [
    "df.drop(columns='Intentional homicides (per 100,000 people)', inplace=True)"
   ],
   "metadata": {
    "collapsed": false,
    "pycharm": {
     "name": "#%%\n"
    }
   }
  },
  {
   "cell_type": "markdown",
   "source": [
    "Перекодируем основной язык страны в \"является ли основной язык страны английским\""
   ],
   "metadata": {
    "collapsed": false,
    "pycharm": {
     "name": "#%% md\n"
    }
   }
  },
  {
   "cell_type": "code",
   "execution_count": 66,
   "outputs": [
    {
     "data": {
      "text/plain": "211    False\n212     True\n213     True\n214    False\n215     True\nName: Is Main Language English, dtype: bool"
     },
     "execution_count": 66,
     "metadata": {},
     "output_type": "execute_result"
    }
   ],
   "source": [
    "df['Is Main Language English'] = (df['Main Language'] == 'English')\n",
    "df['Is Main Language English'].tail()"
   ],
   "metadata": {
    "collapsed": false,
    "pycharm": {
     "name": "#%%\n"
    }
   }
  },
  {
   "cell_type": "code",
   "execution_count": 67,
   "outputs": [],
   "source": [
    "df.drop(columns='Main Language', inplace=True)"
   ],
   "metadata": {
    "collapsed": false,
    "pycharm": {
     "name": "#%%\n"
    }
   }
  },
  {
   "cell_type": "markdown",
   "source": [
    "Перекодируем столбец с кодом главной валюты в стране в \"является ли эта валюта мировой резервной\". Такие валюты используют и накапливают ЦБ иных стран.\n",
    "\n",
    "Мировые резервные валюты:\n",
    "\n",
    "* Доллар США\n",
    "* Евро\n",
    "* Фунт стерлингов\n",
    "* Японская иена"
   ],
   "metadata": {
    "collapsed": false,
    "pycharm": {
     "name": "#%% md\n"
    }
   }
  },
  {
   "cell_type": "code",
   "execution_count": 68,
   "outputs": [
    {
     "data": {
      "text/plain": "    Main Currency  Is Reserve Currency\n211           USD                 True\n212           TOP                False\n213           AUD                False\n214           EUR                 True\n215           USD                 True",
      "text/html": "<div>\n<style scoped>\n    .dataframe tbody tr th:only-of-type {\n        vertical-align: middle;\n    }\n\n    .dataframe tbody tr th {\n        vertical-align: top;\n    }\n\n    .dataframe thead th {\n        text-align: right;\n    }\n</style>\n<table border=\"1\" class=\"dataframe\">\n  <thead>\n    <tr style=\"text-align: right;\">\n      <th></th>\n      <th>Main Currency</th>\n      <th>Is Reserve Currency</th>\n    </tr>\n  </thead>\n  <tbody>\n    <tr>\n      <th>211</th>\n      <td>USD</td>\n      <td>True</td>\n    </tr>\n    <tr>\n      <th>212</th>\n      <td>TOP</td>\n      <td>False</td>\n    </tr>\n    <tr>\n      <th>213</th>\n      <td>AUD</td>\n      <td>False</td>\n    </tr>\n    <tr>\n      <th>214</th>\n      <td>EUR</td>\n      <td>True</td>\n    </tr>\n    <tr>\n      <th>215</th>\n      <td>USD</td>\n      <td>True</td>\n    </tr>\n  </tbody>\n</table>\n</div>"
     },
     "execution_count": 68,
     "metadata": {},
     "output_type": "execute_result"
    }
   ],
   "source": [
    "reserve_currency_codes = [\"USD\", \"EUR\", \"GBP\", \"JPY\"]\n",
    "df['Is Reserve Currency'] = df['Main Currency'].apply(lambda x: x in reserve_currency_codes)\n",
    "df[['Main Currency', 'Is Reserve Currency']].tail()"
   ],
   "metadata": {
    "collapsed": false,
    "pycharm": {
     "name": "#%%\n"
    }
   }
  },
  {
   "cell_type": "code",
   "execution_count": 69,
   "outputs": [],
   "source": [
    "df.drop(columns='Main Currency', inplace=True)"
   ],
   "metadata": {
    "collapsed": false,
    "pycharm": {
     "name": "#%%\n"
    }
   }
  },
  {
   "cell_type": "markdown",
   "source": [
    "Переведем индекс производительности логистики в диапазон от 0 до 1 (сейчас от 1 до 5)"
   ],
   "metadata": {
    "collapsed": false,
    "pycharm": {
     "name": "#%% md\n"
    }
   }
  },
  {
   "cell_type": "code",
   "execution_count": 70,
   "outputs": [
    {
     "data": {
      "text/plain": "   Logistics Performance Index  \\\n0                        0.775   \n1                        0.650   \n2                        0.575   \n3                        0.600   \n4                        0.625   \n\n   Logistics performance index: Ease of arranging competitively priced shipments (1=low to 5=high)  \n0                                                4.1                                                \n1                                                3.6                                                \n2                                                3.3                                                \n3                                                3.4                                                \n4                                                3.5                                                ",
      "text/html": "<div>\n<style scoped>\n    .dataframe tbody tr th:only-of-type {\n        vertical-align: middle;\n    }\n\n    .dataframe tbody tr th {\n        vertical-align: top;\n    }\n\n    .dataframe thead th {\n        text-align: right;\n    }\n</style>\n<table border=\"1\" class=\"dataframe\">\n  <thead>\n    <tr style=\"text-align: right;\">\n      <th></th>\n      <th>Logistics Performance Index</th>\n      <th>Logistics performance index: Ease of arranging competitively priced shipments (1=low to 5=high)</th>\n    </tr>\n  </thead>\n  <tbody>\n    <tr>\n      <th>0</th>\n      <td>0.775</td>\n      <td>4.1</td>\n    </tr>\n    <tr>\n      <th>1</th>\n      <td>0.650</td>\n      <td>3.6</td>\n    </tr>\n    <tr>\n      <th>2</th>\n      <td>0.575</td>\n      <td>3.3</td>\n    </tr>\n    <tr>\n      <th>3</th>\n      <td>0.600</td>\n      <td>3.4</td>\n    </tr>\n    <tr>\n      <th>4</th>\n      <td>0.625</td>\n      <td>3.5</td>\n    </tr>\n  </tbody>\n</table>\n</div>"
     },
     "execution_count": 70,
     "metadata": {},
     "output_type": "execute_result"
    }
   ],
   "source": [
    "df['Logistics Performance Index'] = (df['Logistics performance index: Ease of arranging competitively priced shipments (1=low to 5=high)'] - 1) / 4\n",
    "df[['Logistics Performance Index', 'Logistics performance index: Ease of arranging competitively priced shipments (1=low to 5=high)']].head()"
   ],
   "metadata": {
    "collapsed": false,
    "pycharm": {
     "name": "#%%\n"
    }
   }
  },
  {
   "cell_type": "code",
   "execution_count": 71,
   "outputs": [],
   "source": [
    "df.drop(columns='Logistics performance index: Ease of arranging competitively priced shipments (1=low to 5=high)', inplace=True)"
   ],
   "metadata": {
    "collapsed": false,
    "pycharm": {
     "name": "#%%\n"
    }
   }
  },
  {
   "cell_type": "markdown",
   "source": [
    "Перекодируем % женщин в парламенте в \"отклонение от гендерного паритета в парламенте\"\n",
    "\n",
    "Нас интересует отклонение от 50%"
   ],
   "metadata": {
    "collapsed": false,
    "pycharm": {
     "name": "#%% md\n"
    }
   }
  },
  {
   "cell_type": "code",
   "execution_count": 72,
   "outputs": [
    {
     "data": {
      "text/plain": "   Parlament Gender Parity Deviation  \\\n0                                  4   \n1                                  6   \n2                                  2   \n3                                  4   \n4                                 26   \n\n   Proportion of seats held by women in national parliaments (%)  \n0                                                 46              \n1                                                 44              \n2                                                 48              \n3                                                 46              \n4                                                 24              ",
      "text/html": "<div>\n<style scoped>\n    .dataframe tbody tr th:only-of-type {\n        vertical-align: middle;\n    }\n\n    .dataframe tbody tr th {\n        vertical-align: top;\n    }\n\n    .dataframe thead th {\n        text-align: right;\n    }\n</style>\n<table border=\"1\" class=\"dataframe\">\n  <thead>\n    <tr style=\"text-align: right;\">\n      <th></th>\n      <th>Parlament Gender Parity Deviation</th>\n      <th>Proportion of seats held by women in national parliaments (%)</th>\n    </tr>\n  </thead>\n  <tbody>\n    <tr>\n      <th>0</th>\n      <td>4</td>\n      <td>46</td>\n    </tr>\n    <tr>\n      <th>1</th>\n      <td>6</td>\n      <td>44</td>\n    </tr>\n    <tr>\n      <th>2</th>\n      <td>2</td>\n      <td>48</td>\n    </tr>\n    <tr>\n      <th>3</th>\n      <td>4</td>\n      <td>46</td>\n    </tr>\n    <tr>\n      <th>4</th>\n      <td>26</td>\n      <td>24</td>\n    </tr>\n  </tbody>\n</table>\n</div>"
     },
     "execution_count": 72,
     "metadata": {},
     "output_type": "execute_result"
    }
   ],
   "source": [
    "df['Parlament Gender Parity Deviation'] = (df['Proportion of seats held by women in national parliaments (%)'] - 50).abs()\n",
    "df[['Parlament Gender Parity Deviation', 'Proportion of seats held by women in national parliaments (%)']].head()"
   ],
   "metadata": {
    "collapsed": false,
    "pycharm": {
     "name": "#%%\n"
    }
   }
  },
  {
   "cell_type": "code",
   "execution_count": 73,
   "outputs": [],
   "source": [
    "df.drop(columns='Proportion of seats held by women in national parliaments (%)', inplace=True)"
   ],
   "metadata": {
    "collapsed": false,
    "pycharm": {
     "name": "#%%\n"
    }
   }
  },
  {
   "cell_type": "code",
   "execution_count": 74,
   "outputs": [
    {
     "data": {
      "text/plain": "Index(['Country', 'Happiness Score', 'Region', 'Political Regime',\n       'Independent', 'UN Member', 'Income share held by lowest 20%',\n       'Life expectancy at birth, total (years)',\n       'Prevalence of HIV, total (% of population ages 15-49)',\n       'Renewable energy consumption (% of total final energy consumption)',\n       'Armed forces personnel (% of total labor force)',\n       'Urban population (% of total population)', 'GNI (current US$)',\n       'Foreign direct investment, net (BoP, current US$)',\n       'GDP per person employed (constant 2021 PPP $)',\n       'Employment to population ratio, 15+, total (%) (modeled ILO estimate)',\n       'Forest area (% of land area)',\n       'Terrestrial and marine protected areas (% of total territorial area)',\n       'High-technology exports (% of manufactured exports)',\n       'Individuals using the Internet (% of population)',\n       'Mobile cellular subscriptions (per 100 people)',\n       'Alternative and nuclear energy (% of total energy use)',\n       'Electric power consumption (kWh per capita)',\n       'Access to clean fuels and technologies for cooking (% of population)',\n       'Social contributions (% of revenue)',\n       'People using at least basic drinking water services (% of population)',\n       'School enrollment, primary and secondary (gross), gender parity index (GPI)',\n       'Maternal mortality ratio (modeled estimate, per 100,000 live births)',\n       'Primary completion rate, total (% of relevant age group)',\n       'Government expenditure on education, total (% of government expenditure)',\n       'Agriculture, forestry, and fishing, value added (% of GDP)',\n       'Mortality caused by road traffic injury (per 100,000 population)',\n       'IsCarRight', 'Refugee Percent', 'Density of Population',\n       'Homicide Rate Category', 'Is Main Language English',\n       'Is Reserve Currency', 'Logistics Performance Index',\n       'Parlament Gender Parity Deviation'],\n      dtype='object')"
     },
     "execution_count": 74,
     "metadata": {},
     "output_type": "execute_result"
    }
   ],
   "source": [
    "df.columns"
   ],
   "metadata": {
    "collapsed": false,
    "pycharm": {
     "name": "#%%\n"
    }
   }
  },
  {
   "cell_type": "markdown",
   "source": [
    "# Цель и задачи исследования"
   ],
   "metadata": {
    "id": "8fPmeJoB424k"
   }
  },
  {
   "cell_type": "markdown",
   "source": [
    "# Гипотезы"
   ],
   "metadata": {
    "id": "G-YiwCJm4-jj"
   }
  },
  {
   "cell_type": "markdown",
   "source": [
    "Н1 - Существует взаимосвязь между количеством умышленных убийств в стране и индексом счастья в ней\n",
    "\n",
    "Н2 - Существует взаимосвязь между индексом счастья и продолжительностью жизни в стране\n",
    "\n",
    "H3 - Существует взаимосвязь между степенью демократичности политического режима и индексом счастья\n",
    "\n",
    "Н4 - Существует взаимосвязь между вкладом сельского хозяйства в ВВП и доступом к питьевой воде\n",
    "\n",
    "Н5 - Существует взаимосвязь между социальным взносом и индексом счастья\n",
    "\n",
    "Н6 - Существует взаимосвязь между паритетом полов в парламенте и индексом счастья\n",
    "\n",
    "Н7 - Существует взаимосвязь между языком и регионом\n",
    "\n",
    "Н8 - Существует взаимосвязь между основной валютой и языком\n",
    "\n",
    "Н9 - Существует взаимосвязь между регионом и лево или право сторонним движением\n",
    "\n",
    "H10 - Существует взаимосвязь между политическим режимом и регионом\n",
    "\n",
    "H11 - Существует взаимосвязь между вкладываемыми государством в образование деньгами и процентом окончания школ\n",
    "\n",
    "H12 - Существует взаимосвязь между паритетом полов обучающихся в школах и регионом\n",
    "\n",
    "H13 - Существует взаимосвязь между плотностью населения страны и индексом счастья"
   ],
   "metadata": {
    "id": "8VRD74Dm5IX3"
   }
  },
  {
   "cell_type": "markdown",
   "source": [
    "## Проверка гипотез"
   ],
   "metadata": {
    "id": "_PRem-lBu-RT"
   }
  },
  {
   "cell_type": "markdown",
   "source": [
    "Порог p-value везде возьмем 0.05"
   ],
   "metadata": {
    "collapsed": false,
    "pycharm": {
     "name": "#%% md\n"
    }
   }
  },
  {
   "cell_type": "markdown",
   "source": [
    "### Н1 - Существует взаимосвязь между количеством умышленных убийств в стране и индексом счастья в ней"
   ],
   "metadata": {
    "collapsed": false,
    "pycharm": {
     "name": "#%% md\n"
    }
   }
  },
  {
   "cell_type": "code",
   "source": [
    "import matplotlib.pyplot as plt\n",
    "import seaborn as sns"
   ],
   "metadata": {
    "id": "1Mx00yoCJ26d",
    "pycharm": {
     "name": "#%%\n"
    }
   },
   "execution_count": 75,
   "outputs": []
  },
  {
   "cell_type": "code",
   "execution_count": 76,
   "outputs": [],
   "source": [
    "data = df[[\"Homicide Rate Category\", \"Happiness Score\"]].dropna()\n",
    "data['Homicide Rate Category'] = data['Homicide Rate Category'].astype('category')"
   ],
   "metadata": {
    "collapsed": false,
    "pycharm": {
     "name": "#%%\n"
    }
   }
  },
  {
   "cell_type": "code",
   "execution_count": 77,
   "outputs": [
    {
     "data": {
      "text/plain": "<Figure size 576x432 with 1 Axes>",
      "image/png": "[encoded data removed]"
     },
     "metadata": {
      "needs_background": "light"
     },
     "output_type": "display_data"
    }
   ],
   "source": [
    "plt.figure(figsize=(8, 6))\n",
    "sns.boxplot(x=\"Homicide Rate Category\", y=\"Happiness Score\", data=data)\n",
    "plt.title(\"Распределение Happiness Score по категориям Homicide Rate\")\n",
    "plt.xlabel(\"Homicide Rate Category\")\n",
    "plt.ylabel(\"Happiness Score\")\n",
    "plt.show()"
   ],
   "metadata": {
    "collapsed": false,
    "pycharm": {
     "name": "#%%\n"
    }
   }
  },
  {
   "cell_type": "markdown",
   "source": [
    "Видим, что у категорий 1, 2, 3 сильных отличий нет, а в категории 0 (где количество убийств меньше 20 перцентиля) сосредоточены в основном страны с высоким рейтингом счастья"
   ],
   "metadata": {
    "collapsed": false,
    "pycharm": {
     "name": "#%% md\n"
    }
   }
  },
  {
   "cell_type": "markdown",
   "source": [
    "Используем коэффициент корреляции Кендалла, поскольку одна переменная метрическая, а другая категориальная порядковая, при этом количество связных рангов большое."
   ],
   "metadata": {
    "collapsed": false,
    "pycharm": {
     "name": "#%% md\n"
    }
   }
  },
  {
   "cell_type": "code",
   "execution_count": 78,
   "outputs": [
    {
     "name": "stdout",
     "output_type": "stream",
     "text": [
      "Коэффициент корреляции Кендалла tau: -0.268\n",
      "p-value: 0.000\n"
     ]
    }
   ],
   "source": [
    "from scipy.stats import kendalltau\n",
    "tau, p_value = kendalltau(data[\"Homicide Rate Category\"], data[\"Happiness Score\"])\n",
    "print(f\"Коэффициент корреляции Кендалла tau: {tau:.3f}\")\n",
    "print(f\"p-value: {p_value:.3f}\")"
   ],
   "metadata": {
    "collapsed": false,
    "pycharm": {
     "name": "#%%\n"
    }
   }
  },
  {
   "cell_type": "markdown",
   "source": [
    "p_value < 0.05 - отвергаем нулевую гипотезу.\n",
    "\n",
    "Взаимосвязь обратная, слабая."
   ],
   "metadata": {
    "collapsed": false,
    "pycharm": {
     "name": "#%% md\n"
    }
   }
  },
  {
   "cell_type": "markdown",
   "source": [
    "### Н2 - Существует взаимосвязь между индексом счастья и продолжительностью жизни в стране"
   ],
   "metadata": {
    "collapsed": false,
    "pycharm": {
     "name": "#%% md\n"
    }
   }
  },
  {
   "cell_type": "code",
   "execution_count": 79,
   "outputs": [
    {
     "data": {
      "text/plain": "<Figure size 576x432 with 1 Axes>",
      "image/png": "[encoded data removed]"
     },
     "metadata": {
      "needs_background": "light"
     },
     "output_type": "display_data"
    }
   ],
   "source": [
    "data = df[['Life expectancy at birth, total (years)', 'Happiness Score']].dropna().astype('float')\n",
    "plt.figure(figsize=(8, 6))\n",
    "sns.regplot(x='Life expectancy at birth, total (years)', y='Happiness Score', data=data,\n",
    "            scatter_kws={'alpha': 0.7}, line_kws={'color': 'red'})\n",
    "plt.title(\"Зависимость индекса счастья от продолжительности жизни\")\n",
    "plt.xlabel(\"Продолжительность жизни (Life Expectancy)\")\n",
    "plt.ylabel(\"Индекс счастья (Happiness Score)\")\n",
    "plt.show()"
   ],
   "metadata": {
    "collapsed": false,
    "pycharm": {
     "name": "#%%\n"
    }
   }
  },
  {
   "cell_type": "markdown",
   "source": [
    "По графику видим, что гипотеза подтверждается"
   ],
   "metadata": {
    "collapsed": false,
    "pycharm": {
     "name": "#%% md\n"
    }
   }
  },
  {
   "cell_type": "code",
   "source": [
    "from scipy.stats import pearsonr\n",
    "corr, p_value = pearsonr(data['Happiness Score'], data['Life expectancy at birth, total (years)'])\n",
    "print(f\"Коэффициент корреляции Пирсона: {corr:.3f}\")\n",
    "print(f\"p-value: {p_value:.3f}\")"
   ],
   "metadata": {
    "collapsed": false,
    "pycharm": {
     "name": "#%%\n"
    }
   },
   "execution_count": 80,
   "outputs": [
    {
     "name": "stdout",
     "output_type": "stream",
     "text": [
      "Коэффициент корреляции Пирсона: 0.755\n",
      "p-value: 0.000\n"
     ]
    }
   ]
  },
  {
   "cell_type": "markdown",
   "source": [
    "p_value < 0.05, отвергаем нулевую гипотезу.\n",
    "\n",
    "Прямая пропорциональность, связь сильная."
   ],
   "metadata": {
    "collapsed": false,
    "pycharm": {
     "name": "#%% md\n"
    }
   }
  },
  {
   "cell_type": "markdown",
   "source": [
    "### H3 - Существует взаимосвязь между степенью демократичности политического режима и индексом счастья"
   ],
   "metadata": {
    "id": "wgWlqpgqaQet"
   }
  },
  {
   "cell_type": "code",
   "source": [
    "data = df[['Political Regime', 'Happiness Score']].dropna()\n",
    "plt.figure(figsize=(8, 6))\n",
    "sns.scatterplot(x='Political Regime', y='Happiness Score', data=data, s=80, alpha=0.7)\n",
    "plt.title(\"Зависимость индекса счастья от степени демократичности политического режима\")\n",
    "plt.xlabel(\"Democracy Score (Степень демократичности)\")\n",
    "plt.ylabel(\"Happiness Score (Индекс счастья)\")\n",
    "plt.show()"
   ],
   "metadata": {
    "colab": {
     "base_uri": "https://localhost:8080/",
     "height": 453
    },
    "id": "sez2tvYQaYTp",
    "outputId": "7103d7fb-7fe5-4ff7-eca4-ea37617a918a"
   },
   "execution_count": 81,
   "outputs": [
    {
     "data": {
      "text/plain": "<Figure size 576x432 with 1 Axes>",
      "image/png": "[encoded data removed]"
     },
     "metadata": {
      "needs_background": "light"
     },
     "output_type": "display_data"
    }
   ]
  },
  {
   "cell_type": "markdown",
   "source": [
    "По графику прослеживается взаимосвязь, но она не кажется очень явной. При этом среди наиболее демократичных стран в основном сосредоточены страны с самым высоким рейтингом счастья."
   ],
   "metadata": {
    "collapsed": false,
    "pycharm": {
     "name": "#%% md\n"
    }
   }
  },
  {
   "cell_type": "markdown",
   "source": [
    "Посчитаем корреляцию Кендалла, поскольку одна из переменных метрическая, а другая порядковая категориальная с большим количесвом связных рангов."
   ],
   "metadata": {
    "id": "s5J_3vB3aoJ1",
    "pycharm": {
     "name": "#%% md\n"
    }
   }
  },
  {
   "cell_type": "code",
   "execution_count": 86,
   "outputs": [
    {
     "name": "stdout",
     "output_type": "stream",
     "text": [
      "Коэффициент корреляции Кендалла tau: 0.455\n",
      "p-value: 0.000\n"
     ]
    }
   ],
   "source": [
    "tau, p_value = kendalltau(data[\"Political Regime\"], data[\"Happiness Score\"])\n",
    "print(f\"Коэффициент корреляции Кендалла tau: {tau:.3f}\")\n",
    "print(f\"p-value: {p_value:.3f}\")"
   ],
   "metadata": {
    "collapsed": false,
    "pycharm": {
     "name": "#%%\n"
    }
   }
  },
  {
   "cell_type": "markdown",
   "source": [
    "p-value < 0.05 отклоняем нулевую гипотезу.\n",
    "\n",
    "Взаимосвязь прямая, средняя (чем более демократичная страна, тем она счастливая)."
   ],
   "metadata": {
    "collapsed": false,
    "pycharm": {
     "name": "#%% md\n"
    }
   }
  },
  {
   "cell_type": "markdown",
   "source": [
    "### Н4 - Существует взаимосвязь между вкладом сельского хозяйства в ВВП и доступом к питьевой воде"
   ],
   "metadata": {
    "id": "W2JpprFebE8S"
   }
  },
  {
   "cell_type": "code",
   "source": [
    "data = df[['Agriculture, forestry, and fishing, value added (% of GDP)', 'People using at least basic drinking water services (% of population)']].dropna().astype('float')\n",
    "\n",
    "plt.figure(figsize=(8, 6))\n",
    "sns.regplot(x='Agriculture, forestry, and fishing, value added (% of GDP)', y='People using at least basic drinking water services (% of population)', data=data,\n",
    "            scatter_kws={'alpha': 0.7}, line_kws={'color': 'red'})\n",
    "plt.title(\"Зависимость доступа к питьевой воде от вклада сельского хозяйства в ВВП\")\n",
    "plt.xlabel(\"Agriculture % of GDP\")\n",
    "plt.ylabel(\"Access to Drinking Water\")\n",
    "plt.show()"
   ],
   "metadata": {
    "colab": {
     "base_uri": "https://localhost:8080/",
     "height": 453
    },
    "id": "HIlaVyJ7bJuA",
    "outputId": "5e7f7407-f4bf-49d6-c882-9e4df97e5ffd"
   },
   "execution_count": 109,
   "outputs": [
    {
     "data": {
      "text/plain": "<Figure size 576x432 with 1 Axes>",
      "image/png": "[encoded data removed]"
     },
     "metadata": {
      "needs_background": "light"
     },
     "output_type": "display_data"
    }
   ]
  },
  {
   "cell_type": "markdown",
   "source": [
    "Кажется зависимость слабоватая, но присутствует. При чем она обратная, видимо чем меньшну часть от ВВП составляет сельское хозяйство, тем она более развитая, а в более развтиых странах лучше доступ к питьевой воде."
   ],
   "metadata": {
    "collapsed": false,
    "pycharm": {
     "name": "#%% md\n"
    }
   }
  },
  {
   "cell_type": "code",
   "execution_count": 111,
   "outputs": [
    {
     "name": "stdout",
     "output_type": "stream",
     "text": [
      "Коэффициент корреляции Пирсона: -0.654\n",
      "p-value: 0.000\n"
     ]
    }
   ],
   "source": [
    "corr, p_value = pearsonr(data[data.columns[0]], data[data.columns[1]])\n",
    "print(f\"Коэффициент корреляции Пирсона: {corr:.3f}\")\n",
    "print(f\"p-value: {p_value:.3f}\")"
   ],
   "metadata": {
    "collapsed": false,
    "pycharm": {
     "name": "#%%\n"
    }
   }
  },
  {
   "cell_type": "markdown",
   "source": [
    "p-value < 0.05 - отклоняем нулевую гипотезу.\n",
    "\n",
    "Зависимость средняя, обратная.\n"
   ],
   "metadata": {
    "collapsed": false,
    "pycharm": {
     "name": "#%% md\n"
    }
   }
  },
  {
   "cell_type": "markdown",
   "source": [
    "### Н5 - Существует взаимосвязь между социальным взносом и индексом счастья"
   ],
   "metadata": {
    "collapsed": false,
    "pycharm": {
     "name": "#%% md\n"
    }
   }
  },
  {
   "cell_type": "code",
   "execution_count": 123,
   "outputs": [
    {
     "data": {
      "text/plain": "<Figure size 576x432 with 1 Axes>",
      "image/png": "[encoded data removed]"
     },
     "metadata": {
      "needs_background": "light"
     },
     "output_type": "display_data"
    }
   ],
   "source": [
    "data = df[['Happiness Score', 'Social contributions (% of revenue)']].dropna().astype('float')\n",
    "plt.figure(figsize=(8, 6))\n",
    "sns.regplot(x='Social contributions (% of revenue)', y='Happiness Score', data=data,\n",
    "            scatter_kws={'alpha': 0.7}, line_kws={'color': 'red'})\n",
    "plt.title(\"Взаимосвязь социального взноса и индекса счастья\")\n",
    "plt.xlabel(\"Social Contribution\")\n",
    "plt.ylabel(\"Happiness Score\")\n",
    "plt.show()"
   ],
   "metadata": {
    "collapsed": false,
    "pycharm": {
     "name": "#%%\n"
    }
   }
  },
  {
   "cell_type": "markdown",
   "source": [
    "По графику видим небольшую прямую взаимосвязь"
   ],
   "metadata": {
    "collapsed": false,
    "pycharm": {
     "name": "#%% md\n"
    }
   }
  },
  {
   "cell_type": "code",
   "execution_count": 124,
   "outputs": [
    {
     "name": "stdout",
     "output_type": "stream",
     "text": [
      "Коэффициент корреляции Пирсона: 0.549\n",
      "p-value: 0.000\n"
     ]
    }
   ],
   "source": [
    "corr, p_value = pearsonr(data[data.columns[0]], data[data.columns[1]])\n",
    "print(f\"Коэффициент корреляции Пирсона: {corr:.3f}\")\n",
    "print(f\"p-value: {p_value:.3f}\")"
   ],
   "metadata": {
    "collapsed": false,
    "pycharm": {
     "name": "#%%\n"
    }
   }
  },
  {
   "cell_type": "markdown",
   "source": [
    "p-value < 0.05 - отклоняем нулевую гипотезу.\n",
    "\n",
    "Взаимосвязь средняя, прямая."
   ],
   "metadata": {
    "collapsed": false,
    "pycharm": {
     "name": "#%% md\n"
    }
   }
  },
  {
   "cell_type": "markdown",
   "source": [
    "### Н6 - Существует взаимосвязь между паритетом полов в парламенте и индексом счастья"
   ],
   "metadata": {
    "id": "smhTHmnstaO-"
   }
  },
  {
   "cell_type": "code",
   "source": [
    "data = df[['Parlament Gender Parity Deviation', 'Happiness Score']].dropna().astype('float')\n",
    "plt.figure(figsize=(8, 6))\n",
    "sns.regplot(x='Parlament Gender Parity Deviation', y='Happiness Score', data=data,\n",
    "            scatter_kws={'alpha': 0.7}, line_kws={'color': 'red'})\n",
    "plt.title(\"Зависимость индекса счастья от паритета полов в парламенте\")\n",
    "plt.xlabel(\"Отклонение от паритета полов в парламенте (%)\")\n",
    "plt.ylabel(\"Индекс счастья\")\n",
    "plt.show()"
   ],
   "metadata": {
    "colab": {
     "base_uri": "https://localhost:8080/",
     "height": 453
    },
    "id": "VwuR_KcxtdAc",
    "outputId": "cff09468-1b91-4336-9195-c96ffdee82cf"
   },
   "execution_count": 127,
   "outputs": [
    {
     "data": {
      "text/plain": "<Figure size 576x432 with 1 Axes>",
      "image/png": "[encoded data removed]"
     },
     "metadata": {
      "needs_background": "light"
     },
     "output_type": "display_data"
    }
   ]
  },
  {
   "cell_type": "markdown",
   "source": [
    "По графику кажется, что подтверждается, так как при процентном равенстве полов в парламенте индекс счастья значительно выше"
   ],
   "metadata": {
    "id": "ibaURo5SvQIP"
   }
  },
  {
   "cell_type": "code",
   "execution_count": 129,
   "outputs": [
    {
     "name": "stdout",
     "output_type": "stream",
     "text": [
      "Коэффициент корреляции Пирсона: -0.454\n",
      "p-value: 0.000\n"
     ]
    }
   ],
   "source": [
    "corr, p_value = pearsonr(data[data.columns[0]], data[data.columns[1]])\n",
    "print(f\"Коэффициент корреляции Пирсона: {corr:.3f}\")\n",
    "print(f\"p-value: {p_value:.3f}\")"
   ],
   "metadata": {
    "collapsed": false,
    "pycharm": {
     "name": "#%%\n"
    }
   }
  },
  {
   "cell_type": "markdown",
   "source": [
    "p-value < 0.05 - отклоняем нулевую гипотезу.\n",
    "\n",
    "Взаимосвязь есть, она средняя, прямая. (Между индексом счастья и отклонением от равенства связь обратная, поэтому между индексом счастья и паритетом - прямая)."
   ],
   "metadata": {
    "collapsed": false,
    "pycharm": {
     "name": "#%% md\n"
    }
   }
  },
  {
   "cell_type": "markdown",
   "source": [
    "### Н7 - Существует взаимосвязь между языком и регионом"
   ],
   "metadata": {
    "collapsed": false,
    "pycharm": {
     "name": "#%% md\n"
    }
   }
  },
  {
   "cell_type": "markdown",
   "source": [
    "Построим сводную таблицу"
   ],
   "metadata": {
    "collapsed": false,
    "pycharm": {
     "name": "#%% md\n"
    }
   }
  },
  {
   "cell_type": "code",
   "execution_count": 131,
   "outputs": [
    {
     "data": {
      "text/plain": "Is Main Language English  False  True \nRegion                                \nAfrica                       37     17\nAmericas                     25     21\nAsia                         43      6\nEurope                       43      5\nOceania                       5     14",
      "text/html": "<div>\n<style scoped>\n    .dataframe tbody tr th:only-of-type {\n        vertical-align: middle;\n    }\n\n    .dataframe tbody tr th {\n        vertical-align: top;\n    }\n\n    .dataframe thead th {\n        text-align: right;\n    }\n</style>\n<table border=\"1\" class=\"dataframe\">\n  <thead>\n    <tr style=\"text-align: right;\">\n      <th>Is Main Language English</th>\n      <th>False</th>\n      <th>True</th>\n    </tr>\n    <tr>\n      <th>Region</th>\n      <th></th>\n      <th></th>\n    </tr>\n  </thead>\n  <tbody>\n    <tr>\n      <th>Africa</th>\n      <td>37</td>\n      <td>17</td>\n    </tr>\n    <tr>\n      <th>Americas</th>\n      <td>25</td>\n      <td>21</td>\n    </tr>\n    <tr>\n      <th>Asia</th>\n      <td>43</td>\n      <td>6</td>\n    </tr>\n    <tr>\n      <th>Europe</th>\n      <td>43</td>\n      <td>5</td>\n    </tr>\n    <tr>\n      <th>Oceania</th>\n      <td>5</td>\n      <td>14</td>\n    </tr>\n  </tbody>\n</table>\n</div>"
     },
     "execution_count": 131,
     "metadata": {},
     "output_type": "execute_result"
    }
   ],
   "source": [
    "data = df[['Is Main Language English', 'Region']].dropna()\n",
    "\n",
    "contingency_table = pd.crosstab(data['Region'], data['Is Main Language English'])\n",
    "contingency_table"
   ],
   "metadata": {
    "collapsed": false,
    "pycharm": {
     "name": "#%%\n"
    }
   }
  },
  {
   "cell_type": "markdown",
   "source": [
    "Все чистоты >= 5, поэтому тест Хи-квадрат применим.\n"
   ],
   "metadata": {
    "collapsed": false,
    "pycharm": {
     "name": "#%% md\n"
    }
   }
  },
  {
   "cell_type": "markdown",
   "source": [
    "Перед этим еще посмотрим на частотный график."
   ],
   "metadata": {
    "collapsed": false,
    "pycharm": {
     "name": "#%% md\n"
    }
   }
  },
  {
   "cell_type": "code",
   "source": [
    "plt.figure(figsize=(10, 6))\n",
    "sns.countplot(data=data, x='Region', hue='Is Main Language English')\n",
    "\n",
    "plt.title(\"Частотный график: регион и статус 'Is Main Language English'\")\n",
    "plt.xlabel(\"Регион\")\n",
    "plt.ylabel(\"Количество наблюдений\")\n",
    "\n",
    "plt.show()"
   ],
   "metadata": {
    "collapsed": false,
    "pycharm": {
     "name": "#%%\n"
    }
   },
   "execution_count": 134,
   "outputs": [
    {
     "data": {
      "text/plain": "<Figure size 720x432 with 1 Axes>",
      "image/png": "[encoded data removed]"
     },
     "metadata": {
      "needs_background": "light"
     },
     "output_type": "display_data"
    }
   ]
  },
  {
   "cell_type": "markdown",
   "source": [
    "Видим, что в Евразии английский значительно преобладает, а в Океании проигрывает."
   ],
   "metadata": {
    "collapsed": false,
    "pycharm": {
     "name": "#%% md\n"
    }
   }
  },
  {
   "cell_type": "markdown",
   "source": [
    "Проведем тест Хи-квадрат:"
   ],
   "metadata": {
    "collapsed": false,
    "pycharm": {
     "name": "#%% md\n"
    }
   }
  },
  {
   "cell_type": "code",
   "execution_count": 133,
   "outputs": [
    {
     "name": "stdout",
     "output_type": "stream",
     "text": [
      "Хи-квадрат статистика: 39.377\n",
      "Степеней свободы:  4\n",
      "p-value: 0.000\n"
     ]
    }
   ],
   "source": [
    "from scipy.stats import chi2_contingency\n",
    "chi2, p_value, dof, expected = chi2_contingency(contingency_table)\n",
    "\n",
    "print(\"p-value: {:.3f}\".format(p_value))"
   ],
   "metadata": {
    "collapsed": false,
    "pycharm": {
     "name": "#%%\n"
    }
   }
  },
  {
   "cell_type": "markdown",
   "source": [
    "p_value < 0.05 - отклоняем нулевую гипотезу, принимаем альтернативную, о том, что взаимосвязь есть.\n"
   ],
   "metadata": {
    "collapsed": false,
    "pycharm": {
     "name": "#%% md\n"
    }
   }
  },
  {
   "cell_type": "markdown",
   "source": [
    "### Н8 - Существует взаимосвязь между основной валютой и языком"
   ],
   "metadata": {
    "collapsed": false,
    "pycharm": {
     "name": "#%% md\n"
    }
   }
  },
  {
   "cell_type": "code",
   "execution_count": 137,
   "outputs": [
    {
     "data": {
      "text/plain": "Is Main Language English  False  True \nIs Reserve Currency                   \nFalse                       123     50\nTrue                         30     13",
      "text/html": "<div>\n<style scoped>\n    .dataframe tbody tr th:only-of-type {\n        vertical-align: middle;\n    }\n\n    .dataframe tbody tr th {\n        vertical-align: top;\n    }\n\n    .dataframe thead th {\n        text-align: right;\n    }\n</style>\n<table border=\"1\" class=\"dataframe\">\n  <thead>\n    <tr style=\"text-align: right;\">\n      <th>Is Main Language English</th>\n      <th>False</th>\n      <th>True</th>\n    </tr>\n    <tr>\n      <th>Is Reserve Currency</th>\n      <th></th>\n      <th></th>\n    </tr>\n  </thead>\n  <tbody>\n    <tr>\n      <th>False</th>\n      <td>123</td>\n      <td>50</td>\n    </tr>\n    <tr>\n      <th>True</th>\n      <td>30</td>\n      <td>13</td>\n    </tr>\n  </tbody>\n</table>\n</div>"
     },
     "execution_count": 137,
     "metadata": {},
     "output_type": "execute_result"
    }
   ],
   "source": [
    "data = df[['Is Reserve Currency', 'Is Main Language English']].dropna()\n",
    "\n",
    "contingency_table = pd.crosstab(data['Is Reserve Currency'], data['Is Main Language English'])\n",
    "contingency_table"
   ],
   "metadata": {
    "collapsed": false,
    "pycharm": {
     "name": "#%%\n"
    }
   }
  },
  {
   "cell_type": "code",
   "execution_count": 140,
   "outputs": [
    {
     "data": {
      "text/plain": "<Figure size 720x432 with 1 Axes>",
      "image/png": "[encoded data removed]"
     },
     "metadata": {
      "needs_background": "light"
     },
     "output_type": "display_data"
    }
   ],
   "source": [
    "plt.figure(figsize=(10, 6))\n",
    "sns.countplot(data=data, x='Is Reserve Currency', hue='Is Main Language English')\n",
    "\n",
    "plt.title(\"Распределение 'Is Reserve Currency' по значению 'Is Main Language English'\")\n",
    "plt.xlabel(\"Является ли валюты страны мировой резервной валютой\")\n",
    "plt.ylabel(\"Количество наблюдений\")\n",
    "plt.show()"
   ],
   "metadata": {
    "collapsed": false,
    "pycharm": {
     "name": "#%%\n"
    }
   }
  },
  {
   "cell_type": "markdown",
   "source": [
    "Кажется что взаимосвязи нет, потому что соотношения почти одинаковые."
   ],
   "metadata": {
    "collapsed": false,
    "pycharm": {
     "name": "#%% md\n"
    }
   }
  },
  {
   "cell_type": "markdown",
   "source": [
    "Тест Хи-квадрат применим, поскольку все частоты > 5."
   ],
   "metadata": {
    "collapsed": false,
    "pycharm": {
     "name": "#%% md\n"
    }
   }
  },
  {
   "cell_type": "code",
   "execution_count": 139,
   "outputs": [
    {
     "name": "stdout",
     "output_type": "stream",
     "text": [
      "p-value: 1.000\n"
     ]
    }
   ],
   "source": [
    "chi2, p_value, dof, expected = chi2_contingency(contingency_table)\n",
    "print(\"p-value: {:.3f}\".format(p_value))"
   ],
   "metadata": {
    "collapsed": false,
    "pycharm": {
     "name": "#%%\n"
    }
   }
  },
  {
   "cell_type": "markdown",
   "source": [
    "Это же подтверждает и тест Хи-квадрат. Поскольку p_value > 0.05, мы принимаем нулевую гипотезу."
   ],
   "metadata": {
    "collapsed": false,
    "pycharm": {
     "name": "#%% md\n"
    }
   }
  },
  {
   "cell_type": "markdown",
   "source": [
    "### Н9 - Существует взаимосвязь между регионом и стороной движения автомобилей"
   ],
   "metadata": {
    "collapsed": false,
    "pycharm": {
     "name": "#%% md\n"
    }
   }
  },
  {
   "cell_type": "code",
   "execution_count": 141,
   "outputs": [
    {
     "data": {
      "text/plain": "IsCarRight  False  True \nRegion                  \nAfrica         14     40\nAmericas       16     30\nAsia           16     33\nEurope          5     43\nOceania        10      9",
      "text/html": "<div>\n<style scoped>\n    .dataframe tbody tr th:only-of-type {\n        vertical-align: middle;\n    }\n\n    .dataframe tbody tr th {\n        vertical-align: top;\n    }\n\n    .dataframe thead th {\n        text-align: right;\n    }\n</style>\n<table border=\"1\" class=\"dataframe\">\n  <thead>\n    <tr style=\"text-align: right;\">\n      <th>IsCarRight</th>\n      <th>False</th>\n      <th>True</th>\n    </tr>\n    <tr>\n      <th>Region</th>\n      <th></th>\n      <th></th>\n    </tr>\n  </thead>\n  <tbody>\n    <tr>\n      <th>Africa</th>\n      <td>14</td>\n      <td>40</td>\n    </tr>\n    <tr>\n      <th>Americas</th>\n      <td>16</td>\n      <td>30</td>\n    </tr>\n    <tr>\n      <th>Asia</th>\n      <td>16</td>\n      <td>33</td>\n    </tr>\n    <tr>\n      <th>Europe</th>\n      <td>5</td>\n      <td>43</td>\n    </tr>\n    <tr>\n      <th>Oceania</th>\n      <td>10</td>\n      <td>9</td>\n    </tr>\n  </tbody>\n</table>\n</div>"
     },
     "execution_count": 141,
     "metadata": {},
     "output_type": "execute_result"
    }
   ],
   "source": [
    "data = df[['Region', 'IsCarRight']].dropna()\n",
    "contingency_table = pd.crosstab(data['Region'], data['IsCarRight'])\n",
    "contingency_table"
   ],
   "metadata": {
    "collapsed": false,
    "pycharm": {
     "name": "#%%\n"
    }
   }
  },
  {
   "cell_type": "code",
   "source": [
    "plt.figure(figsize=(10, 6))\n",
    "sns.countplot(data=data, x='Region', hue='IsCarRight')\n",
    "\n",
    "plt.title(\"Распределение 'IsCarRight' по регионам\")\n",
    "plt.xlabel(\"Регион\")\n",
    "plt.ylabel(\"Количество наблюдений\")\n",
    "plt.xticks(rotation=45)  # При необходимости поворот подписей для лучшей читаемости\n",
    "plt.show()"
   ],
   "metadata": {
    "collapsed": false,
    "pycharm": {
     "name": "#%%\n"
    }
   },
   "execution_count": 142,
   "outputs": [
    {
     "data": {
      "text/plain": "<Figure size 720x432 with 1 Axes>",
      "image/png": "[encoded data removed]"
     },
     "metadata": {
      "needs_background": "light"
     },
     "output_type": "display_data"
    }
   ]
  },
  {
   "cell_type": "markdown",
   "source": [
    "Видим, что в основном количество стран с правосторонним движением почти в два раза больше. Однако в Океании примерно поровну, а в Европе правостороннего движения сильно больше."
   ],
   "metadata": {
    "collapsed": false,
    "pycharm": {
     "name": "#%% md\n"
    }
   }
  },
  {
   "cell_type": "markdown",
   "source": [
    "Тест Хи-квадрат применим, потому что все частоты не меньше 5."
   ],
   "metadata": {
    "collapsed": false,
    "pycharm": {
     "name": "#%% md\n"
    }
   }
  },
  {
   "cell_type": "code",
   "execution_count": 144,
   "outputs": [
    {
     "name": "stdout",
     "output_type": "stream",
     "text": [
      "p-value: 0.00540\n"
     ]
    }
   ],
   "source": [
    "chi2, p_value, dof, expected = chi2_contingency(contingency_table)\n",
    "\n",
    "print(\"p-value: {:.5f}\".format(p_value))"
   ],
   "metadata": {
    "collapsed": false,
    "pycharm": {
     "name": "#%%\n"
    }
   }
  },
  {
   "cell_type": "markdown",
   "source": [
    "Значение p-value очень близко к 0.05, но оно выше этого порога, поэтому мы принимаем нулевую гипотезу, которая говорит, что взаимосвязи нет."
   ],
   "metadata": {
    "collapsed": false,
    "pycharm": {
     "name": "#%% md\n"
    }
   }
  },
  {
   "cell_type": "markdown",
   "source": [
    "### H10 - Существует взаимосвязь между политическим режимом и регионом"
   ],
   "metadata": {
    "collapsed": false,
    "pycharm": {
     "name": "#%% md\n"
    }
   }
  },
  {
   "cell_type": "code",
   "source": [
    "data = df[['Political Regime', 'Region']].dropna()\n",
    "contingency_table = pd.crosstab(data['Political Regime'], data['Region'])\n",
    "contingency_table\n"
   ],
   "metadata": {
    "collapsed": false,
    "pycharm": {
     "name": "#%%\n"
    }
   },
   "execution_count": 145,
   "outputs": [
    {
     "data": {
      "text/plain": "Region            Africa  Americas  Asia  Europe  Oceania\nPolitical Regime                                         \n0                     13         2    17       0        0\n1                     27         3    15       5        1\n2                     13        15    10      17        3\n3                      1         7     3      18        2",
      "text/html": "<div>\n<style scoped>\n    .dataframe tbody tr th:only-of-type {\n        vertical-align: middle;\n    }\n\n    .dataframe tbody tr th {\n        vertical-align: top;\n    }\n\n    .dataframe thead th {\n        text-align: right;\n    }\n</style>\n<table border=\"1\" class=\"dataframe\">\n  <thead>\n    <tr style=\"text-align: right;\">\n      <th>Region</th>\n      <th>Africa</th>\n      <th>Americas</th>\n      <th>Asia</th>\n      <th>Europe</th>\n      <th>Oceania</th>\n    </tr>\n    <tr>\n      <th>Political Regime</th>\n      <th></th>\n      <th></th>\n      <th></th>\n      <th></th>\n      <th></th>\n    </tr>\n  </thead>\n  <tbody>\n    <tr>\n      <th>0</th>\n      <td>13</td>\n      <td>2</td>\n      <td>17</td>\n      <td>0</td>\n      <td>0</td>\n    </tr>\n    <tr>\n      <th>1</th>\n      <td>27</td>\n      <td>3</td>\n      <td>15</td>\n      <td>5</td>\n      <td>1</td>\n    </tr>\n    <tr>\n      <th>2</th>\n      <td>13</td>\n      <td>15</td>\n      <td>10</td>\n      <td>17</td>\n      <td>3</td>\n    </tr>\n    <tr>\n      <th>3</th>\n      <td>1</td>\n      <td>7</td>\n      <td>3</td>\n      <td>18</td>\n      <td>2</td>\n    </tr>\n  </tbody>\n</table>\n</div>"
     },
     "execution_count": 145,
     "metadata": {},
     "output_type": "execute_result"
    }
   ]
  },
  {
   "cell_type": "markdown",
   "source": [
    "Видим, что есть значения < 5, проверим их количество"
   ],
   "metadata": {
    "collapsed": false,
    "pycharm": {
     "name": "#%% md\n"
    }
   }
  },
  {
   "cell_type": "code",
   "execution_count": 150,
   "outputs": [
    {
     "data": {
      "text/plain": "0.5"
     },
     "execution_count": 150,
     "metadata": {},
     "output_type": "execute_result"
    }
   ],
   "source": [
    "shape = contingency_table.shape\n",
    "(contingency_table.values <= 5).sum() / (shape[0] * shape[1])"
   ],
   "metadata": {
    "collapsed": false,
    "pycharm": {
     "name": "#%%\n"
    }
   }
  },
  {
   "cell_type": "markdown",
   "source": [
    "50 % значений в таблице не больше 5 (что больше чем 95%), поэтому тест Хи-квадрат не применим."
   ],
   "metadata": {
    "collapsed": false,
    "pycharm": {
     "name": "#%% md\n"
    }
   }
  },
  {
   "cell_type": "code",
   "execution_count": 151,
   "outputs": [
    {
     "data": {
      "text/plain": "<Figure size 720x432 with 1 Axes>",
      "image/png": "[encoded data removed]"
     },
     "metadata": {
      "needs_background": "light"
     },
     "output_type": "display_data"
    }
   ],
   "source": [
    "plt.figure(figsize=(10, 6))\n",
    "sns.countplot(data=data, x='Region', hue='Political Regime')\n",
    "\n",
    "plt.title(\"Распределение политического режима по регионам\")\n",
    "plt.xlabel(\"Регион\")\n",
    "plt.ylabel(\"Количество наблюдений\")\n",
    "plt.xticks(rotation=45)  # Поворот подписей по оси X для удобства\n",
    "plt.show()"
   ],
   "metadata": {
    "collapsed": false,
    "pycharm": {
     "name": "#%%\n"
    }
   }
  },
  {
   "cell_type": "markdown",
   "source": [
    "Видим, что в Европе и Америках более демократичные страны, в Азии менее демократичные. В Океании мало данных, но скорее более демократичные страны. В Африке больше недемократичных стран, однако демократичных тоже достаточно."
   ],
   "metadata": {
    "collapsed": false,
    "pycharm": {
     "name": "#%% md\n"
    }
   }
  },
  {
   "cell_type": "markdown",
   "source": [
    "### H11 - Существует взаимосвязь между вкладываемыми государством в образование деньгами и процентом окончания школ"
   ],
   "metadata": {
    "collapsed": false,
    "pycharm": {
     "name": "#%% md\n"
    }
   }
  },
  {
   "cell_type": "code",
   "execution_count": 152,
   "outputs": [
    {
     "data": {
      "text/plain": "<Figure size 720x432 with 1 Axes>",
      "image/png": "[encoded data removed]"
     },
     "metadata": {
      "needs_background": "light"
     },
     "output_type": "display_data"
    }
   ],
   "source": [
    "data = df[['Government expenditure on education, total (% of government expenditure)',\n",
    "           'Primary completion rate, total (% of relevant age group)']].dropna()\n",
    "plt.figure(figsize=(10, 6))\n",
    "sns.scatterplot(data=data,\n",
    "                x='Government expenditure on education, total (% of government expenditure)',\n",
    "                y='Primary completion rate, total (% of relevant age group)')\n",
    "\n",
    "plt.title(\"Scatter plot: Government Expenditure на образование vs. Primary Completion Rate\")\n",
    "plt.xlabel(\"Затраты на образование (% от госрасходов)\")\n",
    "plt.ylabel(\"Уровень завершения начального образования (%)\")\n",
    "plt.show()"
   ],
   "metadata": {
    "collapsed": false,
    "pycharm": {
     "name": "#%%\n"
    }
   }
  },
  {
   "cell_type": "markdown",
   "source": [
    "По графику кажется, что точки разбросаны хаотично, без какой-либо взаимосвязи"
   ],
   "metadata": {
    "collapsed": false,
    "pycharm": {
     "name": "#%% md\n"
    }
   }
  },
  {
   "cell_type": "code",
   "execution_count": 153,
   "outputs": [
    {
     "name": "stdout",
     "output_type": "stream",
     "text": [
      "Коэффициент корреляции Пирсона: -0.068\n",
      "p-value: 0.388\n"
     ]
    }
   ],
   "source": [
    "corr_coef, p_value = pearsonr(data['Government expenditure on education, total (% of government expenditure)'],\n",
    "                              data['Primary completion rate, total (% of relevant age group)'])\n",
    "print(\"Коэффициент корреляции Пирсона: {:.3f}\".format(corr_coef))\n",
    "print(\"p-value: {:.3f}\".format(p_value))"
   ],
   "metadata": {
    "collapsed": false,
    "pycharm": {
     "name": "#%%\n"
    }
   }
  },
  {
   "cell_type": "markdown",
   "source": [
    "Видим, что p-value сильно больше порога в 0.05, так что принимаем нулевую гипотезу, о том что взаимосвязи нет."
   ],
   "metadata": {
    "collapsed": false,
    "pycharm": {
     "name": "#%% md\n"
    }
   }
  },
  {
   "cell_type": "markdown",
   "source": [
    "### H12 - Существует взаимосвязь между паритетом полов обучающихся в школах и регионом"
   ],
   "metadata": {
    "collapsed": false,
    "pycharm": {
     "name": "#%% md\n"
    }
   }
  },
  {
   "cell_type": "code",
   "execution_count": 154,
   "outputs": [],
   "source": [
    "data = df[['School enrollment, primary and secondary (gross), gender parity index (GPI)', 'Region']].dropna()\n",
    "data = data.rename(columns={'School enrollment, primary and secondary (gross), gender parity index (GPI)':'GPI'})"
   ],
   "metadata": {
    "collapsed": false,
    "pycharm": {
     "name": "#%%\n"
    }
   }
  },
  {
   "cell_type": "code",
   "execution_count": 155,
   "outputs": [
    {
     "data": {
      "text/plain": "<Figure size 720x432 with 1 Axes>",
      "image/png": "[encoded data removed]"
     },
     "metadata": {
      "needs_background": "light"
     },
     "output_type": "display_data"
    }
   ],
   "source": [
    "plt.figure(figsize=(10, 6))\n",
    "sns.boxplot(data=data, x='Region', y='GPI')\n",
    "plt.title(\"Распределение Gender Parity Index по регионам\")\n",
    "plt.xlabel(\"Регион\")\n",
    "plt.ylabel(\"Gender Parity Index (GPI)\")\n",
    "plt.xticks(rotation=45)\n",
    "plt.show()"
   ],
   "metadata": {
    "collapsed": false,
    "pycharm": {
     "name": "#%%\n"
    }
   }
  },
  {
   "cell_type": "markdown",
   "source": [
    "Видим, что в Европе, Азии и Америках соотношение девочек и мальчиков в школах примерно 50% на 50% (не только, но в большинстве стран). В Океании девочек в школах чуть больше чем мальчиков, а в Африке, в отличие от других стран, большой разброс, но есть достаточно стран, где мальчиков в школах больше, чем девочек."
   ],
   "metadata": {
    "collapsed": false,
    "pycharm": {
     "name": "#%% md\n"
    }
   }
  },
  {
   "cell_type": "markdown",
   "source": [
    "У нас в курсе не был пройден тест для выявления взаимосвязи между категориальной (не порядковой) и метрической переменной. Однако воспользовавшись поиском удалось найти тест Крускала-Уоллиса (он как бы проверяет насколько медианы нескольких выборок близки)."
   ],
   "metadata": {
    "collapsed": false,
    "pycharm": {
     "name": "#%% md\n"
    }
   }
  },
  {
   "cell_type": "code",
   "execution_count": 159,
   "outputs": [
    {
     "name": "stdout",
     "output_type": "stream",
     "text": [
      "p-value: 0.049\n"
     ]
    }
   ],
   "source": [
    "from scipy.stats import kruskal\n",
    "\n",
    "\n",
    "regions = data['Region'].unique()\n",
    "groups = [data[data['Region'] == reg]['GPI'] for reg in regions]\n",
    "\n",
    "# Применим тест Крускала-Уоллиса\n",
    "stat, p_value = kruskal(*groups)\n",
    "print(\"p-value: {:.3f}\".format(p_value))"
   ],
   "metadata": {
    "collapsed": false,
    "pycharm": {
     "name": "#%%\n"
    }
   }
  },
  {
   "cell_type": "markdown",
   "source": [
    "Значение p-value получилось очень близко к 0.05, но, тем не менее, оно меньше порога. Поэтому отклоняем нулевую гипотезу."
   ],
   "metadata": {
    "collapsed": false,
    "pycharm": {
     "name": "#%% md\n"
    }
   }
  },
  {
   "cell_type": "markdown",
   "source": [
    "### H13 - Существует взаимосвязь между плотностью населения страны и индексом счастья"
   ],
   "metadata": {
    "collapsed": false,
    "pycharm": {
     "name": "#%% md\n"
    }
   }
  },
  {
   "cell_type": "code",
   "execution_count": 172,
   "outputs": [
    {
     "data": {
      "text/plain": "<Figure size 720x432 with 1 Axes>",
      "image/png": "[encoded data removed]"
     },
     "metadata": {
      "needs_background": "light"
     },
     "output_type": "display_data"
    }
   ],
   "source": [
    "data = df[['Density of Population', 'Happiness Score']].dropna().astype('float')\n",
    "plt.figure(figsize=(10, 6))\n",
    "sns.scatterplot(data=data, x='Density of Population', y='Happiness Score')\n",
    "plt.title(\"Зависимость Happiness Score от Population Density\")\n",
    "plt.xlabel(\"Плотность населения\")\n",
    "plt.ylabel(\"Индекс счастья\")\n",
    "plt.show()"
   ],
   "metadata": {
    "collapsed": false,
    "pycharm": {
     "name": "#%%\n"
    }
   }
  },
  {
   "cell_type": "markdown",
   "source": [
    "Из-за выбросов ничего не видно, попробуем убрать их."
   ],
   "metadata": {
    "collapsed": false,
    "pycharm": {
     "name": "#%% md\n"
    }
   }
  },
  {
   "cell_type": "code",
   "execution_count": 173,
   "outputs": [
    {
     "data": {
      "text/plain": "<Figure size 720x432 with 1 Axes>",
      "image/png": "[encoded data removed]"
     },
     "metadata": {
      "needs_background": "light"
     },
     "output_type": "display_data"
    }
   ],
   "source": [
    "data = data.where(lambda x: x['Density of Population'] < 1000).dropna()\n",
    "plt.figure(figsize=(10, 6))\n",
    "sns.scatterplot(data=data, x='Density of Population', y='Happiness Score')\n",
    "plt.title(\"Зависимость Happiness Score от Population Density\")\n",
    "plt.xlabel(\"Плотность населения\")\n",
    "plt.ylabel(\"Индекс счастья\")\n",
    "plt.show()"
   ],
   "metadata": {
    "collapsed": false,
    "pycharm": {
     "name": "#%%\n"
    }
   }
  },
  {
   "cell_type": "markdown",
   "source": [
    "Кажется, что точки расположены достаточно хаотично, ну может совсем немного похоже на обратную зависимость."
   ],
   "metadata": {
    "collapsed": false,
    "pycharm": {
     "name": "#%% md\n"
    }
   }
  },
  {
   "cell_type": "code",
   "execution_count": 174,
   "outputs": [
    {
     "name": "stdout",
     "output_type": "stream",
     "text": [
      "Коэффициент корреляции Пирсона: -0.026\n",
      "p-value: 0.764\n"
     ]
    }
   ],
   "source": [
    "corr_coef, p_value = pearsonr(data['Density of Population'], data['Happiness Score'])\n",
    "print(\"Коэффициент корреляции Пирсона: {:.3f}\".format(corr_coef))\n",
    "print(\"p-value: {:.3f}\".format(p_value))"
   ],
   "metadata": {
    "collapsed": false,
    "pycharm": {
     "name": "#%%\n"
    }
   }
  },
  {
   "cell_type": "markdown",
   "source": [
    "p-value > 0.05, поэтому принимаем нулевую гипотезу - взаимосвязи нет."
   ],
   "metadata": {
    "collapsed": false,
    "pycharm": {
     "name": "#%% md\n"
    }
   }
  },
  {
   "cell_type": "markdown",
   "source": [
    "# Описание центральной тенденции и разброса"
   ],
   "metadata": {
    "collapsed": false,
    "pycharm": {
     "name": "#%% md\n"
    }
   }
  },
  {
   "cell_type": "markdown",
   "source": [
    "Воспользуемся тестом на нормальность Колмогорова-Смирнова для метрических переменных."
   ],
   "metadata": {
    "collapsed": false,
    "pycharm": {
     "name": "#%% md\n"
    }
   }
  },
  {
   "cell_type": "code",
   "source": [
    "from scipy.stats import kstest, norm\n",
    "results = []\n",
    "for col in df.select_dtypes(include=np.number):\n",
    "            data = df[col].dropna().astype('float')\n",
    "            res = kstest(data, 'norm', args=(np.mean(data), np.std(data)))\n",
    "            results.append({'column': col, 'p-value': res.pvalue.round(3)})\n",
    "pd.DataFrame(results).sort_values(by='p-value').reset_index(drop=True)"
   ],
   "metadata": {
    "collapsed": false,
    "pycharm": {
     "name": "#%%\n"
    }
   },
   "execution_count": 189,
   "outputs": [
    {
     "data": {
      "text/plain": "                                               column  p-value\n0    Individuals using the Internet (% of population)    0.000\n1                                     Refugee Percent    0.000\n2   Agriculture, forestry, and fishing, value adde...    0.000\n3   Primary completion rate, total (% of relevant ...    0.000\n4   Maternal mortality ratio (modeled estimate, pe...    0.000\n5   School enrollment, primary and secondary (gros...    0.000\n6   People using at least basic drinking water ser...    0.000\n7   Access to clean fuels and technologies for coo...    0.000\n8         Electric power consumption (kWh per capita)    0.000\n9   Alternative and nuclear energy (% of total ene...    0.000\n10                              Density of Population    0.000\n11  High-technology exports (% of manufactured exp...    0.000\n12  Terrestrial and marine protected areas (% of t...    0.000\n13                             Homicide Rate Category    0.000\n14                                   Political Regime    0.000\n15  Foreign direct investment, net (BoP, current US$)    0.000\n16                                  GNI (current US$)    0.000\n17    Armed forces personnel (% of total labor force)    0.000\n18  Prevalence of HIV, total (% of population ages...    0.000\n19  Renewable energy consumption (% of total final...    0.001\n20      GDP per person employed (constant 2021 PPP $)    0.006\n21                       Forest area (% of land area)    0.041\n22  Government expenditure on education, total (% ...    0.068\n23                Social contributions (% of revenue)    0.073\n24  Mortality caused by road traffic injury (per 1...    0.077\n25                                    Happiness Score    0.100\n26            Life expectancy at birth, total (years)    0.104\n27           Urban population (% of total population)    0.132\n28                        Logistics Performance Index    0.196\n29  Employment to population ratio, 15+, total (%)...    0.208\n30                    Income share held by lowest 20%    0.212\n31     Mobile cellular subscriptions (per 100 people)    0.246\n32                  Parlament Gender Parity Deviation    0.415",
      "text/html": "<div>\n<style scoped>\n    .dataframe tbody tr th:only-of-type {\n        vertical-align: middle;\n    }\n\n    .dataframe tbody tr th {\n        vertical-align: top;\n    }\n\n    .dataframe thead th {\n        text-align: right;\n    }\n</style>\n<table border=\"1\" class=\"dataframe\">\n  <thead>\n    <tr style=\"text-align: right;\">\n      <th></th>\n      <th>column</th>\n      <th>p-value</th>\n    </tr>\n  </thead>\n  <tbody>\n    <tr>\n      <th>0</th>\n      <td>Individuals using the Internet (% of population)</td>\n      <td>0.000</td>\n    </tr>\n    <tr>\n      <th>1</th>\n      <td>Refugee Percent</td>\n      <td>0.000</td>\n    </tr>\n    <tr>\n      <th>2</th>\n      <td>Agriculture, forestry, and fishing, value adde...</td>\n      <td>0.000</td>\n    </tr>\n    <tr>\n      <th>3</th>\n      <td>Primary completion rate, total (% of relevant ...</td>\n      <td>0.000</td>\n    </tr>\n    <tr>\n      <th>4</th>\n      <td>Maternal mortality ratio (modeled estimate, pe...</td>\n      <td>0.000</td>\n    </tr>\n    <tr>\n      <th>5</th>\n      <td>School enrollment, primary and secondary (gros...</td>\n      <td>0.000</td>\n    </tr>\n    <tr>\n      <th>6</th>\n      <td>People using at least basic drinking water ser...</td>\n      <td>0.000</td>\n    </tr>\n    <tr>\n      <th>7</th>\n      <td>Access to clean fuels and technologies for coo...</td>\n      <td>0.000</td>\n    </tr>\n    <tr>\n      <th>8</th>\n      <td>Electric power consumption (kWh per capita)</td>\n      <td>0.000</td>\n    </tr>\n    <tr>\n      <th>9</th>\n      <td>Alternative and nuclear energy (% of total ene...</td>\n      <td>0.000</td>\n    </tr>\n    <tr>\n      <th>10</th>\n      <td>Density of Population</td>\n      <td>0.000</td>\n    </tr>\n    <tr>\n      <th>11</th>\n      <td>High-technology exports (% of manufactured exp...</td>\n      <td>0.000</td>\n    </tr>\n    <tr>\n      <th>12</th>\n      <td>Terrestrial and marine protected areas (% of t...</td>\n      <td>0.000</td>\n    </tr>\n    <tr>\n      <th>13</th>\n      <td>Homicide Rate Category</td>\n      <td>0.000</td>\n    </tr>\n    <tr>\n      <th>14</th>\n      <td>Political Regime</td>\n      <td>0.000</td>\n    </tr>\n    <tr>\n      <th>15</th>\n      <td>Foreign direct investment, net (BoP, current US$)</td>\n      <td>0.000</td>\n    </tr>\n    <tr>\n      <th>16</th>\n      <td>GNI (current US$)</td>\n      <td>0.000</td>\n    </tr>\n    <tr>\n      <th>17</th>\n      <td>Armed forces personnel (% of total labor force)</td>\n      <td>0.000</td>\n    </tr>\n    <tr>\n      <th>18</th>\n      <td>Prevalence of HIV, total (% of population ages...</td>\n      <td>0.000</td>\n    </tr>\n    <tr>\n      <th>19</th>\n      <td>Renewable energy consumption (% of total final...</td>\n      <td>0.001</td>\n    </tr>\n    <tr>\n      <th>20</th>\n      <td>GDP per person employed (constant 2021 PPP $)</td>\n      <td>0.006</td>\n    </tr>\n    <tr>\n      <th>21</th>\n      <td>Forest area (% of land area)</td>\n      <td>0.041</td>\n    </tr>\n    <tr>\n      <th>22</th>\n      <td>Government expenditure on education, total (% ...</td>\n      <td>0.068</td>\n    </tr>\n    <tr>\n      <th>23</th>\n      <td>Social contributions (% of revenue)</td>\n      <td>0.073</td>\n    </tr>\n    <tr>\n      <th>24</th>\n      <td>Mortality caused by road traffic injury (per 1...</td>\n      <td>0.077</td>\n    </tr>\n    <tr>\n      <th>25</th>\n      <td>Happiness Score</td>\n      <td>0.100</td>\n    </tr>\n    <tr>\n      <th>26</th>\n      <td>Life expectancy at birth, total (years)</td>\n      <td>0.104</td>\n    </tr>\n    <tr>\n      <th>27</th>\n      <td>Urban population (% of total population)</td>\n      <td>0.132</td>\n    </tr>\n    <tr>\n      <th>28</th>\n      <td>Logistics Performance Index</td>\n      <td>0.196</td>\n    </tr>\n    <tr>\n      <th>29</th>\n      <td>Employment to population ratio, 15+, total (%)...</td>\n      <td>0.208</td>\n    </tr>\n    <tr>\n      <th>30</th>\n      <td>Income share held by lowest 20%</td>\n      <td>0.212</td>\n    </tr>\n    <tr>\n      <th>31</th>\n      <td>Mobile cellular subscriptions (per 100 people)</td>\n      <td>0.246</td>\n    </tr>\n    <tr>\n      <th>32</th>\n      <td>Parlament Gender Parity Deviation</td>\n      <td>0.415</td>\n    </tr>\n  </tbody>\n</table>\n</div>"
     },
     "execution_count": 189,
     "metadata": {},
     "output_type": "execute_result"
    }
   ]
  },
  {
   "cell_type": "markdown",
   "source": [
    "Согласно p-value (0.05) считаем столбцы с индексами до 21 (включительно) распределенным нормально, а остальные - нет."
   ],
   "metadata": {
    "collapsed": false,
    "pycharm": {
     "name": "#%% md\n"
    }
   }
  },
  {
   "cell_type": "markdown",
   "source": [
    "Для наглядности посмотрим на примере двух колонок:"
   ],
   "metadata": {
    "collapsed": false,
    "pycharm": {
     "name": "#%% md\n"
    }
   }
  },
  {
   "cell_type": "code",
   "execution_count": 191,
   "outputs": [
    {
     "data": {
      "text/plain": "<Figure size 1008x432 with 2 Axes>",
      "image/png": "[encoded data removed]"
     },
     "metadata": {
      "needs_background": "light"
     },
     "output_type": "display_data"
    }
   ],
   "source": [
    "fig, axes = plt.subplots(1, 2, figsize=(14, 6))\n",
    "\n",
    "# 1. График для столбца \"Individuals using the Internet (% of population)\"\n",
    "col1 = \"Individuals using the Internet (% of population)\"\n",
    "data1 = df[col1].dropna()  # удаляем пропуски\n",
    "\n",
    "mean1 = data1.mean()\n",
    "std1 = data1.std()\n",
    "xmin1, xmax1 = data1.min(), data1.max()\n",
    "x1 = np.linspace(xmin1, xmax1, 100)\n",
    "p1 = norm.pdf(x1, mean1, std1)\n",
    "\n",
    "sns.histplot(data1, bins=30, kde=False, stat=\"density\",\n",
    "             color='skyblue', ax=axes[0], label='Данные')\n",
    "axes[0].plot(x1, p1, 'r', lw=2, label='Нормальное распределение')\n",
    "axes[0].set_title(f\"{col1}\\nMean: {mean1:.2f}, Std: {std1:.2f}\")\n",
    "axes[0].set_xlabel(col1)\n",
    "axes[0].set_ylabel(\"Плотность\")\n",
    "axes[0].legend()\n",
    "\n",
    "# 2. График для столбца \"Parlament Gender Parity Deviation\"\n",
    "col2 = \"Parlament Gender Parity Deviation\"\n",
    "data2 = df[col2].dropna()  # удаляем пропуски\n",
    "\n",
    "mean2 = data2.mean()\n",
    "std2 = data2.std()\n",
    "xmin2, xmax2 = data2.min(), data2.max()\n",
    "x2 = np.linspace(xmin2, xmax2, 100)\n",
    "p2 = norm.pdf(x2, mean2, std2)\n",
    "\n",
    "sns.histplot(data2, bins=30, kde=False, stat=\"density\",\n",
    "             color='lightgreen', ax=axes[1], label='Данные')\n",
    "axes[1].plot(x2, p2, 'r', lw=2, label='Нормальное распределение')\n",
    "axes[1].set_title(f\"{col2}\\nMean: {mean2:.2f}, Std: {std2:.2f}\")\n",
    "axes[1].set_xlabel(col2)\n",
    "axes[1].set_ylabel(\"Плотность\")\n",
    "axes[1].legend()\n",
    "\n",
    "plt.tight_layout()\n",
    "plt.show()"
   ],
   "metadata": {
    "collapsed": false,
    "pycharm": {
     "name": "#%%\n"
    }
   }
  },
  {
   "cell_type": "markdown",
   "source": [
    "Теперь посмотрим на показатели во всех данных:"
   ],
   "metadata": {
    "collapsed": false,
    "pycharm": {
     "name": "#%% md\n"
    }
   }
  },
  {
   "cell_type": "code",
   "execution_count": 192,
   "outputs": [
    {
     "data": {
      "text/plain": "       Happiness Score  Political Regime  Income share held by lowest 20%  \\\ncount       142.000000             172.0                       147.000000   \nmean          5.520711          1.511628                         7.024490   \nstd           1.171965          0.994066                         1.741932   \nmin           1.721000               0.0                         2.400000   \n25%           4.691500               1.0                         5.700000   \n50%           5.784500               2.0                         7.200000   \n75%           6.398250               2.0                         8.200000   \nmax           7.741000               3.0                        10.800000   \n\n       Life expectancy at birth, total (years)  \\\ncount                                    211.0   \nmean                                 72.440758   \nstd                                   7.696632   \nmin                                       53.0   \n25%                                       67.0   \n50%                                       74.0   \n75%                                       78.0   \nmax                                       85.0   \n\n       Prevalence of HIV, total (% of population ages 15-49)  \\\ncount                                         130.000000       \nmean                                            1.644615       \nstd                                             3.934937       \nmin                                             0.100000       \n25%                                             0.100000       \n50%                                             0.400000       \n75%                                             1.000000       \nmax                                            25.900000       \n\n       Renewable energy consumption (% of total final energy consumption)  \\\ncount                                         185.000000                    \nmean                                           29.552973                    \nstd                                            27.321556                    \nmin                                             0.000000                    \n25%                                             7.900000                    \n50%                                            20.500000                    \n75%                                            47.700000                    \nmax                                            95.400000                    \n\n       Armed forces personnel (% of total labor force)  \\\ncount                                       151.000000   \nmean                                          1.250331   \nstd                                           1.583282   \nmin                                           0.000000   \n25%                                           0.400000   \n50%                                           0.800000   \n75%                                           1.450000   \nmax                                          13.400000   \n\n       Urban population (% of total population)  GNI (current US$)  \\\ncount                                     187.0       1.810000e+02   \nmean                                  62.160428       1.639417e+07   \nstd                                   24.511264       9.755732e+07   \nmin                                        14.0       1.030000e+00   \n25%                                        43.0       5.820000e+00   \n50%                                        64.0       2.758000e+01   \n75%                                        82.5       1.083000e+02   \nmax                                       100.0       9.245200e+08   \n\n       Foreign direct investment, net (BoP, current US$)  ...  \\\ncount                                       1.690000e+02  ...   \nmean                                       -1.407483e+08  ...   \nstd                                         2.847691e+08  ...   \nmin                                        -9.854091e+08  ...   \n25%                                        -1.512627e+08  ...   \n50%                                        -1.546000e+01  ...   \n75%                                        -1.470000e+00  ...   \nmax                                         9.214630e+08  ...   \n\n       Maternal mortality ratio (modeled estimate, per 100,000 live births)  \\\ncount                                              164.0                      \nmean                                          141.689024                      \nstd                                           213.287892                      \nmin                                                  1.0                      \n25%                                                10.75                      \n50%                                                 53.5                      \n75%                                               183.75                      \nmax                                               1223.0                      \n\n       Primary completion rate, total (% of relevant age group)  \\\ncount                                              170.0          \nmean                                           88.717647          \nstd                                             17.91506          \nmin                                                 21.0          \n25%                                                 81.0          \n50%                                                 94.0          \n75%                                                 99.0          \nmax                                                150.0          \n\n       Government expenditure on education, total (% of government expenditure)  \\\ncount                                         171.000000                          \nmean                                           13.180702                          \nstd                                             4.883662                          \nmin                                             0.000000                          \n25%                                             9.800000                          \n50%                                            12.600000                          \n75%                                            15.900000                          \nmax                                            31.200000                          \n\n       Agriculture, forestry, and fishing, value added (% of GDP)  \\\ncount                                          178.00000            \nmean                                             9.87191            \nstd                                             10.29507            \nmin                                              0.00000            \n25%                                              1.90000            \n50%                                              6.10000            \n75%                                             15.52500            \nmax                                             47.80000            \n\n       Mortality caused by road traffic injury (per 100,000 population)  \\\ncount                                              167.0                  \nmean                                           16.461078                  \nstd                                             10.98342                  \nmin                                                  0.0                  \n25%                                                  8.0                  \n50%                                                 15.0                  \n75%                                                 24.0                  \nmax                                                 65.0                  \n\n       Refugee Percent  Density of Population  Homicide Rate Category  \\\ncount            163.0             216.000000                   194.0   \nmean          1.299425             460.243166                1.262887   \nstd            4.93897            2119.508784                1.109527   \nmin            0.00002               0.026023                     0.0   \n25%           0.009367              38.752908                     0.0   \n50%           0.103606              92.501330                     1.0   \n75%           0.852975             226.403016                     2.0   \nmax           51.67614           21644.733333                     3.0   \n\n       Logistics Performance Index  Parlament Gender Parity Deviation  \ncount                   149.000000                              193.0  \nmean                      0.465201                          24.829016  \nstd                       0.131092                          12.257939  \nmin                       0.175000                                0.0  \n25%                       0.360000                               16.0  \n50%                       0.450000                               24.0  \n75%                       0.575000                               34.0  \nmax                       0.775000                               50.0  \n\n[8 rows x 33 columns]",
      "text/html": "<div>\n<style scoped>\n    .dataframe tbody tr th:only-of-type {\n        vertical-align: middle;\n    }\n\n    .dataframe tbody tr th {\n        vertical-align: top;\n    }\n\n    .dataframe thead th {\n        text-align: right;\n    }\n</style>\n<table border=\"1\" class=\"dataframe\">\n  <thead>\n    <tr style=\"text-align: right;\">\n      <th></th>\n      <th>Happiness Score</th>\n      <th>Political Regime</th>\n      <th>Income share held by lowest 20%</th>\n      <th>Life expectancy at birth, total (years)</th>\n      <th>Prevalence of HIV, total (% of population ages 15-49)</th>\n      <th>Renewable energy consumption (% of total final energy consumption)</th>\n      <th>Armed forces personnel (% of total labor force)</th>\n      <th>Urban population (% of total population)</th>\n      <th>GNI (current US$)</th>\n      <th>Foreign direct investment, net (BoP, current US$)</th>\n      <th>...</th>\n      <th>Maternal mortality ratio (modeled estimate, per 100,000 live births)</th>\n      <th>Primary completion rate, total (% of relevant age group)</th>\n      <th>Government expenditure on education, total (% of government expenditure)</th>\n      <th>Agriculture, forestry, and fishing, value added (% of GDP)</th>\n      <th>Mortality caused by road traffic injury (per 100,000 population)</th>\n      <th>Refugee Percent</th>\n      <th>Density of Population</th>\n      <th>Homicide Rate Category</th>\n      <th>Logistics Performance Index</th>\n      <th>Parlament Gender Parity Deviation</th>\n    </tr>\n  </thead>\n  <tbody>\n    <tr>\n      <th>count</th>\n      <td>142.000000</td>\n      <td>172.0</td>\n      <td>147.000000</td>\n      <td>211.0</td>\n      <td>130.000000</td>\n      <td>185.000000</td>\n      <td>151.000000</td>\n      <td>187.0</td>\n      <td>1.810000e+02</td>\n      <td>1.690000e+02</td>\n      <td>...</td>\n      <td>164.0</td>\n      <td>170.0</td>\n      <td>171.000000</td>\n      <td>178.00000</td>\n      <td>167.0</td>\n      <td>163.0</td>\n      <td>216.000000</td>\n      <td>194.0</td>\n      <td>149.000000</td>\n      <td>193.0</td>\n    </tr>\n    <tr>\n      <th>mean</th>\n      <td>5.520711</td>\n      <td>1.511628</td>\n      <td>7.024490</td>\n      <td>72.440758</td>\n      <td>1.644615</td>\n      <td>29.552973</td>\n      <td>1.250331</td>\n      <td>62.160428</td>\n      <td>1.639417e+07</td>\n      <td>-1.407483e+08</td>\n      <td>...</td>\n      <td>141.689024</td>\n      <td>88.717647</td>\n      <td>13.180702</td>\n      <td>9.87191</td>\n      <td>16.461078</td>\n      <td>1.299425</td>\n      <td>460.243166</td>\n      <td>1.262887</td>\n      <td>0.465201</td>\n      <td>24.829016</td>\n    </tr>\n    <tr>\n      <th>std</th>\n      <td>1.171965</td>\n      <td>0.994066</td>\n      <td>1.741932</td>\n      <td>7.696632</td>\n      <td>3.934937</td>\n      <td>27.321556</td>\n      <td>1.583282</td>\n      <td>24.511264</td>\n      <td>9.755732e+07</td>\n      <td>2.847691e+08</td>\n      <td>...</td>\n      <td>213.287892</td>\n      <td>17.91506</td>\n      <td>4.883662</td>\n      <td>10.29507</td>\n      <td>10.98342</td>\n      <td>4.93897</td>\n      <td>2119.508784</td>\n      <td>1.109527</td>\n      <td>0.131092</td>\n      <td>12.257939</td>\n    </tr>\n    <tr>\n      <th>min</th>\n      <td>1.721000</td>\n      <td>0.0</td>\n      <td>2.400000</td>\n      <td>53.0</td>\n      <td>0.100000</td>\n      <td>0.000000</td>\n      <td>0.000000</td>\n      <td>14.0</td>\n      <td>1.030000e+00</td>\n      <td>-9.854091e+08</td>\n      <td>...</td>\n      <td>1.0</td>\n      <td>21.0</td>\n      <td>0.000000</td>\n      <td>0.00000</td>\n      <td>0.0</td>\n      <td>0.00002</td>\n      <td>0.026023</td>\n      <td>0.0</td>\n      <td>0.175000</td>\n      <td>0.0</td>\n    </tr>\n    <tr>\n      <th>25%</th>\n      <td>4.691500</td>\n      <td>1.0</td>\n      <td>5.700000</td>\n      <td>67.0</td>\n      <td>0.100000</td>\n      <td>7.900000</td>\n      <td>0.400000</td>\n      <td>43.0</td>\n      <td>5.820000e+00</td>\n      <td>-1.512627e+08</td>\n      <td>...</td>\n      <td>10.75</td>\n      <td>81.0</td>\n      <td>9.800000</td>\n      <td>1.90000</td>\n      <td>8.0</td>\n      <td>0.009367</td>\n      <td>38.752908</td>\n      <td>0.0</td>\n      <td>0.360000</td>\n      <td>16.0</td>\n    </tr>\n    <tr>\n      <th>50%</th>\n      <td>5.784500</td>\n      <td>2.0</td>\n      <td>7.200000</td>\n      <td>74.0</td>\n      <td>0.400000</td>\n      <td>20.500000</td>\n      <td>0.800000</td>\n      <td>64.0</td>\n      <td>2.758000e+01</td>\n      <td>-1.546000e+01</td>\n      <td>...</td>\n      <td>53.5</td>\n      <td>94.0</td>\n      <td>12.600000</td>\n      <td>6.10000</td>\n      <td>15.0</td>\n      <td>0.103606</td>\n      <td>92.501330</td>\n      <td>1.0</td>\n      <td>0.450000</td>\n      <td>24.0</td>\n    </tr>\n    <tr>\n      <th>75%</th>\n      <td>6.398250</td>\n      <td>2.0</td>\n      <td>8.200000</td>\n      <td>78.0</td>\n      <td>1.000000</td>\n      <td>47.700000</td>\n      <td>1.450000</td>\n      <td>82.5</td>\n      <td>1.083000e+02</td>\n      <td>-1.470000e+00</td>\n      <td>...</td>\n      <td>183.75</td>\n      <td>99.0</td>\n      <td>15.900000</td>\n      <td>15.52500</td>\n      <td>24.0</td>\n      <td>0.852975</td>\n      <td>226.403016</td>\n      <td>2.0</td>\n      <td>0.575000</td>\n      <td>34.0</td>\n    </tr>\n    <tr>\n      <th>max</th>\n      <td>7.741000</td>\n      <td>3.0</td>\n      <td>10.800000</td>\n      <td>85.0</td>\n      <td>25.900000</td>\n      <td>95.400000</td>\n      <td>13.400000</td>\n      <td>100.0</td>\n      <td>9.245200e+08</td>\n      <td>9.214630e+08</td>\n      <td>...</td>\n      <td>1223.0</td>\n      <td>150.0</td>\n      <td>31.200000</td>\n      <td>47.80000</td>\n      <td>65.0</td>\n      <td>51.67614</td>\n      <td>21644.733333</td>\n      <td>3.0</td>\n      <td>0.775000</td>\n      <td>50.0</td>\n    </tr>\n  </tbody>\n</table>\n<p>8 rows × 33 columns</p>\n</div>"
     },
     "execution_count": 192,
     "metadata": {},
     "output_type": "execute_result"
    }
   ],
   "source": [
    "df.describe()"
   ],
   "metadata": {
    "collapsed": false,
    "pycharm": {
     "name": "#%%\n"
    }
   }
  },
  {
   "cell_type": "markdown",
   "source": [],
   "metadata": {
    "id": "SOlHvjF8ve06",
    "pycharm": {
     "name": "#%% md\n"
    }
   }
  },
  {
   "cell_type": "code",
   "execution_count": null,
   "outputs": [],
   "source": [
    "\n"
   ],
   "metadata": {
    "collapsed": false,
    "pycharm": {
     "name": "#%%\n"
    }
   }
  }
 ]
}