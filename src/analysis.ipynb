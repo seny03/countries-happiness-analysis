{
 "nbformat": 4,
 "nbformat_minor": 0,
 "metadata": {
  "colab": {
   "provenance": []
  },
  "kernelspec": {
   "name": "pycharm-52ccbd2",
   "language": "python",
   "display_name": "PyCharm (AIolympiad)"
  },
  "language_info": {
   "name": "python"
  }
 },
 "cells": [
  {
   "cell_type": "markdown",
   "source": [
    "# Выбор и составление таблицы"
   ],
   "metadata": {
    "id": "m-qnLNgjsl62"
   }
  },
  {
   "cell_type": "markdown",
   "source": [
    "Мы составили таблицу (с помощью веб-скреппинга), где хранятся параметры разных стран. Сами параметры относятся к таким категориям как:\n",
    "- Сельское хозяйство, изменение климата, энергия, окружающая среда и природные ресурсы\n",
    "- Цифровое развитие, образование,\n",
    "- Финансы, конкурентоспособность и инновации\n",
    "- Нестабильность, конфликты и насилие\n",
    "- Управление, здравоохранение, питание и народонаселение, бедность и неравенство, социальная защита, транспорт\n",
    "- Инфраструктура и государственно-частное партнерство, рабочие места и развитие\n",
    "- Макроэкономика, торговля и инвестиции\n"
   ],
   "metadata": {
    "id": "SMoBDEbBqyqk"
   }
  },
  {
   "cell_type": "markdown",
   "source": [
    "Такая выборка позволит нам сравнить страны в социальной, экономической, окружающей среды и образовательной сферах."
   ],
   "metadata": {
    "id": "GnljS-nStAQt"
   }
  },
  {
   "cell_type": "markdown",
   "source": [
    "# Описание датасета"
   ],
   "metadata": {
    "id": "wiOnZcYLt76G"
   }
  },
  {
   "cell_type": "code",
   "execution_count": 149,
   "outputs": [
    {
     "data": {
      "text/plain": "   Country  Happiness Score  Region Main Language       Political Regime  \\\n0  Finland            7.741  Europe       Finnish    Liberal Democracies   \n1  Denmark            7.583  Europe        Danish    Liberal Democracies   \n2  Iceland            7.525  Europe     Icelandic    Liberal Democracies   \n3   Sweden            7.344  Europe       Swedish    Liberal Democracies   \n4   Israel            7.341    Asia        Arabic  Electoral Democracies   \n\n  Independent  UN Member Main Currency  Population      Area  ...  \\\n0        True       True           EUR     5530719  338424.0  ...   \n1        True       True           DKK     5831404   43094.0  ...   \n2        True       True           ISK      366425  103000.0  ...   \n3        True       True           SEK    10353442  450295.0  ...   \n4        True       True           ILS     9216900   20770.0  ...   \n\n  Access to clean fuels and technologies for cooking (% of population)  \\\n0                                              100.0                     \n1                                              100.0                     \n2                                              100.0                     \n3                                              100.0                     \n4                                              100.0                     \n\n   Social contributions (% of revenue)  \\\n0                                 32.2   \n1                                  1.8   \n2                                  9.5   \n3                                  8.9   \n4                                 15.8   \n\n   People using at least basic drinking water services (% of population)  \\\n0                                              100.0                       \n1                                              100.0                       \n2                                              100.0                       \n3                                              100.0                       \n4                                              100.0                       \n\n   School enrollment, primary and secondary (gross), gender parity index (GPI)  \\\n0                                               1.06                             \n1                                               1.00                             \n2                                               0.99                             \n3                                               1.07                             \n4                                               1.01                             \n\n   Proportion of seats held by women in national parliaments (%)  \\\n0                                               46.0               \n1                                               44.0               \n2                                               48.0               \n3                                               46.0               \n4                                               24.0               \n\n   Maternal mortality ratio (modeled estimate, per 100,000 live births)  \\\n0                                                8.0                      \n1                                                5.0                      \n2                                                3.0                      \n3                                                5.0                      \n4                                                3.0                      \n\n   Primary completion rate, total (% of relevant age group)  \\\n0                                               98.0          \n1                                              100.0          \n2                                               99.0          \n3                                              100.0          \n4                                               95.0          \n\n   Government expenditure on education, total (% of government expenditure)  \\\n0                                               10.2                          \n1                                               11.8                          \n2                                               14.9                          \n3                                               13.5                          \n4                                               17.5                          \n\n   Agriculture, forestry, and fishing, value added (% of GDP)  \\\n0                                                2.3            \n1                                                0.8            \n2                                                3.8            \n3                                                1.0            \n4                                                1.2            \n\n   Mortality caused by road traffic injury (per 100,000 population)  \n0                                                4.0                 \n1                                                4.0                 \n2                                                2.0                 \n3                                                3.0                 \n4                                                4.0                 \n\n[5 rows x 41 columns]",
      "text/html": "<div>\n<style scoped>\n    .dataframe tbody tr th:only-of-type {\n        vertical-align: middle;\n    }\n\n    .dataframe tbody tr th {\n        vertical-align: top;\n    }\n\n    .dataframe thead th {\n        text-align: right;\n    }\n</style>\n<table border=\"1\" class=\"dataframe\">\n  <thead>\n    <tr style=\"text-align: right;\">\n      <th></th>\n      <th>Country</th>\n      <th>Happiness Score</th>\n      <th>Region</th>\n      <th>Main Language</th>\n      <th>Political Regime</th>\n      <th>Independent</th>\n      <th>UN Member</th>\n      <th>Main Currency</th>\n      <th>Population</th>\n      <th>Area</th>\n      <th>...</th>\n      <th>Access to clean fuels and technologies for cooking (% of population)</th>\n      <th>Social contributions (% of revenue)</th>\n      <th>People using at least basic drinking water services (% of population)</th>\n      <th>School enrollment, primary and secondary (gross), gender parity index (GPI)</th>\n      <th>Proportion of seats held by women in national parliaments (%)</th>\n      <th>Maternal mortality ratio (modeled estimate, per 100,000 live births)</th>\n      <th>Primary completion rate, total (% of relevant age group)</th>\n      <th>Government expenditure on education, total (% of government expenditure)</th>\n      <th>Agriculture, forestry, and fishing, value added (% of GDP)</th>\n      <th>Mortality caused by road traffic injury (per 100,000 population)</th>\n    </tr>\n  </thead>\n  <tbody>\n    <tr>\n      <th>0</th>\n      <td>Finland</td>\n      <td>7.741</td>\n      <td>Europe</td>\n      <td>Finnish</td>\n      <td>Liberal Democracies</td>\n      <td>True</td>\n      <td>True</td>\n      <td>EUR</td>\n      <td>5530719</td>\n      <td>338424.0</td>\n      <td>...</td>\n      <td>100.0</td>\n      <td>32.2</td>\n      <td>100.0</td>\n      <td>1.06</td>\n      <td>46.0</td>\n      <td>8.0</td>\n      <td>98.0</td>\n      <td>10.2</td>\n      <td>2.3</td>\n      <td>4.0</td>\n    </tr>\n    <tr>\n      <th>1</th>\n      <td>Denmark</td>\n      <td>7.583</td>\n      <td>Europe</td>\n      <td>Danish</td>\n      <td>Liberal Democracies</td>\n      <td>True</td>\n      <td>True</td>\n      <td>DKK</td>\n      <td>5831404</td>\n      <td>43094.0</td>\n      <td>...</td>\n      <td>100.0</td>\n      <td>1.8</td>\n      <td>100.0</td>\n      <td>1.00</td>\n      <td>44.0</td>\n      <td>5.0</td>\n      <td>100.0</td>\n      <td>11.8</td>\n      <td>0.8</td>\n      <td>4.0</td>\n    </tr>\n    <tr>\n      <th>2</th>\n      <td>Iceland</td>\n      <td>7.525</td>\n      <td>Europe</td>\n      <td>Icelandic</td>\n      <td>Liberal Democracies</td>\n      <td>True</td>\n      <td>True</td>\n      <td>ISK</td>\n      <td>366425</td>\n      <td>103000.0</td>\n      <td>...</td>\n      <td>100.0</td>\n      <td>9.5</td>\n      <td>100.0</td>\n      <td>0.99</td>\n      <td>48.0</td>\n      <td>3.0</td>\n      <td>99.0</td>\n      <td>14.9</td>\n      <td>3.8</td>\n      <td>2.0</td>\n    </tr>\n    <tr>\n      <th>3</th>\n      <td>Sweden</td>\n      <td>7.344</td>\n      <td>Europe</td>\n      <td>Swedish</td>\n      <td>Liberal Democracies</td>\n      <td>True</td>\n      <td>True</td>\n      <td>SEK</td>\n      <td>10353442</td>\n      <td>450295.0</td>\n      <td>...</td>\n      <td>100.0</td>\n      <td>8.9</td>\n      <td>100.0</td>\n      <td>1.07</td>\n      <td>46.0</td>\n      <td>5.0</td>\n      <td>100.0</td>\n      <td>13.5</td>\n      <td>1.0</td>\n      <td>3.0</td>\n    </tr>\n    <tr>\n      <th>4</th>\n      <td>Israel</td>\n      <td>7.341</td>\n      <td>Asia</td>\n      <td>Arabic</td>\n      <td>Electoral Democracies</td>\n      <td>True</td>\n      <td>True</td>\n      <td>ILS</td>\n      <td>9216900</td>\n      <td>20770.0</td>\n      <td>...</td>\n      <td>100.0</td>\n      <td>15.8</td>\n      <td>100.0</td>\n      <td>1.01</td>\n      <td>24.0</td>\n      <td>3.0</td>\n      <td>95.0</td>\n      <td>17.5</td>\n      <td>1.2</td>\n      <td>4.0</td>\n    </tr>\n  </tbody>\n</table>\n<p>5 rows × 41 columns</p>\n</div>"
     },
     "execution_count": 149,
     "metadata": {},
     "output_type": "execute_result"
    }
   ],
   "source": [
    "import pandas as pd\n",
    "\n",
    "df = pd.read_csv(\"../data/countries_selected_data.csv\")\n",
    "df.head()"
   ],
   "metadata": {
    "collapsed": false,
    "pycharm": {
     "name": "#%%\n"
    }
   }
  },
  {
   "cell_type": "code",
   "source": [
    "df.shape"
   ],
   "metadata": {
    "collapsed": false,
    "pycharm": {
     "name": "#%%\n"
    }
   },
   "execution_count": 150,
   "outputs": [
    {
     "data": {
      "text/plain": "(216, 41)"
     },
     "execution_count": 150,
     "metadata": {},
     "output_type": "execute_result"
    }
   ]
  },
  {
   "cell_type": "markdown",
   "source": [
    "Таблица состоит из 216 строк и 41 столбца"
   ],
   "metadata": {
    "collapsed": false,
    "pycharm": {
     "name": "#%% md\n"
    }
   }
  },
  {
   "cell_type": "markdown",
   "source": [
    "## Описание каждого из столбцов"
   ],
   "metadata": {
    "collapsed": false,
    "pycharm": {
     "name": "#%% md\n"
    }
   }
  },
  {
   "cell_type": "markdown",
   "source": [
    "- Country - название страны, категориальная\n",
    "- Happiness Score - индекс счастья (по данным [World Happiness Report 2024](https://worldhappiness.report/), число от 0 до 10, метрическая\n",
    "- Region - географический регион нахождения страны, категориальная\n",
    "- Main Language\t- основной язык, категориальная\n",
    "- Political Regime - тип политического режима, категориальная\n",
    "- Independent - независимость страны,\tбинарная\n",
    "- UN Member\t- членство в ООН,\tбинарная\n",
    "- Main Currency -\tосновная валюта, код валюты,\tкатегориальная\n",
    "- Population - численность населения,\tколичество человек,\tметрическая\n",
    "- Area - площадь территории, км², метрическая\n",
    "- Car Side - сторона движения автомобилей, категориальная, принимает [left, right]\n",
    "- Income share held by lowest 20% - доля дохода (от дохода всех граждан) беднейших 20% в долларах США, метрическая\n",
    "- Life expectancy at birth, total (years) -\tожидаемая продолжительность жизни, метрическая\n",
    "- Prevalence of HIV, total (% of population ages 15-49)\t- распространенность ВИЧ, % зараженных среди населения 15–49 лет,\tметрическая\n",
    "- Renewable energy consumption (% of total final energy consumption) - потребление возобновляемой энергии, % от общего потребления, метрическая\n",
    "- Intentional homicides (per 100,000 people) -\tумышленные убийства\tна 100 тыс. человек,\tметрическая\n",
    "- Refugee population by country or territory of asylum - численность беженцев в стране, метрическая\n",
    "- Armed forces personnel (% of total labor force) - военнослужащие,\t% от трудоспособных взрослых граждан, метрическая\n",
    "- Urban population (% of total population) - люди проживающие в городах, % от общего количества населения, метрическая\n",
    "- GNI (current US) - валовой национальный доход, количество миллиардов в долларах США, метрическая\n",
    "- Foreign direct investment, net (BoP, current US)\t- чистые прямые иностранные инвестиции (то есть разница между притоков и оттоком), доллары США, метрическая\n",
    "- GDP per person employed (constant 2021 PPP) - ВВП на занятого, с учетом паритета покупательной способности по ценам за 2021 год в долларах США, метрическая\n",
    "- Employment to population ratio, 15+, total (%) (modeled ILO estimate) - уровень занятости по данным ILO, % населения 15+ лет, метрическая\n",
    "- Forest area (% of land area) - лесная площадь, % от общей сухопутной территории, метрическая\n",
    "- Terrestrial and marine protected areas (% of total territorial area) - охраняемые территории, % от общей территории, метрическая\n",
    "- Logistics performance index: Ease of arranging competitively priced shipments (1=low to 5=high) -\tиндекс логистики (насколько просто доставить достаточно дорогие вещи), (от 1 до 5, чем больше, тем лучше),\tметрическая\n",
    "- High-technology exports (% of manufactured exports) - экспорт высоких технологий, % от экспортируемых промышленных товаров, метрическая\n",
    "- Individuals using the Internet (% of population) - пользователи интернета, % от общего количества населения, метрическая\n",
    "- Mobile cellular subscriptions (per 100 people) - количество мобильных подписок на 100 человек, метрическая\n",
    "- Alternative and nuclear energy (% of total energy use) - альтернативная и ядерная энергия, % от используемой энергии, метрическая\n",
    "- Electric power consumption (KWH per capita) - потребление электроэнергии в кВт·ч на душу населения, метрическая\n",
    "- Access to clean fuels and technologies for cooking (% of population) - доступ к технологиям и топливу в быту, которые не загрязняют окружающую среду, % от общего населения, метрическая\n",
    "- Social contributions (% of revenue) - социальные взносы, % от общей заработной платы, метрическая\n",
    "- People using at least basic drinking water services (% of population) - доступ к питьевой воде, % от общего количества населения, метрическая\n",
    "- School enrollment, primary and secondary (gross), gender parity index (GPI) - гендерный паритет среди обучающихся в школе, отношение количества девочек, к количеству мальчиков, среди учеников школ, метрическая\n",
    "- Proportion of seats held by women in national parliaments (%)\t- доля женщин в парламенте, % от общего количества людей в парламенте, метрическая\n",
    "- Maternal mortality (modeled estimate, per 100,000 live births) - количество материнских смертей на 100 тыс. рождений, метрическая\n",
    "- Primary completion rate, total (% of relevant age group) - люди, получившие начальное образование, % от общего числа людей соответствующей возрастной группы, метрическая\n",
    "- Government expenditure on education, total (% of government expenditure) - расходы на образование, % от государственных расходов,\tметрическая\n",
    "- Agriculture, forestry, and fishing, value added (% of GPD) - вклад сельского хозяйства в ВВП, % от общего ВВП, метрическая\n",
    "- Mortality caused by road traffic injury (per 100,000 population) - смертность от ДТП на 100 тыс. населения, метрическая"
   ],
   "metadata": {
    "id": "A-k6GHfhrYA-"
   }
  },
  {
   "cell_type": "markdown",
   "source": [
    "Тип переменных в столбцах:"
   ],
   "metadata": {
    "id": "-6PProItSbXm"
   }
  },
  {
   "cell_type": "code",
   "source": [
    "for column in df.columns:\n",
    "    print(f\"Столбец '{column}': {df[column].dtype}\")\n",
    "\n"
   ],
   "metadata": {
    "colab": {
     "base_uri": "https://localhost:8080/"
    },
    "id": "Sqe1x78HALR_",
    "outputId": "8e3e0297-5f82-43d9-940b-e59d2392dd9e"
   },
   "execution_count": 151,
   "outputs": [
    {
     "name": "stdout",
     "output_type": "stream",
     "text": [
      "Столбец 'Country': object\n",
      "Столбец 'Happiness Score': float64\n",
      "Столбец 'Region': object\n",
      "Столбец 'Main Language': object\n",
      "Столбец 'Political Regime': object\n",
      "Столбец 'Independent': object\n",
      "Столбец 'UN Member': bool\n",
      "Столбец 'Main Currency': object\n",
      "Столбец 'Population': int64\n",
      "Столбец 'Area': float64\n",
      "Столбец 'Car Side': object\n",
      "Столбец 'Income share held by lowest 20%': float64\n",
      "Столбец 'Life expectancy at birth, total (years)': float64\n",
      "Столбец 'Prevalence of HIV, total (% of population ages 15-49)': float64\n",
      "Столбец 'Renewable energy consumption (% of total final energy consumption)': float64\n",
      "Столбец 'Intentional homicides (per 100,000 people)': float64\n",
      "Столбец 'Refugee population by country or territory of asylum': float64\n",
      "Столбец 'Armed forces personnel (% of total labor force)': float64\n",
      "Столбец 'Urban population (% of total population)': float64\n",
      "Столбец 'GNI (current US$)': float64\n",
      "Столбец 'Foreign direct investment, net (BoP, current US$)': float64\n",
      "Столбец 'GDP per person employed (constant 2021 PPP $)': float64\n",
      "Столбец 'Employment to population ratio, 15+, total (%) (modeled ILO estimate)': float64\n",
      "Столбец 'Forest area (% of land area)': float64\n",
      "Столбец 'Terrestrial and marine protected areas (% of total territorial area)': float64\n",
      "Столбец 'Logistics performance index: Ease of arranging competitively priced shipments (1=low to 5=high)': float64\n",
      "Столбец 'High-technology exports (% of manufactured exports)': float64\n",
      "Столбец 'Individuals using the Internet (% of population)': float64\n",
      "Столбец 'Mobile cellular subscriptions (per 100 people)': float64\n",
      "Столбец 'Alternative and nuclear energy (% of total energy use)': float64\n",
      "Столбец 'Electric power consumption (kWh per capita)': float64\n",
      "Столбец 'Access to clean fuels and technologies for cooking (% of population)': float64\n",
      "Столбец 'Social contributions (% of revenue)': float64\n",
      "Столбец 'People using at least basic drinking water services (% of population)': float64\n",
      "Столбец 'School enrollment, primary and secondary (gross), gender parity index (GPI)': float64\n",
      "Столбец 'Proportion of seats held by women in national parliaments (%)': float64\n",
      "Столбец 'Maternal mortality ratio (modeled estimate, per 100,000 live births)': float64\n",
      "Столбец 'Primary completion rate, total (% of relevant age group)': float64\n",
      "Столбец 'Government expenditure on education, total (% of government expenditure)': float64\n",
      "Столбец 'Agriculture, forestry, and fishing, value added (% of GDP)': float64\n",
      "Столбец 'Mortality caused by road traffic injury (per 100,000 population)': float64\n"
     ]
    }
   ]
  },
  {
   "cell_type": "markdown",
   "source": [
    "Количество пустых ячеек в каждом столбце:"
   ],
   "metadata": {
    "id": "REztgk_nSh6M"
   }
  },
  {
   "cell_type": "code",
   "source": [
    "for column in df.columns:\n",
    "    print(f\"Столбец '{column}': {df[column].isna().sum()} пустых значений\")\n"
   ],
   "metadata": {
    "colab": {
     "base_uri": "https://localhost:8080/"
    },
    "id": "nrw_bVlzSw6Q",
    "outputId": "5a9d525e-a5d4-4876-c5c5-ddbf3096e774"
   },
   "execution_count": 152,
   "outputs": [
    {
     "name": "stdout",
     "output_type": "stream",
     "text": [
      "Столбец 'Country': 0 пустых значений\n",
      "Столбец 'Happiness Score': 74 пустых значений\n",
      "Столбец 'Region': 0 пустых значений\n",
      "Столбец 'Main Language': 0 пустых значений\n",
      "Столбец 'Political Regime': 44 пустых значений\n",
      "Столбец 'Independent': 1 пустых значений\n",
      "Столбец 'UN Member': 0 пустых значений\n",
      "Столбец 'Main Currency': 0 пустых значений\n",
      "Столбец 'Population': 0 пустых значений\n",
      "Столбец 'Area': 0 пустых значений\n",
      "Столбец 'Car Side': 0 пустых значений\n",
      "Столбец 'Income share held by lowest 20%': 69 пустых значений\n",
      "Столбец 'Life expectancy at birth, total (years)': 5 пустых значений\n",
      "Столбец 'Prevalence of HIV, total (% of population ages 15-49)': 86 пустых значений\n",
      "Столбец 'Renewable energy consumption (% of total final energy consumption)': 31 пустых значений\n",
      "Столбец 'Intentional homicides (per 100,000 people)': 22 пустых значений\n",
      "Столбец 'Refugee population by country or territory of asylum': 53 пустых значений\n",
      "Столбец 'Armed forces personnel (% of total labor force)': 65 пустых значений\n",
      "Столбец 'Urban population (% of total population)': 29 пустых значений\n",
      "Столбец 'GNI (current US$)': 35 пустых значений\n",
      "Столбец 'Foreign direct investment, net (BoP, current US$)': 47 пустых значений\n",
      "Столбец 'GDP per person employed (constant 2021 PPP $)': 60 пустых значений\n",
      "Столбец 'Employment to population ratio, 15+, total (%) (modeled ILO estimate)': 52 пустых значений\n",
      "Столбец 'Forest area (% of land area)': 3 пустых значений\n",
      "Столбец 'Terrestrial and marine protected areas (% of total territorial area)': 30 пустых значений\n",
      "Столбец 'Logistics performance index: Ease of arranging competitively priced shipments (1=low to 5=high)': 67 пустых значений\n",
      "Столбец 'High-technology exports (% of manufactured exports)': 53 пустых значений\n",
      "Столбец 'Individuals using the Internet (% of population)': 6 пустых значений\n",
      "Столбец 'Mobile cellular subscriptions (per 100 people)': 29 пустых значений\n",
      "Столбец 'Alternative and nuclear energy (% of total energy use)': 89 пустых значений\n",
      "Столбец 'Electric power consumption (kWh per capita)': 88 пустых значений\n",
      "Столбец 'Access to clean fuels and technologies for cooking (% of population)': 51 пустых значений\n",
      "Столбец 'Social contributions (% of revenue)': 115 пустых значений\n",
      "Столбец 'People using at least basic drinking water services (% of population)': 28 пустых значений\n",
      "Столбец 'School enrollment, primary and secondary (gross), gender parity index (GPI)': 45 пустых значений\n",
      "Столбец 'Proportion of seats held by women in national parliaments (%)': 23 пустых значений\n",
      "Столбец 'Maternal mortality ratio (modeled estimate, per 100,000 live births)': 52 пустых значений\n",
      "Столбец 'Primary completion rate, total (% of relevant age group)': 46 пустых значений\n",
      "Столбец 'Government expenditure on education, total (% of government expenditure)': 45 пустых значений\n",
      "Столбец 'Agriculture, forestry, and fishing, value added (% of GDP)': 38 пустых значений\n",
      "Столбец 'Mortality caused by road traffic injury (per 100,000 population)': 49 пустых значений\n"
     ]
    }
   ]
  },
  {
   "cell_type": "markdown",
   "source": [
    "# Изменение типа данных на более подходящий и расчет новых столбцов"
   ],
   "metadata": {
    "id": "AWjcLQb6vRf3"
   }
  },
  {
   "cell_type": "markdown",
   "source": [
    "Перекодируем 'Car Side' из столбика с категориальными значениями 'right' и 'left' в столбик в булевыми значениями 'True' и 'False'."
   ],
   "metadata": {
    "id": "gtrYGFVGa0b_"
   }
  },
  {
   "cell_type": "code",
   "execution_count": 153,
   "metadata": {
    "colab": {
     "base_uri": "https://localhost:8080/"
    },
    "id": "zm8M5v_w864f",
    "outputId": "be1a6f04-f42f-430b-a82f-3039033e809c"
   },
   "outputs": [
    {
     "name": "stdout",
     "output_type": "stream",
     "text": [
      "Проверка преобразования:\n",
      "  Car Side  IsCarRight\n",
      "0    right        True\n",
      "1    right        True\n",
      "2    right        True\n",
      "3    right        True\n",
      "4    right        True\n",
      "5    right        True\n",
      "6    right        True\n",
      "7    right        True\n",
      "8    right        True\n",
      "9     left       False\n"
     ]
    }
   ],
   "source": [
    "df['IsCarRight'] = df['Car Side'].eq('right').astype(bool)\n",
    "\n",
    "print(\"Проверка преобразования:\")\n",
    "print(df[['Car Side', 'IsCarRight']].head(10))\n",
    "\n",
    "\n",
    "df.drop('Car Side', axis=1, inplace=True)"
   ]
  },
  {
   "cell_type": "markdown",
   "source": [
    "Перекодируем также и категориальную номинальную переменную 'Political Regime' со значениями: 'Closed Autocracies', 'Electoral Autocracies', 'Liberal Democracies', 'Electoral Democracies' в порядковую со значениями 0, 1, 2, 3 соответственно - чем выше, тем более демократичная страна."
   ],
   "metadata": {
    "id": "AOx_rFN9bPtq"
   }
  },
  {
   "cell_type": "code",
   "source": [
    "df['Political Regime'] = df['Political Regime'].map({\n",
    "'Closed Autocracies': 0,\n",
    "'Electoral Autocracies': 1,\n",
    "'Liberal Democracies': 2,\n",
    "'Electoral Democracies': 3\n",
    "})\n",
    "df['Political Regime'].head()\n"
   ],
   "metadata": {
    "colab": {
     "base_uri": "https://localhost:8080/"
    },
    "id": "7_32UwJ7buW6",
    "outputId": "f1cb71b9-82a9-4dcc-89c6-eac90bd58bb6"
   },
   "execution_count": 154,
   "outputs": [
    {
     "data": {
      "text/plain": "0    2.0\n1    2.0\n2    2.0\n3    2.0\n4    3.0\nName: Political Regime, dtype: float64"
     },
     "execution_count": 154,
     "metadata": {},
     "output_type": "execute_result"
    }
   ]
  },
  {
   "cell_type": "markdown",
   "source": [
    "Найдем колонки, у которых отсутствует дробная часть"
   ],
   "metadata": {
    "collapsed": false,
    "pycharm": {
     "name": "#%% md\n"
    }
   }
  },
  {
   "cell_type": "code",
   "execution_count": 155,
   "outputs": [
    {
     "data": {
      "text/plain": "['Political Regime',\n 'Life expectancy at birth, total (years)',\n 'Intentional homicides (per 100,000 people)',\n 'Refugee population by country or territory of asylum',\n 'Urban population (% of total population)',\n 'GDP per person employed (constant 2021 PPP $)',\n 'Employment to population ratio, 15+, total (%) (modeled ILO estimate)',\n 'High-technology exports (% of manufactured exports)',\n 'Individuals using the Internet (% of population)',\n 'Mobile cellular subscriptions (per 100 people)',\n 'Electric power consumption (kWh per capita)',\n 'Access to clean fuels and technologies for cooking (% of population)',\n 'People using at least basic drinking water services (% of population)',\n 'Proportion of seats held by women in national parliaments (%)',\n 'Maternal mortality ratio (modeled estimate, per 100,000 live births)',\n 'Primary completion rate, total (% of relevant age group)',\n 'Mortality caused by road traffic injury (per 100,000 population)']"
     },
     "execution_count": 155,
     "metadata": {},
     "output_type": "execute_result"
    }
   ],
   "source": [
    "float_cols = df.select_dtypes(include='float').columns\n",
    "float2int_cols = [col for col in float_cols if (df[col].dropna() % 1 == 0).all()]\n",
    "float2int_cols"
   ],
   "metadata": {
    "collapsed": false,
    "pycharm": {
     "name": "#%%\n"
    }
   }
  },
  {
   "cell_type": "markdown",
   "source": [
    "Изменим тип переменных этих колонок на int"
   ],
   "metadata": {
    "id": "4R-5rwoUEBAs"
   }
  },
  {
   "cell_type": "code",
   "source": [
    "df[float2int_cols] = df[float2int_cols].astype('Int64')"
   ],
   "metadata": {
    "colab": {
     "base_uri": "https://localhost:8080/",
     "height": 458
    },
    "id": "azlzBmF5ECLq",
    "outputId": "06b45fc7-7ba6-45cc-f199-f87c7e0e4562"
   },
   "execution_count": 156,
   "outputs": []
  },
  {
   "cell_type": "code",
   "execution_count": 157,
   "outputs": [
    {
     "data": {
      "text/plain": "{Int64Dtype(), dtype('bool'), dtype('float64'), dtype('int64'), dtype('O')}"
     },
     "execution_count": 157,
     "metadata": {},
     "output_type": "execute_result"
    }
   ],
   "source": [
    "set(df.dtypes.values)"
   ],
   "metadata": {
    "collapsed": false,
    "pycharm": {
     "name": "#%%\n"
    }
   }
  },
  {
   "cell_type": "markdown",
   "source": [
    "Составим столбец \"Плотность населения\" (количество людей, проживающее на 1 км²), используя количество населения и площадь страны\n"
   ],
   "metadata": {
    "id": "R2toQs9DwfVh"
   }
  },
  {
   "cell_type": "markdown",
   "source": [
    "Перекодируем количество бешенцев в стране на \"% беженцев от общего населения страны\""
   ],
   "metadata": {
    "id": "2kRNJR_7EYvS",
    "pycharm": {
     "name": "#%% md\n"
    }
   }
  },
  {
   "cell_type": "code",
   "execution_count": 158,
   "outputs": [
    {
     "data": {
      "text/plain": "   Refugee Percent  Refugee population by country or territory of asylum  \\\n0         1.624906                                              89869      \n1         1.181739                                              68912      \n2         2.378386                                               8715      \n3         2.295198                                             237632      \n4         0.013399                                               1235      \n\n   Population  \n0     5530719  \n1     5831404  \n2      366425  \n3    10353442  \n4     9216900  ",
      "text/html": "<div>\n<style scoped>\n    .dataframe tbody tr th:only-of-type {\n        vertical-align: middle;\n    }\n\n    .dataframe tbody tr th {\n        vertical-align: top;\n    }\n\n    .dataframe thead th {\n        text-align: right;\n    }\n</style>\n<table border=\"1\" class=\"dataframe\">\n  <thead>\n    <tr style=\"text-align: right;\">\n      <th></th>\n      <th>Refugee Percent</th>\n      <th>Refugee population by country or territory of asylum</th>\n      <th>Population</th>\n    </tr>\n  </thead>\n  <tbody>\n    <tr>\n      <th>0</th>\n      <td>1.624906</td>\n      <td>89869</td>\n      <td>5530719</td>\n    </tr>\n    <tr>\n      <th>1</th>\n      <td>1.181739</td>\n      <td>68912</td>\n      <td>5831404</td>\n    </tr>\n    <tr>\n      <th>2</th>\n      <td>2.378386</td>\n      <td>8715</td>\n      <td>366425</td>\n    </tr>\n    <tr>\n      <th>3</th>\n      <td>2.295198</td>\n      <td>237632</td>\n      <td>10353442</td>\n    </tr>\n    <tr>\n      <th>4</th>\n      <td>0.013399</td>\n      <td>1235</td>\n      <td>9216900</td>\n    </tr>\n  </tbody>\n</table>\n</div>"
     },
     "execution_count": 158,
     "metadata": {},
     "output_type": "execute_result"
    }
   ],
   "source": [
    "df['Refugee Percent'] = df['Refugee population by country or territory of asylum'] / df['Population'] * 100\n",
    "df[['Refugee Percent', 'Refugee population by country or territory of asylum', 'Population']].head()"
   ],
   "metadata": {
    "collapsed": false,
    "pycharm": {
     "name": "#%%\n"
    }
   }
  },
  {
   "cell_type": "code",
   "execution_count": 159,
   "outputs": [],
   "source": [
    "df.drop(columns='Refugee population by country or territory of asylum', inplace=True)"
   ],
   "metadata": {
    "collapsed": false,
    "pycharm": {
     "name": "#%%\n"
    }
   }
  },
  {
   "cell_type": "code",
   "execution_count": 160,
   "outputs": [],
   "source": [
    "import numpy as np\n",
    "df[\"Density of Population\"] = df[\"Population\"] / df[\"Area\"]"
   ],
   "metadata": {
    "collapsed": false,
    "pycharm": {
     "name": "#%%\n"
    }
   }
  },
  {
   "cell_type": "code",
   "source": [
    "df[[\"Density of Population\", \"Population\", \"Area\"]].head()"
   ],
   "metadata": {
    "colab": {
     "base_uri": "https://localhost:8080/"
    },
    "id": "_Yb1JgZIFU-1",
    "outputId": "f1580b39-ccc9-400c-fdfd-2560a639b657"
   },
   "execution_count": 161,
   "outputs": [
    {
     "data": {
      "text/plain": "   Density of Population  Population      Area\n0              16.342573     5530719  338424.0\n1             135.318235     5831404   43094.0\n2               3.557524      366425  103000.0\n3              22.992576    10353442  450295.0\n4             443.760231     9216900   20770.0",
      "text/html": "<div>\n<style scoped>\n    .dataframe tbody tr th:only-of-type {\n        vertical-align: middle;\n    }\n\n    .dataframe tbody tr th {\n        vertical-align: top;\n    }\n\n    .dataframe thead th {\n        text-align: right;\n    }\n</style>\n<table border=\"1\" class=\"dataframe\">\n  <thead>\n    <tr style=\"text-align: right;\">\n      <th></th>\n      <th>Density of Population</th>\n      <th>Population</th>\n      <th>Area</th>\n    </tr>\n  </thead>\n  <tbody>\n    <tr>\n      <th>0</th>\n      <td>16.342573</td>\n      <td>5530719</td>\n      <td>338424.0</td>\n    </tr>\n    <tr>\n      <th>1</th>\n      <td>135.318235</td>\n      <td>5831404</td>\n      <td>43094.0</td>\n    </tr>\n    <tr>\n      <th>2</th>\n      <td>3.557524</td>\n      <td>366425</td>\n      <td>103000.0</td>\n    </tr>\n    <tr>\n      <th>3</th>\n      <td>22.992576</td>\n      <td>10353442</td>\n      <td>450295.0</td>\n    </tr>\n    <tr>\n      <th>4</th>\n      <td>443.760231</td>\n      <td>9216900</td>\n      <td>20770.0</td>\n    </tr>\n  </tbody>\n</table>\n</div>"
     },
     "execution_count": 161,
     "metadata": {},
     "output_type": "execute_result"
    }
   ]
  },
  {
   "cell_type": "markdown",
   "source": [
    "Само по себе количество населения и площадь страны мало о чем говорит, в отличие от плотности населения"
   ],
   "metadata": {
    "collapsed": false,
    "pycharm": {
     "name": "#%% md\n"
    }
   }
  },
  {
   "cell_type": "code",
   "execution_count": 162,
   "outputs": [],
   "source": [
    "df.drop(columns=['Population', 'Area'], inplace=True)"
   ],
   "metadata": {
    "collapsed": false,
    "pycharm": {
     "name": "#%%\n"
    }
   }
  },
  {
   "cell_type": "markdown",
   "source": [
    "Перекодируем 'Intentional homicides (per 100,000 people)', те количество суицидальных случаев на 100к человек в категориальную порядковую.\n",
    "Перекодирование осуществляется по перцентилям (20%, 50%, 80%, 100%) - небольшое количество, умеренно низкое, умеренно высокое, высокое - 0, 1, 2, 3.\n",
    "\n",
    "Перекодирование по таким перцентилям используется много где в статистике, например, World Bank так считает уровень дохода."
   ],
   "metadata": {
    "id": "H5cSEBQKxsXs"
   }
  },
  {
   "cell_type": "code",
   "source": [
    "df['Homicide Rate Category'] = pd.qcut(\n",
    "    df['Intentional homicides (per 100,000 people)'],\n",
    "    q=[0, 0.2, 0.5, 0.8, 1.0],\n",
    "    labels=[0, 1, 2, 3]\n",
    ").astype('Int32')\n",
    "\n",
    "df[['Homicide Rate Category', 'Intentional homicides (per 100,000 people)']].tail()"
   ],
   "metadata": {
    "colab": {
     "base_uri": "https://localhost:8080/"
    },
    "id": "VPYJWY06LSy1",
    "outputId": "fcea10cb-020f-41b5-95ba-1a30fb934011"
   },
   "execution_count": 163,
   "outputs": [
    {
     "data": {
      "text/plain": "     Homicide Rate Category  Intentional homicides (per 100,000 people)\n211                       2                                           4\n212                       0                                           1\n213                       2                                           7\n214                       3                                          29\n215                       0                                           0",
      "text/html": "<div>\n<style scoped>\n    .dataframe tbody tr th:only-of-type {\n        vertical-align: middle;\n    }\n\n    .dataframe tbody tr th {\n        vertical-align: top;\n    }\n\n    .dataframe thead th {\n        text-align: right;\n    }\n</style>\n<table border=\"1\" class=\"dataframe\">\n  <thead>\n    <tr style=\"text-align: right;\">\n      <th></th>\n      <th>Homicide Rate Category</th>\n      <th>Intentional homicides (per 100,000 people)</th>\n    </tr>\n  </thead>\n  <tbody>\n    <tr>\n      <th>211</th>\n      <td>2</td>\n      <td>4</td>\n    </tr>\n    <tr>\n      <th>212</th>\n      <td>0</td>\n      <td>1</td>\n    </tr>\n    <tr>\n      <th>213</th>\n      <td>2</td>\n      <td>7</td>\n    </tr>\n    <tr>\n      <th>214</th>\n      <td>3</td>\n      <td>29</td>\n    </tr>\n    <tr>\n      <th>215</th>\n      <td>0</td>\n      <td>0</td>\n    </tr>\n  </tbody>\n</table>\n</div>"
     },
     "execution_count": 163,
     "metadata": {},
     "output_type": "execute_result"
    }
   ]
  },
  {
   "cell_type": "code",
   "execution_count": 164,
   "outputs": [],
   "source": [
    "df.drop(columns='Intentional homicides (per 100,000 people)', inplace=True)"
   ],
   "metadata": {
    "collapsed": false,
    "pycharm": {
     "name": "#%%\n"
    }
   }
  },
  {
   "cell_type": "markdown",
   "source": [
    "Перекодируем основной язык страны в \"является ли основной язык страны английским\""
   ],
   "metadata": {
    "collapsed": false,
    "pycharm": {
     "name": "#%% md\n"
    }
   }
  },
  {
   "cell_type": "code",
   "execution_count": 165,
   "outputs": [
    {
     "data": {
      "text/plain": "211    False\n212     True\n213     True\n214    False\n215     True\nName: Is Main Language English, dtype: bool"
     },
     "execution_count": 165,
     "metadata": {},
     "output_type": "execute_result"
    }
   ],
   "source": [
    "df['Is Main Language English'] = (df['Main Language'] == 'English')\n",
    "df['Is Main Language English'].tail()"
   ],
   "metadata": {
    "collapsed": false,
    "pycharm": {
     "name": "#%%\n"
    }
   }
  },
  {
   "cell_type": "code",
   "execution_count": 166,
   "outputs": [],
   "source": [
    "df.drop(columns='Main Language', inplace=True)"
   ],
   "metadata": {
    "collapsed": false,
    "pycharm": {
     "name": "#%%\n"
    }
   }
  },
  {
   "cell_type": "markdown",
   "source": [
    "Перекодируем столбец с кодом главной валюты в стране в \"является ли эта валюта мировой резервной\". Такие валюты используют и накапливают ЦБ иных стран.\n",
    "\n",
    "Мировые резервные валюты:\n",
    "\n",
    "* Доллар США\n",
    "* Евро\n",
    "* Фунт стерлингов\n",
    "* Японская иена"
   ],
   "metadata": {
    "collapsed": false,
    "pycharm": {
     "name": "#%% md\n"
    }
   }
  },
  {
   "cell_type": "code",
   "execution_count": 167,
   "outputs": [
    {
     "data": {
      "text/plain": "    Main Currency  Is Reserve Currency\n211           USD                 True\n212           TOP                False\n213           AUD                False\n214           EUR                 True\n215           USD                 True",
      "text/html": "<div>\n<style scoped>\n    .dataframe tbody tr th:only-of-type {\n        vertical-align: middle;\n    }\n\n    .dataframe tbody tr th {\n        vertical-align: top;\n    }\n\n    .dataframe thead th {\n        text-align: right;\n    }\n</style>\n<table border=\"1\" class=\"dataframe\">\n  <thead>\n    <tr style=\"text-align: right;\">\n      <th></th>\n      <th>Main Currency</th>\n      <th>Is Reserve Currency</th>\n    </tr>\n  </thead>\n  <tbody>\n    <tr>\n      <th>211</th>\n      <td>USD</td>\n      <td>True</td>\n    </tr>\n    <tr>\n      <th>212</th>\n      <td>TOP</td>\n      <td>False</td>\n    </tr>\n    <tr>\n      <th>213</th>\n      <td>AUD</td>\n      <td>False</td>\n    </tr>\n    <tr>\n      <th>214</th>\n      <td>EUR</td>\n      <td>True</td>\n    </tr>\n    <tr>\n      <th>215</th>\n      <td>USD</td>\n      <td>True</td>\n    </tr>\n  </tbody>\n</table>\n</div>"
     },
     "execution_count": 167,
     "metadata": {},
     "output_type": "execute_result"
    }
   ],
   "source": [
    "reserve_currency_codes = [\"USD\", \"EUR\", \"GBP\", \"JPY\"]\n",
    "df['Is Reserve Currency'] = df['Main Currency'].apply(lambda x: x in reserve_currency_codes)\n",
    "df[['Main Currency', 'Is Reserve Currency']].tail()"
   ],
   "metadata": {
    "collapsed": false,
    "pycharm": {
     "name": "#%%\n"
    }
   }
  },
  {
   "cell_type": "code",
   "execution_count": 168,
   "outputs": [],
   "source": [
    "df.drop(columns='Main Currency', inplace=True)"
   ],
   "metadata": {
    "collapsed": false,
    "pycharm": {
     "name": "#%%\n"
    }
   }
  },
  {
   "cell_type": "markdown",
   "source": [
    "Переведем индекс производительности логистики в диапазон он 0 до 1 (сейчас от 1 до 5)"
   ],
   "metadata": {
    "collapsed": false,
    "pycharm": {
     "name": "#%% md\n"
    }
   }
  },
  {
   "cell_type": "code",
   "execution_count": 169,
   "outputs": [
    {
     "data": {
      "text/plain": "   Logistics Performance Index  \\\n0                        0.775   \n1                        0.650   \n2                        0.575   \n3                        0.600   \n4                        0.625   \n\n   Logistics performance index: Ease of arranging competitively priced shipments (1=low to 5=high)  \n0                                                4.1                                                \n1                                                3.6                                                \n2                                                3.3                                                \n3                                                3.4                                                \n4                                                3.5                                                ",
      "text/html": "<div>\n<style scoped>\n    .dataframe tbody tr th:only-of-type {\n        vertical-align: middle;\n    }\n\n    .dataframe tbody tr th {\n        vertical-align: top;\n    }\n\n    .dataframe thead th {\n        text-align: right;\n    }\n</style>\n<table border=\"1\" class=\"dataframe\">\n  <thead>\n    <tr style=\"text-align: right;\">\n      <th></th>\n      <th>Logistics Performance Index</th>\n      <th>Logistics performance index: Ease of arranging competitively priced shipments (1=low to 5=high)</th>\n    </tr>\n  </thead>\n  <tbody>\n    <tr>\n      <th>0</th>\n      <td>0.775</td>\n      <td>4.1</td>\n    </tr>\n    <tr>\n      <th>1</th>\n      <td>0.650</td>\n      <td>3.6</td>\n    </tr>\n    <tr>\n      <th>2</th>\n      <td>0.575</td>\n      <td>3.3</td>\n    </tr>\n    <tr>\n      <th>3</th>\n      <td>0.600</td>\n      <td>3.4</td>\n    </tr>\n    <tr>\n      <th>4</th>\n      <td>0.625</td>\n      <td>3.5</td>\n    </tr>\n  </tbody>\n</table>\n</div>"
     },
     "execution_count": 169,
     "metadata": {},
     "output_type": "execute_result"
    }
   ],
   "source": [
    "df['Logistics Performance Index'] = (df['Logistics performance index: Ease of arranging competitively priced shipments (1=low to 5=high)'] - 1) / 4\n",
    "df[['Logistics Performance Index', 'Logistics performance index: Ease of arranging competitively priced shipments (1=low to 5=high)']].head()"
   ],
   "metadata": {
    "collapsed": false,
    "pycharm": {
     "name": "#%%\n"
    }
   }
  },
  {
   "cell_type": "code",
   "execution_count": 170,
   "outputs": [],
   "source": [
    "df.drop(columns='Logistics performance index: Ease of arranging competitively priced shipments (1=low to 5=high)', inplace=True)"
   ],
   "metadata": {
    "collapsed": false,
    "pycharm": {
     "name": "#%%\n"
    }
   }
  },
  {
   "cell_type": "markdown",
   "source": [
    "Перекодируем % женщин в парламенте в \"отклонение от гендерного паритета в парламенте\"\n",
    "\n",
    "Нас интересует отклонение от 50%"
   ],
   "metadata": {
    "collapsed": false,
    "pycharm": {
     "name": "#%% md\n"
    }
   }
  },
  {
   "cell_type": "code",
   "execution_count": 171,
   "outputs": [
    {
     "data": {
      "text/plain": "   Parlament Gender Parity Deviation  \\\n0                                  4   \n1                                  6   \n2                                  2   \n3                                  4   \n4                                 26   \n\n   Proportion of seats held by women in national parliaments (%)  \n0                                                 46              \n1                                                 44              \n2                                                 48              \n3                                                 46              \n4                                                 24              ",
      "text/html": "<div>\n<style scoped>\n    .dataframe tbody tr th:only-of-type {\n        vertical-align: middle;\n    }\n\n    .dataframe tbody tr th {\n        vertical-align: top;\n    }\n\n    .dataframe thead th {\n        text-align: right;\n    }\n</style>\n<table border=\"1\" class=\"dataframe\">\n  <thead>\n    <tr style=\"text-align: right;\">\n      <th></th>\n      <th>Parlament Gender Parity Deviation</th>\n      <th>Proportion of seats held by women in national parliaments (%)</th>\n    </tr>\n  </thead>\n  <tbody>\n    <tr>\n      <th>0</th>\n      <td>4</td>\n      <td>46</td>\n    </tr>\n    <tr>\n      <th>1</th>\n      <td>6</td>\n      <td>44</td>\n    </tr>\n    <tr>\n      <th>2</th>\n      <td>2</td>\n      <td>48</td>\n    </tr>\n    <tr>\n      <th>3</th>\n      <td>4</td>\n      <td>46</td>\n    </tr>\n    <tr>\n      <th>4</th>\n      <td>26</td>\n      <td>24</td>\n    </tr>\n  </tbody>\n</table>\n</div>"
     },
     "execution_count": 171,
     "metadata": {},
     "output_type": "execute_result"
    }
   ],
   "source": [
    "df['Parlament Gender Parity Deviation'] = (df['Proportion of seats held by women in national parliaments (%)'] - 50).abs()\n",
    "df[['Parlament Gender Parity Deviation', 'Proportion of seats held by women in national parliaments (%)']].head()"
   ],
   "metadata": {
    "collapsed": false,
    "pycharm": {
     "name": "#%%\n"
    }
   }
  },
  {
   "cell_type": "code",
   "execution_count": 172,
   "outputs": [],
   "source": [
    "df.drop(columns='Proportion of seats held by women in national parliaments (%)', inplace=True)"
   ],
   "metadata": {
    "collapsed": false,
    "pycharm": {
     "name": "#%%\n"
    }
   }
  },
  {
   "cell_type": "code",
   "execution_count": 173,
   "outputs": [
    {
     "data": {
      "text/plain": "Index(['Country', 'Happiness Score', 'Region', 'Political Regime',\n       'Independent', 'UN Member', 'Income share held by lowest 20%',\n       'Life expectancy at birth, total (years)',\n       'Prevalence of HIV, total (% of population ages 15-49)',\n       'Renewable energy consumption (% of total final energy consumption)',\n       'Armed forces personnel (% of total labor force)',\n       'Urban population (% of total population)', 'GNI (current US$)',\n       'Foreign direct investment, net (BoP, current US$)',\n       'GDP per person employed (constant 2021 PPP $)',\n       'Employment to population ratio, 15+, total (%) (modeled ILO estimate)',\n       'Forest area (% of land area)',\n       'Terrestrial and marine protected areas (% of total territorial area)',\n       'High-technology exports (% of manufactured exports)',\n       'Individuals using the Internet (% of population)',\n       'Mobile cellular subscriptions (per 100 people)',\n       'Alternative and nuclear energy (% of total energy use)',\n       'Electric power consumption (kWh per capita)',\n       'Access to clean fuels and technologies for cooking (% of population)',\n       'Social contributions (% of revenue)',\n       'People using at least basic drinking water services (% of population)',\n       'School enrollment, primary and secondary (gross), gender parity index (GPI)',\n       'Maternal mortality ratio (modeled estimate, per 100,000 live births)',\n       'Primary completion rate, total (% of relevant age group)',\n       'Government expenditure on education, total (% of government expenditure)',\n       'Agriculture, forestry, and fishing, value added (% of GDP)',\n       'Mortality caused by road traffic injury (per 100,000 population)',\n       'IsCarRight', 'Refugee Percent', 'Density of Population',\n       'Homicide Rate Category', 'Is Main Language English',\n       'Is Reserve Currency', 'Logistics Performance Index',\n       'Parlament Gender Parity Deviation'],\n      dtype='object')"
     },
     "execution_count": 173,
     "metadata": {},
     "output_type": "execute_result"
    }
   ],
   "source": [
    "df.columns"
   ],
   "metadata": {
    "collapsed": false,
    "pycharm": {
     "name": "#%%\n"
    }
   }
  },
  {
   "cell_type": "markdown",
   "source": [
    "# Цель и задачи исследования"
   ],
   "metadata": {
    "id": "8fPmeJoB424k"
   }
  },
  {
   "cell_type": "markdown",
   "source": [
    "# Гипотезы"
   ],
   "metadata": {
    "id": "G-YiwCJm4-jj"
   }
  },
  {
   "cell_type": "markdown",
   "source": [
    "Н1 - Существует взаимосвязь между процентом самоубийств в стране и индексом счастья в ней\n",
    "\n",
    "Н2 - Существует взаимосвязь между индексом счастья и продолжительностью жизни в стране\n",
    "\n",
    "H3 - Существует взаимосвязь между степенью демократичности политического режима и индексом счастья\n",
    "\n",
    "Н4 - Существует взаимосвязь между вкладом сельского хозяйства в ВВП и доступом к питьевой воде\n",
    "\n",
    "Н5 - Существует взаимосвязь между социальным взносом и индексом счастья\n",
    "\n",
    "Н6 - Существует взаимосвязь между паритетом в парламенте и индексом счастья\n",
    "\n",
    "Н7 - Существует взаимосвязь между языком и регионом\n",
    "\n",
    "Н8 - Существует взаимосвязь между основной валютой и языком\n",
    "\n",
    "Н9 - Существует взаимосвязь между регионом и лево или право сторонним движением\n",
    "\n",
    "H10 - Существует взаимосвязь между политическим режимом и регионом"
   ],
   "metadata": {
    "id": "8VRD74Dm5IX3"
   }
  },
  {
   "cell_type": "markdown",
   "source": [
    "# **Построение графиков по имеющимся данным**"
   ],
   "metadata": {
    "id": "_PRem-lBu-RT"
   }
  },
  {
   "cell_type": "markdown",
   "source": [
    "Рассмотрим первую гипотезу\n",
    "\n",
    "### **Н1 - Существует взаимосвязь между процентом самоубийств в стране и индексом счастья в ней**"
   ],
   "metadata": {
    "id": "1Mx00yoCJ26d"
   }
  },
  {
   "cell_type": "code",
   "source": [
    "import seaborn as sns\n",
    "import matplotlib.pyplot as plt"
   ],
   "metadata": {
    "id": "3tyG82miRQSb"
   },
   "execution_count": 174,
   "outputs": []
  },
  {
   "cell_type": "code",
   "source": [
    "sns.scatterplot(data = df,\n",
    "                x = 'Intentional homicides (per 100,000 people)',\n",
    "                y =  'Happiness Score')\n",
    "plt.show()"
   ],
   "metadata": {
    "colab": {
     "base_uri": "https://localhost:8080/",
     "height": 453
    },
    "id": "g_QB5HX3RBsH",
    "outputId": "fe692b95-e93a-416f-a836-d63bc87eeb37"
   },
   "execution_count": 175,
   "outputs": [
    {
     "ename": "ValueError",
     "evalue": "Could not interpret value `Intentional homicides (per 100,000 people)` for parameter `x`",
     "output_type": "error",
     "traceback": [
      "\u001B[1;31m---------------------------------------------------------------------------\u001B[0m",
      "\u001B[1;31mValueError\u001B[0m                                Traceback (most recent call last)",
      "\u001B[1;32m<ipython-input-175-8c1a2408ed83>\u001B[0m in \u001B[0;36m<module>\u001B[1;34m\u001B[0m\n\u001B[1;32m----> 1\u001B[1;33m sns.scatterplot(data = df,\n\u001B[0m\u001B[0;32m      2\u001B[0m                 \u001B[0mx\u001B[0m \u001B[1;33m=\u001B[0m \u001B[1;34m'Intentional homicides (per 100,000 people)'\u001B[0m\u001B[1;33m,\u001B[0m\u001B[1;33m\u001B[0m\u001B[1;33m\u001B[0m\u001B[0m\n\u001B[0;32m      3\u001B[0m                 y =  'Happiness Score')\n\u001B[0;32m      4\u001B[0m \u001B[0mplt\u001B[0m\u001B[1;33m.\u001B[0m\u001B[0mshow\u001B[0m\u001B[1;33m(\u001B[0m\u001B[1;33m)\u001B[0m\u001B[1;33m\u001B[0m\u001B[1;33m\u001B[0m\u001B[0m\n\u001B[0;32m      5\u001B[0m \u001B[1;33m\u001B[0m\u001B[0m\n",
      "\u001B[1;32mD:\\Programms\\Anaconda3\\lib\\site-packages\\seaborn\\_decorators.py\u001B[0m in \u001B[0;36minner_f\u001B[1;34m(*args, **kwargs)\u001B[0m\n\u001B[0;32m     44\u001B[0m             )\n\u001B[0;32m     45\u001B[0m         \u001B[0mkwargs\u001B[0m\u001B[1;33m.\u001B[0m\u001B[0mupdate\u001B[0m\u001B[1;33m(\u001B[0m\u001B[1;33m{\u001B[0m\u001B[0mk\u001B[0m\u001B[1;33m:\u001B[0m \u001B[0marg\u001B[0m \u001B[1;32mfor\u001B[0m \u001B[0mk\u001B[0m\u001B[1;33m,\u001B[0m \u001B[0marg\u001B[0m \u001B[1;32min\u001B[0m \u001B[0mzip\u001B[0m\u001B[1;33m(\u001B[0m\u001B[0msig\u001B[0m\u001B[1;33m.\u001B[0m\u001B[0mparameters\u001B[0m\u001B[1;33m,\u001B[0m \u001B[0margs\u001B[0m\u001B[1;33m)\u001B[0m\u001B[1;33m}\u001B[0m\u001B[1;33m)\u001B[0m\u001B[1;33m\u001B[0m\u001B[1;33m\u001B[0m\u001B[0m\n\u001B[1;32m---> 46\u001B[1;33m         \u001B[1;32mreturn\u001B[0m \u001B[0mf\u001B[0m\u001B[1;33m(\u001B[0m\u001B[1;33m**\u001B[0m\u001B[0mkwargs\u001B[0m\u001B[1;33m)\u001B[0m\u001B[1;33m\u001B[0m\u001B[1;33m\u001B[0m\u001B[0m\n\u001B[0m\u001B[0;32m     47\u001B[0m     \u001B[1;32mreturn\u001B[0m \u001B[0minner_f\u001B[0m\u001B[1;33m\u001B[0m\u001B[1;33m\u001B[0m\u001B[0m\n\u001B[0;32m     48\u001B[0m \u001B[1;33m\u001B[0m\u001B[0m\n",
      "\u001B[1;32mD:\\Programms\\Anaconda3\\lib\\site-packages\\seaborn\\relational.py\u001B[0m in \u001B[0;36mscatterplot\u001B[1;34m(x, y, hue, style, size, data, palette, hue_order, hue_norm, sizes, size_order, size_norm, markers, style_order, x_bins, y_bins, units, estimator, ci, n_boot, alpha, x_jitter, y_jitter, legend, ax, **kwargs)\u001B[0m\n\u001B[0;32m    799\u001B[0m \u001B[1;33m\u001B[0m\u001B[0m\n\u001B[0;32m    800\u001B[0m     \u001B[0mvariables\u001B[0m \u001B[1;33m=\u001B[0m \u001B[0m_ScatterPlotter\u001B[0m\u001B[1;33m.\u001B[0m\u001B[0mget_semantics\u001B[0m\u001B[1;33m(\u001B[0m\u001B[0mlocals\u001B[0m\u001B[1;33m(\u001B[0m\u001B[1;33m)\u001B[0m\u001B[1;33m)\u001B[0m\u001B[1;33m\u001B[0m\u001B[1;33m\u001B[0m\u001B[0m\n\u001B[1;32m--> 801\u001B[1;33m     p = _ScatterPlotter(\n\u001B[0m\u001B[0;32m    802\u001B[0m         \u001B[0mdata\u001B[0m\u001B[1;33m=\u001B[0m\u001B[0mdata\u001B[0m\u001B[1;33m,\u001B[0m \u001B[0mvariables\u001B[0m\u001B[1;33m=\u001B[0m\u001B[0mvariables\u001B[0m\u001B[1;33m,\u001B[0m\u001B[1;33m\u001B[0m\u001B[1;33m\u001B[0m\u001B[0m\n\u001B[0;32m    803\u001B[0m         \u001B[0mx_bins\u001B[0m\u001B[1;33m=\u001B[0m\u001B[0mx_bins\u001B[0m\u001B[1;33m,\u001B[0m \u001B[0my_bins\u001B[0m\u001B[1;33m=\u001B[0m\u001B[0my_bins\u001B[0m\u001B[1;33m,\u001B[0m\u001B[1;33m\u001B[0m\u001B[1;33m\u001B[0m\u001B[0m\n",
      "\u001B[1;32mD:\\Programms\\Anaconda3\\lib\\site-packages\\seaborn\\relational.py\u001B[0m in \u001B[0;36m__init__\u001B[1;34m(self, data, variables, x_bins, y_bins, estimator, ci, n_boot, alpha, x_jitter, y_jitter, legend)\u001B[0m\n\u001B[0;32m    585\u001B[0m         )\n\u001B[0;32m    586\u001B[0m \u001B[1;33m\u001B[0m\u001B[0m\n\u001B[1;32m--> 587\u001B[1;33m         \u001B[0msuper\u001B[0m\u001B[1;33m(\u001B[0m\u001B[1;33m)\u001B[0m\u001B[1;33m.\u001B[0m\u001B[0m__init__\u001B[0m\u001B[1;33m(\u001B[0m\u001B[0mdata\u001B[0m\u001B[1;33m=\u001B[0m\u001B[0mdata\u001B[0m\u001B[1;33m,\u001B[0m \u001B[0mvariables\u001B[0m\u001B[1;33m=\u001B[0m\u001B[0mvariables\u001B[0m\u001B[1;33m)\u001B[0m\u001B[1;33m\u001B[0m\u001B[1;33m\u001B[0m\u001B[0m\n\u001B[0m\u001B[0;32m    588\u001B[0m \u001B[1;33m\u001B[0m\u001B[0m\n\u001B[0;32m    589\u001B[0m         \u001B[0mself\u001B[0m\u001B[1;33m.\u001B[0m\u001B[0malpha\u001B[0m \u001B[1;33m=\u001B[0m \u001B[0malpha\u001B[0m\u001B[1;33m\u001B[0m\u001B[1;33m\u001B[0m\u001B[0m\n",
      "\u001B[1;32mD:\\Programms\\Anaconda3\\lib\\site-packages\\seaborn\\_core.py\u001B[0m in \u001B[0;36m__init__\u001B[1;34m(self, data, variables)\u001B[0m\n\u001B[0;32m    602\u001B[0m     \u001B[1;32mdef\u001B[0m \u001B[0m__init__\u001B[0m\u001B[1;33m(\u001B[0m\u001B[0mself\u001B[0m\u001B[1;33m,\u001B[0m \u001B[0mdata\u001B[0m\u001B[1;33m=\u001B[0m\u001B[1;32mNone\u001B[0m\u001B[1;33m,\u001B[0m \u001B[0mvariables\u001B[0m\u001B[1;33m=\u001B[0m\u001B[1;33m{\u001B[0m\u001B[1;33m}\u001B[0m\u001B[1;33m)\u001B[0m\u001B[1;33m:\u001B[0m\u001B[1;33m\u001B[0m\u001B[1;33m\u001B[0m\u001B[0m\n\u001B[0;32m    603\u001B[0m \u001B[1;33m\u001B[0m\u001B[0m\n\u001B[1;32m--> 604\u001B[1;33m         \u001B[0mself\u001B[0m\u001B[1;33m.\u001B[0m\u001B[0massign_variables\u001B[0m\u001B[1;33m(\u001B[0m\u001B[0mdata\u001B[0m\u001B[1;33m,\u001B[0m \u001B[0mvariables\u001B[0m\u001B[1;33m)\u001B[0m\u001B[1;33m\u001B[0m\u001B[1;33m\u001B[0m\u001B[0m\n\u001B[0m\u001B[0;32m    605\u001B[0m \u001B[1;33m\u001B[0m\u001B[0m\n\u001B[0;32m    606\u001B[0m         \u001B[1;32mfor\u001B[0m \u001B[0mvar\u001B[0m\u001B[1;33m,\u001B[0m \u001B[0mcls\u001B[0m \u001B[1;32min\u001B[0m \u001B[0mself\u001B[0m\u001B[1;33m.\u001B[0m\u001B[0m_semantic_mappings\u001B[0m\u001B[1;33m.\u001B[0m\u001B[0mitems\u001B[0m\u001B[1;33m(\u001B[0m\u001B[1;33m)\u001B[0m\u001B[1;33m:\u001B[0m\u001B[1;33m\u001B[0m\u001B[1;33m\u001B[0m\u001B[0m\n",
      "\u001B[1;32mD:\\Programms\\Anaconda3\\lib\\site-packages\\seaborn\\_core.py\u001B[0m in \u001B[0;36massign_variables\u001B[1;34m(self, data, variables)\u001B[0m\n\u001B[0;32m    665\u001B[0m         \u001B[1;32melse\u001B[0m\u001B[1;33m:\u001B[0m\u001B[1;33m\u001B[0m\u001B[1;33m\u001B[0m\u001B[0m\n\u001B[0;32m    666\u001B[0m             \u001B[0mself\u001B[0m\u001B[1;33m.\u001B[0m\u001B[0minput_format\u001B[0m \u001B[1;33m=\u001B[0m \u001B[1;34m\"long\"\u001B[0m\u001B[1;33m\u001B[0m\u001B[1;33m\u001B[0m\u001B[0m\n\u001B[1;32m--> 667\u001B[1;33m             plot_data, variables = self._assign_variables_longform(\n\u001B[0m\u001B[0;32m    668\u001B[0m                 \u001B[0mdata\u001B[0m\u001B[1;33m,\u001B[0m \u001B[1;33m**\u001B[0m\u001B[0mvariables\u001B[0m\u001B[1;33m,\u001B[0m\u001B[1;33m\u001B[0m\u001B[1;33m\u001B[0m\u001B[0m\n\u001B[0;32m    669\u001B[0m             )\n",
      "\u001B[1;32mD:\\Programms\\Anaconda3\\lib\\site-packages\\seaborn\\_core.py\u001B[0m in \u001B[0;36m_assign_variables_longform\u001B[1;34m(self, data, **kwargs)\u001B[0m\n\u001B[0;32m    900\u001B[0m \u001B[1;33m\u001B[0m\u001B[0m\n\u001B[0;32m    901\u001B[0m                 \u001B[0merr\u001B[0m \u001B[1;33m=\u001B[0m \u001B[1;34mf\"Could not interpret value `{val}` for parameter `{key}`\"\u001B[0m\u001B[1;33m\u001B[0m\u001B[1;33m\u001B[0m\u001B[0m\n\u001B[1;32m--> 902\u001B[1;33m                 \u001B[1;32mraise\u001B[0m \u001B[0mValueError\u001B[0m\u001B[1;33m(\u001B[0m\u001B[0merr\u001B[0m\u001B[1;33m)\u001B[0m\u001B[1;33m\u001B[0m\u001B[1;33m\u001B[0m\u001B[0m\n\u001B[0m\u001B[0;32m    903\u001B[0m \u001B[1;33m\u001B[0m\u001B[0m\n\u001B[0;32m    904\u001B[0m             \u001B[1;32melse\u001B[0m\u001B[1;33m:\u001B[0m\u001B[1;33m\u001B[0m\u001B[1;33m\u001B[0m\u001B[0m\n",
      "\u001B[1;31mValueError\u001B[0m: Could not interpret value `Intentional homicides (per 100,000 people)` for parameter `x`"
     ]
    }
   ]
  },
  {
   "cell_type": "markdown",
   "source": [
    "По данному графику мы можем заметить, что действительно существует взаимосвязь между индексом счастья и количеством самоубийств: там где индекс максимально высокий (от 7 до 8), количество самоубийств низкое.\n",
    "Однако если говорить про средние значения индекса счастья, прямой связи не прослеживается."
   ],
   "metadata": {
    "id": "IFE7lzrSRYuB"
   }
  },
  {
   "cell_type": "markdown",
   "source": [
    "Рассмотрим следующую гипотезу\n",
    "\n",
    "### **Н2 - Существует взаимосвязь между индексом счастья и продолжительностью жизни в стране**"
   ],
   "metadata": {
    "id": "wgWlqpgqaQet"
   }
  },
  {
   "cell_type": "code",
   "source": [
    "sns.scatterplot(data = df,\n",
    "                x = 'Life expectancy at birth, total (years)',\n",
    "                y =  'Happiness Score')\n",
    "plt.show()"
   ],
   "metadata": {
    "colab": {
     "base_uri": "https://localhost:8080/",
     "height": 453
    },
    "id": "sez2tvYQaYTp",
    "outputId": "7103d7fb-7fe5-4ff7-eca4-ea37617a918a"
   },
   "execution_count": null,
   "outputs": []
  },
  {
   "cell_type": "markdown",
   "source": [
    "Гипотеза подтвердилась. В странах с высокой продолжительностью индекс счастья очень высокий (минимум 6), в то время как низкая продолжительность жизни наблюдается как раз в странах с низким индексом счастья."
   ],
   "metadata": {
    "id": "s5J_3vB3aoJ1"
   }
  },
  {
   "cell_type": "markdown",
   "source": [
    "### **H3 - Существует взаимосвязь между степенью демократичности политического режима и индексом счастья**"
   ],
   "metadata": {
    "id": "W2JpprFebE8S"
   }
  },
  {
   "cell_type": "code",
   "source": [
    "sns.scatterplot(data = df,\n",
    "                x = 'Political Regime',\n",
    "                y =  'Happiness Score')\n",
    "plt.show()"
   ],
   "metadata": {
    "colab": {
     "base_uri": "https://localhost:8080/",
     "height": 453
    },
    "id": "HIlaVyJ7bJuA",
    "outputId": "5e7f7407-f4bf-49d6-c882-9e4df97e5ffd"
   },
   "execution_count": null,
   "outputs": []
  },
  {
   "cell_type": "markdown",
   "source": [
    "'Closed Autocracies': 0,\n",
    "\n",
    "'Electoral Autocracies': 1,\n",
    "\n",
    "'Liberal Democracies': 2,\n",
    "\n",
    "'Electoral Democracies': 3\n"
   ],
   "metadata": {
    "id": "CKQblJ3sN3mb"
   }
  },
  {
   "cell_type": "markdown",
   "source": [
    "Тут мы также видим подтверждение гипотезы, так как в демократических странах, а особенно в странах либеральной демократии очень высокий индекс счастья, а в недемократических странах индекс счастья значительно ниже"
   ],
   "metadata": {
    "id": "15gNQ6rPb6Zq"
   }
  },
  {
   "cell_type": "markdown",
   "source": [
    "### **Н4 - Существует взаимосвязь между вкладом сельского хозяйства в ВВП и доступом к питьевой воде**"
   ],
   "metadata": {
    "id": "gWiLD05lm_S0"
   }
  },
  {
   "cell_type": "code",
   "source": [
    "sns.scatterplot(data = df,\n",
    "                x = 'GDP per person employed (constant 2021 PPP $)',\n",
    "                y =  'People using at least basic drinking water services (% of population)')\n",
    "plt.show()"
   ],
   "metadata": {
    "colab": {
     "base_uri": "https://localhost:8080/",
     "height": 449
    },
    "id": "SN4sLIMfnED_",
    "outputId": "925a2281-6b37-4e7b-e432-d87c49ead27f"
   },
   "execution_count": null,
   "outputs": []
  },
  {
   "cell_type": "markdown",
   "source": [
    "Тут мы также наблюдаем, что при низком ВВП на душу (от 0 до 50000) единственные случаи, где у людей нет доступа к сервисам питьевой воды. Получается, гипотеза подтверждается."
   ],
   "metadata": {
    "id": "2dUk-zkMrzi7"
   }
  },
  {
   "cell_type": "markdown",
   "source": [
    "### **Н5 - Существует взаимосвязь между социальным взносом и индексом счастья**"
   ],
   "metadata": {
    "id": "4NzOw88xsM3A"
   }
  },
  {
   "cell_type": "code",
   "source": [
    "sns.scatterplot(data = df,\n",
    "                x = 'Social contributions (% of revenue)',\n",
    "                y =  'Happiness Score')\n",
    "plt.show()"
   ],
   "metadata": {
    "colab": {
     "base_uri": "https://localhost:8080/",
     "height": 453
    },
    "id": "y6h5urocsPWi",
    "outputId": "e8097493-5831-46a1-81bd-7b99345c7c17"
   },
   "execution_count": null,
   "outputs": []
  },
  {
   "cell_type": "markdown",
   "source": [
    "При социальном взносе от 25% индекс счастья от 5 до 8, что является высоким показателем, так что можно считать что гипотеза подтвердилась"
   ],
   "metadata": {
    "id": "bFl2jQpgtGgi"
   }
  },
  {
   "cell_type": "markdown",
   "source": [
    "### **Н6 - Существует взаимосвязь между паритетом в парламенте и индексом счастья**"
   ],
   "metadata": {
    "id": "smhTHmnstaO-"
   }
  },
  {
   "cell_type": "code",
   "source": [
    "df['Parlament_Parity'] = 1 - abs(df['Proportion of seats held by women in national parliaments (%)']-50)/50\n",
    "sns.scatterplot(data = df,\n",
    "                x = 'Parlament_Parity',\n",
    "                y =  'Happiness Score')\n",
    "plt.show()"
   ],
   "metadata": {
    "colab": {
     "base_uri": "https://localhost:8080/",
     "height": 453
    },
    "id": "VwuR_KcxtdAc",
    "outputId": "cff09468-1b91-4336-9195-c96ffdee82cf"
   },
   "execution_count": null,
   "outputs": []
  },
  {
   "cell_type": "markdown",
   "source": [
    "Гипотеза подтвеждается, так как при количественном равенстве полов в парламенте индекс счастья значительно выше"
   ],
   "metadata": {
    "id": "ibaURo5SvQIP"
   }
  },
  {
   "cell_type": "markdown",
   "source": [
    "# **Построение сводных таблиц, подсчет корреляции, тест ХИ-квадрат**"
   ],
   "metadata": {
    "id": "SOlHvjF8ve06"
   }
  },
  {
   "cell_type": "markdown",
   "source": [
    "### **Н2 - Существует взаимосвязь между индексом счастья и продолжительностью жизни в стране**"
   ],
   "metadata": {
    "id": "Xl37jpMFvvkz"
   }
  },
  {
   "cell_type": "markdown",
   "source": [
    "Посмотрим на корреляцию"
   ],
   "metadata": {
    "id": "ykGS9XwYx-93"
   }
  },
  {
   "cell_type": "code",
   "source": [
    "from scipy import stats\n",
    "import pandas as pd\n",
    "\n",
    "df_clean = df.dropna(subset=['Life expectancy at birth, total (years)', 'Happiness Score'])\n",
    "\n",
    "corr_result = stats.pearsonr(df_clean['Life expectancy at birth, total (years)'], df_clean['Happiness Score'])\n",
    "print(f\"Pearson's r: {corr_result[0]}, p-value: {corr_result[1]}\")\n",
    "df['Life_expectancy_bins'] = pd.cut(df['Life expectancy at birth, total (years)'], bins=5)\n",
    "pivot = pd.pivot_table(\n",
    "    df,\n",
    "    index='Life_expectancy_bins',\n",
    "    values='Happiness Score',\n",
    "    aggfunc=['mean', 'count']\n",
    ")\n",
    "\n",
    "\n",
    "pivot['mean'].plot(kind='bar', title='Средний уровень счастья по интервалам продолжительности жизни')\n",
    "plt.show()\n",
    "\n",
    "\n",
    "print(f\"Корреляция: {df['Life expectancy at birth, total (years)'].corr(df['Happiness Score']):.2f}\")"
   ],
   "metadata": {
    "colab": {
     "base_uri": "https://localhost:8080/",
     "height": 684
    },
    "id": "dosoBDgfyGoh",
    "outputId": "d53fcd46-77b1-4465-a248-a26fa0b8a281"
   },
   "execution_count": null,
   "outputs": []
  },
  {
   "cell_type": "markdown",
   "source": [
    "Поскольку p-value < 0.05, гипотеза Н2 подтвердилась"
   ],
   "metadata": {
    "id": "QaMFoaMU4Qbr"
   }
  },
  {
   "cell_type": "markdown",
   "source": [
    "Коэффициент корреляции положительный, следовательно, между переменными наблюдается прямая взаимосвязь"
   ],
   "metadata": {
    "id": "1heZ-NoJ9nz4"
   }
  },
  {
   "cell_type": "markdown",
   "source": [
    "Коэффициент корреляции равен 0.75, следовательно, между переменными наблюдается сильная корреляция."
   ],
   "metadata": {
    "id": "U14P9kEp98FP"
   }
  },
  {
   "cell_type": "markdown",
   "source": [
    "### **H3 - Существует взаимосвязь между степенью демократичности политического режима и индексом счастья**"
   ],
   "metadata": {
    "id": "L9A4ApYWLrCT"
   }
  },
  {
   "cell_type": "code",
   "source": [
    "from scipy import stats\n",
    "import pandas as pd\n",
    "import matplotlib.pyplot as plt\n",
    "\n",
    "df_clean = df.dropna(subset=['Political Regime', 'Happiness Score'])\n",
    "\n",
    "corr_result = stats.kendalltau(df_clean['Political Regime'], df_clean['Happiness Score'])\n",
    "print(f\"Kendall's tau: {corr_result[0]}, p-value: {corr_result[1]}\")\n",
    "\n",
    "df.dropna(subset=['Political Regime', 'Happiness Score'], inplace=True)\n",
    "pivot_regime = pd.pivot_table(\n",
    "    data=df,\n",
    "    index='Political Regime',\n",
    "    values='Happiness Score',\n",
    "    aggfunc=['mean', 'std', 'count']\n",
    ")\n",
    "\n",
    "plt.figure(figsize=(10, 5))\n",
    "pivot_regime['mean'].plot(kind='bar', capsize=5)\n",
    "plt.title('Средний уровень счастья по политическим режимам')\n",
    "plt.ylabel('Happiness Score')\n",
    "plt.xticks(rotation=45)\n",
    "plt.grid(axis='y')\n",
    "plt.show()"
   ],
   "metadata": {
    "colab": {
     "base_uri": "https://localhost:8080/",
     "height": 519
    },
    "id": "XLciBFGfLxIU",
    "outputId": "86617030-3cb6-406b-9f0d-ad57601eca11"
   },
   "execution_count": null,
   "outputs": []
  },
  {
   "cell_type": "markdown",
   "source": [
    "Поскольку p-value < 0.05, гипотеза Н3 подтвердилась"
   ],
   "metadata": {
    "id": "RtQLW2V7Lth0"
   }
  },
  {
   "cell_type": "markdown",
   "source": [
    "Коэффициент корреляции положительный, следовательно, между переменными наблюдается прямая взаимосвязь"
   ],
   "metadata": {
    "id": "vAFVQLsAODj0"
   }
  },
  {
   "cell_type": "markdown",
   "source": [
    "Коэффициент корреляции равен 0.18, следовательно, между переменными наблюдается слабая корреляция."
   ],
   "metadata": {
    "id": "JZhnVAi5OGvt"
   }
  },
  {
   "cell_type": "markdown",
   "source": [
    "### **Н4 - Существует взаимосвязь между вкладом сельского хозяйства в ВВП и доступом к питьевой воде**"
   ],
   "metadata": {
    "id": "0EN-gk4DOgyq"
   }
  },
  {
   "cell_type": "code",
   "source": [
    "from scipy import stats\n",
    "import pandas as pd\n",
    "\n",
    "df_clean = df.dropna(subset=['GDP per person employed (constant 2021 PPP $)', 'People using at least basic drinking water services (% of population)'])\n",
    "\n",
    "corr_result = stats.pearsonr(df_clean['GDP per person employed (constant 2021 PPP $)'], df_clean['People using at least basic drinking water services (% of population)'])\n",
    "print(f\"Pearson's r: {corr_result[0]}, p-value: {corr_result[1]}\")\n",
    "df.dropna(subset=['GDP per person employed (constant 2021 PPP $)',\n",
    "                 'People using at least basic drinking water services (% of population)'], inplace=True)\n",
    "\n",
    "\n",
    "df['GDP_bins'] = pd.cut(df['GDP per person employed (constant 2021 PPP $)'], bins=5)\n",
    "\n",
    "\n",
    "pivot_gdp_water = pd.pivot_table(\n",
    "    data=df,\n",
    "    index='GDP_bins',\n",
    "    values='People using at least basic drinking water services (% of population)',\n",
    "    aggfunc=['mean', 'count']\n",
    ")\n",
    "\n",
    "\n",
    "plt.figure(figsize=(12, 6))\n",
    "plt.scatter(\n",
    "    df['GDP per person employed (constant 2021 PPP $)'],\n",
    "    df['People using at least basic drinking water services (% of population)'],\n",
    "    alpha=0.5\n",
    ")\n",
    "plt.xlabel('GDP per person employed')\n",
    "plt.ylabel('Access to basic drinking water (%)')\n",
    "plt.title('Зависимость доступа к воде от ВВП на работника')\n",
    "plt.grid(True)\n",
    "plt.show()\n",
    "\n",
    "\n",
    "corr_gdp_water = df['GDP per person employed (constant 2021 PPP $)'].corr(\n",
    "    df['People using at least basic drinking water services (% of population)']\n",
    ")\n",
    "print(f\"Корреляция GDP и доступа к воде: {corr_gdp_water:.2f}\")"
   ],
   "metadata": {
    "colab": {
     "base_uri": "https://localhost:8080/",
     "height": 583
    },
    "id": "osLg3Cs0Ojw4",
    "outputId": "a7b29ac4-146d-42c0-f50f-41a0ed2325b9"
   },
   "execution_count": null,
   "outputs": []
  },
  {
   "cell_type": "markdown",
   "source": [
    "Поскольку p-value < 0.05, гипотеза Н4 подтвердилась"
   ],
   "metadata": {
    "id": "IlMJ0yWSaqHy"
   }
  },
  {
   "cell_type": "markdown",
   "source": [
    "Коэффициент корреляции положительный, следовательно, между переменными наблюдается прямая взаимосвязь"
   ],
   "metadata": {
    "id": "3O4MbNY3as92"
   }
  },
  {
   "cell_type": "markdown",
   "source": [
    "Коэффициент корреляции равен 0.59, следовательно, между переменными наблюдается средняя корреляция."
   ],
   "metadata": {
    "id": "_cjg3dPHauqC"
   }
  },
  {
   "cell_type": "markdown",
   "source": [
    "### **Н5 - Существует взаимосвязь между социальным взносом и индексом счастья**"
   ],
   "metadata": {
    "id": "tasTtBrma1uq"
   }
  },
  {
   "cell_type": "code",
   "source": [
    "from scipy import stats\n",
    "import pandas as pd\n",
    "\n",
    "df_clean = df.dropna(subset=['Social contributions (% of revenue)', 'Happiness Score'])\n",
    "\n",
    "corr_result = stats.pearsonr(df_clean['Social contributions (% of revenue)'], df_clean['Happiness Score'])\n",
    "print(f\"Pearson's r: {corr_result[0]}, p-value: {corr_result[1]}\")\n",
    "\n",
    "df.dropna(subset=['Social contributions (% of revenue)', 'Happiness Score'], inplace=True)\n",
    "\n",
    "\n",
    "df['Social_contrib_bins'] = pd.cut(df['Social contributions (% of revenue)'], bins=5)\n",
    "\n",
    "pivot_social_happiness = pd.pivot_table(\n",
    "    data=df,\n",
    "    index='Social_contrib_bins',\n",
    "    values='Happiness Score',\n",
    "    aggfunc=['mean', 'count']\n",
    ")\n",
    "\n",
    "plt.figure(figsize=(10, 5))\n",
    "plt.plot(df['Social contributions (% of revenue)'], df['Happiness Score'], 'o', alpha=0.6)\n",
    "plt.xlabel('Социальные взносы (% от дохода)')\n",
    "plt.ylabel('Happiness Score')\n",
    "plt.title('Взаимосвязь социальных взносов и уровня счастья')\n",
    "plt.grid(True)\n",
    "plt.show()\n",
    "\n",
    "corr_social_happiness = df['Social contributions (% of revenue)'].corr(df['Happiness Score'])\n",
    "print(f\"Корреляция: {corr_social_happiness:.2f}\")"
   ],
   "metadata": {
    "colab": {
     "base_uri": "https://localhost:8080/",
     "height": 599
    },
    "id": "omRPzjnua5IR",
    "outputId": "c5d773a8-52f5-407a-dea7-a67907915317"
   },
   "execution_count": null,
   "outputs": []
  },
  {
   "cell_type": "markdown",
   "source": [
    "Поскольку p-value < 0.05, гипотеза Н5 подтвердилась"
   ],
   "metadata": {
    "id": "Bv3fvnYRbHJG"
   }
  },
  {
   "cell_type": "markdown",
   "source": [
    "Коэффициент корреляции положительный, следовательно, между переменными наблюдается прямая взаимосвязь"
   ],
   "metadata": {
    "id": "p3AhSSNlbJHb"
   }
  },
  {
   "cell_type": "markdown",
   "source": [
    "Коэффициент корреляции равен 0.55, следовательно, между переменными наблюдается средняя корреляция."
   ],
   "metadata": {
    "id": "gqqHMw0XbKg_"
   }
  },
  {
   "cell_type": "markdown",
   "source": [
    "### **Н6 - Существует взаимосвязь между паритетом в парламенте и индексом счастья**"
   ],
   "metadata": {
    "id": "oIS_NOR_bRCb"
   }
  },
  {
   "cell_type": "code",
   "source": [
    "from scipy import stats\n",
    "import pandas as pd\n",
    "\n",
    "\n",
    "\n",
    "df_clean = df.dropna(subset=['Parlament_Parity', 'Happiness Score'])\n",
    "\n",
    "corr_result = stats.pearsonr(df_clean['Parlament_Parity'], df_clean['Happiness Score'])\n",
    "print(f\"Pearson's r: {corr_result[0]}, p-value: {corr_result[1]}\")\n",
    "\n",
    "df.dropna(subset=['Parlament_Parity', 'Happiness Score'], inplace=True)\n",
    "\n",
    "df['Women_seats_bins'] = pd.cut(df['Parlament_Parity'], bins=5)\n",
    "pivot_women_happiness = pd.pivot_table(\n",
    "    data=df,\n",
    "    index='Women_seats_bins',\n",
    "    values='Happiness Score',\n",
    "    aggfunc=['mean', 'count']\n",
    ")\n",
    "\n",
    "plt.figure(figsize=(10, 5))\n",
    "sns.regplot(\n",
    "    x='Parlament_Parity',\n",
    "    y='Happiness Score',\n",
    "    data=df,\n",
    "    scatter_kws={}\n",
    ")\n",
    "plt.title('Взаимосвязь паритета в парламенте и индекса счастья')\n",
    "plt.grid(True)\n",
    "plt.show()\n",
    "\n",
    "corr_women_happiness = df['Parlament_Parity'].corr(df['Happiness Score'])\n",
    "print(f\"Корреляция: {corr_women_happiness:.2f}\")"
   ],
   "metadata": {
    "colab": {
     "base_uri": "https://localhost:8080/",
     "height": 599
    },
    "id": "trbVJBS0bfLI",
    "outputId": "db945ec8-b61f-47cf-9b45-5c7c93a53055"
   },
   "execution_count": null,
   "outputs": []
  },
  {
   "cell_type": "markdown",
   "source": [
    "Поскольку p-value < 0.05, гипотеза Н6 подтвердилась"
   ],
   "metadata": {
    "id": "JPhxObTfbor-"
   }
  },
  {
   "cell_type": "markdown",
   "source": [
    "Коэффициент корреляции положительный, следовательно, между переменными наблюдается прямая взаимосвязь"
   ],
   "metadata": {
    "id": "GhMMJG_kbqP_"
   }
  },
  {
   "cell_type": "markdown",
   "source": [
    "Коэффициент корреляции равен 0.5, следовательно, между переменными наблюдается средняя корреляция."
   ],
   "metadata": {
    "id": "edZZTJxrbx8J"
   }
  },
  {
   "cell_type": "markdown",
   "source": [
    "# **Тест Хи-квадрат**"
   ],
   "metadata": {
    "id": "PHat2cu9P2QE"
   }
  },
  {
   "cell_type": "markdown",
   "source": [
    "### **Н7 - Существует взаимосвязь между языком и регионом**"
   ],
   "metadata": {
    "id": "vnOx_OdRP8hS"
   }
  },
  {
   "cell_type": "code",
   "source": [
    "np.random.seed(42)\n",
    "param1 = np.random.normal(50, 10, 1000)\n",
    "param2 = np.random.normal(60, 15, 1000)\n",
    "\n",
    "plt.figure(figsize=(10, 6))\n",
    "plt.hist(param1, bins=30, alpha=0.5, label = df['Region'], color='blue', edgecolor='black')\n",
    "plt.hist(param2, bins=30, alpha=0.5, label = df['Main Language'], color='red', edgecolor='black')\n",
    "\n",
    "plt.xlabel('Значение')\n",
    "plt.ylabel('Частота')\n",
    "plt.title('Гистограмма региона и национального языка')\n",
    "plt.legend()\n",
    "plt.grid(True)\n",
    "\n",
    "plt.show()"
   ],
   "metadata": {
    "colab": {
     "base_uri": "https://localhost:8080/",
     "height": 536
    },
    "id": "MZsPY4f0ZjWA",
    "outputId": "f9c3ff7d-aa27-4d73-8633-baa42071096c"
   },
   "execution_count": null,
   "outputs": []
  },
  {
   "cell_type": "code",
   "source": [
    "language_region = pd.crosstab(df['Region'], df['Main Language'])\n",
    "language_region"
   ],
   "metadata": {
    "colab": {
     "base_uri": "https://localhost:8080/",
     "height": 273
    },
    "id": "fneDF78OVDrL",
    "outputId": "dcdf07d0-08f5-424e-8e4b-61121cd5d650"
   },
   "execution_count": null,
   "outputs": []
  },
  {
   "cell_type": "code",
   "source": [
    "from scipy import stats\n",
    "stats.chi2_contingency(language_region)"
   ],
   "metadata": {
    "colab": {
     "base_uri": "https://localhost:8080/"
    },
    "id": "OyVJLY1rVv0y",
    "outputId": "a348cf95-e6ff-4ba2-a048-8e0f9aadc323"
   },
   "execution_count": null,
   "outputs": []
  },
  {
   "cell_type": "code",
   "source": [
    "print('chi2 = ', stats.chi2_contingency(language_region)[0], '   p-value =', stats.chi2_contingency(language_region)[1])"
   ],
   "metadata": {
    "colab": {
     "base_uri": "https://localhost:8080/"
    },
    "id": "xloy4zJcV3MR",
    "outputId": "fbc9fc2c-9624-46ac-b5b9-91a2492e5dcd"
   },
   "execution_count": null,
   "outputs": []
  },
  {
   "cell_type": "markdown",
   "source": [
    "p-value = 1.2918445160959355e-08 < 0.05\n",
    "\n",
    "p-value = 1.2918445160959355e-08 < 0.01\n",
    "\n",
    "Гипотеза H7 принимается на уровне значимости 5%.\n",
    "\n",
    "Гипотеза H7 принимается на уровне значимости 1%."
   ],
   "metadata": {
    "id": "u3x0Daz9YUQC"
   }
  },
  {
   "cell_type": "markdown",
   "source": [
    "Гипотеза Н7 верна"
   ],
   "metadata": {
    "id": "6zP8dOtPcFUB"
   }
  },
  {
   "cell_type": "markdown",
   "source": [
    "### **Н8 - Существует взаимосвязь между основной валютой и языком**"
   ],
   "metadata": {
    "id": "rj-zVzvPaYsD"
   }
  },
  {
   "cell_type": "code",
   "source": [
    "np.random.seed(42)\n",
    "param1 = np.random.normal(50, 10, 1000)\n",
    "param2 = np.random.normal(60, 15, 1000)\n",
    "\n",
    "plt.figure(figsize=(10, 6))\n",
    "plt.hist(param1, bins=30, alpha=0.5, label = df['Region'], color='blue', edgecolor='black')\n",
    "plt.hist(param2, bins=30, alpha=0.5, label = df['Main Currency'], color='red', edgecolor='black')\n",
    "\n",
    "plt.xlabel('Значение')\n",
    "plt.ylabel('Частота')\n",
    "plt.title('Гистограмма основной валюты и регионом')\n",
    "plt.legend()\n",
    "plt.grid(True)\n",
    "\n",
    "plt.show()"
   ],
   "metadata": {
    "colab": {
     "base_uri": "https://localhost:8080/",
     "height": 536
    },
    "id": "5U_1AlOqayiK",
    "outputId": "9dd234e7-1d31-4f84-b222-d6554ec15121"
   },
   "execution_count": null,
   "outputs": []
  },
  {
   "cell_type": "code",
   "source": [
    "main_currency_region = pd.crosstab(df['Region'], df['Main Language'])\n",
    "main_currency_region"
   ],
   "metadata": {
    "colab": {
     "base_uri": "https://localhost:8080/",
     "height": 273
    },
    "id": "J_pTBZVibIDY",
    "outputId": "6cc4f4f8-7ca8-4f0d-c036-dd5861afcdc7"
   },
   "execution_count": null,
   "outputs": []
  },
  {
   "cell_type": "code",
   "source": [
    "from scipy import stats\n",
    "stats.chi2_contingency(main_currency_region)"
   ],
   "metadata": {
    "colab": {
     "base_uri": "https://localhost:8080/"
    },
    "id": "kZwIgyr4baGQ",
    "outputId": "7d9854ec-3e02-4538-9424-e25400e5b4a4"
   },
   "execution_count": null,
   "outputs": []
  },
  {
   "cell_type": "code",
   "source": [
    "print('chi2 = ', stats.chi2_contingency(main_currency_region)[0], '   p-value =', stats.chi2_contingency(main_currency_region)[1])"
   ],
   "metadata": {
    "colab": {
     "base_uri": "https://localhost:8080/"
    },
    "id": "02k5TqxybT7h",
    "outputId": "4184cd92-8a5b-49fe-c4b6-a89dcc6c38d9"
   },
   "execution_count": null,
   "outputs": []
  },
  {
   "cell_type": "markdown",
   "source": [],
   "metadata": {
    "id": "LfM3Ev8rbimU"
   }
  },
  {
   "cell_type": "markdown",
   "source": [
    "p-value = 1.2918445160959355e-08 < 0.05\n",
    "\n",
    "p-value = 1.2918445160959355e-08 < 0.01\n",
    "\n",
    "Гипотеза H8 принимается на уровне значимости 5%.\n",
    "\n",
    "Гипотеза H8 принимается на уровне значимости 1%."
   ],
   "metadata": {
    "id": "G5BZSouVbmAj"
   }
  },
  {
   "cell_type": "markdown",
   "source": [
    "Гипотеза Н8 верна"
   ],
   "metadata": {
    "id": "uMnI-JGjcBOe"
   }
  },
  {
   "cell_type": "markdown",
   "source": [
    "### **Н9 - Существует взаимосвязь между регионом и лево или право сторонним движением**"
   ],
   "metadata": {
    "id": "VTIHDjRzb1EH"
   }
  },
  {
   "cell_type": "code",
   "source": [
    "np.random.seed(42)\n",
    "param1 = np.random.normal(50, 10, 1000)\n",
    "param2 = np.random.normal(60, 15, 1000)\n",
    "plt.figure(figsize=(10, 6))\n",
    "plt.hist(param1, bins=30, alpha=0.5, label = df['Region'], color='blue', edgecolor='black')\n",
    "plt.hist(param2, bins=30, alpha=0.5, label = df['IsCarRight'], color='red', edgecolor='black')\n",
    "\n",
    "plt.xlabel('Значение')\n",
    "plt.ylabel('Частота')\n",
    "plt.title('Гистограмма регионом и правосторонним движением')\n",
    "plt.legend()\n",
    "plt.grid(True)\n",
    "\n",
    "plt.show()"
   ],
   "metadata": {
    "colab": {
     "base_uri": "https://localhost:8080/",
     "height": 536
    },
    "id": "nJYkeMiKc-xi",
    "outputId": "3cfbee50-0ca4-4167-a4bc-bfdc601f87f8"
   },
   "execution_count": null,
   "outputs": []
  },
  {
   "cell_type": "code",
   "source": [
    "car_side_region = pd.crosstab(df['Region'], df['IsCarRight'])\n",
    "car_side_region"
   ],
   "metadata": {
    "colab": {
     "base_uri": "https://localhost:8080/",
     "height": 206
    },
    "id": "_mQJP_YNeMvM",
    "outputId": "283430c8-4db6-48e9-87fd-6f624d2b0ae8"
   },
   "execution_count": null,
   "outputs": []
  },
  {
   "cell_type": "code",
   "source": [
    "from scipy import stats\n",
    "stats.chi2_contingency(car_side_region)"
   ],
   "metadata": {
    "colab": {
     "base_uri": "https://localhost:8080/"
    },
    "id": "TmKMBngqeSSg",
    "outputId": "339ec564-f856-45d1-b2f0-832804d4d7d0"
   },
   "execution_count": null,
   "outputs": []
  },
  {
   "cell_type": "code",
   "source": [
    "print('chi2 = ', stats.chi2_contingency(car_side_region)[0], '   p-value =', stats.chi2_contingency(car_side_region)[1])"
   ],
   "metadata": {
    "colab": {
     "base_uri": "https://localhost:8080/"
    },
    "id": "50mOtziwek5F",
    "outputId": "c70d246a-d6e5-4e3a-a52c-3d4675e38584"
   },
   "execution_count": null,
   "outputs": []
  },
  {
   "cell_type": "markdown",
   "source": [
    "p-value = 0.00539520476168706 < 0.05\n",
    "\n",
    "p-value = 0.00539520476168706 < 0.01\n",
    "\n",
    "Гипотеза H9 принимается на уровне значимости 5%.\n",
    "\n",
    "Гипотеза H9 принимается на уровне значимости 1%.\n",
    "\n",
    "Гипотеза Н9 верна"
   ],
   "metadata": {
    "id": "kg9KhneBevsv"
   }
  },
  {
   "cell_type": "markdown",
   "source": [
    "### **H10 - Существует взаимосвязь между политическим режимом и регионом**"
   ],
   "metadata": {
    "id": "hSSk1dZFfj7f"
   }
  },
  {
   "cell_type": "code",
   "source": [
    "np.random.seed(42)\n",
    "param1 = np.random.normal(50, 10, 1000)\n",
    "param2 = np.random.normal(60, 15, 1000)\n",
    "plt.figure(figsize=(10, 6))\n",
    "plt.hist(param1, bins=30, alpha=0.5, label = df['Region'], color='blue', edgecolor='black')\n",
    "plt.hist(param2, bins=30, alpha=0.5, label = df['Political Regime'], color='red', edgecolor='black')\n",
    "\n",
    "plt.xlabel('Значение')\n",
    "plt.ylabel('Частота')\n",
    "plt.title('Гистограмма регионом и политическим режимом')\n",
    "plt.legend()\n",
    "plt.grid(True)\n",
    "\n",
    "plt.show()"
   ],
   "metadata": {
    "colab": {
     "base_uri": "https://localhost:8080/",
     "height": 536
    },
    "id": "11G_iAA8fng5",
    "outputId": "b25103ab-6bfd-4d2d-fde7-66b19e2322b1"
   },
   "execution_count": null,
   "outputs": []
  },
  {
   "cell_type": "code",
   "source": [
    "regime_region = pd.crosstab(df['Region'], df['Political Regime'])\n",
    "regime_region"
   ],
   "metadata": {
    "colab": {
     "base_uri": "https://localhost:8080/",
     "height": 206
    },
    "id": "tMSiLrVbgL_M",
    "outputId": "29320656-f9b0-4bd0-ddf3-f65fe7df702e"
   },
   "execution_count": null,
   "outputs": []
  },
  {
   "cell_type": "code",
   "source": [
    "from scipy import stats\n",
    "stats.chi2_contingency(regime_region)"
   ],
   "metadata": {
    "colab": {
     "base_uri": "https://localhost:8080/"
    },
    "id": "4wVPWoxQgduh",
    "outputId": "6697938c-a04d-478e-aaf8-1c4b715ec5c2"
   },
   "execution_count": null,
   "outputs": []
  },
  {
   "cell_type": "code",
   "source": [
    "print('chi2 = ', stats.chi2_contingency(car_side_region)[0], '   p-value =', stats.chi2_contingency(regime_region)[1])"
   ],
   "metadata": {
    "colab": {
     "base_uri": "https://localhost:8080/"
    },
    "id": "IQ4lsMCTghlw",
    "outputId": "592c41f1-55f0-493c-c993-fe972a53efcf"
   },
   "execution_count": null,
   "outputs": []
  },
  {
   "cell_type": "markdown",
   "source": [
    "p-value = 9.957837961684144e-11 < 0.05\n",
    "\n",
    "p-value = 9.957837961684144e-11 < 0.01\n",
    "\n",
    "Гипотеза H10 принимается на уровне значимости 5%.\n",
    "\n",
    "Гипотеза H10 принимается на уровне значимости 1%.\n",
    "\n",
    "Гипотеза Н10 верна"
   ],
   "metadata": {
    "id": "jpaMrgungvlV"
   }
  }
 ]
}